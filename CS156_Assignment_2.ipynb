{
  "nbformat": 4,
  "nbformat_minor": 0,
  "metadata": {
    "colab": {
      "name": "CS156_Assignment_2.ipynb",
      "provenance": [],
      "collapsed_sections": [],
      "machine_shape": "hm"
    },
    "kernelspec": {
      "name": "python3",
      "display_name": "Python 3"
    },
    "accelerator": "GPU"
  },
  "cells": [
    {
      "cell_type": "markdown",
      "metadata": {
        "id": "vK8Si4nUWGKR",
        "colab_type": "text"
      },
      "source": [
        "# CS156 - Assignment 2: The Lending Club\n",
        "---"
      ]
    },
    {
      "cell_type": "markdown",
      "metadata": {
        "id": "vvr9HFZCY2J1",
        "colab_type": "text"
      },
      "source": [
        "**Author**: Snehan Kekre\n",
        "\n",
        "**Affiliation**: Minerva Schools at KGI\n",
        "\n",
        "**[Objective](https://seminar.minerva.kgi.edu/app/assignments/46142)**: Build a model that predicts the largest loan amount that will be **successfully** funded for given individual. "
      ]
    },
    {
      "cell_type": "markdown",
      "metadata": {
        "id": "0mURI_bSISWF",
        "colab_type": "text"
      },
      "source": [
        "**Note**: The conversion to PDF via `nbconvert` may result in parts of text towards the right of the notebook being cutoff.\n",
        "\n",
        "URL to the notebook on nbviewer for clarity: [https://tinyurl.com/y6gggkl6](https://tinyurl.com/y6gggkl6)\n",
        "\n",
        "[https://nbviewer.jupyter.org/github/snehankekre/CS156-Machine-Learning/blob/master/CS156_Assignment_2.ipynb](https://nbviewer.jupyter.org/github/snehankekre/CS156-Machine-Learning/blob/master/CS156_Assignment_2.ipynb)"
      ]
    },
    {
      "cell_type": "markdown",
      "metadata": {
        "id": "GDuanmRBW3-u",
        "colab_type": "text"
      },
      "source": [
        "## Download and Extract the Data\n",
        "\n",
        "**Source**: https://www.kaggle.com/wordsforthewise/lending-club\n",
        "\n",
        "**Method**: Use the official [Kaggle API](https://github.com/Kaggle/kaggle-api) to download the data."
      ]
    },
    {
      "cell_type": "code",
      "metadata": {
        "id": "C0_GSy5rFyLT",
        "colab_type": "code",
        "outputId": "9e33f093-2c37-41d1-df37-e1019a2bb4f0",
        "colab": {
          "base_uri": "https://localhost:8080/",
          "height": 86
        }
      },
      "source": [
        "!pip install -q kaggle\n",
        "!mkdir .kaggle\n",
        "\n",
        "import os\n",
        "import json\n",
        "import subprocess\n",
        "\n",
        "# Kaggle API creds\n",
        "token = {\"username\":\"snehanrhyme\",\"key\":\"x-x-x-x-x-x-x-x-x-x-x-x\"} # Key excluded for privacy\n",
        "\n",
        "with open('/content/.kaggle/kaggle.json', 'w') as file:\n",
        "  json.dump(token, file)\n",
        "\n",
        "!mkdir ~/.kaggle/\n",
        "!cp /content/.kaggle/kaggle.json ~/.kaggle/kaggle.json\n",
        "!chmod 600 /root/.kaggle/kaggle.json\n",
        "\n",
        "# Download the data\n",
        "!kaggle config set -n path -v /content/\n",
        "!kaggle datasets download -d wordsforthewise/lending-club"
      ],
      "execution_count": 1,
      "outputs": [
        {
          "output_type": "stream",
          "text": [
            "- path is now set to: /content/\n",
            "Downloading lending-club.zip to /content/datasets/wordsforthewise/lending-club\n",
            " 97% 600M/618M [00:03<00:00, 172MB/s]\n",
            "100% 618M/618M [00:04<00:00, 159MB/s]\n"
          ],
          "name": "stdout"
        }
      ]
    },
    {
      "cell_type": "code",
      "metadata": {
        "colab_type": "code",
        "id": "uffjXL4VLRkQ",
        "colab": {
          "base_uri": "https://localhost:8080/",
          "height": 34
        },
        "outputId": "cfcb4b6d-49c3-4098-e327-1fb6aa966af7"
      },
      "source": [
        "# Extract the compressed data files\n",
        "!unzip -q /content/datasets/wordsforthewise/lending-club/lending-club.zip\n",
        "!gunzip -q accepted_2007_to_2018Q4.csv.gz\n",
        "!gunzip -q rejected_2007_to_2018Q4.csv.gz\n",
        "\n",
        "print(\"The Lending Club data has been extracted to \", os.getcwd())"
      ],
      "execution_count": 2,
      "outputs": [
        {
          "output_type": "stream",
          "text": [
            "The Lending Club data has been extracted to  /content\n"
          ],
          "name": "stdout"
        }
      ]
    },
    {
      "cell_type": "markdown",
      "metadata": {
        "id": "6VQhYt0lYCRE",
        "colab_type": "text"
      },
      "source": [
        "## Import Essential Libraries"
      ]
    },
    {
      "cell_type": "code",
      "metadata": {
        "id": "8cbQp_TsF2ZU",
        "colab_type": "code",
        "colab": {}
      },
      "source": [
        "%matplotlib inline\n",
        "import numpy as np\n",
        "import pandas as pd\n",
        "import seaborn as sns # Plot styling\n",
        "from datetime import datetime\n",
        "import warnings\n",
        "import re\n",
        "\n",
        "warnings.simplefilter('ignore')\n",
        "\n",
        "# Increase the max display limit\n",
        "pd.set_option('display.max_columns', 500) \n",
        "pd.set_option('display.max_rows', 500)"
      ],
      "execution_count": 0,
      "outputs": []
    },
    {
      "cell_type": "code",
      "metadata": {
        "id": "nt0H7gNtF2cG",
        "colab_type": "code",
        "colab": {}
      },
      "source": [
        "import matplotlib.pyplot as plt\n",
        "plt.style.use('ggplot')\n",
        "sns.set(rc={'figure.figsize':(12, 8)})"
      ],
      "execution_count": 0,
      "outputs": []
    },
    {
      "cell_type": "markdown",
      "metadata": {
        "id": "w6hOMoiEYYCD",
        "colab_type": "text"
      },
      "source": [
        "## Load the Data into Memory"
      ]
    },
    {
      "cell_type": "code",
      "metadata": {
        "id": "qosQUgXxpUnt",
        "colab_type": "code",
        "colab": {
          "base_uri": "https://localhost:8080/",
          "height": 52
        },
        "outputId": "90ab0ff5-d906-406c-c487-9b099ae86c3f"
      },
      "source": [
        "%%time\n",
        "chunksize = 100000\n",
        "\n",
        "# Read CSV files in chunks of specified size\n",
        "accept_raw = pd.read_csv('accepted_2007_to_2018Q4.csv',\n",
        "                         chunksize=chunksize,\n",
        "                         iterator=True)\n",
        " \n",
        "reject_raw = pd.read_csv('rejected_2007_to_2018Q4.csv',\n",
        "                         chunksize=chunksize,\n",
        "                         iterator=True)\n",
        "\n",
        "# Convert the above TextFileReader objects to Pandas dataframes\n",
        "accepted_df = pd.concat(accept_raw, ignore_index=True)\n",
        "rejected_df = pd.concat(reject_raw, ignore_index=True)"
      ],
      "execution_count": 3,
      "outputs": [
        {
          "output_type": "stream",
          "text": [
            "CPU times: user 1min 37s, sys: 5.61 s, total: 1min 43s\n",
            "Wall time: 1min 43s\n"
          ],
          "name": "stdout"
        }
      ]
    },
    {
      "cell_type": "markdown",
      "metadata": {
        "id": "7RCflR1taGMA",
        "colab_type": "text"
      },
      "source": [
        "## Basic Data Exploration"
      ]
    },
    {
      "cell_type": "code",
      "metadata": {
        "colab_type": "code",
        "id": "zTXOtmu8feJK",
        "colab": {
          "base_uri": "https://localhost:8080/",
          "height": 400
        },
        "outputId": "1c5ca6d4-b307-4f91-a1b0-729f7fd3bec4"
      },
      "source": [
        "accepted_df.head()"
      ],
      "execution_count": 4,
      "outputs": [
        {
          "output_type": "execute_result",
          "data": {
            "text/html": [
              "<div>\n",
              "<style scoped>\n",
              "    .dataframe tbody tr th:only-of-type {\n",
              "        vertical-align: middle;\n",
              "    }\n",
              "\n",
              "    .dataframe tbody tr th {\n",
              "        vertical-align: top;\n",
              "    }\n",
              "\n",
              "    .dataframe thead th {\n",
              "        text-align: right;\n",
              "    }\n",
              "</style>\n",
              "<table border=\"1\" class=\"dataframe\">\n",
              "  <thead>\n",
              "    <tr style=\"text-align: right;\">\n",
              "      <th></th>\n",
              "      <th>id</th>\n",
              "      <th>member_id</th>\n",
              "      <th>loan_amnt</th>\n",
              "      <th>funded_amnt</th>\n",
              "      <th>funded_amnt_inv</th>\n",
              "      <th>term</th>\n",
              "      <th>int_rate</th>\n",
              "      <th>installment</th>\n",
              "      <th>grade</th>\n",
              "      <th>sub_grade</th>\n",
              "      <th>emp_title</th>\n",
              "      <th>emp_length</th>\n",
              "      <th>home_ownership</th>\n",
              "      <th>annual_inc</th>\n",
              "      <th>verification_status</th>\n",
              "      <th>issue_d</th>\n",
              "      <th>loan_status</th>\n",
              "      <th>pymnt_plan</th>\n",
              "      <th>url</th>\n",
              "      <th>desc</th>\n",
              "      <th>purpose</th>\n",
              "      <th>title</th>\n",
              "      <th>zip_code</th>\n",
              "      <th>addr_state</th>\n",
              "      <th>dti</th>\n",
              "      <th>delinq_2yrs</th>\n",
              "      <th>earliest_cr_line</th>\n",
              "      <th>fico_range_low</th>\n",
              "      <th>fico_range_high</th>\n",
              "      <th>inq_last_6mths</th>\n",
              "      <th>mths_since_last_delinq</th>\n",
              "      <th>mths_since_last_record</th>\n",
              "      <th>open_acc</th>\n",
              "      <th>pub_rec</th>\n",
              "      <th>revol_bal</th>\n",
              "      <th>revol_util</th>\n",
              "      <th>total_acc</th>\n",
              "      <th>initial_list_status</th>\n",
              "      <th>out_prncp</th>\n",
              "      <th>out_prncp_inv</th>\n",
              "      <th>total_pymnt</th>\n",
              "      <th>total_pymnt_inv</th>\n",
              "      <th>total_rec_prncp</th>\n",
              "      <th>total_rec_int</th>\n",
              "      <th>total_rec_late_fee</th>\n",
              "      <th>recoveries</th>\n",
              "      <th>collection_recovery_fee</th>\n",
              "      <th>last_pymnt_d</th>\n",
              "      <th>last_pymnt_amnt</th>\n",
              "      <th>next_pymnt_d</th>\n",
              "      <th>last_credit_pull_d</th>\n",
              "      <th>last_fico_range_high</th>\n",
              "      <th>last_fico_range_low</th>\n",
              "      <th>collections_12_mths_ex_med</th>\n",
              "      <th>mths_since_last_major_derog</th>\n",
              "      <th>policy_code</th>\n",
              "      <th>application_type</th>\n",
              "      <th>annual_inc_joint</th>\n",
              "      <th>dti_joint</th>\n",
              "      <th>verification_status_joint</th>\n",
              "      <th>acc_now_delinq</th>\n",
              "      <th>tot_coll_amt</th>\n",
              "      <th>tot_cur_bal</th>\n",
              "      <th>open_acc_6m</th>\n",
              "      <th>open_act_il</th>\n",
              "      <th>open_il_12m</th>\n",
              "      <th>open_il_24m</th>\n",
              "      <th>mths_since_rcnt_il</th>\n",
              "      <th>total_bal_il</th>\n",
              "      <th>il_util</th>\n",
              "      <th>open_rv_12m</th>\n",
              "      <th>open_rv_24m</th>\n",
              "      <th>max_bal_bc</th>\n",
              "      <th>all_util</th>\n",
              "      <th>total_rev_hi_lim</th>\n",
              "      <th>inq_fi</th>\n",
              "      <th>total_cu_tl</th>\n",
              "      <th>inq_last_12m</th>\n",
              "      <th>acc_open_past_24mths</th>\n",
              "      <th>avg_cur_bal</th>\n",
              "      <th>bc_open_to_buy</th>\n",
              "      <th>bc_util</th>\n",
              "      <th>chargeoff_within_12_mths</th>\n",
              "      <th>delinq_amnt</th>\n",
              "      <th>mo_sin_old_il_acct</th>\n",
              "      <th>mo_sin_old_rev_tl_op</th>\n",
              "      <th>mo_sin_rcnt_rev_tl_op</th>\n",
              "      <th>mo_sin_rcnt_tl</th>\n",
              "      <th>mort_acc</th>\n",
              "      <th>mths_since_recent_bc</th>\n",
              "      <th>mths_since_recent_bc_dlq</th>\n",
              "      <th>mths_since_recent_inq</th>\n",
              "      <th>mths_since_recent_revol_delinq</th>\n",
              "      <th>num_accts_ever_120_pd</th>\n",
              "      <th>num_actv_bc_tl</th>\n",
              "      <th>num_actv_rev_tl</th>\n",
              "      <th>num_bc_sats</th>\n",
              "      <th>num_bc_tl</th>\n",
              "      <th>num_il_tl</th>\n",
              "      <th>num_op_rev_tl</th>\n",
              "      <th>num_rev_accts</th>\n",
              "      <th>num_rev_tl_bal_gt_0</th>\n",
              "      <th>num_sats</th>\n",
              "      <th>num_tl_120dpd_2m</th>\n",
              "      <th>num_tl_30dpd</th>\n",
              "      <th>num_tl_90g_dpd_24m</th>\n",
              "      <th>num_tl_op_past_12m</th>\n",
              "      <th>pct_tl_nvr_dlq</th>\n",
              "      <th>percent_bc_gt_75</th>\n",
              "      <th>pub_rec_bankruptcies</th>\n",
              "      <th>tax_liens</th>\n",
              "      <th>tot_hi_cred_lim</th>\n",
              "      <th>total_bal_ex_mort</th>\n",
              "      <th>total_bc_limit</th>\n",
              "      <th>total_il_high_credit_limit</th>\n",
              "      <th>revol_bal_joint</th>\n",
              "      <th>sec_app_fico_range_low</th>\n",
              "      <th>sec_app_fico_range_high</th>\n",
              "      <th>sec_app_earliest_cr_line</th>\n",
              "      <th>sec_app_inq_last_6mths</th>\n",
              "      <th>sec_app_mort_acc</th>\n",
              "      <th>sec_app_open_acc</th>\n",
              "      <th>sec_app_revol_util</th>\n",
              "      <th>sec_app_open_act_il</th>\n",
              "      <th>sec_app_num_rev_accts</th>\n",
              "      <th>sec_app_chargeoff_within_12_mths</th>\n",
              "      <th>sec_app_collections_12_mths_ex_med</th>\n",
              "      <th>sec_app_mths_since_last_major_derog</th>\n",
              "      <th>hardship_flag</th>\n",
              "      <th>hardship_type</th>\n",
              "      <th>hardship_reason</th>\n",
              "      <th>hardship_status</th>\n",
              "      <th>deferral_term</th>\n",
              "      <th>hardship_amount</th>\n",
              "      <th>hardship_start_date</th>\n",
              "      <th>hardship_end_date</th>\n",
              "      <th>payment_plan_start_date</th>\n",
              "      <th>hardship_length</th>\n",
              "      <th>hardship_dpd</th>\n",
              "      <th>hardship_loan_status</th>\n",
              "      <th>orig_projected_additional_accrued_interest</th>\n",
              "      <th>hardship_payoff_balance_amount</th>\n",
              "      <th>hardship_last_payment_amount</th>\n",
              "      <th>disbursement_method</th>\n",
              "      <th>debt_settlement_flag</th>\n",
              "      <th>debt_settlement_flag_date</th>\n",
              "      <th>settlement_status</th>\n",
              "      <th>settlement_date</th>\n",
              "      <th>settlement_amount</th>\n",
              "      <th>settlement_percentage</th>\n",
              "      <th>settlement_term</th>\n",
              "    </tr>\n",
              "  </thead>\n",
              "  <tbody>\n",
              "    <tr>\n",
              "      <th>0</th>\n",
              "      <td>68407277</td>\n",
              "      <td>NaN</td>\n",
              "      <td>3600.0</td>\n",
              "      <td>3600.0</td>\n",
              "      <td>3600.0</td>\n",
              "      <td>36 months</td>\n",
              "      <td>13.99</td>\n",
              "      <td>123.03</td>\n",
              "      <td>C</td>\n",
              "      <td>C4</td>\n",
              "      <td>leadman</td>\n",
              "      <td>10+ years</td>\n",
              "      <td>MORTGAGE</td>\n",
              "      <td>55000.0</td>\n",
              "      <td>Not Verified</td>\n",
              "      <td>Dec-2015</td>\n",
              "      <td>Fully Paid</td>\n",
              "      <td>n</td>\n",
              "      <td>https://lendingclub.com/browse/loanDetail.acti...</td>\n",
              "      <td>NaN</td>\n",
              "      <td>debt_consolidation</td>\n",
              "      <td>Debt consolidation</td>\n",
              "      <td>190xx</td>\n",
              "      <td>PA</td>\n",
              "      <td>5.91</td>\n",
              "      <td>0.0</td>\n",
              "      <td>Aug-2003</td>\n",
              "      <td>675.0</td>\n",
              "      <td>679.0</td>\n",
              "      <td>1.0</td>\n",
              "      <td>30.0</td>\n",
              "      <td>NaN</td>\n",
              "      <td>7.0</td>\n",
              "      <td>0.0</td>\n",
              "      <td>2765.0</td>\n",
              "      <td>29.7</td>\n",
              "      <td>13.0</td>\n",
              "      <td>w</td>\n",
              "      <td>0.00</td>\n",
              "      <td>0.00</td>\n",
              "      <td>4421.723917</td>\n",
              "      <td>4421.72</td>\n",
              "      <td>3600.00</td>\n",
              "      <td>821.72</td>\n",
              "      <td>0.0</td>\n",
              "      <td>0.0</td>\n",
              "      <td>0.0</td>\n",
              "      <td>Jan-2019</td>\n",
              "      <td>122.67</td>\n",
              "      <td>NaN</td>\n",
              "      <td>Mar-2019</td>\n",
              "      <td>564.0</td>\n",
              "      <td>560.0</td>\n",
              "      <td>0.0</td>\n",
              "      <td>30.0</td>\n",
              "      <td>1.0</td>\n",
              "      <td>Individual</td>\n",
              "      <td>NaN</td>\n",
              "      <td>NaN</td>\n",
              "      <td>NaN</td>\n",
              "      <td>0.0</td>\n",
              "      <td>722.0</td>\n",
              "      <td>144904.0</td>\n",
              "      <td>2.0</td>\n",
              "      <td>2.0</td>\n",
              "      <td>0.0</td>\n",
              "      <td>1.0</td>\n",
              "      <td>21.0</td>\n",
              "      <td>4981.0</td>\n",
              "      <td>36.0</td>\n",
              "      <td>3.0</td>\n",
              "      <td>3.0</td>\n",
              "      <td>722.0</td>\n",
              "      <td>34.0</td>\n",
              "      <td>9300.0</td>\n",
              "      <td>3.0</td>\n",
              "      <td>1.0</td>\n",
              "      <td>4.0</td>\n",
              "      <td>4.0</td>\n",
              "      <td>20701.0</td>\n",
              "      <td>1506.0</td>\n",
              "      <td>37.2</td>\n",
              "      <td>0.0</td>\n",
              "      <td>0.0</td>\n",
              "      <td>148.0</td>\n",
              "      <td>128.0</td>\n",
              "      <td>3.0</td>\n",
              "      <td>3.0</td>\n",
              "      <td>1.0</td>\n",
              "      <td>4.0</td>\n",
              "      <td>69.0</td>\n",
              "      <td>4.0</td>\n",
              "      <td>69.0</td>\n",
              "      <td>2.0</td>\n",
              "      <td>2.0</td>\n",
              "      <td>4.0</td>\n",
              "      <td>2.0</td>\n",
              "      <td>5.0</td>\n",
              "      <td>3.0</td>\n",
              "      <td>4.0</td>\n",
              "      <td>9.0</td>\n",
              "      <td>4.0</td>\n",
              "      <td>7.0</td>\n",
              "      <td>0.0</td>\n",
              "      <td>0.0</td>\n",
              "      <td>0.0</td>\n",
              "      <td>3.0</td>\n",
              "      <td>76.9</td>\n",
              "      <td>0.0</td>\n",
              "      <td>0.0</td>\n",
              "      <td>0.0</td>\n",
              "      <td>178050.0</td>\n",
              "      <td>7746.0</td>\n",
              "      <td>2400.0</td>\n",
              "      <td>13734.0</td>\n",
              "      <td>NaN</td>\n",
              "      <td>NaN</td>\n",
              "      <td>NaN</td>\n",
              "      <td>NaN</td>\n",
              "      <td>NaN</td>\n",
              "      <td>NaN</td>\n",
              "      <td>NaN</td>\n",
              "      <td>NaN</td>\n",
              "      <td>NaN</td>\n",
              "      <td>NaN</td>\n",
              "      <td>NaN</td>\n",
              "      <td>NaN</td>\n",
              "      <td>NaN</td>\n",
              "      <td>N</td>\n",
              "      <td>NaN</td>\n",
              "      <td>NaN</td>\n",
              "      <td>NaN</td>\n",
              "      <td>NaN</td>\n",
              "      <td>NaN</td>\n",
              "      <td>NaN</td>\n",
              "      <td>NaN</td>\n",
              "      <td>NaN</td>\n",
              "      <td>NaN</td>\n",
              "      <td>NaN</td>\n",
              "      <td>NaN</td>\n",
              "      <td>NaN</td>\n",
              "      <td>NaN</td>\n",
              "      <td>NaN</td>\n",
              "      <td>Cash</td>\n",
              "      <td>N</td>\n",
              "      <td>NaN</td>\n",
              "      <td>NaN</td>\n",
              "      <td>NaN</td>\n",
              "      <td>NaN</td>\n",
              "      <td>NaN</td>\n",
              "      <td>NaN</td>\n",
              "    </tr>\n",
              "    <tr>\n",
              "      <th>1</th>\n",
              "      <td>68355089</td>\n",
              "      <td>NaN</td>\n",
              "      <td>24700.0</td>\n",
              "      <td>24700.0</td>\n",
              "      <td>24700.0</td>\n",
              "      <td>36 months</td>\n",
              "      <td>11.99</td>\n",
              "      <td>820.28</td>\n",
              "      <td>C</td>\n",
              "      <td>C1</td>\n",
              "      <td>Engineer</td>\n",
              "      <td>10+ years</td>\n",
              "      <td>MORTGAGE</td>\n",
              "      <td>65000.0</td>\n",
              "      <td>Not Verified</td>\n",
              "      <td>Dec-2015</td>\n",
              "      <td>Fully Paid</td>\n",
              "      <td>n</td>\n",
              "      <td>https://lendingclub.com/browse/loanDetail.acti...</td>\n",
              "      <td>NaN</td>\n",
              "      <td>small_business</td>\n",
              "      <td>Business</td>\n",
              "      <td>577xx</td>\n",
              "      <td>SD</td>\n",
              "      <td>16.06</td>\n",
              "      <td>1.0</td>\n",
              "      <td>Dec-1999</td>\n",
              "      <td>715.0</td>\n",
              "      <td>719.0</td>\n",
              "      <td>4.0</td>\n",
              "      <td>6.0</td>\n",
              "      <td>NaN</td>\n",
              "      <td>22.0</td>\n",
              "      <td>0.0</td>\n",
              "      <td>21470.0</td>\n",
              "      <td>19.2</td>\n",
              "      <td>38.0</td>\n",
              "      <td>w</td>\n",
              "      <td>0.00</td>\n",
              "      <td>0.00</td>\n",
              "      <td>25679.660000</td>\n",
              "      <td>25679.66</td>\n",
              "      <td>24700.00</td>\n",
              "      <td>979.66</td>\n",
              "      <td>0.0</td>\n",
              "      <td>0.0</td>\n",
              "      <td>0.0</td>\n",
              "      <td>Jun-2016</td>\n",
              "      <td>926.35</td>\n",
              "      <td>NaN</td>\n",
              "      <td>Mar-2019</td>\n",
              "      <td>699.0</td>\n",
              "      <td>695.0</td>\n",
              "      <td>0.0</td>\n",
              "      <td>NaN</td>\n",
              "      <td>1.0</td>\n",
              "      <td>Individual</td>\n",
              "      <td>NaN</td>\n",
              "      <td>NaN</td>\n",
              "      <td>NaN</td>\n",
              "      <td>0.0</td>\n",
              "      <td>0.0</td>\n",
              "      <td>204396.0</td>\n",
              "      <td>1.0</td>\n",
              "      <td>1.0</td>\n",
              "      <td>0.0</td>\n",
              "      <td>1.0</td>\n",
              "      <td>19.0</td>\n",
              "      <td>18005.0</td>\n",
              "      <td>73.0</td>\n",
              "      <td>2.0</td>\n",
              "      <td>3.0</td>\n",
              "      <td>6472.0</td>\n",
              "      <td>29.0</td>\n",
              "      <td>111800.0</td>\n",
              "      <td>0.0</td>\n",
              "      <td>0.0</td>\n",
              "      <td>6.0</td>\n",
              "      <td>4.0</td>\n",
              "      <td>9733.0</td>\n",
              "      <td>57830.0</td>\n",
              "      <td>27.1</td>\n",
              "      <td>0.0</td>\n",
              "      <td>0.0</td>\n",
              "      <td>113.0</td>\n",
              "      <td>192.0</td>\n",
              "      <td>2.0</td>\n",
              "      <td>2.0</td>\n",
              "      <td>4.0</td>\n",
              "      <td>2.0</td>\n",
              "      <td>NaN</td>\n",
              "      <td>0.0</td>\n",
              "      <td>6.0</td>\n",
              "      <td>0.0</td>\n",
              "      <td>5.0</td>\n",
              "      <td>5.0</td>\n",
              "      <td>13.0</td>\n",
              "      <td>17.0</td>\n",
              "      <td>6.0</td>\n",
              "      <td>20.0</td>\n",
              "      <td>27.0</td>\n",
              "      <td>5.0</td>\n",
              "      <td>22.0</td>\n",
              "      <td>0.0</td>\n",
              "      <td>0.0</td>\n",
              "      <td>0.0</td>\n",
              "      <td>2.0</td>\n",
              "      <td>97.4</td>\n",
              "      <td>7.7</td>\n",
              "      <td>0.0</td>\n",
              "      <td>0.0</td>\n",
              "      <td>314017.0</td>\n",
              "      <td>39475.0</td>\n",
              "      <td>79300.0</td>\n",
              "      <td>24667.0</td>\n",
              "      <td>NaN</td>\n",
              "      <td>NaN</td>\n",
              "      <td>NaN</td>\n",
              "      <td>NaN</td>\n",
              "      <td>NaN</td>\n",
              "      <td>NaN</td>\n",
              "      <td>NaN</td>\n",
              "      <td>NaN</td>\n",
              "      <td>NaN</td>\n",
              "      <td>NaN</td>\n",
              "      <td>NaN</td>\n",
              "      <td>NaN</td>\n",
              "      <td>NaN</td>\n",
              "      <td>N</td>\n",
              "      <td>NaN</td>\n",
              "      <td>NaN</td>\n",
              "      <td>NaN</td>\n",
              "      <td>NaN</td>\n",
              "      <td>NaN</td>\n",
              "      <td>NaN</td>\n",
              "      <td>NaN</td>\n",
              "      <td>NaN</td>\n",
              "      <td>NaN</td>\n",
              "      <td>NaN</td>\n",
              "      <td>NaN</td>\n",
              "      <td>NaN</td>\n",
              "      <td>NaN</td>\n",
              "      <td>NaN</td>\n",
              "      <td>Cash</td>\n",
              "      <td>N</td>\n",
              "      <td>NaN</td>\n",
              "      <td>NaN</td>\n",
              "      <td>NaN</td>\n",
              "      <td>NaN</td>\n",
              "      <td>NaN</td>\n",
              "      <td>NaN</td>\n",
              "    </tr>\n",
              "    <tr>\n",
              "      <th>2</th>\n",
              "      <td>68341763</td>\n",
              "      <td>NaN</td>\n",
              "      <td>20000.0</td>\n",
              "      <td>20000.0</td>\n",
              "      <td>20000.0</td>\n",
              "      <td>60 months</td>\n",
              "      <td>10.78</td>\n",
              "      <td>432.66</td>\n",
              "      <td>B</td>\n",
              "      <td>B4</td>\n",
              "      <td>truck driver</td>\n",
              "      <td>10+ years</td>\n",
              "      <td>MORTGAGE</td>\n",
              "      <td>63000.0</td>\n",
              "      <td>Not Verified</td>\n",
              "      <td>Dec-2015</td>\n",
              "      <td>Fully Paid</td>\n",
              "      <td>n</td>\n",
              "      <td>https://lendingclub.com/browse/loanDetail.acti...</td>\n",
              "      <td>NaN</td>\n",
              "      <td>home_improvement</td>\n",
              "      <td>NaN</td>\n",
              "      <td>605xx</td>\n",
              "      <td>IL</td>\n",
              "      <td>10.78</td>\n",
              "      <td>0.0</td>\n",
              "      <td>Aug-2000</td>\n",
              "      <td>695.0</td>\n",
              "      <td>699.0</td>\n",
              "      <td>0.0</td>\n",
              "      <td>NaN</td>\n",
              "      <td>NaN</td>\n",
              "      <td>6.0</td>\n",
              "      <td>0.0</td>\n",
              "      <td>7869.0</td>\n",
              "      <td>56.2</td>\n",
              "      <td>18.0</td>\n",
              "      <td>w</td>\n",
              "      <td>0.00</td>\n",
              "      <td>0.00</td>\n",
              "      <td>22705.924294</td>\n",
              "      <td>22705.92</td>\n",
              "      <td>20000.00</td>\n",
              "      <td>2705.92</td>\n",
              "      <td>0.0</td>\n",
              "      <td>0.0</td>\n",
              "      <td>0.0</td>\n",
              "      <td>Jun-2017</td>\n",
              "      <td>15813.30</td>\n",
              "      <td>NaN</td>\n",
              "      <td>Mar-2019</td>\n",
              "      <td>704.0</td>\n",
              "      <td>700.0</td>\n",
              "      <td>0.0</td>\n",
              "      <td>NaN</td>\n",
              "      <td>1.0</td>\n",
              "      <td>Joint App</td>\n",
              "      <td>71000.0</td>\n",
              "      <td>13.85</td>\n",
              "      <td>Not Verified</td>\n",
              "      <td>0.0</td>\n",
              "      <td>0.0</td>\n",
              "      <td>189699.0</td>\n",
              "      <td>0.0</td>\n",
              "      <td>1.0</td>\n",
              "      <td>0.0</td>\n",
              "      <td>4.0</td>\n",
              "      <td>19.0</td>\n",
              "      <td>10827.0</td>\n",
              "      <td>73.0</td>\n",
              "      <td>0.0</td>\n",
              "      <td>2.0</td>\n",
              "      <td>2081.0</td>\n",
              "      <td>65.0</td>\n",
              "      <td>14000.0</td>\n",
              "      <td>2.0</td>\n",
              "      <td>5.0</td>\n",
              "      <td>1.0</td>\n",
              "      <td>6.0</td>\n",
              "      <td>31617.0</td>\n",
              "      <td>2737.0</td>\n",
              "      <td>55.9</td>\n",
              "      <td>0.0</td>\n",
              "      <td>0.0</td>\n",
              "      <td>125.0</td>\n",
              "      <td>184.0</td>\n",
              "      <td>14.0</td>\n",
              "      <td>14.0</td>\n",
              "      <td>5.0</td>\n",
              "      <td>101.0</td>\n",
              "      <td>NaN</td>\n",
              "      <td>10.0</td>\n",
              "      <td>NaN</td>\n",
              "      <td>0.0</td>\n",
              "      <td>2.0</td>\n",
              "      <td>3.0</td>\n",
              "      <td>2.0</td>\n",
              "      <td>4.0</td>\n",
              "      <td>6.0</td>\n",
              "      <td>4.0</td>\n",
              "      <td>7.0</td>\n",
              "      <td>3.0</td>\n",
              "      <td>6.0</td>\n",
              "      <td>0.0</td>\n",
              "      <td>0.0</td>\n",
              "      <td>0.0</td>\n",
              "      <td>0.0</td>\n",
              "      <td>100.0</td>\n",
              "      <td>50.0</td>\n",
              "      <td>0.0</td>\n",
              "      <td>0.0</td>\n",
              "      <td>218418.0</td>\n",
              "      <td>18696.0</td>\n",
              "      <td>6200.0</td>\n",
              "      <td>14877.0</td>\n",
              "      <td>NaN</td>\n",
              "      <td>NaN</td>\n",
              "      <td>NaN</td>\n",
              "      <td>NaN</td>\n",
              "      <td>NaN</td>\n",
              "      <td>NaN</td>\n",
              "      <td>NaN</td>\n",
              "      <td>NaN</td>\n",
              "      <td>NaN</td>\n",
              "      <td>NaN</td>\n",
              "      <td>NaN</td>\n",
              "      <td>NaN</td>\n",
              "      <td>NaN</td>\n",
              "      <td>N</td>\n",
              "      <td>NaN</td>\n",
              "      <td>NaN</td>\n",
              "      <td>NaN</td>\n",
              "      <td>NaN</td>\n",
              "      <td>NaN</td>\n",
              "      <td>NaN</td>\n",
              "      <td>NaN</td>\n",
              "      <td>NaN</td>\n",
              "      <td>NaN</td>\n",
              "      <td>NaN</td>\n",
              "      <td>NaN</td>\n",
              "      <td>NaN</td>\n",
              "      <td>NaN</td>\n",
              "      <td>NaN</td>\n",
              "      <td>Cash</td>\n",
              "      <td>N</td>\n",
              "      <td>NaN</td>\n",
              "      <td>NaN</td>\n",
              "      <td>NaN</td>\n",
              "      <td>NaN</td>\n",
              "      <td>NaN</td>\n",
              "      <td>NaN</td>\n",
              "    </tr>\n",
              "    <tr>\n",
              "      <th>3</th>\n",
              "      <td>66310712</td>\n",
              "      <td>NaN</td>\n",
              "      <td>35000.0</td>\n",
              "      <td>35000.0</td>\n",
              "      <td>35000.0</td>\n",
              "      <td>60 months</td>\n",
              "      <td>14.85</td>\n",
              "      <td>829.90</td>\n",
              "      <td>C</td>\n",
              "      <td>C5</td>\n",
              "      <td>Information Systems Officer</td>\n",
              "      <td>10+ years</td>\n",
              "      <td>MORTGAGE</td>\n",
              "      <td>110000.0</td>\n",
              "      <td>Source Verified</td>\n",
              "      <td>Dec-2015</td>\n",
              "      <td>Current</td>\n",
              "      <td>n</td>\n",
              "      <td>https://lendingclub.com/browse/loanDetail.acti...</td>\n",
              "      <td>NaN</td>\n",
              "      <td>debt_consolidation</td>\n",
              "      <td>Debt consolidation</td>\n",
              "      <td>076xx</td>\n",
              "      <td>NJ</td>\n",
              "      <td>17.06</td>\n",
              "      <td>0.0</td>\n",
              "      <td>Sep-2008</td>\n",
              "      <td>785.0</td>\n",
              "      <td>789.0</td>\n",
              "      <td>0.0</td>\n",
              "      <td>NaN</td>\n",
              "      <td>NaN</td>\n",
              "      <td>13.0</td>\n",
              "      <td>0.0</td>\n",
              "      <td>7802.0</td>\n",
              "      <td>11.6</td>\n",
              "      <td>17.0</td>\n",
              "      <td>w</td>\n",
              "      <td>15897.65</td>\n",
              "      <td>15897.65</td>\n",
              "      <td>31464.010000</td>\n",
              "      <td>31464.01</td>\n",
              "      <td>19102.35</td>\n",
              "      <td>12361.66</td>\n",
              "      <td>0.0</td>\n",
              "      <td>0.0</td>\n",
              "      <td>0.0</td>\n",
              "      <td>Feb-2019</td>\n",
              "      <td>829.90</td>\n",
              "      <td>Apr-2019</td>\n",
              "      <td>Mar-2019</td>\n",
              "      <td>679.0</td>\n",
              "      <td>675.0</td>\n",
              "      <td>0.0</td>\n",
              "      <td>NaN</td>\n",
              "      <td>1.0</td>\n",
              "      <td>Individual</td>\n",
              "      <td>NaN</td>\n",
              "      <td>NaN</td>\n",
              "      <td>NaN</td>\n",
              "      <td>0.0</td>\n",
              "      <td>0.0</td>\n",
              "      <td>301500.0</td>\n",
              "      <td>1.0</td>\n",
              "      <td>1.0</td>\n",
              "      <td>0.0</td>\n",
              "      <td>1.0</td>\n",
              "      <td>23.0</td>\n",
              "      <td>12609.0</td>\n",
              "      <td>70.0</td>\n",
              "      <td>1.0</td>\n",
              "      <td>1.0</td>\n",
              "      <td>6987.0</td>\n",
              "      <td>45.0</td>\n",
              "      <td>67300.0</td>\n",
              "      <td>0.0</td>\n",
              "      <td>1.0</td>\n",
              "      <td>0.0</td>\n",
              "      <td>2.0</td>\n",
              "      <td>23192.0</td>\n",
              "      <td>54962.0</td>\n",
              "      <td>12.1</td>\n",
              "      <td>0.0</td>\n",
              "      <td>0.0</td>\n",
              "      <td>36.0</td>\n",
              "      <td>87.0</td>\n",
              "      <td>2.0</td>\n",
              "      <td>2.0</td>\n",
              "      <td>1.0</td>\n",
              "      <td>2.0</td>\n",
              "      <td>NaN</td>\n",
              "      <td>NaN</td>\n",
              "      <td>NaN</td>\n",
              "      <td>0.0</td>\n",
              "      <td>4.0</td>\n",
              "      <td>5.0</td>\n",
              "      <td>8.0</td>\n",
              "      <td>10.0</td>\n",
              "      <td>2.0</td>\n",
              "      <td>10.0</td>\n",
              "      <td>13.0</td>\n",
              "      <td>5.0</td>\n",
              "      <td>13.0</td>\n",
              "      <td>0.0</td>\n",
              "      <td>0.0</td>\n",
              "      <td>0.0</td>\n",
              "      <td>1.0</td>\n",
              "      <td>100.0</td>\n",
              "      <td>0.0</td>\n",
              "      <td>0.0</td>\n",
              "      <td>0.0</td>\n",
              "      <td>381215.0</td>\n",
              "      <td>52226.0</td>\n",
              "      <td>62500.0</td>\n",
              "      <td>18000.0</td>\n",
              "      <td>NaN</td>\n",
              "      <td>NaN</td>\n",
              "      <td>NaN</td>\n",
              "      <td>NaN</td>\n",
              "      <td>NaN</td>\n",
              "      <td>NaN</td>\n",
              "      <td>NaN</td>\n",
              "      <td>NaN</td>\n",
              "      <td>NaN</td>\n",
              "      <td>NaN</td>\n",
              "      <td>NaN</td>\n",
              "      <td>NaN</td>\n",
              "      <td>NaN</td>\n",
              "      <td>N</td>\n",
              "      <td>NaN</td>\n",
              "      <td>NaN</td>\n",
              "      <td>NaN</td>\n",
              "      <td>NaN</td>\n",
              "      <td>NaN</td>\n",
              "      <td>NaN</td>\n",
              "      <td>NaN</td>\n",
              "      <td>NaN</td>\n",
              "      <td>NaN</td>\n",
              "      <td>NaN</td>\n",
              "      <td>NaN</td>\n",
              "      <td>NaN</td>\n",
              "      <td>NaN</td>\n",
              "      <td>NaN</td>\n",
              "      <td>Cash</td>\n",
              "      <td>N</td>\n",
              "      <td>NaN</td>\n",
              "      <td>NaN</td>\n",
              "      <td>NaN</td>\n",
              "      <td>NaN</td>\n",
              "      <td>NaN</td>\n",
              "      <td>NaN</td>\n",
              "    </tr>\n",
              "    <tr>\n",
              "      <th>4</th>\n",
              "      <td>68476807</td>\n",
              "      <td>NaN</td>\n",
              "      <td>10400.0</td>\n",
              "      <td>10400.0</td>\n",
              "      <td>10400.0</td>\n",
              "      <td>60 months</td>\n",
              "      <td>22.45</td>\n",
              "      <td>289.91</td>\n",
              "      <td>F</td>\n",
              "      <td>F1</td>\n",
              "      <td>Contract Specialist</td>\n",
              "      <td>3 years</td>\n",
              "      <td>MORTGAGE</td>\n",
              "      <td>104433.0</td>\n",
              "      <td>Source Verified</td>\n",
              "      <td>Dec-2015</td>\n",
              "      <td>Fully Paid</td>\n",
              "      <td>n</td>\n",
              "      <td>https://lendingclub.com/browse/loanDetail.acti...</td>\n",
              "      <td>NaN</td>\n",
              "      <td>major_purchase</td>\n",
              "      <td>Major purchase</td>\n",
              "      <td>174xx</td>\n",
              "      <td>PA</td>\n",
              "      <td>25.37</td>\n",
              "      <td>1.0</td>\n",
              "      <td>Jun-1998</td>\n",
              "      <td>695.0</td>\n",
              "      <td>699.0</td>\n",
              "      <td>3.0</td>\n",
              "      <td>12.0</td>\n",
              "      <td>NaN</td>\n",
              "      <td>12.0</td>\n",
              "      <td>0.0</td>\n",
              "      <td>21929.0</td>\n",
              "      <td>64.5</td>\n",
              "      <td>35.0</td>\n",
              "      <td>w</td>\n",
              "      <td>0.00</td>\n",
              "      <td>0.00</td>\n",
              "      <td>11740.500000</td>\n",
              "      <td>11740.50</td>\n",
              "      <td>10400.00</td>\n",
              "      <td>1340.50</td>\n",
              "      <td>0.0</td>\n",
              "      <td>0.0</td>\n",
              "      <td>0.0</td>\n",
              "      <td>Jul-2016</td>\n",
              "      <td>10128.96</td>\n",
              "      <td>NaN</td>\n",
              "      <td>Mar-2018</td>\n",
              "      <td>704.0</td>\n",
              "      <td>700.0</td>\n",
              "      <td>0.0</td>\n",
              "      <td>NaN</td>\n",
              "      <td>1.0</td>\n",
              "      <td>Individual</td>\n",
              "      <td>NaN</td>\n",
              "      <td>NaN</td>\n",
              "      <td>NaN</td>\n",
              "      <td>0.0</td>\n",
              "      <td>0.0</td>\n",
              "      <td>331730.0</td>\n",
              "      <td>1.0</td>\n",
              "      <td>3.0</td>\n",
              "      <td>0.0</td>\n",
              "      <td>3.0</td>\n",
              "      <td>14.0</td>\n",
              "      <td>73839.0</td>\n",
              "      <td>84.0</td>\n",
              "      <td>4.0</td>\n",
              "      <td>7.0</td>\n",
              "      <td>9702.0</td>\n",
              "      <td>78.0</td>\n",
              "      <td>34000.0</td>\n",
              "      <td>2.0</td>\n",
              "      <td>1.0</td>\n",
              "      <td>3.0</td>\n",
              "      <td>10.0</td>\n",
              "      <td>27644.0</td>\n",
              "      <td>4567.0</td>\n",
              "      <td>77.5</td>\n",
              "      <td>0.0</td>\n",
              "      <td>0.0</td>\n",
              "      <td>128.0</td>\n",
              "      <td>210.0</td>\n",
              "      <td>4.0</td>\n",
              "      <td>4.0</td>\n",
              "      <td>6.0</td>\n",
              "      <td>4.0</td>\n",
              "      <td>12.0</td>\n",
              "      <td>1.0</td>\n",
              "      <td>12.0</td>\n",
              "      <td>0.0</td>\n",
              "      <td>4.0</td>\n",
              "      <td>6.0</td>\n",
              "      <td>5.0</td>\n",
              "      <td>9.0</td>\n",
              "      <td>10.0</td>\n",
              "      <td>7.0</td>\n",
              "      <td>19.0</td>\n",
              "      <td>6.0</td>\n",
              "      <td>12.0</td>\n",
              "      <td>0.0</td>\n",
              "      <td>0.0</td>\n",
              "      <td>0.0</td>\n",
              "      <td>4.0</td>\n",
              "      <td>96.6</td>\n",
              "      <td>60.0</td>\n",
              "      <td>0.0</td>\n",
              "      <td>0.0</td>\n",
              "      <td>439570.0</td>\n",
              "      <td>95768.0</td>\n",
              "      <td>20300.0</td>\n",
              "      <td>88097.0</td>\n",
              "      <td>NaN</td>\n",
              "      <td>NaN</td>\n",
              "      <td>NaN</td>\n",
              "      <td>NaN</td>\n",
              "      <td>NaN</td>\n",
              "      <td>NaN</td>\n",
              "      <td>NaN</td>\n",
              "      <td>NaN</td>\n",
              "      <td>NaN</td>\n",
              "      <td>NaN</td>\n",
              "      <td>NaN</td>\n",
              "      <td>NaN</td>\n",
              "      <td>NaN</td>\n",
              "      <td>N</td>\n",
              "      <td>NaN</td>\n",
              "      <td>NaN</td>\n",
              "      <td>NaN</td>\n",
              "      <td>NaN</td>\n",
              "      <td>NaN</td>\n",
              "      <td>NaN</td>\n",
              "      <td>NaN</td>\n",
              "      <td>NaN</td>\n",
              "      <td>NaN</td>\n",
              "      <td>NaN</td>\n",
              "      <td>NaN</td>\n",
              "      <td>NaN</td>\n",
              "      <td>NaN</td>\n",
              "      <td>NaN</td>\n",
              "      <td>Cash</td>\n",
              "      <td>N</td>\n",
              "      <td>NaN</td>\n",
              "      <td>NaN</td>\n",
              "      <td>NaN</td>\n",
              "      <td>NaN</td>\n",
              "      <td>NaN</td>\n",
              "      <td>NaN</td>\n",
              "    </tr>\n",
              "  </tbody>\n",
              "</table>\n",
              "</div>"
            ],
            "text/plain": [
              "         id  member_id  loan_amnt  funded_amnt  funded_amnt_inv        term  \\\n",
              "0  68407277        NaN     3600.0       3600.0           3600.0   36 months   \n",
              "1  68355089        NaN    24700.0      24700.0          24700.0   36 months   \n",
              "2  68341763        NaN    20000.0      20000.0          20000.0   60 months   \n",
              "3  66310712        NaN    35000.0      35000.0          35000.0   60 months   \n",
              "4  68476807        NaN    10400.0      10400.0          10400.0   60 months   \n",
              "\n",
              "   int_rate  installment grade sub_grade                    emp_title  \\\n",
              "0     13.99       123.03     C        C4                      leadman   \n",
              "1     11.99       820.28     C        C1                     Engineer   \n",
              "2     10.78       432.66     B        B4                 truck driver   \n",
              "3     14.85       829.90     C        C5  Information Systems Officer   \n",
              "4     22.45       289.91     F        F1          Contract Specialist   \n",
              "\n",
              "  emp_length home_ownership  annual_inc verification_status   issue_d  \\\n",
              "0  10+ years       MORTGAGE     55000.0        Not Verified  Dec-2015   \n",
              "1  10+ years       MORTGAGE     65000.0        Not Verified  Dec-2015   \n",
              "2  10+ years       MORTGAGE     63000.0        Not Verified  Dec-2015   \n",
              "3  10+ years       MORTGAGE    110000.0     Source Verified  Dec-2015   \n",
              "4    3 years       MORTGAGE    104433.0     Source Verified  Dec-2015   \n",
              "\n",
              "  loan_status pymnt_plan                                                url  \\\n",
              "0  Fully Paid          n  https://lendingclub.com/browse/loanDetail.acti...   \n",
              "1  Fully Paid          n  https://lendingclub.com/browse/loanDetail.acti...   \n",
              "2  Fully Paid          n  https://lendingclub.com/browse/loanDetail.acti...   \n",
              "3     Current          n  https://lendingclub.com/browse/loanDetail.acti...   \n",
              "4  Fully Paid          n  https://lendingclub.com/browse/loanDetail.acti...   \n",
              "\n",
              "  desc             purpose               title zip_code addr_state    dti  \\\n",
              "0  NaN  debt_consolidation  Debt consolidation    190xx         PA   5.91   \n",
              "1  NaN      small_business            Business    577xx         SD  16.06   \n",
              "2  NaN    home_improvement                 NaN    605xx         IL  10.78   \n",
              "3  NaN  debt_consolidation  Debt consolidation    076xx         NJ  17.06   \n",
              "4  NaN      major_purchase      Major purchase    174xx         PA  25.37   \n",
              "\n",
              "   delinq_2yrs earliest_cr_line  fico_range_low  fico_range_high  \\\n",
              "0          0.0         Aug-2003           675.0            679.0   \n",
              "1          1.0         Dec-1999           715.0            719.0   \n",
              "2          0.0         Aug-2000           695.0            699.0   \n",
              "3          0.0         Sep-2008           785.0            789.0   \n",
              "4          1.0         Jun-1998           695.0            699.0   \n",
              "\n",
              "   inq_last_6mths  mths_since_last_delinq  mths_since_last_record  open_acc  \\\n",
              "0             1.0                    30.0                     NaN       7.0   \n",
              "1             4.0                     6.0                     NaN      22.0   \n",
              "2             0.0                     NaN                     NaN       6.0   \n",
              "3             0.0                     NaN                     NaN      13.0   \n",
              "4             3.0                    12.0                     NaN      12.0   \n",
              "\n",
              "   pub_rec  revol_bal  revol_util  total_acc initial_list_status  out_prncp  \\\n",
              "0      0.0     2765.0        29.7       13.0                   w       0.00   \n",
              "1      0.0    21470.0        19.2       38.0                   w       0.00   \n",
              "2      0.0     7869.0        56.2       18.0                   w       0.00   \n",
              "3      0.0     7802.0        11.6       17.0                   w   15897.65   \n",
              "4      0.0    21929.0        64.5       35.0                   w       0.00   \n",
              "\n",
              "   out_prncp_inv   total_pymnt  total_pymnt_inv  total_rec_prncp  \\\n",
              "0           0.00   4421.723917          4421.72          3600.00   \n",
              "1           0.00  25679.660000         25679.66         24700.00   \n",
              "2           0.00  22705.924294         22705.92         20000.00   \n",
              "3       15897.65  31464.010000         31464.01         19102.35   \n",
              "4           0.00  11740.500000         11740.50         10400.00   \n",
              "\n",
              "   total_rec_int  total_rec_late_fee  recoveries  collection_recovery_fee  \\\n",
              "0         821.72                 0.0         0.0                      0.0   \n",
              "1         979.66                 0.0         0.0                      0.0   \n",
              "2        2705.92                 0.0         0.0                      0.0   \n",
              "3       12361.66                 0.0         0.0                      0.0   \n",
              "4        1340.50                 0.0         0.0                      0.0   \n",
              "\n",
              "  last_pymnt_d  last_pymnt_amnt next_pymnt_d last_credit_pull_d  \\\n",
              "0     Jan-2019           122.67          NaN           Mar-2019   \n",
              "1     Jun-2016           926.35          NaN           Mar-2019   \n",
              "2     Jun-2017         15813.30          NaN           Mar-2019   \n",
              "3     Feb-2019           829.90     Apr-2019           Mar-2019   \n",
              "4     Jul-2016         10128.96          NaN           Mar-2018   \n",
              "\n",
              "   last_fico_range_high  last_fico_range_low  collections_12_mths_ex_med  \\\n",
              "0                 564.0                560.0                         0.0   \n",
              "1                 699.0                695.0                         0.0   \n",
              "2                 704.0                700.0                         0.0   \n",
              "3                 679.0                675.0                         0.0   \n",
              "4                 704.0                700.0                         0.0   \n",
              "\n",
              "   mths_since_last_major_derog  policy_code application_type  \\\n",
              "0                         30.0          1.0       Individual   \n",
              "1                          NaN          1.0       Individual   \n",
              "2                          NaN          1.0        Joint App   \n",
              "3                          NaN          1.0       Individual   \n",
              "4                          NaN          1.0       Individual   \n",
              "\n",
              "   annual_inc_joint  dti_joint verification_status_joint  acc_now_delinq  \\\n",
              "0               NaN        NaN                       NaN             0.0   \n",
              "1               NaN        NaN                       NaN             0.0   \n",
              "2           71000.0      13.85              Not Verified             0.0   \n",
              "3               NaN        NaN                       NaN             0.0   \n",
              "4               NaN        NaN                       NaN             0.0   \n",
              "\n",
              "   tot_coll_amt  tot_cur_bal  open_acc_6m  open_act_il  open_il_12m  \\\n",
              "0         722.0     144904.0          2.0          2.0          0.0   \n",
              "1           0.0     204396.0          1.0          1.0          0.0   \n",
              "2           0.0     189699.0          0.0          1.0          0.0   \n",
              "3           0.0     301500.0          1.0          1.0          0.0   \n",
              "4           0.0     331730.0          1.0          3.0          0.0   \n",
              "\n",
              "   open_il_24m  mths_since_rcnt_il  total_bal_il  il_util  open_rv_12m  \\\n",
              "0          1.0                21.0        4981.0     36.0          3.0   \n",
              "1          1.0                19.0       18005.0     73.0          2.0   \n",
              "2          4.0                19.0       10827.0     73.0          0.0   \n",
              "3          1.0                23.0       12609.0     70.0          1.0   \n",
              "4          3.0                14.0       73839.0     84.0          4.0   \n",
              "\n",
              "   open_rv_24m  max_bal_bc  all_util  total_rev_hi_lim  inq_fi  total_cu_tl  \\\n",
              "0          3.0       722.0      34.0            9300.0     3.0          1.0   \n",
              "1          3.0      6472.0      29.0          111800.0     0.0          0.0   \n",
              "2          2.0      2081.0      65.0           14000.0     2.0          5.0   \n",
              "3          1.0      6987.0      45.0           67300.0     0.0          1.0   \n",
              "4          7.0      9702.0      78.0           34000.0     2.0          1.0   \n",
              "\n",
              "   inq_last_12m  acc_open_past_24mths  avg_cur_bal  bc_open_to_buy  bc_util  \\\n",
              "0           4.0                   4.0      20701.0          1506.0     37.2   \n",
              "1           6.0                   4.0       9733.0         57830.0     27.1   \n",
              "2           1.0                   6.0      31617.0          2737.0     55.9   \n",
              "3           0.0                   2.0      23192.0         54962.0     12.1   \n",
              "4           3.0                  10.0      27644.0          4567.0     77.5   \n",
              "\n",
              "   chargeoff_within_12_mths  delinq_amnt  mo_sin_old_il_acct  \\\n",
              "0                       0.0          0.0               148.0   \n",
              "1                       0.0          0.0               113.0   \n",
              "2                       0.0          0.0               125.0   \n",
              "3                       0.0          0.0                36.0   \n",
              "4                       0.0          0.0               128.0   \n",
              "\n",
              "   mo_sin_old_rev_tl_op  mo_sin_rcnt_rev_tl_op  mo_sin_rcnt_tl  mort_acc  \\\n",
              "0                 128.0                    3.0             3.0       1.0   \n",
              "1                 192.0                    2.0             2.0       4.0   \n",
              "2                 184.0                   14.0            14.0       5.0   \n",
              "3                  87.0                    2.0             2.0       1.0   \n",
              "4                 210.0                    4.0             4.0       6.0   \n",
              "\n",
              "   mths_since_recent_bc  mths_since_recent_bc_dlq  mths_since_recent_inq  \\\n",
              "0                   4.0                      69.0                    4.0   \n",
              "1                   2.0                       NaN                    0.0   \n",
              "2                 101.0                       NaN                   10.0   \n",
              "3                   2.0                       NaN                    NaN   \n",
              "4                   4.0                      12.0                    1.0   \n",
              "\n",
              "   mths_since_recent_revol_delinq  num_accts_ever_120_pd  num_actv_bc_tl  \\\n",
              "0                            69.0                    2.0             2.0   \n",
              "1                             6.0                    0.0             5.0   \n",
              "2                             NaN                    0.0             2.0   \n",
              "3                             NaN                    0.0             4.0   \n",
              "4                            12.0                    0.0             4.0   \n",
              "\n",
              "   num_actv_rev_tl  num_bc_sats  num_bc_tl  num_il_tl  num_op_rev_tl  \\\n",
              "0              4.0          2.0        5.0        3.0            4.0   \n",
              "1              5.0         13.0       17.0        6.0           20.0   \n",
              "2              3.0          2.0        4.0        6.0            4.0   \n",
              "3              5.0          8.0       10.0        2.0           10.0   \n",
              "4              6.0          5.0        9.0       10.0            7.0   \n",
              "\n",
              "   num_rev_accts  num_rev_tl_bal_gt_0  num_sats  num_tl_120dpd_2m  \\\n",
              "0            9.0                  4.0       7.0               0.0   \n",
              "1           27.0                  5.0      22.0               0.0   \n",
              "2            7.0                  3.0       6.0               0.0   \n",
              "3           13.0                  5.0      13.0               0.0   \n",
              "4           19.0                  6.0      12.0               0.0   \n",
              "\n",
              "   num_tl_30dpd  num_tl_90g_dpd_24m  num_tl_op_past_12m  pct_tl_nvr_dlq  \\\n",
              "0           0.0                 0.0                 3.0            76.9   \n",
              "1           0.0                 0.0                 2.0            97.4   \n",
              "2           0.0                 0.0                 0.0           100.0   \n",
              "3           0.0                 0.0                 1.0           100.0   \n",
              "4           0.0                 0.0                 4.0            96.6   \n",
              "\n",
              "   percent_bc_gt_75  pub_rec_bankruptcies  tax_liens  tot_hi_cred_lim  \\\n",
              "0               0.0                   0.0        0.0         178050.0   \n",
              "1               7.7                   0.0        0.0         314017.0   \n",
              "2              50.0                   0.0        0.0         218418.0   \n",
              "3               0.0                   0.0        0.0         381215.0   \n",
              "4              60.0                   0.0        0.0         439570.0   \n",
              "\n",
              "   total_bal_ex_mort  total_bc_limit  total_il_high_credit_limit  \\\n",
              "0             7746.0          2400.0                     13734.0   \n",
              "1            39475.0         79300.0                     24667.0   \n",
              "2            18696.0          6200.0                     14877.0   \n",
              "3            52226.0         62500.0                     18000.0   \n",
              "4            95768.0         20300.0                     88097.0   \n",
              "\n",
              "   revol_bal_joint  sec_app_fico_range_low  sec_app_fico_range_high  \\\n",
              "0              NaN                     NaN                      NaN   \n",
              "1              NaN                     NaN                      NaN   \n",
              "2              NaN                     NaN                      NaN   \n",
              "3              NaN                     NaN                      NaN   \n",
              "4              NaN                     NaN                      NaN   \n",
              "\n",
              "  sec_app_earliest_cr_line  sec_app_inq_last_6mths  sec_app_mort_acc  \\\n",
              "0                      NaN                     NaN               NaN   \n",
              "1                      NaN                     NaN               NaN   \n",
              "2                      NaN                     NaN               NaN   \n",
              "3                      NaN                     NaN               NaN   \n",
              "4                      NaN                     NaN               NaN   \n",
              "\n",
              "   sec_app_open_acc  sec_app_revol_util  sec_app_open_act_il  \\\n",
              "0               NaN                 NaN                  NaN   \n",
              "1               NaN                 NaN                  NaN   \n",
              "2               NaN                 NaN                  NaN   \n",
              "3               NaN                 NaN                  NaN   \n",
              "4               NaN                 NaN                  NaN   \n",
              "\n",
              "   sec_app_num_rev_accts  sec_app_chargeoff_within_12_mths  \\\n",
              "0                    NaN                               NaN   \n",
              "1                    NaN                               NaN   \n",
              "2                    NaN                               NaN   \n",
              "3                    NaN                               NaN   \n",
              "4                    NaN                               NaN   \n",
              "\n",
              "   sec_app_collections_12_mths_ex_med  sec_app_mths_since_last_major_derog  \\\n",
              "0                                 NaN                                  NaN   \n",
              "1                                 NaN                                  NaN   \n",
              "2                                 NaN                                  NaN   \n",
              "3                                 NaN                                  NaN   \n",
              "4                                 NaN                                  NaN   \n",
              "\n",
              "  hardship_flag hardship_type hardship_reason hardship_status  deferral_term  \\\n",
              "0             N           NaN             NaN             NaN            NaN   \n",
              "1             N           NaN             NaN             NaN            NaN   \n",
              "2             N           NaN             NaN             NaN            NaN   \n",
              "3             N           NaN             NaN             NaN            NaN   \n",
              "4             N           NaN             NaN             NaN            NaN   \n",
              "\n",
              "   hardship_amount hardship_start_date hardship_end_date  \\\n",
              "0              NaN                 NaN               NaN   \n",
              "1              NaN                 NaN               NaN   \n",
              "2              NaN                 NaN               NaN   \n",
              "3              NaN                 NaN               NaN   \n",
              "4              NaN                 NaN               NaN   \n",
              "\n",
              "  payment_plan_start_date  hardship_length  hardship_dpd hardship_loan_status  \\\n",
              "0                     NaN              NaN           NaN                  NaN   \n",
              "1                     NaN              NaN           NaN                  NaN   \n",
              "2                     NaN              NaN           NaN                  NaN   \n",
              "3                     NaN              NaN           NaN                  NaN   \n",
              "4                     NaN              NaN           NaN                  NaN   \n",
              "\n",
              "   orig_projected_additional_accrued_interest  hardship_payoff_balance_amount  \\\n",
              "0                                         NaN                             NaN   \n",
              "1                                         NaN                             NaN   \n",
              "2                                         NaN                             NaN   \n",
              "3                                         NaN                             NaN   \n",
              "4                                         NaN                             NaN   \n",
              "\n",
              "   hardship_last_payment_amount disbursement_method debt_settlement_flag  \\\n",
              "0                           NaN                Cash                    N   \n",
              "1                           NaN                Cash                    N   \n",
              "2                           NaN                Cash                    N   \n",
              "3                           NaN                Cash                    N   \n",
              "4                           NaN                Cash                    N   \n",
              "\n",
              "  debt_settlement_flag_date settlement_status settlement_date  \\\n",
              "0                       NaN               NaN             NaN   \n",
              "1                       NaN               NaN             NaN   \n",
              "2                       NaN               NaN             NaN   \n",
              "3                       NaN               NaN             NaN   \n",
              "4                       NaN               NaN             NaN   \n",
              "\n",
              "   settlement_amount  settlement_percentage  settlement_term  \n",
              "0                NaN                    NaN              NaN  \n",
              "1                NaN                    NaN              NaN  \n",
              "2                NaN                    NaN              NaN  \n",
              "3                NaN                    NaN              NaN  \n",
              "4                NaN                    NaN              NaN  "
            ]
          },
          "metadata": {
            "tags": []
          },
          "execution_count": 4
        }
      ]
    },
    {
      "cell_type": "code",
      "metadata": {
        "id": "PdNfDbkTF2ki",
        "colab_type": "code",
        "colab": {
          "base_uri": "https://localhost:8080/",
          "height": 206
        },
        "outputId": "c8c0c347-6c05-4972-9d60-35e80dd574fb"
      },
      "source": [
        "rejected_df.head()"
      ],
      "execution_count": 5,
      "outputs": [
        {
          "output_type": "execute_result",
          "data": {
            "text/html": [
              "<div>\n",
              "<style scoped>\n",
              "    .dataframe tbody tr th:only-of-type {\n",
              "        vertical-align: middle;\n",
              "    }\n",
              "\n",
              "    .dataframe tbody tr th {\n",
              "        vertical-align: top;\n",
              "    }\n",
              "\n",
              "    .dataframe thead th {\n",
              "        text-align: right;\n",
              "    }\n",
              "</style>\n",
              "<table border=\"1\" class=\"dataframe\">\n",
              "  <thead>\n",
              "    <tr style=\"text-align: right;\">\n",
              "      <th></th>\n",
              "      <th>Amount Requested</th>\n",
              "      <th>Application Date</th>\n",
              "      <th>Loan Title</th>\n",
              "      <th>Risk_Score</th>\n",
              "      <th>Debt-To-Income Ratio</th>\n",
              "      <th>Zip Code</th>\n",
              "      <th>State</th>\n",
              "      <th>Employment Length</th>\n",
              "      <th>Policy Code</th>\n",
              "    </tr>\n",
              "  </thead>\n",
              "  <tbody>\n",
              "    <tr>\n",
              "      <th>0</th>\n",
              "      <td>1000.0</td>\n",
              "      <td>2007-05-26</td>\n",
              "      <td>Wedding Covered but No Honeymoon</td>\n",
              "      <td>693.0</td>\n",
              "      <td>10%</td>\n",
              "      <td>481xx</td>\n",
              "      <td>NM</td>\n",
              "      <td>4 years</td>\n",
              "      <td>0.0</td>\n",
              "    </tr>\n",
              "    <tr>\n",
              "      <th>1</th>\n",
              "      <td>1000.0</td>\n",
              "      <td>2007-05-26</td>\n",
              "      <td>Consolidating Debt</td>\n",
              "      <td>703.0</td>\n",
              "      <td>10%</td>\n",
              "      <td>010xx</td>\n",
              "      <td>MA</td>\n",
              "      <td>&lt; 1 year</td>\n",
              "      <td>0.0</td>\n",
              "    </tr>\n",
              "    <tr>\n",
              "      <th>2</th>\n",
              "      <td>11000.0</td>\n",
              "      <td>2007-05-27</td>\n",
              "      <td>Want to consolidate my debt</td>\n",
              "      <td>715.0</td>\n",
              "      <td>10%</td>\n",
              "      <td>212xx</td>\n",
              "      <td>MD</td>\n",
              "      <td>1 year</td>\n",
              "      <td>0.0</td>\n",
              "    </tr>\n",
              "    <tr>\n",
              "      <th>3</th>\n",
              "      <td>6000.0</td>\n",
              "      <td>2007-05-27</td>\n",
              "      <td>waksman</td>\n",
              "      <td>698.0</td>\n",
              "      <td>38.64%</td>\n",
              "      <td>017xx</td>\n",
              "      <td>MA</td>\n",
              "      <td>&lt; 1 year</td>\n",
              "      <td>0.0</td>\n",
              "    </tr>\n",
              "    <tr>\n",
              "      <th>4</th>\n",
              "      <td>1500.0</td>\n",
              "      <td>2007-05-27</td>\n",
              "      <td>mdrigo</td>\n",
              "      <td>509.0</td>\n",
              "      <td>9.43%</td>\n",
              "      <td>209xx</td>\n",
              "      <td>MD</td>\n",
              "      <td>&lt; 1 year</td>\n",
              "      <td>0.0</td>\n",
              "    </tr>\n",
              "  </tbody>\n",
              "</table>\n",
              "</div>"
            ],
            "text/plain": [
              "   Amount Requested Application Date                        Loan Title  \\\n",
              "0            1000.0       2007-05-26  Wedding Covered but No Honeymoon   \n",
              "1            1000.0       2007-05-26                Consolidating Debt   \n",
              "2           11000.0       2007-05-27       Want to consolidate my debt   \n",
              "3            6000.0       2007-05-27                           waksman   \n",
              "4            1500.0       2007-05-27                            mdrigo   \n",
              "\n",
              "   Risk_Score Debt-To-Income Ratio Zip Code State Employment Length  \\\n",
              "0       693.0                  10%    481xx    NM           4 years   \n",
              "1       703.0                  10%    010xx    MA          < 1 year   \n",
              "2       715.0                  10%    212xx    MD            1 year   \n",
              "3       698.0               38.64%    017xx    MA          < 1 year   \n",
              "4       509.0                9.43%    209xx    MD          < 1 year   \n",
              "\n",
              "   Policy Code  \n",
              "0          0.0  \n",
              "1          0.0  \n",
              "2          0.0  \n",
              "3          0.0  \n",
              "4          0.0  "
            ]
          },
          "metadata": {
            "tags": []
          },
          "execution_count": 5
        }
      ]
    },
    {
      "cell_type": "code",
      "metadata": {
        "id": "ScUc0SNWF2nS",
        "colab_type": "code",
        "outputId": "453ecbf1-4f0e-4d5e-cec5-15334601ced6",
        "colab": {
          "base_uri": "https://localhost:8080/",
          "height": 34
        }
      },
      "source": [
        "accepted_df.shape, rejected_df.shape"
      ],
      "execution_count": 6,
      "outputs": [
        {
          "output_type": "execute_result",
          "data": {
            "text/plain": [
              "((2260701, 151), (27648741, 9))"
            ]
          },
          "metadata": {
            "tags": []
          },
          "execution_count": 6
        }
      ]
    },
    {
      "cell_type": "markdown",
      "metadata": {
        "id": "uD6dD54gMdts",
        "colab_type": "text"
      },
      "source": [
        "**Note**: The shapes indicate a clear class imbalance problem. The rejected data has an order of magnitude more instances. Rather than synthetically generating data (by either upsampling the minority class or downsampling the majority class), we will accomodate the imbalance via stratified sampling.\n",
        "\n",
        "That is, we will reflect the same distribution from the original data in both the training and evaluation splits."
      ]
    },
    {
      "cell_type": "code",
      "metadata": {
        "id": "B3mcz6QSF2vp",
        "colab_type": "code",
        "outputId": "444511a1-c116-473a-fd3a-5ecfbc995efb",
        "colab": {
          "base_uri": "https://localhost:8080/",
          "height": 1000
        }
      },
      "source": [
        "# Check the number of null values in each column\n",
        "print(f\"Sum of null values in each feature:\\n{35 * '-'}\")\n",
        "print(f\"{accepted_df.isnull().sum().sort_values()}\")"
      ],
      "execution_count": 7,
      "outputs": [
        {
          "output_type": "stream",
          "text": [
            "Sum of null values in each feature:\n",
            "-----------------------------------\n",
            "id                                                  0\n",
            "fico_range_high                                    33\n",
            "hardship_flag                                      33\n",
            "revol_bal                                          33\n",
            "initial_list_status                                33\n",
            "out_prncp                                          33\n",
            "out_prncp_inv                                      33\n",
            "total_pymnt                                        33\n",
            "total_pymnt_inv                                    33\n",
            "total_rec_prncp                                    33\n",
            "total_rec_int                                      33\n",
            "total_rec_late_fee                                 33\n",
            "recoveries                                         33\n",
            "last_pymnt_amnt                                    33\n",
            "last_fico_range_high                               33\n",
            "last_fico_range_low                                33\n",
            "policy_code                                        33\n",
            "application_type                                   33\n",
            "fico_range_low                                     33\n",
            "addr_state                                         33\n",
            "collection_recovery_fee                            33\n",
            "debt_settlement_flag                               33\n",
            "funded_amnt                                        33\n",
            "funded_amnt_inv                                    33\n",
            "term                                               33\n",
            "int_rate                                           33\n",
            "installment                                        33\n",
            "grade                                              33\n",
            "sub_grade                                          33\n",
            "home_ownership                                     33\n",
            "purpose                                            33\n",
            "verification_status                                33\n",
            "issue_d                                            33\n",
            "loan_amnt                                          33\n",
            "disbursement_method                                33\n",
            "loan_status                                        33\n",
            "url                                                33\n",
            "pymnt_plan                                         33\n",
            "zip_code                                           34\n",
            "annual_inc                                         37\n",
            "delinq_2yrs                                        62\n",
            "pub_rec                                            62\n",
            "open_acc                                           62\n",
            "delinq_amnt                                        62\n",
            "total_acc                                          62\n",
            "acc_now_delinq                                     62\n",
            "earliest_cr_line                                   62\n",
            "inq_last_6mths                                     63\n",
            "last_credit_pull_d                                105\n",
            "tax_liens                                         138\n",
            "chargeoff_within_12_mths                          178\n",
            "collections_12_mths_ex_med                        178\n",
            "pub_rec_bankruptcies                             1398\n",
            "dti                                              1744\n",
            "revol_util                                       1835\n",
            "last_pymnt_d                                     2460\n",
            "title                                           23358\n",
            "total_bc_limit                                  50063\n",
            "mort_acc                                        50063\n",
            "acc_open_past_24mths                            50063\n",
            "total_bal_ex_mort                               50063\n",
            "num_bc_sats                                     58623\n",
            "num_sats                                        58623\n",
            "tot_hi_cred_lim                                 70309\n",
            "num_actv_bc_tl                                  70309\n",
            "mo_sin_rcnt_tl                                  70309\n",
            "total_il_high_credit_limit                      70309\n",
            "num_actv_rev_tl                                 70309\n",
            "num_bc_tl                                       70309\n",
            "num_il_tl                                       70309\n",
            "num_op_rev_tl                                   70309\n",
            "total_rev_hi_lim                                70309\n",
            "num_rev_tl_bal_gt_0                             70309\n",
            "tot_coll_amt                                    70309\n",
            "tot_cur_bal                                     70309\n",
            "num_tl_op_past_12m                              70309\n",
            "num_accts_ever_120_pd                           70309\n",
            "num_tl_30dpd                                    70309\n",
            "num_tl_90g_dpd_24m                              70309\n",
            "num_rev_accts                                   70310\n",
            "mo_sin_old_rev_tl_op                            70310\n",
            "mo_sin_rcnt_rev_tl_op                           70310\n",
            "avg_cur_bal                                     70379\n",
            "pct_tl_nvr_dlq                                  70464\n",
            "mths_since_recent_bc                            73445\n",
            "bc_open_to_buy                                  74968\n",
            "percent_bc_gt_75                                75412\n",
            "bc_util                                         76104\n",
            "mo_sin_old_il_acct                             139104\n",
            "emp_length                                     146940\n",
            "num_tl_120dpd_2m                               153690\n",
            "emp_title                                      167002\n",
            "mths_since_recent_inq                          295468\n",
            "inq_fi                                         866162\n",
            "max_bal_bc                                     866162\n",
            "open_rv_24m                                    866162\n",
            "open_rv_12m                                    866162\n",
            "open_act_il                                    866162\n",
            "total_bal_il                                   866162\n",
            "open_il_24m                                    866162\n",
            "open_il_12m                                    866162\n",
            "inq_last_12m                                   866163\n",
            "total_cu_tl                                    866163\n",
            "open_acc_6m                                    866163\n",
            "all_util                                       866381\n",
            "mths_since_rcnt_il                             909957\n",
            "il_util                                       1068883\n",
            "mths_since_last_delinq                        1158535\n",
            "next_pymnt_d                                  1345343\n",
            "mths_since_recent_revol_delinq                1520342\n",
            "mths_since_last_major_derog                   1679926\n",
            "mths_since_recent_bc_dlq                      1741000\n",
            "mths_since_last_record                        1901545\n",
            "desc                                          2134634\n",
            "annual_inc_joint                              2139991\n",
            "dti_joint                                     2139995\n",
            "verification_status_joint                     2144971\n",
            "sec_app_collections_12_mths_ex_med            2152680\n",
            "sec_app_fico_range_low                        2152680\n",
            "sec_app_fico_range_high                       2152680\n",
            "sec_app_earliest_cr_line                      2152680\n",
            "sec_app_inq_last_6mths                        2152680\n",
            "sec_app_mort_acc                              2152680\n",
            "sec_app_open_acc                              2152680\n",
            "sec_app_open_act_il                           2152680\n",
            "sec_app_num_rev_accts                         2152680\n",
            "sec_app_chargeoff_within_12_mths              2152680\n",
            "revol_bal_joint                               2152681\n",
            "sec_app_revol_util                            2154517\n",
            "sec_app_mths_since_last_major_derog           2224759\n",
            "settlement_term                               2226455\n",
            "settlement_amount                             2226455\n",
            "settlement_date                               2226455\n",
            "settlement_status                             2226455\n",
            "debt_settlement_flag_date                     2226455\n",
            "settlement_percentage                         2226455\n",
            "hardship_last_payment_amount                  2249784\n",
            "hardship_payoff_balance_amount                2249784\n",
            "hardship_type                                 2249784\n",
            "hardship_length                               2249784\n",
            "payment_plan_start_date                       2249784\n",
            "hardship_end_date                             2249784\n",
            "hardship_start_date                           2249784\n",
            "hardship_amount                               2249784\n",
            "deferral_term                                 2249784\n",
            "hardship_status                               2249784\n",
            "hardship_reason                               2249784\n",
            "hardship_dpd                                  2249784\n",
            "hardship_loan_status                          2249784\n",
            "orig_projected_additional_accrued_interest    2252050\n",
            "member_id                                     2260701\n",
            "dtype: int64\n"
          ],
          "name": "stdout"
        }
      ]
    },
    {
      "cell_type": "markdown",
      "metadata": {
        "id": "cY5xWvGnM88O",
        "colab_type": "text"
      },
      "source": [
        "**Note**: The columns we are going to include as features incidentally all have $< 50$ null values. Since the number of null values in the columns of interest is $<<$ the number of instances, we will drop all rows containing nulls."
      ]
    },
    {
      "cell_type": "markdown",
      "metadata": {
        "id": "XT1p1kmkjy5e",
        "colab_type": "text"
      },
      "source": [
        "## Data Preprocessing"
      ]
    },
    {
      "cell_type": "markdown",
      "metadata": {
        "id": "GO8-FIv4ax7X",
        "colab_type": "text"
      },
      "source": [
        "The Lending Club's Data Dictionary includes definitions for all the data attributes included.\n",
        "\n",
        "URL: [https://web.archive.org/web/20170227081857/https://resources.lendingclub.com/LCDataDictionary.xlsx](https://web.archive.org/web/20170227081857/https://resources.lendingclub.com/LCDataDictionary.xlsx) "
      ]
    },
    {
      "cell_type": "markdown",
      "metadata": {
        "id": "8ULUNh_rbc4v",
        "colab_type": "text"
      },
      "source": [
        "**Note**: A *Risk Score* column is not explicity included in `accepted_df`. Generally, this would have meant that our model would be severly limited, as risk scores are considered strong signals for loan approval/rejection and loan amounts. Luckily, the provided Data Dictionary states that the risk score of a borrower is their FICO score. We will therefore average a borrower's low and high FICO scores to calculate a proxy for *Risk Score*."
      ]
    },
    {
      "cell_type": "code",
      "metadata": {
        "id": "kNp61-dlbJLx",
        "colab_type": "code",
        "colab": {}
      },
      "source": [
        "# Fill NA's with the mean FICO score\n",
        "accepted_df.fico_range_high.fillna(accepted_df.fico_range_high.mean(), inplace=True)\n",
        "\n",
        "accepted_df.fico_range_low.fillna(accepted_df.fico_range_low.mean(), inplace=True)\n",
        "\n",
        "accepted_df['Risk_Score'] = accepted_df[['fico_range_high', 'fico_range_low']].mean(axis=1)"
      ],
      "execution_count": 0,
      "outputs": []
    },
    {
      "cell_type": "markdown",
      "metadata": {
        "id": "GCzlnaniQ9Jd",
        "colab_type": "text"
      },
      "source": [
        "Since the reject data contains far fewer columns than the accepted data, it will be the limiting condition for the columns we will include in the final dataframe inputted into our model."
      ]
    },
    {
      "cell_type": "markdown",
      "metadata": {
        "id": "jXoYpFf9R8Ak",
        "colab_type": "text"
      },
      "source": [
        "**Columns included**:\n",
        "- *Loan amount*\n",
        "\n",
        "- *Debt-to-Income ratio*\n",
        "\n",
        "- *Zip code*: We create dummy variables with the zip code. After a bit of reading about the format of US zip codes, we decided to include only the first two digits as they specify the region and state. States are included as a column in the accepted data. We hypothesize that this column has an association with the target\n",
        "\n",
        "- *Employment length*: For simplicity, we simply extract the integer value from the input string and use it as the employment length. We may be limiting our model since every borrower with an employment length of \"10+\" years is assigned 10 years. Future work could include and sample from a prior or apply more sophisticated imputation techniques\n",
        "\n",
        "- *Purpose*: We segment borrowers according to the listed purpose of applying for the loan. We make the top 11 purposes into categorical variables and label the rest as \"other\". This may again be a limitation of our model, and we hope future work will experiment with this feature\n",
        "\n",
        "- *Risk score*: A \"Risk Score\" column is not explicity included in the accepted data, unlike the rejected data. Generally, this would have meant that our model would be severly limited, as risk scores are considered strong signals for loan approval/rejection and loan amounts. Luckily, the provided Data Dictionary states that the risk score of a borrower is their FICO score. We will therefore average a borrower's low and high FICO scores to calculate a proxy for Risk Score\n",
        "\n",
        "**Columns Excluded**:\n",
        "- *Policy code*: The Data Dictionary indicates that this column will leak information about the target\n",
        "\n",
        "- All the remaining columns not mentioned above"
      ]
    },
    {
      "cell_type": "code",
      "metadata": {
        "id": "MF1RAiLuavfL",
        "colab_type": "code",
        "colab": {}
      },
      "source": [
        "# Select the subset of columns we are interested in\n",
        "rejected_df = rejected_df[['Amount Requested', 'Debt-To-Income Ratio', 'Zip Code',\n",
        "                           'Employment Length', 'Loan Title', 'Risk_Score']]\n",
        "                           \n",
        "accepted_df = accepted_df[['loan_amnt', 'dti', 'zip_code', 'emp_length',\n",
        "                           'purpose', 'Risk_Score']]\n",
        "\n",
        "pd.options.mode.chained_assignment = None\n",
        "\n",
        "# Rename the columns so that it will be simple to join the two data frames\n",
        "rejected_df.columns = ['amount', 'dti', 'zip', 'emp_length', 'purpose', 'risk']\n",
        "accepted_df.columns = ['amount', 'dti', 'zip', 'emp_length', 'purpose', 'risk']"
      ],
      "execution_count": 0,
      "outputs": []
    },
    {
      "cell_type": "code",
      "metadata": {
        "id": "DIWfbbv8X5Z5",
        "colab_type": "code",
        "colab": {}
      },
      "source": [
        "# Each column contains at most 35 NA's. Drop them according the reasoning provided above\n",
        "rejected_df.dropna(inplace=True)\n",
        "accepted_df.dropna(inplace=True)"
      ],
      "execution_count": 0,
      "outputs": []
    },
    {
      "cell_type": "markdown",
      "metadata": {
        "id": "-TK_YYyBYIe7",
        "colab_type": "text"
      },
      "source": [
        "### Preprocess rejected data:"
      ]
    },
    {
      "cell_type": "code",
      "metadata": {
        "id": "V2YndGlqcRn7",
        "colab_type": "code",
        "colab": {}
      },
      "source": [
        "# Include only first two digits of the zip code\n",
        "rejected_df['zip'] = rejected_df['zip'].str.extract('(\\d+)') # Use simple RegExps\n",
        "rejected_df['zip'] = rejected_df['zip'].str.slice(0, 2).astype(float)\n",
        "\n",
        "rejected_df['dti'] = rejected_df['dti'].apply(lambda x: x.strip('%')).astype(float)\n",
        "rejected_df['emp_length'] = rejected_df['emp_length'].str.extract('(\\d+)').astype(float)\n",
        "\n",
        "# Add a new column with a binary label for accepted/rejected data\n",
        "rejected_df['accept'] = 0.0"
      ],
      "execution_count": 0,
      "outputs": []
    },
    {
      "cell_type": "markdown",
      "metadata": {
        "id": "9wa-_emaX-q6",
        "colab_type": "text"
      },
      "source": [
        "### Preprocess accepted data:"
      ]
    },
    {
      "cell_type": "code",
      "metadata": {
        "id": "FwqIhEZTX-0Y",
        "colab_type": "code",
        "colab": {}
      },
      "source": [
        "accepted_df['emp_length'] = accepted_df['emp_length'].str.extract('(\\d+)').astype(float)\n",
        "accepted_df['zip'] = accepted_df['zip'].str.extract('(\\d+)')\n",
        "accepted_df['zip'] = accepted_df['zip'].str.slice(0, 2).astype(float)\n",
        "accepted_df['accept'] = 1.0"
      ],
      "execution_count": 0,
      "outputs": []
    },
    {
      "cell_type": "markdown",
      "metadata": {
        "id": "BtWdkoAkY3nc",
        "colab_type": "text"
      },
      "source": [
        "### Combine data into a single data frame"
      ]
    },
    {
      "cell_type": "code",
      "metadata": {
        "id": "TsXooEaAj8yr",
        "colab_type": "code",
        "colab": {}
      },
      "source": [
        "all_data = pd.concat([accepted_df, rejected_df])"
      ],
      "execution_count": 0,
      "outputs": []
    },
    {
      "cell_type": "markdown",
      "metadata": {
        "id": "Zy-fLJL9ZTWt",
        "colab_type": "text"
      },
      "source": [
        "### Feature engineering with the Purpose column"
      ]
    },
    {
      "cell_type": "code",
      "metadata": {
        "id": "t0fTce4sj81W",
        "colab_type": "code",
        "outputId": "486d3ee1-f030-461e-f1cf-a387b5029595",
        "colab": {
          "base_uri": "https://localhost:8080/",
          "height": 555
        }
      },
      "source": [
        "# Display the top 30 listed purposes\n",
        "all_data['purpose'].value_counts()[:30]"
      ],
      "execution_count": 14,
      "outputs": [
        {
          "output_type": "execute_result",
          "data": {
            "text/plain": [
              "debt_consolidation         2952678\n",
              "Debt consolidation         2391342\n",
              "credit_card                 928176\n",
              "Other                       829322\n",
              "Credit card refinancing     678080\n",
              "other                       676037\n",
              "home_improvement            338998\n",
              "Car financing               301511\n",
              "Home improvement            204832\n",
              "car                         186538\n",
              "major_purchase              177278\n",
              "Medical expenses            159518\n",
              "small_business              156769\n",
              "moving                      140938\n",
              "medical                     139352\n",
              "Major purchase              127895\n",
              "Moving and relocation       127095\n",
              "Home buying                 114972\n",
              "Business                     99223\n",
              "house                        68070\n",
              "vacation                     62113\n",
              "Vacation                     52848\n",
              "wedding                      19868\n",
              "Green loan                   13284\n",
              "                             12648\n",
              "renewable_energy             11764\n",
              "Debt Consolidation            4973\n",
              "educational                   2246\n",
              "debt consolidation            2066\n",
              "Consolidation                 1632\n",
              "Name: purpose, dtype: int64"
            ]
          },
          "metadata": {
            "tags": []
          },
          "execution_count": 14
        }
      ]
    },
    {
      "cell_type": "code",
      "metadata": {
        "id": "HZAs4XaKd_GW",
        "colab_type": "code",
        "colab": {
          "base_uri": "https://localhost:8080/",
          "height": 536
        },
        "outputId": "90c0d367-e5ef-4689-fa25-6c817d6e6c6a"
      },
      "source": [
        "import nltk\n",
        "nltk.download('stopwords')\n",
        "from nltk.corpus import stopwords\n",
        "stop = set(stopwords.words('english'))\n",
        "\n",
        "from wordcloud import WordCloud\n",
        "\n",
        "\n",
        "text = ' '.join(all_data['purpose'].str.lower().values[-1000:])\n",
        "\n",
        "# Not the best visualization, but it captures the idea from the cell above\n",
        "wordcloud = WordCloud(max_font_size=None, stopwords=stop,\n",
        "                      background_color='white', width=1200,\n",
        "                      height=1000, max_words=100).generate(text)\n",
        "plt.figure(figsize=(12, 8))\n",
        "plt.imshow(wordcloud, interpolation=\"bilinear\")\n",
        "plt.title('Top purposes')\n",
        "plt.axis(\"off\")\n",
        "plt.show()"
      ],
      "execution_count": 15,
      "outputs": [
        {
          "output_type": "stream",
          "text": [
            "[nltk_data] Downloading package stopwords to /root/nltk_data...\n",
            "[nltk_data]   Package stopwords is already up-to-date!\n"
          ],
          "name": "stdout"
        },
        {
          "output_type": "display_data",
          "data": {
            "image/png": "[encoded data removed]",
            "text/plain": [
              "<Figure size 864x576 with 1 Axes>"
            ]
          },
          "metadata": {
            "tags": []
          }
        }
      ]
    },
    {
      "cell_type": "markdown",
      "metadata": {
        "id": "gowRfZvkZiKT",
        "colab_type": "text"
      },
      "source": [
        "**Note**: There are duplicated entries in Purpose due to variation in the syntax (a consequence of natural language). We will combine duplicate pairs and triplets into their respective single semantic categories."
      ]
    },
    {
      "cell_type": "code",
      "metadata": {
        "id": "TyTkgU4uj9Fo",
        "colab_type": "code",
        "outputId": "1949d39a-6d58-4a30-98a8-bdc9c48e1e66",
        "colab": {
          "base_uri": "https://localhost:8080/",
          "height": 206
        }
      },
      "source": [
        "def feature_eng_purpose(x):\n",
        "  purpose = str(x).lower()\n",
        "  if 'debt' in purpose: return 'debt'\n",
        "  if 'credit' in purpose: return 'credit_card'\n",
        "  if 'home' in purpose: return 'home'\n",
        "  if 'car' in purpose: return 'car'\n",
        "  if 'medical' in purpose: return 'medical'\n",
        "  if 'business' in purpose: return 'business'\n",
        "  if 'moving' in purpose: return 'moving'\n",
        "  if 'major' in purpose: return 'major_purchases'\n",
        "  if 'house' in purpose: return 'home'\n",
        "  if 'vacation' in purpose: return 'vacation'\n",
        "  if 'wedding' in purpose: return 'wedding'\n",
        "  return 'other'\n",
        "\n",
        "purpose_df = all_data['purpose'].apply(feature_eng_purpose)\n",
        "\n",
        "# Encode them as dummy variables\n",
        "purpose_dummies = pd.get_dummies(purpose_df, dtype=float)\n",
        "final_df = pd.concat([all_data, purpose_dummies], axis=1)\n",
        "\n",
        "# Drop the redundant Purpose column\n",
        "final_df.drop(['purpose'], axis=1, inplace=True)\n",
        "final_df.head()"
      ],
      "execution_count": 16,
      "outputs": [
        {
          "output_type": "execute_result",
          "data": {
            "text/html": [
              "<div>\n",
              "<style scoped>\n",
              "    .dataframe tbody tr th:only-of-type {\n",
              "        vertical-align: middle;\n",
              "    }\n",
              "\n",
              "    .dataframe tbody tr th {\n",
              "        vertical-align: top;\n",
              "    }\n",
              "\n",
              "    .dataframe thead th {\n",
              "        text-align: right;\n",
              "    }\n",
              "</style>\n",
              "<table border=\"1\" class=\"dataframe\">\n",
              "  <thead>\n",
              "    <tr style=\"text-align: right;\">\n",
              "      <th></th>\n",
              "      <th>amount</th>\n",
              "      <th>dti</th>\n",
              "      <th>zip</th>\n",
              "      <th>emp_length</th>\n",
              "      <th>risk</th>\n",
              "      <th>accept</th>\n",
              "      <th>business</th>\n",
              "      <th>car</th>\n",
              "      <th>credit_card</th>\n",
              "      <th>debt</th>\n",
              "      <th>home</th>\n",
              "      <th>major_purchases</th>\n",
              "      <th>medical</th>\n",
              "      <th>moving</th>\n",
              "      <th>other</th>\n",
              "      <th>vacation</th>\n",
              "      <th>wedding</th>\n",
              "    </tr>\n",
              "  </thead>\n",
              "  <tbody>\n",
              "    <tr>\n",
              "      <th>0</th>\n",
              "      <td>3600.0</td>\n",
              "      <td>5.91</td>\n",
              "      <td>19.0</td>\n",
              "      <td>10.0</td>\n",
              "      <td>677.0</td>\n",
              "      <td>1.0</td>\n",
              "      <td>0.0</td>\n",
              "      <td>0.0</td>\n",
              "      <td>0.0</td>\n",
              "      <td>1.0</td>\n",
              "      <td>0.0</td>\n",
              "      <td>0.0</td>\n",
              "      <td>0.0</td>\n",
              "      <td>0.0</td>\n",
              "      <td>0.0</td>\n",
              "      <td>0.0</td>\n",
              "      <td>0.0</td>\n",
              "    </tr>\n",
              "    <tr>\n",
              "      <th>1</th>\n",
              "      <td>24700.0</td>\n",
              "      <td>16.06</td>\n",
              "      <td>57.0</td>\n",
              "      <td>10.0</td>\n",
              "      <td>717.0</td>\n",
              "      <td>1.0</td>\n",
              "      <td>1.0</td>\n",
              "      <td>0.0</td>\n",
              "      <td>0.0</td>\n",
              "      <td>0.0</td>\n",
              "      <td>0.0</td>\n",
              "      <td>0.0</td>\n",
              "      <td>0.0</td>\n",
              "      <td>0.0</td>\n",
              "      <td>0.0</td>\n",
              "      <td>0.0</td>\n",
              "      <td>0.0</td>\n",
              "    </tr>\n",
              "    <tr>\n",
              "      <th>2</th>\n",
              "      <td>20000.0</td>\n",
              "      <td>10.78</td>\n",
              "      <td>60.0</td>\n",
              "      <td>10.0</td>\n",
              "      <td>697.0</td>\n",
              "      <td>1.0</td>\n",
              "      <td>0.0</td>\n",
              "      <td>0.0</td>\n",
              "      <td>0.0</td>\n",
              "      <td>0.0</td>\n",
              "      <td>1.0</td>\n",
              "      <td>0.0</td>\n",
              "      <td>0.0</td>\n",
              "      <td>0.0</td>\n",
              "      <td>0.0</td>\n",
              "      <td>0.0</td>\n",
              "      <td>0.0</td>\n",
              "    </tr>\n",
              "    <tr>\n",
              "      <th>3</th>\n",
              "      <td>35000.0</td>\n",
              "      <td>17.06</td>\n",
              "      <td>7.0</td>\n",
              "      <td>10.0</td>\n",
              "      <td>787.0</td>\n",
              "      <td>1.0</td>\n",
              "      <td>0.0</td>\n",
              "      <td>0.0</td>\n",
              "      <td>0.0</td>\n",
              "      <td>1.0</td>\n",
              "      <td>0.0</td>\n",
              "      <td>0.0</td>\n",
              "      <td>0.0</td>\n",
              "      <td>0.0</td>\n",
              "      <td>0.0</td>\n",
              "      <td>0.0</td>\n",
              "      <td>0.0</td>\n",
              "    </tr>\n",
              "    <tr>\n",
              "      <th>4</th>\n",
              "      <td>10400.0</td>\n",
              "      <td>25.37</td>\n",
              "      <td>17.0</td>\n",
              "      <td>3.0</td>\n",
              "      <td>697.0</td>\n",
              "      <td>1.0</td>\n",
              "      <td>0.0</td>\n",
              "      <td>0.0</td>\n",
              "      <td>0.0</td>\n",
              "      <td>0.0</td>\n",
              "      <td>0.0</td>\n",
              "      <td>1.0</td>\n",
              "      <td>0.0</td>\n",
              "      <td>0.0</td>\n",
              "      <td>0.0</td>\n",
              "      <td>0.0</td>\n",
              "      <td>0.0</td>\n",
              "    </tr>\n",
              "  </tbody>\n",
              "</table>\n",
              "</div>"
            ],
            "text/plain": [
              "    amount    dti   zip  emp_length   risk  accept  business  car  \\\n",
              "0   3600.0   5.91  19.0        10.0  677.0     1.0       0.0  0.0   \n",
              "1  24700.0  16.06  57.0        10.0  717.0     1.0       1.0  0.0   \n",
              "2  20000.0  10.78  60.0        10.0  697.0     1.0       0.0  0.0   \n",
              "3  35000.0  17.06   7.0        10.0  787.0     1.0       0.0  0.0   \n",
              "4  10400.0  25.37  17.0         3.0  697.0     1.0       0.0  0.0   \n",
              "\n",
              "   credit_card  debt  home  major_purchases  medical  moving  other  vacation  \\\n",
              "0          0.0   1.0   0.0              0.0      0.0     0.0    0.0       0.0   \n",
              "1          0.0   0.0   0.0              0.0      0.0     0.0    0.0       0.0   \n",
              "2          0.0   0.0   1.0              0.0      0.0     0.0    0.0       0.0   \n",
              "3          0.0   1.0   0.0              0.0      0.0     0.0    0.0       0.0   \n",
              "4          0.0   0.0   0.0              1.0      0.0     0.0    0.0       0.0   \n",
              "\n",
              "   wedding  \n",
              "0      0.0  \n",
              "1      0.0  \n",
              "2      0.0  \n",
              "3      0.0  \n",
              "4      0.0  "
            ]
          },
          "metadata": {
            "tags": []
          },
          "execution_count": 16
        }
      ]
    },
    {
      "cell_type": "markdown",
      "metadata": {
        "id": "N2hYTKhiih02",
        "colab_type": "text"
      },
      "source": [
        "### Transform highly skewed features"
      ]
    },
    {
      "cell_type": "code",
      "metadata": {
        "id": "DkPHOUZjiWzp",
        "colab_type": "code",
        "colab": {
          "base_uri": "https://localhost:8080/",
          "height": 508
        },
        "outputId": "a7f3fcd3-69bd-4a00-b96b-d3753503e109"
      },
      "source": [
        "sns.distplot(final_df['amount']);"
      ],
      "execution_count": 17,
      "outputs": [
        {
          "output_type": "display_data",
          "data": {
            "image/png": "[encoded data removed]",
            "text/plain": [
              "<Figure size 864x576 with 1 Axes>"
            ]
          },
          "metadata": {
            "tags": []
          }
        }
      ]
    },
    {
      "cell_type": "code",
      "metadata": {
        "id": "X6GtaZLPjFjB",
        "colab_type": "code",
        "colab": {
          "base_uri": "https://localhost:8080/",
          "height": 52
        },
        "outputId": "98bb68ac-7475-4de4-cb42-1e0f7d528941"
      },
      "source": [
        "print(\"Skew: %f\" % final_df['amount'].skew())\n",
        "print(\"Kurtosis: %f\" % final_df['amount'].kurt())"
      ],
      "execution_count": 18,
      "outputs": [
        {
          "output_type": "stream",
          "text": [
            "Skew: 1.541243\n",
            "Kurtosis: 72.999795\n"
          ],
          "name": "stdout"
        }
      ]
    },
    {
      "cell_type": "markdown",
      "metadata": {
        "id": "3v92-oc2bAEe",
        "colab_type": "text"
      },
      "source": [
        "**Note**: Log-transform skewed numeric features"
      ]
    },
    {
      "cell_type": "code",
      "metadata": {
        "id": "0d8lBtuwQUzy",
        "colab_type": "code",
        "outputId": "8df10cc6-d07b-40a0-b578-a4cf42ad1a45",
        "colab": {
          "base_uri": "https://localhost:8080/",
          "height": 501
        }
      },
      "source": [
        "plt.style.use('ggplot')\n",
        "sns.set(rc={'figure.figsize':(12, 8)})\n",
        "\n",
        "amount = pd.DataFrame({\"amount\":final_df[\"amount\"], \"log(amount + 1)\":np.log1p(final_df[\"amount\"])})\n",
        "amount.hist();"
      ],
      "execution_count": 19,
      "outputs": [
        {
          "output_type": "display_data",
          "data": {
            "image/png": "[encoded data removed]",
            "text/plain": [
              "<Figure size 864x576 with 2 Axes>"
            ]
          },
          "metadata": {
            "tags": []
          }
        }
      ]
    },
    {
      "cell_type": "code",
      "metadata": {
        "id": "6sV3BMApRU9O",
        "colab_type": "code",
        "outputId": "d0acf258-055a-44bd-88ef-9a5296afa726",
        "colab": {
          "base_uri": "https://localhost:8080/",
          "height": 505
        }
      },
      "source": [
        "# Visualize class imbalance\n",
        "from yellowbrick.target import ClassBalance\n",
        "plt.style.use('ggplot')\n",
        "sns.set(rc={'figure.figsize':(12, 8)})\n",
        "\n",
        "visualizer = ClassBalance(labels=[\"Rejected\",\"Accepted\"])\n",
        "visualizer.fit(final_df.accept.values)\n",
        "visualizer.poof()"
      ],
      "execution_count": 20,
      "outputs": [
        {
          "output_type": "display_data",
          "data": {
            "image/png": "[encoded data removed]",
            "text/plain": [
              "<Figure size 864x576 with 1 Axes>"
            ]
          },
          "metadata": {
            "tags": []
          }
        }
      ]
    },
    {
      "cell_type": "code",
      "metadata": {
        "id": "TZ9BR4Nu3oWC",
        "colab_type": "code",
        "colab": {}
      },
      "source": [
        "# Log transform skewed numeric feature\n",
        "final_df['amount'] = np.log1p(final_df['amount'])"
      ],
      "execution_count": 0,
      "outputs": []
    },
    {
      "cell_type": "code",
      "metadata": {
        "id": "17Y4SyU98bef",
        "colab_type": "code",
        "outputId": "688cef61-a928-4029-fe8a-d457b7363814",
        "colab": {
          "base_uri": "https://localhost:8080/",
          "height": 206
        }
      },
      "source": [
        "final_df.head()"
      ],
      "execution_count": 22,
      "outputs": [
        {
          "output_type": "execute_result",
          "data": {
            "text/html": [
              "<div>\n",
              "<style scoped>\n",
              "    .dataframe tbody tr th:only-of-type {\n",
              "        vertical-align: middle;\n",
              "    }\n",
              "\n",
              "    .dataframe tbody tr th {\n",
              "        vertical-align: top;\n",
              "    }\n",
              "\n",
              "    .dataframe thead th {\n",
              "        text-align: right;\n",
              "    }\n",
              "</style>\n",
              "<table border=\"1\" class=\"dataframe\">\n",
              "  <thead>\n",
              "    <tr style=\"text-align: right;\">\n",
              "      <th></th>\n",
              "      <th>amount</th>\n",
              "      <th>dti</th>\n",
              "      <th>zip</th>\n",
              "      <th>emp_length</th>\n",
              "      <th>risk</th>\n",
              "      <th>accept</th>\n",
              "      <th>business</th>\n",
              "      <th>car</th>\n",
              "      <th>credit_card</th>\n",
              "      <th>debt</th>\n",
              "      <th>home</th>\n",
              "      <th>major_purchases</th>\n",
              "      <th>medical</th>\n",
              "      <th>moving</th>\n",
              "      <th>other</th>\n",
              "      <th>vacation</th>\n",
              "      <th>wedding</th>\n",
              "    </tr>\n",
              "  </thead>\n",
              "  <tbody>\n",
              "    <tr>\n",
              "      <th>0</th>\n",
              "      <td>8.188967</td>\n",
              "      <td>5.91</td>\n",
              "      <td>19.0</td>\n",
              "      <td>10.0</td>\n",
              "      <td>677.0</td>\n",
              "      <td>1.0</td>\n",
              "      <td>0.0</td>\n",
              "      <td>0.0</td>\n",
              "      <td>0.0</td>\n",
              "      <td>1.0</td>\n",
              "      <td>0.0</td>\n",
              "      <td>0.0</td>\n",
              "      <td>0.0</td>\n",
              "      <td>0.0</td>\n",
              "      <td>0.0</td>\n",
              "      <td>0.0</td>\n",
              "      <td>0.0</td>\n",
              "    </tr>\n",
              "    <tr>\n",
              "      <th>1</th>\n",
              "      <td>10.114599</td>\n",
              "      <td>16.06</td>\n",
              "      <td>57.0</td>\n",
              "      <td>10.0</td>\n",
              "      <td>717.0</td>\n",
              "      <td>1.0</td>\n",
              "      <td>1.0</td>\n",
              "      <td>0.0</td>\n",
              "      <td>0.0</td>\n",
              "      <td>0.0</td>\n",
              "      <td>0.0</td>\n",
              "      <td>0.0</td>\n",
              "      <td>0.0</td>\n",
              "      <td>0.0</td>\n",
              "      <td>0.0</td>\n",
              "      <td>0.0</td>\n",
              "      <td>0.0</td>\n",
              "    </tr>\n",
              "    <tr>\n",
              "      <th>2</th>\n",
              "      <td>9.903538</td>\n",
              "      <td>10.78</td>\n",
              "      <td>60.0</td>\n",
              "      <td>10.0</td>\n",
              "      <td>697.0</td>\n",
              "      <td>1.0</td>\n",
              "      <td>0.0</td>\n",
              "      <td>0.0</td>\n",
              "      <td>0.0</td>\n",
              "      <td>0.0</td>\n",
              "      <td>1.0</td>\n",
              "      <td>0.0</td>\n",
              "      <td>0.0</td>\n",
              "      <td>0.0</td>\n",
              "      <td>0.0</td>\n",
              "      <td>0.0</td>\n",
              "      <td>0.0</td>\n",
              "    </tr>\n",
              "    <tr>\n",
              "      <th>3</th>\n",
              "      <td>10.463132</td>\n",
              "      <td>17.06</td>\n",
              "      <td>7.0</td>\n",
              "      <td>10.0</td>\n",
              "      <td>787.0</td>\n",
              "      <td>1.0</td>\n",
              "      <td>0.0</td>\n",
              "      <td>0.0</td>\n",
              "      <td>0.0</td>\n",
              "      <td>1.0</td>\n",
              "      <td>0.0</td>\n",
              "      <td>0.0</td>\n",
              "      <td>0.0</td>\n",
              "      <td>0.0</td>\n",
              "      <td>0.0</td>\n",
              "      <td>0.0</td>\n",
              "      <td>0.0</td>\n",
              "    </tr>\n",
              "    <tr>\n",
              "      <th>4</th>\n",
              "      <td>9.249657</td>\n",
              "      <td>25.37</td>\n",
              "      <td>17.0</td>\n",
              "      <td>3.0</td>\n",
              "      <td>697.0</td>\n",
              "      <td>1.0</td>\n",
              "      <td>0.0</td>\n",
              "      <td>0.0</td>\n",
              "      <td>0.0</td>\n",
              "      <td>0.0</td>\n",
              "      <td>0.0</td>\n",
              "      <td>1.0</td>\n",
              "      <td>0.0</td>\n",
              "      <td>0.0</td>\n",
              "      <td>0.0</td>\n",
              "      <td>0.0</td>\n",
              "      <td>0.0</td>\n",
              "    </tr>\n",
              "  </tbody>\n",
              "</table>\n",
              "</div>"
            ],
            "text/plain": [
              "      amount    dti   zip  emp_length   risk  accept  business  car  \\\n",
              "0   8.188967   5.91  19.0        10.0  677.0     1.0       0.0  0.0   \n",
              "1  10.114599  16.06  57.0        10.0  717.0     1.0       1.0  0.0   \n",
              "2   9.903538  10.78  60.0        10.0  697.0     1.0       0.0  0.0   \n",
              "3  10.463132  17.06   7.0        10.0  787.0     1.0       0.0  0.0   \n",
              "4   9.249657  25.37  17.0         3.0  697.0     1.0       0.0  0.0   \n",
              "\n",
              "   credit_card  debt  home  major_purchases  medical  moving  other  vacation  \\\n",
              "0          0.0   1.0   0.0              0.0      0.0     0.0    0.0       0.0   \n",
              "1          0.0   0.0   0.0              0.0      0.0     0.0    0.0       0.0   \n",
              "2          0.0   0.0   1.0              0.0      0.0     0.0    0.0       0.0   \n",
              "3          0.0   1.0   0.0              0.0      0.0     0.0    0.0       0.0   \n",
              "4          0.0   0.0   0.0              1.0      0.0     0.0    0.0       0.0   \n",
              "\n",
              "   wedding  \n",
              "0      0.0  \n",
              "1      0.0  \n",
              "2      0.0  \n",
              "3      0.0  \n",
              "4      0.0  "
            ]
          },
          "metadata": {
            "tags": []
          },
          "execution_count": 22
        }
      ]
    },
    {
      "cell_type": "markdown",
      "metadata": {
        "id": "sQJVuIK5j_Tf",
        "colab_type": "text"
      },
      "source": [
        "## Create Training and Testing Splits"
      ]
    },
    {
      "cell_type": "code",
      "metadata": {
        "id": "rKdtC7Weuf45",
        "colab_type": "code",
        "colab": {}
      },
      "source": [
        "from sklearn.model_selection import train_test_split\n",
        "from sklearn.preprocessing import LabelBinarizer, LabelEncoder, OneHotEncoder, OrdinalEncoder\n",
        "\n",
        "final_df.accept = LabelEncoder().fit_transform(final_df.accept)\n",
        "\n",
        "# Create feature matrix and target vector\n",
        "X = final_df.loc[:, final_df.columns!='accept']\n",
        "y = final_df.loc[:, final_df.columns=='accept']\n",
        "\n",
        "# Stratified sampling to accodmodate target class imbalance\n",
        "X_train, X_test, y_train, y_test = train_test_split(X, y, test_size=0.2, stratify=y, random_state=42)"
      ],
      "execution_count": 0,
      "outputs": []
    },
    {
      "cell_type": "markdown",
      "metadata": {
        "id": "suCYkuh9wRnS",
        "colab_type": "text"
      },
      "source": [
        "**Note**: Train/test splits are now class balanced:"
      ]
    },
    {
      "cell_type": "code",
      "metadata": {
        "id": "JPkIlG4Xyvyt",
        "colab_type": "code",
        "outputId": "86e2c2f6-063a-4da6-cee8-0393469948f9",
        "colab": {
          "base_uri": "https://localhost:8080/",
          "height": 34
        }
      },
      "source": [
        "X_train.shape, y_train.shape, X_test.shape, y_test.shape"
      ],
      "execution_count": 24,
      "outputs": [
        {
          "output_type": "execute_result",
          "data": {
            "text/plain": [
              "((8884970, 16), (8884970, 1), (2221243, 16), (2221243, 1))"
            ]
          },
          "metadata": {
            "tags": []
          },
          "execution_count": 24
        }
      ]
    },
    {
      "cell_type": "markdown",
      "metadata": {
        "id": "HTdVlbWGuIjN",
        "colab_type": "text"
      },
      "source": [
        "## Building and Evaluating the Models"
      ]
    },
    {
      "cell_type": "markdown",
      "metadata": {
        "id": "wNedW_F0uRb7",
        "colab_type": "text"
      },
      "source": [
        "**Note**: We will first build a logistic regression classifier and evaluate it out of sample. Next, we will do the same with a gradient boosted decision tree classifier using XGBoost. We choose the model that has higher F-1 and Accuracy scores."
      ]
    },
    {
      "cell_type": "markdown",
      "metadata": {
        "id": "Pg369ajcup4-",
        "colab_type": "text"
      },
      "source": [
        "### Train and test a 5-fold cross-validated logistic regression classifier:"
      ]
    },
    {
      "cell_type": "markdown",
      "metadata": {
        "id": "DqgKxfLUwqvW",
        "colab_type": "text"
      },
      "source": [
        "As sklearn does not have GPU support, fitting the Logistic Regression model to our large dataset is going take especially long and be CPU and RAM-intensive:"
      ]
    },
    {
      "cell_type": "code",
      "metadata": {
        "id": "sh4KirRQlai4",
        "colab_type": "code",
        "colab": {
          "base_uri": "https://localhost:8080/",
          "height": 86
        },
        "outputId": "149f0a4d-1105-4c61-c912-f3aa2c74acca"
      },
      "source": [
        "%%time \n",
        "\n",
        "from sklearn.linear_model import LogisticRegressionCV\n",
        "from sklearn.metrics import *\n",
        "\n",
        "# 5-fold CV: the best hyperparameters are selected by the cross-validator\n",
        "logit_clf = LogisticRegressionCV(cv=5, random_state=0, n_jobs=-1).fit(X_train, y_train)\n",
        "\n",
        "logit_y_pred = logit_clf.predict(X_test)\n",
        "print(\"Accuracy score: \", accuracy_score(y_test, logit_y_pred))\n",
        "print(\"F-1 score: \", f1_score(y_test, logit_y_pred))"
      ],
      "execution_count": 25,
      "outputs": [
        {
          "output_type": "stream",
          "text": [
            "Accuracy score:  0.8887231158409953\n",
            "F-1 score:  0.6683270019631496\n",
            "CPU times: user 1min 18s, sys: 16.8 s, total: 1min 35s\n",
            "Wall time: 24min 8s\n"
          ],
          "name": "stdout"
        }
      ]
    },
    {
      "cell_type": "markdown",
      "metadata": {
        "id": "ZMesfU8m249S",
        "colab_type": "text"
      },
      "source": [
        "[YellowBrick](https://www.scikit-yb.org/en/latest/about.html) is fantastic tool for model introspection and model diagnostics. It extends the scikit-learn API and also wraps around matplotlib\n",
        "\n",
        "Source: https://www.scikit-yb.org/en/latest/about.html"
      ]
    },
    {
      "cell_type": "code",
      "metadata": {
        "id": "3DHKhMW0m3yk",
        "colab_type": "code",
        "colab": {
          "base_uri": "https://localhost:8080/",
          "height": 522
        },
        "outputId": "f2eee180-4202-4dac-a726-13b1454955ed"
      },
      "source": [
        "# Visualize the ROCAUC curve\n",
        "from yellowbrick.classifier import ROCAUC\n",
        "from sklearn.linear_model import LogisticRegression\n",
        "\n",
        "visualizer = ROCAUC(logit_clf, classes=[\"Rejected\", \"Accepted\"])\n",
        "visualizer.fit(X_train, y_train)        \n",
        "visualizer.score(X_test, y_test)        \n",
        "visualizer.poof()                "
      ],
      "execution_count": 28,
      "outputs": [
        {
          "output_type": "display_data",
          "data": {
            "image/png": "[encoded data removed]",
            "text/plain": [
              "<Figure size 864x576 with 1 Axes>"
            ]
          },
          "metadata": {
            "tags": []
          }
        }
      ]
    },
    {
      "cell_type": "markdown",
      "metadata": {
        "id": "AbPhD8fwu8Kf",
        "colab_type": "text"
      },
      "source": [
        "### Train and test a gradient boosted decision tree classifier:"
      ]
    },
    {
      "cell_type": "code",
      "metadata": {
        "id": "N4cMDUCQxJMZ",
        "colab_type": "code",
        "colab": {
          "base_uri": "https://localhost:8080/",
          "height": 312
        },
        "outputId": "e7dc342f-d484-44cb-bc2e-3bf21a4fe15d"
      },
      "source": [
        "!nvidia-smi"
      ],
      "execution_count": 27,
      "outputs": [
        {
          "output_type": "stream",
          "text": [
            "Fri Oct 11 12:53:57 2019       \n",
            "+-----------------------------------------------------------------------------+\n",
            "| NVIDIA-SMI 430.40       Driver Version: 418.67       CUDA Version: 10.1     |\n",
            "|-------------------------------+----------------------+----------------------+\n",
            "| GPU  Name        Persistence-M| Bus-Id        Disp.A | Volatile Uncorr. ECC |\n",
            "| Fan  Temp  Perf  Pwr:Usage/Cap|         Memory-Usage | GPU-Util  Compute M. |\n",
            "|===============================+======================+======================|\n",
            "|   0  Tesla K80           Off  | 00000000:00:04.0 Off |                    0 |\n",
            "| N/A   34C    P8    28W / 149W |      0MiB / 11441MiB |      0%      Default |\n",
            "+-------------------------------+----------------------+----------------------+\n",
            "                                                                               \n",
            "+-----------------------------------------------------------------------------+\n",
            "| Processes:                                                       GPU Memory |\n",
            "|  GPU       PID   Type   Process name                             Usage      |\n",
            "|=============================================================================|\n",
            "|  No running processes found                                                 |\n",
            "+-----------------------------------------------------------------------------+\n"
          ],
          "name": "stdout"
        }
      ]
    },
    {
      "cell_type": "code",
      "metadata": {
        "id": "hQ6f3B82yv2n",
        "colab_type": "code",
        "outputId": "2a594487-4935-4e89-e314-6c7c8954b12a",
        "colab": {
          "base_uri": "https://localhost:8080/",
          "height": 52
        }
      },
      "source": [
        "%%time\n",
        "\n",
        "# scikit-Learn Wrapper interface for XGBoost. Implementation of the scikit-learn API for XGBoost classification\n",
        "import xgboost as xgb\n",
        "\n",
        "clf = xgb.XGBClassifier(learning_rate=0.1,\n",
        "                        n_estimators=200,\n",
        "                        min_child_weight=8,\n",
        "                        scale_pos_weight=1,\n",
        "                        objective= 'binary:logistic',\n",
        "                        seed=27,\n",
        "                        tree_method='gpu_hist',\n",
        "                        metric='auc')\n",
        "\n",
        "clf.fit(X_train, y_train, eval_set=[(X_test, y_test)], verbose=False)"
      ],
      "execution_count": 30,
      "outputs": [
        {
          "output_type": "stream",
          "text": [
            "CPU times: user 46 s, sys: 31.8 s, total: 1min 17s\n",
            "Wall time: 1min 18s\n"
          ],
          "name": "stdout"
        }
      ]
    },
    {
      "cell_type": "markdown",
      "metadata": {
        "id": "KEDvwt_nSUwR",
        "colab_type": "text"
      },
      "source": [
        "### Evaluation on out-of-sample data"
      ]
    },
    {
      "cell_type": "code",
      "metadata": {
        "id": "YtoOKE-Uyv_M",
        "colab_type": "code",
        "outputId": "761b19dd-530f-49ed-cf63-f42c7f3c9d08",
        "colab": {
          "base_uri": "https://localhost:8080/",
          "height": 52
        }
      },
      "source": [
        "y_pred = clf.predict(X_test)\n",
        "accuracy_score(y_test, y_pred)\n",
        "\n",
        "print(\"XGBoost Accuracy score: \", accuracy_score(y_test, y_pred))\n",
        "print(\"XGBoost F-1 score: \", f1_score(y_test, y_pred))"
      ],
      "execution_count": 31,
      "outputs": [
        {
          "output_type": "stream",
          "text": [
            "XGBoost Accuracy score:  0.9580811284492512\n",
            "XGBoost F-1 score:  0.8890837184924001\n"
          ],
          "name": "stdout"
        }
      ]
    },
    {
      "cell_type": "markdown",
      "metadata": {
        "id": "1FymotVN54DA",
        "colab_type": "text"
      },
      "source": [
        "**Note**: We achieve a higher test accuracy and f-1 score using a gradient boosted decision tree classifier."
      ]
    },
    {
      "cell_type": "code",
      "metadata": {
        "id": "Sarbwi2MywJX",
        "colab_type": "code",
        "outputId": "0ac20c2b-0ad1-4c8d-fc13-a12de52c8cb0",
        "colab": {
          "base_uri": "https://localhost:8080/",
          "height": 581
        }
      },
      "source": [
        "from yellowbrick.classifier import ClassificationReport\n",
        "\n",
        "visualizer = ClassificationReport(clf, classes=[\"Rejected\", \"Accepted\"], support=True)\n",
        "\n",
        "visualizer.fit(X_train, y_train)\n",
        "visualizer.score(X_test, y_test)\n",
        "visualizer.poof()    "
      ],
      "execution_count": 32,
      "outputs": [
        {
          "output_type": "display_data",
          "data": {
            "image/png": "[encoded data removed]",
            "text/plain": [
              "<Figure size 864x576 with 2 Axes>"
            ]
          },
          "metadata": {
            "tags": []
          }
        }
      ]
    },
    {
      "cell_type": "code",
      "metadata": {
        "id": "e3pxJJibywMU",
        "colab_type": "code",
        "outputId": "acc6a33d-bed2-48f3-d2eb-345495a27add",
        "colab": {
          "base_uri": "https://localhost:8080/",
          "height": 522
        }
      },
      "source": [
        "visualizer = ROCAUC(clf, classes=[\"Rejected\", \"Accepted\"])\n",
        "visualizer.fit(X_train, y_train)        \n",
        "visualizer.score(X_test, y_test)        \n",
        "visualizer.poof()                      "
      ],
      "execution_count": 33,
      "outputs": [
        {
          "output_type": "display_data",
          "data": {
            "image/png": "[encoded data removed]",
            "text/plain": [
              "<Figure size 864x576 with 1 Axes>"
            ]
          },
          "metadata": {
            "tags": []
          }
        }
      ]
    },
    {
      "cell_type": "markdown",
      "metadata": {
        "id": "qfNk0qlXAS-Z",
        "colab_type": "text"
      },
      "source": [
        "### Plot Feature Importances"
      ]
    },
    {
      "cell_type": "code",
      "metadata": {
        "id": "FjAw8Etm_sEW",
        "colab_type": "code",
        "colab": {
          "base_uri": "https://localhost:8080/",
          "height": 86
        },
        "outputId": "c96e0102-b57c-4722-ec15-29ce289560df"
      },
      "source": [
        "print(clf.feature_importances_)"
      ],
      "execution_count": 36,
      "outputs": [
        {
          "output_type": "stream",
          "text": [
            "[2.5161682e-02 7.7135317e-02 9.7684003e-04 4.5049116e-01 1.3638404e-01\n",
            " 3.7195090e-02 2.5240632e-02 4.0541567e-02 9.5376685e-02 2.2638758e-04\n",
            " 0.0000000e+00 0.0000000e+00 2.4741220e-03 1.0879646e-01 0.0000000e+00\n",
            " 0.0000000e+00]\n"
          ],
          "name": "stdout"
        }
      ]
    },
    {
      "cell_type": "code",
      "metadata": {
        "id": "TdrsTNlj_37L",
        "colab_type": "code",
        "colab": {
          "base_uri": "https://localhost:8080/",
          "height": 522
        },
        "outputId": "57630757-e8e2-4bec-dcfb-235bb691a825"
      },
      "source": [
        "from xgboost import plot_importance\n",
        "plot_importance(clf);"
      ],
      "execution_count": 38,
      "outputs": [
        {
          "output_type": "display_data",
          "data": {
            "image/png": "[encoded data removed]",
            "text/plain": [
              "<Figure size 864x576 with 1 Axes>"
            ]
          },
          "metadata": {
            "tags": []
          }
        }
      ]
    },
    {
      "cell_type": "markdown",
      "metadata": {
        "id": "AZ3AynqMFNG2",
        "colab_type": "text"
      },
      "source": [
        "### Naive optimization"
      ]
    },
    {
      "cell_type": "markdown",
      "metadata": {
        "id": "rr9gD63wFVdE",
        "colab_type": "text"
      },
      "source": [
        "We first create a space of possible loan amounts bounded by the maximum loan amount in our data set. We then iterate through that space, using the current loan value as input to our model. We set a decision threshold at 80%. If our model predicts a greater than 80% probability of acceptance, we return the current loan amount and also specify that there is a non-zero probability of the application being denied.\n",
        "\n",
        "Future work could instead use a model that creates a decision boundary in the 16-dimensional feature space and uses the threshold to select the maximum possible loan amount. It is ensured to dramatically reduce the run-time complexity of inference."
      ]
    },
    {
      "cell_type": "code",
      "metadata": {
        "id": "JrI57mC_yv9M",
        "colab_type": "code",
        "colab": {}
      },
      "source": [
        "max_loan_data = final_df.amount.max()\n",
        "loan_range = np.arange(max_loan_data,  0, -0.000525)\n",
        "\n",
        "def max_accepted_loan(test):\n",
        "  for loan in loan_range:\n",
        "    inputs = test\n",
        "    inputs.insert(0, \"amount\", loan)\n",
        "    accept = clf.predict_proba(inputs)[0][1]\n",
        "    inputs.drop([\"amount\"], axis=1, inplace=True)\n",
        "\n",
        "    if accept >= 0.8 and accept < 1.0:\n",
        "       print(\" Congratulations! We may be able to loan you a maximum amount of $\",\n",
        "             round(np.expm1(loan), 2),\"USD\\n\\n However, there is a\", round(1-accept, 2)*100,\"% probability that your application will be denied.\")\n",
        "       return\n",
        "    else:\n",
        "      pass\n",
        "  print(\"Our sincerest apologies. We are unable to provide you a loan at this time. Please call our customer support helpline for further inquires.\")"
      ],
      "execution_count": 0,
      "outputs": []
    },
    {
      "cell_type": "code",
      "metadata": {
        "id": "lRGDDOM5GfUq",
        "colab_type": "code",
        "outputId": "ecf74900-a5ad-4cd3-f0b9-6d3b0d3795c4",
        "colab": {
          "base_uri": "https://localhost:8080/",
          "height": 69
        }
      },
      "source": [
        "max_accepted_loan(X_test.iloc[0:1, 1:16])"
      ],
      "execution_count": 126,
      "outputs": [
        {
          "output_type": "stream",
          "text": [
            " Congratulations! We may be able to loan you a maximum amount of $ 34988.68 USD\n",
            "\n",
            " However, there is a 17.0 % probability that your application will be denied.\n"
          ],
          "name": "stdout"
        }
      ]
    },
    {
      "cell_type": "code",
      "metadata": {
        "id": "5wWK5eiDPtxC",
        "colab_type": "code",
        "colab": {
          "base_uri": "https://localhost:8080/",
          "height": 69
        },
        "outputId": "45ce2cff-87a6-48e5-89f3-2a6746a90ec1"
      },
      "source": [
        "max_accepted_loan(X_test.iloc[1:2, 1:16])"
      ],
      "execution_count": 128,
      "outputs": [
        {
          "output_type": "stream",
          "text": [
            " Congratulations! We may be able to loan you a maximum amount of $ 29999.93 USD\n",
            "\n",
            " However, there is a 18.0 % probability that your application will be denied.\n"
          ],
          "name": "stdout"
        }
      ]
    },
    {
      "cell_type": "code",
      "metadata": {
        "id": "zpUQfjcYN95-",
        "colab_type": "code",
        "colab": {
          "base_uri": "https://localhost:8080/",
          "height": 34
        },
        "outputId": "bf883c0a-72d2-4e32-8cce-1ff412879c1a"
      },
      "source": [
        "max_accepted_loan(X_test.iloc[2:3, 1:16])"
      ],
      "execution_count": 129,
      "outputs": [
        {
          "output_type": "stream",
          "text": [
            "Our sincerest apologies. We are unable to provide you a loan at this time. Please call our customer support helpline for further inquires.\n"
          ],
          "name": "stdout"
        }
      ]
    },
    {
      "cell_type": "code",
      "metadata": {
        "id": "WzgS98C-PrJd",
        "colab_type": "code",
        "colab": {
          "base_uri": "https://localhost:8080/",
          "height": 34
        },
        "outputId": "f40640c0-4868-4b1f-e8d4-afc6b02302c6"
      },
      "source": [
        "max_accepted_loan(X_test.iloc[3:4, 1:16])"
      ],
      "execution_count": 130,
      "outputs": [
        {
          "output_type": "stream",
          "text": [
            "Our sincerest apologies. We are unable to provide you a loan at this time. Please call our customer support helpline for further inquires.\n"
          ],
          "name": "stdout"
        }
      ]
    },
    {
      "cell_type": "code",
      "metadata": {
        "id": "1CxnjlL8FvFT",
        "colab_type": "code",
        "colab": {
          "base_uri": "https://localhost:8080/",
          "height": 34
        },
        "outputId": "25592368-9695-4f91-9625-e9e705f237ab"
      },
      "source": [
        "max_accepted_loan(X_test.iloc[4:5, 1:16])"
      ],
      "execution_count": 131,
      "outputs": [
        {
          "output_type": "stream",
          "text": [
            "Our sincerest apologies. We are unable to provide you a loan at this time. Please call our customer support helpline for further inquires.\n"
          ],
          "name": "stdout"
        }
      ]
    }
  ]
}
