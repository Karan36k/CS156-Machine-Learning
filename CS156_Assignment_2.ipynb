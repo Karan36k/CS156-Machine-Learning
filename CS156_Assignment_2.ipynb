{
  "nbformat": 4,
  "nbformat_minor": 0,
  "metadata": {
    "colab": {
      "name": "CS156_Assignment_2.ipynb",
      "provenance": [],
      "collapsed_sections": [],
      "machine_shape": "hm"
    },
    "kernelspec": {
      "name": "python3",
      "display_name": "Python 3"
    },
    "accelerator": "GPU"
  },
  "cells": [
    {
      "cell_type": "markdown",
      "metadata": {
        "id": "vK8Si4nUWGKR",
        "colab_type": "text"
      },
      "source": [
        "# CS156 - Assignment 2: The Lending Club\n",
        "---"
      ]
    },
    {
      "cell_type": "markdown",
      "metadata": {
        "id": "vvr9HFZCY2J1",
        "colab_type": "text"
      },
      "source": [
        "Author: Snehan Kekre\n",
        "\n",
        "Affiliation: Minerva Schools at KGI\n",
        "\n",
        "[Objective](https://seminar.minerva.kgi.edu/app/assignments/46142): Build a model that predicts the largest loan amount that will be **successfully** funded for given individual. "
      ]
    },
    {
      "cell_type": "markdown",
      "metadata": {
        "id": "GDuanmRBW3-u",
        "colab_type": "text"
      },
      "source": [
        "## Download and Extract the Data\n",
        "\n",
        "Source: https://www.kaggle.com/wordsforthewise/lending-club\n",
        "\n",
        "Method: Use the [Kaggle API](https://github.com/Kaggle/kaggle-api) to download the data"
      ]
    },
    {
      "cell_type": "code",
      "metadata": {
        "id": "C0_GSy5rFyLT",
        "colab_type": "code",
        "outputId": "7ba75790-33a2-46e7-98ee-5f870fda1e89",
        "colab": {
          "base_uri": "https://localhost:8080/",
          "height": 86
        }
      },
      "source": [
        "!pip install -q kaggle\n",
        "!mkdir .kaggle\n",
        "\n",
        "import json\n",
        "token = {\"username\":\"snehanrhyme\",\"key\":\"d2b6ab2c54ebd606272879dda79a177b\"}\n",
        "\n",
        "with open('/content/.kaggle/kaggle.json', 'w') as file:\n",
        "  json.dump(token, file)\n",
        "\n",
        "!mkdir ~/.kaggle/\n",
        "!cp /content/.kaggle/kaggle.json ~/.kaggle/kaggle.json\n",
        "!chmod 600 /root/.kaggle/kaggle.json\n",
        "!kaggle config set -n path -v /content/\n",
        "!kaggle datasets download -d wordsforthewise/lending-club"
      ],
      "execution_count": 1,
      "outputs": [
        {
          "output_type": "stream",
          "text": [
            "- path is now set to: /content/\n",
            "Downloading lending-club.zip to /content/datasets/wordsforthewise/lending-club\n",
            " 99% 611M/618M [00:05<00:00, 110MB/s]\n",
            "100% 618M/618M [00:05<00:00, 115MB/s]\n"
          ],
          "name": "stdout"
        }
      ]
    },
    {
      "cell_type": "code",
      "metadata": {
        "colab_type": "code",
        "id": "uffjXL4VLRkQ",
        "colab": {}
      },
      "source": [
        "# Extract the compressed files\n",
        "!unzip -q /content/datasets/wordsforthewise/lending-club/lending-club.zip\n",
        "!gunzip -q accepted_2007_to_2018Q4.csv.gz\n",
        "!gunzip -q rejected_2007_to_2018Q4.csv.gz"
      ],
      "execution_count": 0,
      "outputs": []
    },
    {
      "cell_type": "markdown",
      "metadata": {
        "id": "6VQhYt0lYCRE",
        "colab_type": "text"
      },
      "source": [
        "## Import Essential Libraries"
      ]
    },
    {
      "cell_type": "code",
      "metadata": {
        "id": "8cbQp_TsF2ZU",
        "colab_type": "code",
        "colab": {}
      },
      "source": [
        "%matplotlib inline\n",
        "import numpy as np\n",
        "import pandas as pd\n",
        "import seaborn as sns # Plot styling\n",
        "from datetime import datetime\n",
        "import warnings\n",
        "import re\n",
        "\n",
        "warnings.simplefilter('ignore') # Supress warnings\n",
        "pd.set_option('display.max_columns', 500)\n",
        "pd.set_option('display.max_rows', 500)"
      ],
      "execution_count": 0,
      "outputs": []
    },
    {
      "cell_type": "code",
      "metadata": {
        "id": "nt0H7gNtF2cG",
        "colab_type": "code",
        "colab": {}
      },
      "source": [
        "import matplotlib.pyplot as plt\n",
        "plt.style.use('ggplot')\n",
        "sns.set(rc={'figure.figsize':(12, 8)})"
      ],
      "execution_count": 0,
      "outputs": []
    },
    {
      "cell_type": "markdown",
      "metadata": {
        "id": "w6hOMoiEYYCD",
        "colab_type": "text"
      },
      "source": [
        "## Load the Data into Memory"
      ]
    },
    {
      "cell_type": "code",
      "metadata": {
        "id": "qosQUgXxpUnt",
        "colab_type": "code",
        "outputId": "12240582-f4c3-408e-feb5-a5955271d57e",
        "colab": {
          "base_uri": "https://localhost:8080/",
          "height": 52
        }
      },
      "source": [
        "%%time\n",
        "chunksize = 100000\n",
        "\n",
        "# Read CSV files in chunks of specified size\n",
        "accept_raw = pd.read_csv('accepted_2007_to_2018Q4.csv',\n",
        "                         chunksize=chunksize,\n",
        "                         iterator=True)\n",
        " \n",
        "reject_raw = pd.read_csv('rejected_2007_to_2018Q4.csv',\n",
        "                         chunksize=chunksize,\n",
        "                         iterator=True)\n",
        "\n",
        "# Convert the TextFileReader objects to dataframes\n",
        "accepted_df = pd.concat(accept_raw, ignore_index=True)\n",
        "rejected_df = pd.concat(reject_raw, ignore_index=True)"
      ],
      "execution_count": 5,
      "outputs": [
        {
          "output_type": "stream",
          "text": [
            "CPU times: user 1min 43s, sys: 4.92 s, total: 1min 48s\n",
            "Wall time: 1min 48s\n"
          ],
          "name": "stdout"
        }
      ]
    },
    {
      "cell_type": "markdown",
      "metadata": {
        "id": "7RCflR1taGMA",
        "colab_type": "text"
      },
      "source": [
        "## Basic Data Exploration"
      ]
    },
    {
      "cell_type": "code",
      "metadata": {
        "colab_type": "code",
        "outputId": "c3913900-386e-4572-beed-c6e2838be82d",
        "id": "zTXOtmu8feJK",
        "colab": {
          "base_uri": "https://localhost:8080/",
          "height": 400
        }
      },
      "source": [
        "accepted_df.head()"
      ],
      "execution_count": 6,
      "outputs": [
        {
          "output_type": "execute_result",
          "data": {
            "text/html": [
              "<div>\n",
              "<style scoped>\n",
              "    .dataframe tbody tr th:only-of-type {\n",
              "        vertical-align: middle;\n",
              "    }\n",
              "\n",
              "    .dataframe tbody tr th {\n",
              "        vertical-align: top;\n",
              "    }\n",
              "\n",
              "    .dataframe thead th {\n",
              "        text-align: right;\n",
              "    }\n",
              "</style>\n",
              "<table border=\"1\" class=\"dataframe\">\n",
              "  <thead>\n",
              "    <tr style=\"text-align: right;\">\n",
              "      <th></th>\n",
              "      <th>id</th>\n",
              "      <th>member_id</th>\n",
              "      <th>loan_amnt</th>\n",
              "      <th>funded_amnt</th>\n",
              "      <th>funded_amnt_inv</th>\n",
              "      <th>term</th>\n",
              "      <th>int_rate</th>\n",
              "      <th>installment</th>\n",
              "      <th>grade</th>\n",
              "      <th>sub_grade</th>\n",
              "      <th>emp_title</th>\n",
              "      <th>emp_length</th>\n",
              "      <th>home_ownership</th>\n",
              "      <th>annual_inc</th>\n",
              "      <th>verification_status</th>\n",
              "      <th>issue_d</th>\n",
              "      <th>loan_status</th>\n",
              "      <th>pymnt_plan</th>\n",
              "      <th>url</th>\n",
              "      <th>desc</th>\n",
              "      <th>purpose</th>\n",
              "      <th>title</th>\n",
              "      <th>zip_code</th>\n",
              "      <th>addr_state</th>\n",
              "      <th>dti</th>\n",
              "      <th>delinq_2yrs</th>\n",
              "      <th>earliest_cr_line</th>\n",
              "      <th>fico_range_low</th>\n",
              "      <th>fico_range_high</th>\n",
              "      <th>inq_last_6mths</th>\n",
              "      <th>mths_since_last_delinq</th>\n",
              "      <th>mths_since_last_record</th>\n",
              "      <th>open_acc</th>\n",
              "      <th>pub_rec</th>\n",
              "      <th>revol_bal</th>\n",
              "      <th>revol_util</th>\n",
              "      <th>total_acc</th>\n",
              "      <th>initial_list_status</th>\n",
              "      <th>out_prncp</th>\n",
              "      <th>out_prncp_inv</th>\n",
              "      <th>total_pymnt</th>\n",
              "      <th>total_pymnt_inv</th>\n",
              "      <th>total_rec_prncp</th>\n",
              "      <th>total_rec_int</th>\n",
              "      <th>total_rec_late_fee</th>\n",
              "      <th>recoveries</th>\n",
              "      <th>collection_recovery_fee</th>\n",
              "      <th>last_pymnt_d</th>\n",
              "      <th>last_pymnt_amnt</th>\n",
              "      <th>next_pymnt_d</th>\n",
              "      <th>last_credit_pull_d</th>\n",
              "      <th>last_fico_range_high</th>\n",
              "      <th>last_fico_range_low</th>\n",
              "      <th>collections_12_mths_ex_med</th>\n",
              "      <th>mths_since_last_major_derog</th>\n",
              "      <th>policy_code</th>\n",
              "      <th>application_type</th>\n",
              "      <th>annual_inc_joint</th>\n",
              "      <th>dti_joint</th>\n",
              "      <th>verification_status_joint</th>\n",
              "      <th>acc_now_delinq</th>\n",
              "      <th>tot_coll_amt</th>\n",
              "      <th>tot_cur_bal</th>\n",
              "      <th>open_acc_6m</th>\n",
              "      <th>open_act_il</th>\n",
              "      <th>open_il_12m</th>\n",
              "      <th>open_il_24m</th>\n",
              "      <th>mths_since_rcnt_il</th>\n",
              "      <th>total_bal_il</th>\n",
              "      <th>il_util</th>\n",
              "      <th>open_rv_12m</th>\n",
              "      <th>open_rv_24m</th>\n",
              "      <th>max_bal_bc</th>\n",
              "      <th>all_util</th>\n",
              "      <th>total_rev_hi_lim</th>\n",
              "      <th>inq_fi</th>\n",
              "      <th>total_cu_tl</th>\n",
              "      <th>inq_last_12m</th>\n",
              "      <th>acc_open_past_24mths</th>\n",
              "      <th>avg_cur_bal</th>\n",
              "      <th>bc_open_to_buy</th>\n",
              "      <th>bc_util</th>\n",
              "      <th>chargeoff_within_12_mths</th>\n",
              "      <th>delinq_amnt</th>\n",
              "      <th>mo_sin_old_il_acct</th>\n",
              "      <th>mo_sin_old_rev_tl_op</th>\n",
              "      <th>mo_sin_rcnt_rev_tl_op</th>\n",
              "      <th>mo_sin_rcnt_tl</th>\n",
              "      <th>mort_acc</th>\n",
              "      <th>mths_since_recent_bc</th>\n",
              "      <th>mths_since_recent_bc_dlq</th>\n",
              "      <th>mths_since_recent_inq</th>\n",
              "      <th>mths_since_recent_revol_delinq</th>\n",
              "      <th>num_accts_ever_120_pd</th>\n",
              "      <th>num_actv_bc_tl</th>\n",
              "      <th>num_actv_rev_tl</th>\n",
              "      <th>num_bc_sats</th>\n",
              "      <th>num_bc_tl</th>\n",
              "      <th>num_il_tl</th>\n",
              "      <th>num_op_rev_tl</th>\n",
              "      <th>num_rev_accts</th>\n",
              "      <th>num_rev_tl_bal_gt_0</th>\n",
              "      <th>num_sats</th>\n",
              "      <th>num_tl_120dpd_2m</th>\n",
              "      <th>num_tl_30dpd</th>\n",
              "      <th>num_tl_90g_dpd_24m</th>\n",
              "      <th>num_tl_op_past_12m</th>\n",
              "      <th>pct_tl_nvr_dlq</th>\n",
              "      <th>percent_bc_gt_75</th>\n",
              "      <th>pub_rec_bankruptcies</th>\n",
              "      <th>tax_liens</th>\n",
              "      <th>tot_hi_cred_lim</th>\n",
              "      <th>total_bal_ex_mort</th>\n",
              "      <th>total_bc_limit</th>\n",
              "      <th>total_il_high_credit_limit</th>\n",
              "      <th>revol_bal_joint</th>\n",
              "      <th>sec_app_fico_range_low</th>\n",
              "      <th>sec_app_fico_range_high</th>\n",
              "      <th>sec_app_earliest_cr_line</th>\n",
              "      <th>sec_app_inq_last_6mths</th>\n",
              "      <th>sec_app_mort_acc</th>\n",
              "      <th>sec_app_open_acc</th>\n",
              "      <th>sec_app_revol_util</th>\n",
              "      <th>sec_app_open_act_il</th>\n",
              "      <th>sec_app_num_rev_accts</th>\n",
              "      <th>sec_app_chargeoff_within_12_mths</th>\n",
              "      <th>sec_app_collections_12_mths_ex_med</th>\n",
              "      <th>sec_app_mths_since_last_major_derog</th>\n",
              "      <th>hardship_flag</th>\n",
              "      <th>hardship_type</th>\n",
              "      <th>hardship_reason</th>\n",
              "      <th>hardship_status</th>\n",
              "      <th>deferral_term</th>\n",
              "      <th>hardship_amount</th>\n",
              "      <th>hardship_start_date</th>\n",
              "      <th>hardship_end_date</th>\n",
              "      <th>payment_plan_start_date</th>\n",
              "      <th>hardship_length</th>\n",
              "      <th>hardship_dpd</th>\n",
              "      <th>hardship_loan_status</th>\n",
              "      <th>orig_projected_additional_accrued_interest</th>\n",
              "      <th>hardship_payoff_balance_amount</th>\n",
              "      <th>hardship_last_payment_amount</th>\n",
              "      <th>disbursement_method</th>\n",
              "      <th>debt_settlement_flag</th>\n",
              "      <th>debt_settlement_flag_date</th>\n",
              "      <th>settlement_status</th>\n",
              "      <th>settlement_date</th>\n",
              "      <th>settlement_amount</th>\n",
              "      <th>settlement_percentage</th>\n",
              "      <th>settlement_term</th>\n",
              "    </tr>\n",
              "  </thead>\n",
              "  <tbody>\n",
              "    <tr>\n",
              "      <th>0</th>\n",
              "      <td>68407277</td>\n",
              "      <td>NaN</td>\n",
              "      <td>3600.0</td>\n",
              "      <td>3600.0</td>\n",
              "      <td>3600.0</td>\n",
              "      <td>36 months</td>\n",
              "      <td>13.99</td>\n",
              "      <td>123.03</td>\n",
              "      <td>C</td>\n",
              "      <td>C4</td>\n",
              "      <td>leadman</td>\n",
              "      <td>10+ years</td>\n",
              "      <td>MORTGAGE</td>\n",
              "      <td>55000.0</td>\n",
              "      <td>Not Verified</td>\n",
              "      <td>Dec-2015</td>\n",
              "      <td>Fully Paid</td>\n",
              "      <td>n</td>\n",
              "      <td>https://lendingclub.com/browse/loanDetail.acti...</td>\n",
              "      <td>NaN</td>\n",
              "      <td>debt_consolidation</td>\n",
              "      <td>Debt consolidation</td>\n",
              "      <td>190xx</td>\n",
              "      <td>PA</td>\n",
              "      <td>5.91</td>\n",
              "      <td>0.0</td>\n",
              "      <td>Aug-2003</td>\n",
              "      <td>675.0</td>\n",
              "      <td>679.0</td>\n",
              "      <td>1.0</td>\n",
              "      <td>30.0</td>\n",
              "      <td>NaN</td>\n",
              "      <td>7.0</td>\n",
              "      <td>0.0</td>\n",
              "      <td>2765.0</td>\n",
              "      <td>29.7</td>\n",
              "      <td>13.0</td>\n",
              "      <td>w</td>\n",
              "      <td>0.00</td>\n",
              "      <td>0.00</td>\n",
              "      <td>4421.723917</td>\n",
              "      <td>4421.72</td>\n",
              "      <td>3600.00</td>\n",
              "      <td>821.72</td>\n",
              "      <td>0.0</td>\n",
              "      <td>0.0</td>\n",
              "      <td>0.0</td>\n",
              "      <td>Jan-2019</td>\n",
              "      <td>122.67</td>\n",
              "      <td>NaN</td>\n",
              "      <td>Mar-2019</td>\n",
              "      <td>564.0</td>\n",
              "      <td>560.0</td>\n",
              "      <td>0.0</td>\n",
              "      <td>30.0</td>\n",
              "      <td>1.0</td>\n",
              "      <td>Individual</td>\n",
              "      <td>NaN</td>\n",
              "      <td>NaN</td>\n",
              "      <td>NaN</td>\n",
              "      <td>0.0</td>\n",
              "      <td>722.0</td>\n",
              "      <td>144904.0</td>\n",
              "      <td>2.0</td>\n",
              "      <td>2.0</td>\n",
              "      <td>0.0</td>\n",
              "      <td>1.0</td>\n",
              "      <td>21.0</td>\n",
              "      <td>4981.0</td>\n",
              "      <td>36.0</td>\n",
              "      <td>3.0</td>\n",
              "      <td>3.0</td>\n",
              "      <td>722.0</td>\n",
              "      <td>34.0</td>\n",
              "      <td>9300.0</td>\n",
              "      <td>3.0</td>\n",
              "      <td>1.0</td>\n",
              "      <td>4.0</td>\n",
              "      <td>4.0</td>\n",
              "      <td>20701.0</td>\n",
              "      <td>1506.0</td>\n",
              "      <td>37.2</td>\n",
              "      <td>0.0</td>\n",
              "      <td>0.0</td>\n",
              "      <td>148.0</td>\n",
              "      <td>128.0</td>\n",
              "      <td>3.0</td>\n",
              "      <td>3.0</td>\n",
              "      <td>1.0</td>\n",
              "      <td>4.0</td>\n",
              "      <td>69.0</td>\n",
              "      <td>4.0</td>\n",
              "      <td>69.0</td>\n",
              "      <td>2.0</td>\n",
              "      <td>2.0</td>\n",
              "      <td>4.0</td>\n",
              "      <td>2.0</td>\n",
              "      <td>5.0</td>\n",
              "      <td>3.0</td>\n",
              "      <td>4.0</td>\n",
              "      <td>9.0</td>\n",
              "      <td>4.0</td>\n",
              "      <td>7.0</td>\n",
              "      <td>0.0</td>\n",
              "      <td>0.0</td>\n",
              "      <td>0.0</td>\n",
              "      <td>3.0</td>\n",
              "      <td>76.9</td>\n",
              "      <td>0.0</td>\n",
              "      <td>0.0</td>\n",
              "      <td>0.0</td>\n",
              "      <td>178050.0</td>\n",
              "      <td>7746.0</td>\n",
              "      <td>2400.0</td>\n",
              "      <td>13734.0</td>\n",
              "      <td>NaN</td>\n",
              "      <td>NaN</td>\n",
              "      <td>NaN</td>\n",
              "      <td>NaN</td>\n",
              "      <td>NaN</td>\n",
              "      <td>NaN</td>\n",
              "      <td>NaN</td>\n",
              "      <td>NaN</td>\n",
              "      <td>NaN</td>\n",
              "      <td>NaN</td>\n",
              "      <td>NaN</td>\n",
              "      <td>NaN</td>\n",
              "      <td>NaN</td>\n",
              "      <td>N</td>\n",
              "      <td>NaN</td>\n",
              "      <td>NaN</td>\n",
              "      <td>NaN</td>\n",
              "      <td>NaN</td>\n",
              "      <td>NaN</td>\n",
              "      <td>NaN</td>\n",
              "      <td>NaN</td>\n",
              "      <td>NaN</td>\n",
              "      <td>NaN</td>\n",
              "      <td>NaN</td>\n",
              "      <td>NaN</td>\n",
              "      <td>NaN</td>\n",
              "      <td>NaN</td>\n",
              "      <td>NaN</td>\n",
              "      <td>Cash</td>\n",
              "      <td>N</td>\n",
              "      <td>NaN</td>\n",
              "      <td>NaN</td>\n",
              "      <td>NaN</td>\n",
              "      <td>NaN</td>\n",
              "      <td>NaN</td>\n",
              "      <td>NaN</td>\n",
              "    </tr>\n",
              "    <tr>\n",
              "      <th>1</th>\n",
              "      <td>68355089</td>\n",
              "      <td>NaN</td>\n",
              "      <td>24700.0</td>\n",
              "      <td>24700.0</td>\n",
              "      <td>24700.0</td>\n",
              "      <td>36 months</td>\n",
              "      <td>11.99</td>\n",
              "      <td>820.28</td>\n",
              "      <td>C</td>\n",
              "      <td>C1</td>\n",
              "      <td>Engineer</td>\n",
              "      <td>10+ years</td>\n",
              "      <td>MORTGAGE</td>\n",
              "      <td>65000.0</td>\n",
              "      <td>Not Verified</td>\n",
              "      <td>Dec-2015</td>\n",
              "      <td>Fully Paid</td>\n",
              "      <td>n</td>\n",
              "      <td>https://lendingclub.com/browse/loanDetail.acti...</td>\n",
              "      <td>NaN</td>\n",
              "      <td>small_business</td>\n",
              "      <td>Business</td>\n",
              "      <td>577xx</td>\n",
              "      <td>SD</td>\n",
              "      <td>16.06</td>\n",
              "      <td>1.0</td>\n",
              "      <td>Dec-1999</td>\n",
              "      <td>715.0</td>\n",
              "      <td>719.0</td>\n",
              "      <td>4.0</td>\n",
              "      <td>6.0</td>\n",
              "      <td>NaN</td>\n",
              "      <td>22.0</td>\n",
              "      <td>0.0</td>\n",
              "      <td>21470.0</td>\n",
              "      <td>19.2</td>\n",
              "      <td>38.0</td>\n",
              "      <td>w</td>\n",
              "      <td>0.00</td>\n",
              "      <td>0.00</td>\n",
              "      <td>25679.660000</td>\n",
              "      <td>25679.66</td>\n",
              "      <td>24700.00</td>\n",
              "      <td>979.66</td>\n",
              "      <td>0.0</td>\n",
              "      <td>0.0</td>\n",
              "      <td>0.0</td>\n",
              "      <td>Jun-2016</td>\n",
              "      <td>926.35</td>\n",
              "      <td>NaN</td>\n",
              "      <td>Mar-2019</td>\n",
              "      <td>699.0</td>\n",
              "      <td>695.0</td>\n",
              "      <td>0.0</td>\n",
              "      <td>NaN</td>\n",
              "      <td>1.0</td>\n",
              "      <td>Individual</td>\n",
              "      <td>NaN</td>\n",
              "      <td>NaN</td>\n",
              "      <td>NaN</td>\n",
              "      <td>0.0</td>\n",
              "      <td>0.0</td>\n",
              "      <td>204396.0</td>\n",
              "      <td>1.0</td>\n",
              "      <td>1.0</td>\n",
              "      <td>0.0</td>\n",
              "      <td>1.0</td>\n",
              "      <td>19.0</td>\n",
              "      <td>18005.0</td>\n",
              "      <td>73.0</td>\n",
              "      <td>2.0</td>\n",
              "      <td>3.0</td>\n",
              "      <td>6472.0</td>\n",
              "      <td>29.0</td>\n",
              "      <td>111800.0</td>\n",
              "      <td>0.0</td>\n",
              "      <td>0.0</td>\n",
              "      <td>6.0</td>\n",
              "      <td>4.0</td>\n",
              "      <td>9733.0</td>\n",
              "      <td>57830.0</td>\n",
              "      <td>27.1</td>\n",
              "      <td>0.0</td>\n",
              "      <td>0.0</td>\n",
              "      <td>113.0</td>\n",
              "      <td>192.0</td>\n",
              "      <td>2.0</td>\n",
              "      <td>2.0</td>\n",
              "      <td>4.0</td>\n",
              "      <td>2.0</td>\n",
              "      <td>NaN</td>\n",
              "      <td>0.0</td>\n",
              "      <td>6.0</td>\n",
              "      <td>0.0</td>\n",
              "      <td>5.0</td>\n",
              "      <td>5.0</td>\n",
              "      <td>13.0</td>\n",
              "      <td>17.0</td>\n",
              "      <td>6.0</td>\n",
              "      <td>20.0</td>\n",
              "      <td>27.0</td>\n",
              "      <td>5.0</td>\n",
              "      <td>22.0</td>\n",
              "      <td>0.0</td>\n",
              "      <td>0.0</td>\n",
              "      <td>0.0</td>\n",
              "      <td>2.0</td>\n",
              "      <td>97.4</td>\n",
              "      <td>7.7</td>\n",
              "      <td>0.0</td>\n",
              "      <td>0.0</td>\n",
              "      <td>314017.0</td>\n",
              "      <td>39475.0</td>\n",
              "      <td>79300.0</td>\n",
              "      <td>24667.0</td>\n",
              "      <td>NaN</td>\n",
              "      <td>NaN</td>\n",
              "      <td>NaN</td>\n",
              "      <td>NaN</td>\n",
              "      <td>NaN</td>\n",
              "      <td>NaN</td>\n",
              "      <td>NaN</td>\n",
              "      <td>NaN</td>\n",
              "      <td>NaN</td>\n",
              "      <td>NaN</td>\n",
              "      <td>NaN</td>\n",
              "      <td>NaN</td>\n",
              "      <td>NaN</td>\n",
              "      <td>N</td>\n",
              "      <td>NaN</td>\n",
              "      <td>NaN</td>\n",
              "      <td>NaN</td>\n",
              "      <td>NaN</td>\n",
              "      <td>NaN</td>\n",
              "      <td>NaN</td>\n",
              "      <td>NaN</td>\n",
              "      <td>NaN</td>\n",
              "      <td>NaN</td>\n",
              "      <td>NaN</td>\n",
              "      <td>NaN</td>\n",
              "      <td>NaN</td>\n",
              "      <td>NaN</td>\n",
              "      <td>NaN</td>\n",
              "      <td>Cash</td>\n",
              "      <td>N</td>\n",
              "      <td>NaN</td>\n",
              "      <td>NaN</td>\n",
              "      <td>NaN</td>\n",
              "      <td>NaN</td>\n",
              "      <td>NaN</td>\n",
              "      <td>NaN</td>\n",
              "    </tr>\n",
              "    <tr>\n",
              "      <th>2</th>\n",
              "      <td>68341763</td>\n",
              "      <td>NaN</td>\n",
              "      <td>20000.0</td>\n",
              "      <td>20000.0</td>\n",
              "      <td>20000.0</td>\n",
              "      <td>60 months</td>\n",
              "      <td>10.78</td>\n",
              "      <td>432.66</td>\n",
              "      <td>B</td>\n",
              "      <td>B4</td>\n",
              "      <td>truck driver</td>\n",
              "      <td>10+ years</td>\n",
              "      <td>MORTGAGE</td>\n",
              "      <td>63000.0</td>\n",
              "      <td>Not Verified</td>\n",
              "      <td>Dec-2015</td>\n",
              "      <td>Fully Paid</td>\n",
              "      <td>n</td>\n",
              "      <td>https://lendingclub.com/browse/loanDetail.acti...</td>\n",
              "      <td>NaN</td>\n",
              "      <td>home_improvement</td>\n",
              "      <td>NaN</td>\n",
              "      <td>605xx</td>\n",
              "      <td>IL</td>\n",
              "      <td>10.78</td>\n",
              "      <td>0.0</td>\n",
              "      <td>Aug-2000</td>\n",
              "      <td>695.0</td>\n",
              "      <td>699.0</td>\n",
              "      <td>0.0</td>\n",
              "      <td>NaN</td>\n",
              "      <td>NaN</td>\n",
              "      <td>6.0</td>\n",
              "      <td>0.0</td>\n",
              "      <td>7869.0</td>\n",
              "      <td>56.2</td>\n",
              "      <td>18.0</td>\n",
              "      <td>w</td>\n",
              "      <td>0.00</td>\n",
              "      <td>0.00</td>\n",
              "      <td>22705.924294</td>\n",
              "      <td>22705.92</td>\n",
              "      <td>20000.00</td>\n",
              "      <td>2705.92</td>\n",
              "      <td>0.0</td>\n",
              "      <td>0.0</td>\n",
              "      <td>0.0</td>\n",
              "      <td>Jun-2017</td>\n",
              "      <td>15813.30</td>\n",
              "      <td>NaN</td>\n",
              "      <td>Mar-2019</td>\n",
              "      <td>704.0</td>\n",
              "      <td>700.0</td>\n",
              "      <td>0.0</td>\n",
              "      <td>NaN</td>\n",
              "      <td>1.0</td>\n",
              "      <td>Joint App</td>\n",
              "      <td>71000.0</td>\n",
              "      <td>13.85</td>\n",
              "      <td>Not Verified</td>\n",
              "      <td>0.0</td>\n",
              "      <td>0.0</td>\n",
              "      <td>189699.0</td>\n",
              "      <td>0.0</td>\n",
              "      <td>1.0</td>\n",
              "      <td>0.0</td>\n",
              "      <td>4.0</td>\n",
              "      <td>19.0</td>\n",
              "      <td>10827.0</td>\n",
              "      <td>73.0</td>\n",
              "      <td>0.0</td>\n",
              "      <td>2.0</td>\n",
              "      <td>2081.0</td>\n",
              "      <td>65.0</td>\n",
              "      <td>14000.0</td>\n",
              "      <td>2.0</td>\n",
              "      <td>5.0</td>\n",
              "      <td>1.0</td>\n",
              "      <td>6.0</td>\n",
              "      <td>31617.0</td>\n",
              "      <td>2737.0</td>\n",
              "      <td>55.9</td>\n",
              "      <td>0.0</td>\n",
              "      <td>0.0</td>\n",
              "      <td>125.0</td>\n",
              "      <td>184.0</td>\n",
              "      <td>14.0</td>\n",
              "      <td>14.0</td>\n",
              "      <td>5.0</td>\n",
              "      <td>101.0</td>\n",
              "      <td>NaN</td>\n",
              "      <td>10.0</td>\n",
              "      <td>NaN</td>\n",
              "      <td>0.0</td>\n",
              "      <td>2.0</td>\n",
              "      <td>3.0</td>\n",
              "      <td>2.0</td>\n",
              "      <td>4.0</td>\n",
              "      <td>6.0</td>\n",
              "      <td>4.0</td>\n",
              "      <td>7.0</td>\n",
              "      <td>3.0</td>\n",
              "      <td>6.0</td>\n",
              "      <td>0.0</td>\n",
              "      <td>0.0</td>\n",
              "      <td>0.0</td>\n",
              "      <td>0.0</td>\n",
              "      <td>100.0</td>\n",
              "      <td>50.0</td>\n",
              "      <td>0.0</td>\n",
              "      <td>0.0</td>\n",
              "      <td>218418.0</td>\n",
              "      <td>18696.0</td>\n",
              "      <td>6200.0</td>\n",
              "      <td>14877.0</td>\n",
              "      <td>NaN</td>\n",
              "      <td>NaN</td>\n",
              "      <td>NaN</td>\n",
              "      <td>NaN</td>\n",
              "      <td>NaN</td>\n",
              "      <td>NaN</td>\n",
              "      <td>NaN</td>\n",
              "      <td>NaN</td>\n",
              "      <td>NaN</td>\n",
              "      <td>NaN</td>\n",
              "      <td>NaN</td>\n",
              "      <td>NaN</td>\n",
              "      <td>NaN</td>\n",
              "      <td>N</td>\n",
              "      <td>NaN</td>\n",
              "      <td>NaN</td>\n",
              "      <td>NaN</td>\n",
              "      <td>NaN</td>\n",
              "      <td>NaN</td>\n",
              "      <td>NaN</td>\n",
              "      <td>NaN</td>\n",
              "      <td>NaN</td>\n",
              "      <td>NaN</td>\n",
              "      <td>NaN</td>\n",
              "      <td>NaN</td>\n",
              "      <td>NaN</td>\n",
              "      <td>NaN</td>\n",
              "      <td>NaN</td>\n",
              "      <td>Cash</td>\n",
              "      <td>N</td>\n",
              "      <td>NaN</td>\n",
              "      <td>NaN</td>\n",
              "      <td>NaN</td>\n",
              "      <td>NaN</td>\n",
              "      <td>NaN</td>\n",
              "      <td>NaN</td>\n",
              "    </tr>\n",
              "    <tr>\n",
              "      <th>3</th>\n",
              "      <td>66310712</td>\n",
              "      <td>NaN</td>\n",
              "      <td>35000.0</td>\n",
              "      <td>35000.0</td>\n",
              "      <td>35000.0</td>\n",
              "      <td>60 months</td>\n",
              "      <td>14.85</td>\n",
              "      <td>829.90</td>\n",
              "      <td>C</td>\n",
              "      <td>C5</td>\n",
              "      <td>Information Systems Officer</td>\n",
              "      <td>10+ years</td>\n",
              "      <td>MORTGAGE</td>\n",
              "      <td>110000.0</td>\n",
              "      <td>Source Verified</td>\n",
              "      <td>Dec-2015</td>\n",
              "      <td>Current</td>\n",
              "      <td>n</td>\n",
              "      <td>https://lendingclub.com/browse/loanDetail.acti...</td>\n",
              "      <td>NaN</td>\n",
              "      <td>debt_consolidation</td>\n",
              "      <td>Debt consolidation</td>\n",
              "      <td>076xx</td>\n",
              "      <td>NJ</td>\n",
              "      <td>17.06</td>\n",
              "      <td>0.0</td>\n",
              "      <td>Sep-2008</td>\n",
              "      <td>785.0</td>\n",
              "      <td>789.0</td>\n",
              "      <td>0.0</td>\n",
              "      <td>NaN</td>\n",
              "      <td>NaN</td>\n",
              "      <td>13.0</td>\n",
              "      <td>0.0</td>\n",
              "      <td>7802.0</td>\n",
              "      <td>11.6</td>\n",
              "      <td>17.0</td>\n",
              "      <td>w</td>\n",
              "      <td>15897.65</td>\n",
              "      <td>15897.65</td>\n",
              "      <td>31464.010000</td>\n",
              "      <td>31464.01</td>\n",
              "      <td>19102.35</td>\n",
              "      <td>12361.66</td>\n",
              "      <td>0.0</td>\n",
              "      <td>0.0</td>\n",
              "      <td>0.0</td>\n",
              "      <td>Feb-2019</td>\n",
              "      <td>829.90</td>\n",
              "      <td>Apr-2019</td>\n",
              "      <td>Mar-2019</td>\n",
              "      <td>679.0</td>\n",
              "      <td>675.0</td>\n",
              "      <td>0.0</td>\n",
              "      <td>NaN</td>\n",
              "      <td>1.0</td>\n",
              "      <td>Individual</td>\n",
              "      <td>NaN</td>\n",
              "      <td>NaN</td>\n",
              "      <td>NaN</td>\n",
              "      <td>0.0</td>\n",
              "      <td>0.0</td>\n",
              "      <td>301500.0</td>\n",
              "      <td>1.0</td>\n",
              "      <td>1.0</td>\n",
              "      <td>0.0</td>\n",
              "      <td>1.0</td>\n",
              "      <td>23.0</td>\n",
              "      <td>12609.0</td>\n",
              "      <td>70.0</td>\n",
              "      <td>1.0</td>\n",
              "      <td>1.0</td>\n",
              "      <td>6987.0</td>\n",
              "      <td>45.0</td>\n",
              "      <td>67300.0</td>\n",
              "      <td>0.0</td>\n",
              "      <td>1.0</td>\n",
              "      <td>0.0</td>\n",
              "      <td>2.0</td>\n",
              "      <td>23192.0</td>\n",
              "      <td>54962.0</td>\n",
              "      <td>12.1</td>\n",
              "      <td>0.0</td>\n",
              "      <td>0.0</td>\n",
              "      <td>36.0</td>\n",
              "      <td>87.0</td>\n",
              "      <td>2.0</td>\n",
              "      <td>2.0</td>\n",
              "      <td>1.0</td>\n",
              "      <td>2.0</td>\n",
              "      <td>NaN</td>\n",
              "      <td>NaN</td>\n",
              "      <td>NaN</td>\n",
              "      <td>0.0</td>\n",
              "      <td>4.0</td>\n",
              "      <td>5.0</td>\n",
              "      <td>8.0</td>\n",
              "      <td>10.0</td>\n",
              "      <td>2.0</td>\n",
              "      <td>10.0</td>\n",
              "      <td>13.0</td>\n",
              "      <td>5.0</td>\n",
              "      <td>13.0</td>\n",
              "      <td>0.0</td>\n",
              "      <td>0.0</td>\n",
              "      <td>0.0</td>\n",
              "      <td>1.0</td>\n",
              "      <td>100.0</td>\n",
              "      <td>0.0</td>\n",
              "      <td>0.0</td>\n",
              "      <td>0.0</td>\n",
              "      <td>381215.0</td>\n",
              "      <td>52226.0</td>\n",
              "      <td>62500.0</td>\n",
              "      <td>18000.0</td>\n",
              "      <td>NaN</td>\n",
              "      <td>NaN</td>\n",
              "      <td>NaN</td>\n",
              "      <td>NaN</td>\n",
              "      <td>NaN</td>\n",
              "      <td>NaN</td>\n",
              "      <td>NaN</td>\n",
              "      <td>NaN</td>\n",
              "      <td>NaN</td>\n",
              "      <td>NaN</td>\n",
              "      <td>NaN</td>\n",
              "      <td>NaN</td>\n",
              "      <td>NaN</td>\n",
              "      <td>N</td>\n",
              "      <td>NaN</td>\n",
              "      <td>NaN</td>\n",
              "      <td>NaN</td>\n",
              "      <td>NaN</td>\n",
              "      <td>NaN</td>\n",
              "      <td>NaN</td>\n",
              "      <td>NaN</td>\n",
              "      <td>NaN</td>\n",
              "      <td>NaN</td>\n",
              "      <td>NaN</td>\n",
              "      <td>NaN</td>\n",
              "      <td>NaN</td>\n",
              "      <td>NaN</td>\n",
              "      <td>NaN</td>\n",
              "      <td>Cash</td>\n",
              "      <td>N</td>\n",
              "      <td>NaN</td>\n",
              "      <td>NaN</td>\n",
              "      <td>NaN</td>\n",
              "      <td>NaN</td>\n",
              "      <td>NaN</td>\n",
              "      <td>NaN</td>\n",
              "    </tr>\n",
              "    <tr>\n",
              "      <th>4</th>\n",
              "      <td>68476807</td>\n",
              "      <td>NaN</td>\n",
              "      <td>10400.0</td>\n",
              "      <td>10400.0</td>\n",
              "      <td>10400.0</td>\n",
              "      <td>60 months</td>\n",
              "      <td>22.45</td>\n",
              "      <td>289.91</td>\n",
              "      <td>F</td>\n",
              "      <td>F1</td>\n",
              "      <td>Contract Specialist</td>\n",
              "      <td>3 years</td>\n",
              "      <td>MORTGAGE</td>\n",
              "      <td>104433.0</td>\n",
              "      <td>Source Verified</td>\n",
              "      <td>Dec-2015</td>\n",
              "      <td>Fully Paid</td>\n",
              "      <td>n</td>\n",
              "      <td>https://lendingclub.com/browse/loanDetail.acti...</td>\n",
              "      <td>NaN</td>\n",
              "      <td>major_purchase</td>\n",
              "      <td>Major purchase</td>\n",
              "      <td>174xx</td>\n",
              "      <td>PA</td>\n",
              "      <td>25.37</td>\n",
              "      <td>1.0</td>\n",
              "      <td>Jun-1998</td>\n",
              "      <td>695.0</td>\n",
              "      <td>699.0</td>\n",
              "      <td>3.0</td>\n",
              "      <td>12.0</td>\n",
              "      <td>NaN</td>\n",
              "      <td>12.0</td>\n",
              "      <td>0.0</td>\n",
              "      <td>21929.0</td>\n",
              "      <td>64.5</td>\n",
              "      <td>35.0</td>\n",
              "      <td>w</td>\n",
              "      <td>0.00</td>\n",
              "      <td>0.00</td>\n",
              "      <td>11740.500000</td>\n",
              "      <td>11740.50</td>\n",
              "      <td>10400.00</td>\n",
              "      <td>1340.50</td>\n",
              "      <td>0.0</td>\n",
              "      <td>0.0</td>\n",
              "      <td>0.0</td>\n",
              "      <td>Jul-2016</td>\n",
              "      <td>10128.96</td>\n",
              "      <td>NaN</td>\n",
              "      <td>Mar-2018</td>\n",
              "      <td>704.0</td>\n",
              "      <td>700.0</td>\n",
              "      <td>0.0</td>\n",
              "      <td>NaN</td>\n",
              "      <td>1.0</td>\n",
              "      <td>Individual</td>\n",
              "      <td>NaN</td>\n",
              "      <td>NaN</td>\n",
              "      <td>NaN</td>\n",
              "      <td>0.0</td>\n",
              "      <td>0.0</td>\n",
              "      <td>331730.0</td>\n",
              "      <td>1.0</td>\n",
              "      <td>3.0</td>\n",
              "      <td>0.0</td>\n",
              "      <td>3.0</td>\n",
              "      <td>14.0</td>\n",
              "      <td>73839.0</td>\n",
              "      <td>84.0</td>\n",
              "      <td>4.0</td>\n",
              "      <td>7.0</td>\n",
              "      <td>9702.0</td>\n",
              "      <td>78.0</td>\n",
              "      <td>34000.0</td>\n",
              "      <td>2.0</td>\n",
              "      <td>1.0</td>\n",
              "      <td>3.0</td>\n",
              "      <td>10.0</td>\n",
              "      <td>27644.0</td>\n",
              "      <td>4567.0</td>\n",
              "      <td>77.5</td>\n",
              "      <td>0.0</td>\n",
              "      <td>0.0</td>\n",
              "      <td>128.0</td>\n",
              "      <td>210.0</td>\n",
              "      <td>4.0</td>\n",
              "      <td>4.0</td>\n",
              "      <td>6.0</td>\n",
              "      <td>4.0</td>\n",
              "      <td>12.0</td>\n",
              "      <td>1.0</td>\n",
              "      <td>12.0</td>\n",
              "      <td>0.0</td>\n",
              "      <td>4.0</td>\n",
              "      <td>6.0</td>\n",
              "      <td>5.0</td>\n",
              "      <td>9.0</td>\n",
              "      <td>10.0</td>\n",
              "      <td>7.0</td>\n",
              "      <td>19.0</td>\n",
              "      <td>6.0</td>\n",
              "      <td>12.0</td>\n",
              "      <td>0.0</td>\n",
              "      <td>0.0</td>\n",
              "      <td>0.0</td>\n",
              "      <td>4.0</td>\n",
              "      <td>96.6</td>\n",
              "      <td>60.0</td>\n",
              "      <td>0.0</td>\n",
              "      <td>0.0</td>\n",
              "      <td>439570.0</td>\n",
              "      <td>95768.0</td>\n",
              "      <td>20300.0</td>\n",
              "      <td>88097.0</td>\n",
              "      <td>NaN</td>\n",
              "      <td>NaN</td>\n",
              "      <td>NaN</td>\n",
              "      <td>NaN</td>\n",
              "      <td>NaN</td>\n",
              "      <td>NaN</td>\n",
              "      <td>NaN</td>\n",
              "      <td>NaN</td>\n",
              "      <td>NaN</td>\n",
              "      <td>NaN</td>\n",
              "      <td>NaN</td>\n",
              "      <td>NaN</td>\n",
              "      <td>NaN</td>\n",
              "      <td>N</td>\n",
              "      <td>NaN</td>\n",
              "      <td>NaN</td>\n",
              "      <td>NaN</td>\n",
              "      <td>NaN</td>\n",
              "      <td>NaN</td>\n",
              "      <td>NaN</td>\n",
              "      <td>NaN</td>\n",
              "      <td>NaN</td>\n",
              "      <td>NaN</td>\n",
              "      <td>NaN</td>\n",
              "      <td>NaN</td>\n",
              "      <td>NaN</td>\n",
              "      <td>NaN</td>\n",
              "      <td>NaN</td>\n",
              "      <td>Cash</td>\n",
              "      <td>N</td>\n",
              "      <td>NaN</td>\n",
              "      <td>NaN</td>\n",
              "      <td>NaN</td>\n",
              "      <td>NaN</td>\n",
              "      <td>NaN</td>\n",
              "      <td>NaN</td>\n",
              "    </tr>\n",
              "  </tbody>\n",
              "</table>\n",
              "</div>"
            ],
            "text/plain": [
              "         id  member_id  loan_amnt  funded_amnt  funded_amnt_inv        term  \\\n",
              "0  68407277        NaN     3600.0       3600.0           3600.0   36 months   \n",
              "1  68355089        NaN    24700.0      24700.0          24700.0   36 months   \n",
              "2  68341763        NaN    20000.0      20000.0          20000.0   60 months   \n",
              "3  66310712        NaN    35000.0      35000.0          35000.0   60 months   \n",
              "4  68476807        NaN    10400.0      10400.0          10400.0   60 months   \n",
              "\n",
              "   int_rate  installment grade sub_grade                    emp_title  \\\n",
              "0     13.99       123.03     C        C4                      leadman   \n",
              "1     11.99       820.28     C        C1                     Engineer   \n",
              "2     10.78       432.66     B        B4                 truck driver   \n",
              "3     14.85       829.90     C        C5  Information Systems Officer   \n",
              "4     22.45       289.91     F        F1          Contract Specialist   \n",
              "\n",
              "  emp_length home_ownership  annual_inc verification_status   issue_d  \\\n",
              "0  10+ years       MORTGAGE     55000.0        Not Verified  Dec-2015   \n",
              "1  10+ years       MORTGAGE     65000.0        Not Verified  Dec-2015   \n",
              "2  10+ years       MORTGAGE     63000.0        Not Verified  Dec-2015   \n",
              "3  10+ years       MORTGAGE    110000.0     Source Verified  Dec-2015   \n",
              "4    3 years       MORTGAGE    104433.0     Source Verified  Dec-2015   \n",
              "\n",
              "  loan_status pymnt_plan                                                url  \\\n",
              "0  Fully Paid          n  https://lendingclub.com/browse/loanDetail.acti...   \n",
              "1  Fully Paid          n  https://lendingclub.com/browse/loanDetail.acti...   \n",
              "2  Fully Paid          n  https://lendingclub.com/browse/loanDetail.acti...   \n",
              "3     Current          n  https://lendingclub.com/browse/loanDetail.acti...   \n",
              "4  Fully Paid          n  https://lendingclub.com/browse/loanDetail.acti...   \n",
              "\n",
              "  desc             purpose               title zip_code addr_state    dti  \\\n",
              "0  NaN  debt_consolidation  Debt consolidation    190xx         PA   5.91   \n",
              "1  NaN      small_business            Business    577xx         SD  16.06   \n",
              "2  NaN    home_improvement                 NaN    605xx         IL  10.78   \n",
              "3  NaN  debt_consolidation  Debt consolidation    076xx         NJ  17.06   \n",
              "4  NaN      major_purchase      Major purchase    174xx         PA  25.37   \n",
              "\n",
              "   delinq_2yrs earliest_cr_line  fico_range_low  fico_range_high  \\\n",
              "0          0.0         Aug-2003           675.0            679.0   \n",
              "1          1.0         Dec-1999           715.0            719.0   \n",
              "2          0.0         Aug-2000           695.0            699.0   \n",
              "3          0.0         Sep-2008           785.0            789.0   \n",
              "4          1.0         Jun-1998           695.0            699.0   \n",
              "\n",
              "   inq_last_6mths  mths_since_last_delinq  mths_since_last_record  open_acc  \\\n",
              "0             1.0                    30.0                     NaN       7.0   \n",
              "1             4.0                     6.0                     NaN      22.0   \n",
              "2             0.0                     NaN                     NaN       6.0   \n",
              "3             0.0                     NaN                     NaN      13.0   \n",
              "4             3.0                    12.0                     NaN      12.0   \n",
              "\n",
              "   pub_rec  revol_bal  revol_util  total_acc initial_list_status  out_prncp  \\\n",
              "0      0.0     2765.0        29.7       13.0                   w       0.00   \n",
              "1      0.0    21470.0        19.2       38.0                   w       0.00   \n",
              "2      0.0     7869.0        56.2       18.0                   w       0.00   \n",
              "3      0.0     7802.0        11.6       17.0                   w   15897.65   \n",
              "4      0.0    21929.0        64.5       35.0                   w       0.00   \n",
              "\n",
              "   out_prncp_inv   total_pymnt  total_pymnt_inv  total_rec_prncp  \\\n",
              "0           0.00   4421.723917          4421.72          3600.00   \n",
              "1           0.00  25679.660000         25679.66         24700.00   \n",
              "2           0.00  22705.924294         22705.92         20000.00   \n",
              "3       15897.65  31464.010000         31464.01         19102.35   \n",
              "4           0.00  11740.500000         11740.50         10400.00   \n",
              "\n",
              "   total_rec_int  total_rec_late_fee  recoveries  collection_recovery_fee  \\\n",
              "0         821.72                 0.0         0.0                      0.0   \n",
              "1         979.66                 0.0         0.0                      0.0   \n",
              "2        2705.92                 0.0         0.0                      0.0   \n",
              "3       12361.66                 0.0         0.0                      0.0   \n",
              "4        1340.50                 0.0         0.0                      0.0   \n",
              "\n",
              "  last_pymnt_d  last_pymnt_amnt next_pymnt_d last_credit_pull_d  \\\n",
              "0     Jan-2019           122.67          NaN           Mar-2019   \n",
              "1     Jun-2016           926.35          NaN           Mar-2019   \n",
              "2     Jun-2017         15813.30          NaN           Mar-2019   \n",
              "3     Feb-2019           829.90     Apr-2019           Mar-2019   \n",
              "4     Jul-2016         10128.96          NaN           Mar-2018   \n",
              "\n",
              "   last_fico_range_high  last_fico_range_low  collections_12_mths_ex_med  \\\n",
              "0                 564.0                560.0                         0.0   \n",
              "1                 699.0                695.0                         0.0   \n",
              "2                 704.0                700.0                         0.0   \n",
              "3                 679.0                675.0                         0.0   \n",
              "4                 704.0                700.0                         0.0   \n",
              "\n",
              "   mths_since_last_major_derog  policy_code application_type  \\\n",
              "0                         30.0          1.0       Individual   \n",
              "1                          NaN          1.0       Individual   \n",
              "2                          NaN          1.0        Joint App   \n",
              "3                          NaN          1.0       Individual   \n",
              "4                          NaN          1.0       Individual   \n",
              "\n",
              "   annual_inc_joint  dti_joint verification_status_joint  acc_now_delinq  \\\n",
              "0               NaN        NaN                       NaN             0.0   \n",
              "1               NaN        NaN                       NaN             0.0   \n",
              "2           71000.0      13.85              Not Verified             0.0   \n",
              "3               NaN        NaN                       NaN             0.0   \n",
              "4               NaN        NaN                       NaN             0.0   \n",
              "\n",
              "   tot_coll_amt  tot_cur_bal  open_acc_6m  open_act_il  open_il_12m  \\\n",
              "0         722.0     144904.0          2.0          2.0          0.0   \n",
              "1           0.0     204396.0          1.0          1.0          0.0   \n",
              "2           0.0     189699.0          0.0          1.0          0.0   \n",
              "3           0.0     301500.0          1.0          1.0          0.0   \n",
              "4           0.0     331730.0          1.0          3.0          0.0   \n",
              "\n",
              "   open_il_24m  mths_since_rcnt_il  total_bal_il  il_util  open_rv_12m  \\\n",
              "0          1.0                21.0        4981.0     36.0          3.0   \n",
              "1          1.0                19.0       18005.0     73.0          2.0   \n",
              "2          4.0                19.0       10827.0     73.0          0.0   \n",
              "3          1.0                23.0       12609.0     70.0          1.0   \n",
              "4          3.0                14.0       73839.0     84.0          4.0   \n",
              "\n",
              "   open_rv_24m  max_bal_bc  all_util  total_rev_hi_lim  inq_fi  total_cu_tl  \\\n",
              "0          3.0       722.0      34.0            9300.0     3.0          1.0   \n",
              "1          3.0      6472.0      29.0          111800.0     0.0          0.0   \n",
              "2          2.0      2081.0      65.0           14000.0     2.0          5.0   \n",
              "3          1.0      6987.0      45.0           67300.0     0.0          1.0   \n",
              "4          7.0      9702.0      78.0           34000.0     2.0          1.0   \n",
              "\n",
              "   inq_last_12m  acc_open_past_24mths  avg_cur_bal  bc_open_to_buy  bc_util  \\\n",
              "0           4.0                   4.0      20701.0          1506.0     37.2   \n",
              "1           6.0                   4.0       9733.0         57830.0     27.1   \n",
              "2           1.0                   6.0      31617.0          2737.0     55.9   \n",
              "3           0.0                   2.0      23192.0         54962.0     12.1   \n",
              "4           3.0                  10.0      27644.0          4567.0     77.5   \n",
              "\n",
              "   chargeoff_within_12_mths  delinq_amnt  mo_sin_old_il_acct  \\\n",
              "0                       0.0          0.0               148.0   \n",
              "1                       0.0          0.0               113.0   \n",
              "2                       0.0          0.0               125.0   \n",
              "3                       0.0          0.0                36.0   \n",
              "4                       0.0          0.0               128.0   \n",
              "\n",
              "   mo_sin_old_rev_tl_op  mo_sin_rcnt_rev_tl_op  mo_sin_rcnt_tl  mort_acc  \\\n",
              "0                 128.0                    3.0             3.0       1.0   \n",
              "1                 192.0                    2.0             2.0       4.0   \n",
              "2                 184.0                   14.0            14.0       5.0   \n",
              "3                  87.0                    2.0             2.0       1.0   \n",
              "4                 210.0                    4.0             4.0       6.0   \n",
              "\n",
              "   mths_since_recent_bc  mths_since_recent_bc_dlq  mths_since_recent_inq  \\\n",
              "0                   4.0                      69.0                    4.0   \n",
              "1                   2.0                       NaN                    0.0   \n",
              "2                 101.0                       NaN                   10.0   \n",
              "3                   2.0                       NaN                    NaN   \n",
              "4                   4.0                      12.0                    1.0   \n",
              "\n",
              "   mths_since_recent_revol_delinq  num_accts_ever_120_pd  num_actv_bc_tl  \\\n",
              "0                            69.0                    2.0             2.0   \n",
              "1                             6.0                    0.0             5.0   \n",
              "2                             NaN                    0.0             2.0   \n",
              "3                             NaN                    0.0             4.0   \n",
              "4                            12.0                    0.0             4.0   \n",
              "\n",
              "   num_actv_rev_tl  num_bc_sats  num_bc_tl  num_il_tl  num_op_rev_tl  \\\n",
              "0              4.0          2.0        5.0        3.0            4.0   \n",
              "1              5.0         13.0       17.0        6.0           20.0   \n",
              "2              3.0          2.0        4.0        6.0            4.0   \n",
              "3              5.0          8.0       10.0        2.0           10.0   \n",
              "4              6.0          5.0        9.0       10.0            7.0   \n",
              "\n",
              "   num_rev_accts  num_rev_tl_bal_gt_0  num_sats  num_tl_120dpd_2m  \\\n",
              "0            9.0                  4.0       7.0               0.0   \n",
              "1           27.0                  5.0      22.0               0.0   \n",
              "2            7.0                  3.0       6.0               0.0   \n",
              "3           13.0                  5.0      13.0               0.0   \n",
              "4           19.0                  6.0      12.0               0.0   \n",
              "\n",
              "   num_tl_30dpd  num_tl_90g_dpd_24m  num_tl_op_past_12m  pct_tl_nvr_dlq  \\\n",
              "0           0.0                 0.0                 3.0            76.9   \n",
              "1           0.0                 0.0                 2.0            97.4   \n",
              "2           0.0                 0.0                 0.0           100.0   \n",
              "3           0.0                 0.0                 1.0           100.0   \n",
              "4           0.0                 0.0                 4.0            96.6   \n",
              "\n",
              "   percent_bc_gt_75  pub_rec_bankruptcies  tax_liens  tot_hi_cred_lim  \\\n",
              "0               0.0                   0.0        0.0         178050.0   \n",
              "1               7.7                   0.0        0.0         314017.0   \n",
              "2              50.0                   0.0        0.0         218418.0   \n",
              "3               0.0                   0.0        0.0         381215.0   \n",
              "4              60.0                   0.0        0.0         439570.0   \n",
              "\n",
              "   total_bal_ex_mort  total_bc_limit  total_il_high_credit_limit  \\\n",
              "0             7746.0          2400.0                     13734.0   \n",
              "1            39475.0         79300.0                     24667.0   \n",
              "2            18696.0          6200.0                     14877.0   \n",
              "3            52226.0         62500.0                     18000.0   \n",
              "4            95768.0         20300.0                     88097.0   \n",
              "\n",
              "   revol_bal_joint  sec_app_fico_range_low  sec_app_fico_range_high  \\\n",
              "0              NaN                     NaN                      NaN   \n",
              "1              NaN                     NaN                      NaN   \n",
              "2              NaN                     NaN                      NaN   \n",
              "3              NaN                     NaN                      NaN   \n",
              "4              NaN                     NaN                      NaN   \n",
              "\n",
              "  sec_app_earliest_cr_line  sec_app_inq_last_6mths  sec_app_mort_acc  \\\n",
              "0                      NaN                     NaN               NaN   \n",
              "1                      NaN                     NaN               NaN   \n",
              "2                      NaN                     NaN               NaN   \n",
              "3                      NaN                     NaN               NaN   \n",
              "4                      NaN                     NaN               NaN   \n",
              "\n",
              "   sec_app_open_acc  sec_app_revol_util  sec_app_open_act_il  \\\n",
              "0               NaN                 NaN                  NaN   \n",
              "1               NaN                 NaN                  NaN   \n",
              "2               NaN                 NaN                  NaN   \n",
              "3               NaN                 NaN                  NaN   \n",
              "4               NaN                 NaN                  NaN   \n",
              "\n",
              "   sec_app_num_rev_accts  sec_app_chargeoff_within_12_mths  \\\n",
              "0                    NaN                               NaN   \n",
              "1                    NaN                               NaN   \n",
              "2                    NaN                               NaN   \n",
              "3                    NaN                               NaN   \n",
              "4                    NaN                               NaN   \n",
              "\n",
              "   sec_app_collections_12_mths_ex_med  sec_app_mths_since_last_major_derog  \\\n",
              "0                                 NaN                                  NaN   \n",
              "1                                 NaN                                  NaN   \n",
              "2                                 NaN                                  NaN   \n",
              "3                                 NaN                                  NaN   \n",
              "4                                 NaN                                  NaN   \n",
              "\n",
              "  hardship_flag hardship_type hardship_reason hardship_status  deferral_term  \\\n",
              "0             N           NaN             NaN             NaN            NaN   \n",
              "1             N           NaN             NaN             NaN            NaN   \n",
              "2             N           NaN             NaN             NaN            NaN   \n",
              "3             N           NaN             NaN             NaN            NaN   \n",
              "4             N           NaN             NaN             NaN            NaN   \n",
              "\n",
              "   hardship_amount hardship_start_date hardship_end_date  \\\n",
              "0              NaN                 NaN               NaN   \n",
              "1              NaN                 NaN               NaN   \n",
              "2              NaN                 NaN               NaN   \n",
              "3              NaN                 NaN               NaN   \n",
              "4              NaN                 NaN               NaN   \n",
              "\n",
              "  payment_plan_start_date  hardship_length  hardship_dpd hardship_loan_status  \\\n",
              "0                     NaN              NaN           NaN                  NaN   \n",
              "1                     NaN              NaN           NaN                  NaN   \n",
              "2                     NaN              NaN           NaN                  NaN   \n",
              "3                     NaN              NaN           NaN                  NaN   \n",
              "4                     NaN              NaN           NaN                  NaN   \n",
              "\n",
              "   orig_projected_additional_accrued_interest  hardship_payoff_balance_amount  \\\n",
              "0                                         NaN                             NaN   \n",
              "1                                         NaN                             NaN   \n",
              "2                                         NaN                             NaN   \n",
              "3                                         NaN                             NaN   \n",
              "4                                         NaN                             NaN   \n",
              "\n",
              "   hardship_last_payment_amount disbursement_method debt_settlement_flag  \\\n",
              "0                           NaN                Cash                    N   \n",
              "1                           NaN                Cash                    N   \n",
              "2                           NaN                Cash                    N   \n",
              "3                           NaN                Cash                    N   \n",
              "4                           NaN                Cash                    N   \n",
              "\n",
              "  debt_settlement_flag_date settlement_status settlement_date  \\\n",
              "0                       NaN               NaN             NaN   \n",
              "1                       NaN               NaN             NaN   \n",
              "2                       NaN               NaN             NaN   \n",
              "3                       NaN               NaN             NaN   \n",
              "4                       NaN               NaN             NaN   \n",
              "\n",
              "   settlement_amount  settlement_percentage  settlement_term  \n",
              "0                NaN                    NaN              NaN  \n",
              "1                NaN                    NaN              NaN  \n",
              "2                NaN                    NaN              NaN  \n",
              "3                NaN                    NaN              NaN  \n",
              "4                NaN                    NaN              NaN  "
            ]
          },
          "metadata": {
            "tags": []
          },
          "execution_count": 6
        }
      ]
    },
    {
      "cell_type": "code",
      "metadata": {
        "id": "PdNfDbkTF2ki",
        "colab_type": "code",
        "outputId": "fe5ce302-b2d0-4902-b7ab-7ee3e67b2cbc",
        "colab": {
          "base_uri": "https://localhost:8080/",
          "height": 206
        }
      },
      "source": [
        "rejected_df.head()"
      ],
      "execution_count": 8,
      "outputs": [
        {
          "output_type": "execute_result",
          "data": {
            "text/html": [
              "<div>\n",
              "<style scoped>\n",
              "    .dataframe tbody tr th:only-of-type {\n",
              "        vertical-align: middle;\n",
              "    }\n",
              "\n",
              "    .dataframe tbody tr th {\n",
              "        vertical-align: top;\n",
              "    }\n",
              "\n",
              "    .dataframe thead th {\n",
              "        text-align: right;\n",
              "    }\n",
              "</style>\n",
              "<table border=\"1\" class=\"dataframe\">\n",
              "  <thead>\n",
              "    <tr style=\"text-align: right;\">\n",
              "      <th></th>\n",
              "      <th>Amount Requested</th>\n",
              "      <th>Application Date</th>\n",
              "      <th>Loan Title</th>\n",
              "      <th>Risk_Score</th>\n",
              "      <th>Debt-To-Income Ratio</th>\n",
              "      <th>Zip Code</th>\n",
              "      <th>State</th>\n",
              "      <th>Employment Length</th>\n",
              "      <th>Policy Code</th>\n",
              "    </tr>\n",
              "  </thead>\n",
              "  <tbody>\n",
              "    <tr>\n",
              "      <th>0</th>\n",
              "      <td>1000.0</td>\n",
              "      <td>2007-05-26</td>\n",
              "      <td>Wedding Covered but No Honeymoon</td>\n",
              "      <td>693.0</td>\n",
              "      <td>10%</td>\n",
              "      <td>481xx</td>\n",
              "      <td>NM</td>\n",
              "      <td>4 years</td>\n",
              "      <td>0.0</td>\n",
              "    </tr>\n",
              "    <tr>\n",
              "      <th>1</th>\n",
              "      <td>1000.0</td>\n",
              "      <td>2007-05-26</td>\n",
              "      <td>Consolidating Debt</td>\n",
              "      <td>703.0</td>\n",
              "      <td>10%</td>\n",
              "      <td>010xx</td>\n",
              "      <td>MA</td>\n",
              "      <td>&lt; 1 year</td>\n",
              "      <td>0.0</td>\n",
              "    </tr>\n",
              "    <tr>\n",
              "      <th>2</th>\n",
              "      <td>11000.0</td>\n",
              "      <td>2007-05-27</td>\n",
              "      <td>Want to consolidate my debt</td>\n",
              "      <td>715.0</td>\n",
              "      <td>10%</td>\n",
              "      <td>212xx</td>\n",
              "      <td>MD</td>\n",
              "      <td>1 year</td>\n",
              "      <td>0.0</td>\n",
              "    </tr>\n",
              "    <tr>\n",
              "      <th>3</th>\n",
              "      <td>6000.0</td>\n",
              "      <td>2007-05-27</td>\n",
              "      <td>waksman</td>\n",
              "      <td>698.0</td>\n",
              "      <td>38.64%</td>\n",
              "      <td>017xx</td>\n",
              "      <td>MA</td>\n",
              "      <td>&lt; 1 year</td>\n",
              "      <td>0.0</td>\n",
              "    </tr>\n",
              "    <tr>\n",
              "      <th>4</th>\n",
              "      <td>1500.0</td>\n",
              "      <td>2007-05-27</td>\n",
              "      <td>mdrigo</td>\n",
              "      <td>509.0</td>\n",
              "      <td>9.43%</td>\n",
              "      <td>209xx</td>\n",
              "      <td>MD</td>\n",
              "      <td>&lt; 1 year</td>\n",
              "      <td>0.0</td>\n",
              "    </tr>\n",
              "  </tbody>\n",
              "</table>\n",
              "</div>"
            ],
            "text/plain": [
              "   Amount Requested Application Date                        Loan Title  \\\n",
              "0            1000.0       2007-05-26  Wedding Covered but No Honeymoon   \n",
              "1            1000.0       2007-05-26                Consolidating Debt   \n",
              "2           11000.0       2007-05-27       Want to consolidate my debt   \n",
              "3            6000.0       2007-05-27                           waksman   \n",
              "4            1500.0       2007-05-27                            mdrigo   \n",
              "\n",
              "   Risk_Score Debt-To-Income Ratio Zip Code State Employment Length  \\\n",
              "0       693.0                  10%    481xx    NM           4 years   \n",
              "1       703.0                  10%    010xx    MA          < 1 year   \n",
              "2       715.0                  10%    212xx    MD            1 year   \n",
              "3       698.0               38.64%    017xx    MA          < 1 year   \n",
              "4       509.0                9.43%    209xx    MD          < 1 year   \n",
              "\n",
              "   Policy Code  \n",
              "0          0.0  \n",
              "1          0.0  \n",
              "2          0.0  \n",
              "3          0.0  \n",
              "4          0.0  "
            ]
          },
          "metadata": {
            "tags": []
          },
          "execution_count": 8
        }
      ]
    },
    {
      "cell_type": "code",
      "metadata": {
        "id": "ScUc0SNWF2nS",
        "colab_type": "code",
        "outputId": "b85b73cb-44f8-44e4-f16f-662d895c8bdc",
        "colab": {
          "base_uri": "https://localhost:8080/",
          "height": 34
        }
      },
      "source": [
        "accepted_df.shape, rejected_df.shape\n",
        "# Order of magnitude difference: class imbalance"
      ],
      "execution_count": 9,
      "outputs": [
        {
          "output_type": "execute_result",
          "data": {
            "text/plain": [
              "((2260701, 151), (27648741, 9))"
            ]
          },
          "metadata": {
            "tags": []
          },
          "execution_count": 9
        }
      ]
    },
    {
      "cell_type": "code",
      "metadata": {
        "id": "B3mcz6QSF2vp",
        "colab_type": "code",
        "outputId": "2c22c4c4-ee7b-4cd3-bb3c-beb35674e314",
        "colab": {
          "base_uri": "https://localhost:8080/",
          "height": 1000
        }
      },
      "source": [
        "# Check no. of null values in each column\n",
        "print(f\"Sum of null values in each feature:\\n{35 * '-'}\")\n",
        "print(f\"{accepted_df.isnull().sum().sort_values()}\")"
      ],
      "execution_count": 10,
      "outputs": [
        {
          "output_type": "stream",
          "text": [
            "Sum of null values in each feature:\n",
            "-----------------------------------\n",
            "id                                                  0\n",
            "fico_range_high                                    33\n",
            "hardship_flag                                      33\n",
            "revol_bal                                          33\n",
            "initial_list_status                                33\n",
            "out_prncp                                          33\n",
            "out_prncp_inv                                      33\n",
            "total_pymnt                                        33\n",
            "total_pymnt_inv                                    33\n",
            "total_rec_prncp                                    33\n",
            "total_rec_int                                      33\n",
            "total_rec_late_fee                                 33\n",
            "recoveries                                         33\n",
            "last_pymnt_amnt                                    33\n",
            "last_fico_range_high                               33\n",
            "last_fico_range_low                                33\n",
            "policy_code                                        33\n",
            "application_type                                   33\n",
            "fico_range_low                                     33\n",
            "addr_state                                         33\n",
            "collection_recovery_fee                            33\n",
            "debt_settlement_flag                               33\n",
            "funded_amnt                                        33\n",
            "funded_amnt_inv                                    33\n",
            "term                                               33\n",
            "int_rate                                           33\n",
            "installment                                        33\n",
            "grade                                              33\n",
            "sub_grade                                          33\n",
            "home_ownership                                     33\n",
            "purpose                                            33\n",
            "verification_status                                33\n",
            "issue_d                                            33\n",
            "loan_amnt                                          33\n",
            "disbursement_method                                33\n",
            "loan_status                                        33\n",
            "url                                                33\n",
            "pymnt_plan                                         33\n",
            "zip_code                                           34\n",
            "annual_inc                                         37\n",
            "delinq_2yrs                                        62\n",
            "pub_rec                                            62\n",
            "open_acc                                           62\n",
            "delinq_amnt                                        62\n",
            "total_acc                                          62\n",
            "acc_now_delinq                                     62\n",
            "earliest_cr_line                                   62\n",
            "inq_last_6mths                                     63\n",
            "last_credit_pull_d                                105\n",
            "tax_liens                                         138\n",
            "chargeoff_within_12_mths                          178\n",
            "collections_12_mths_ex_med                        178\n",
            "pub_rec_bankruptcies                             1398\n",
            "dti                                              1744\n",
            "revol_util                                       1835\n",
            "last_pymnt_d                                     2460\n",
            "title                                           23358\n",
            "total_bc_limit                                  50063\n",
            "mort_acc                                        50063\n",
            "acc_open_past_24mths                            50063\n",
            "total_bal_ex_mort                               50063\n",
            "num_bc_sats                                     58623\n",
            "num_sats                                        58623\n",
            "tot_hi_cred_lim                                 70309\n",
            "num_actv_bc_tl                                  70309\n",
            "mo_sin_rcnt_tl                                  70309\n",
            "total_il_high_credit_limit                      70309\n",
            "num_actv_rev_tl                                 70309\n",
            "num_bc_tl                                       70309\n",
            "num_il_tl                                       70309\n",
            "num_op_rev_tl                                   70309\n",
            "total_rev_hi_lim                                70309\n",
            "num_rev_tl_bal_gt_0                             70309\n",
            "tot_coll_amt                                    70309\n",
            "tot_cur_bal                                     70309\n",
            "num_tl_op_past_12m                              70309\n",
            "num_accts_ever_120_pd                           70309\n",
            "num_tl_30dpd                                    70309\n",
            "num_tl_90g_dpd_24m                              70309\n",
            "num_rev_accts                                   70310\n",
            "mo_sin_old_rev_tl_op                            70310\n",
            "mo_sin_rcnt_rev_tl_op                           70310\n",
            "avg_cur_bal                                     70379\n",
            "pct_tl_nvr_dlq                                  70464\n",
            "mths_since_recent_bc                            73445\n",
            "bc_open_to_buy                                  74968\n",
            "percent_bc_gt_75                                75412\n",
            "bc_util                                         76104\n",
            "mo_sin_old_il_acct                             139104\n",
            "emp_length                                     146940\n",
            "num_tl_120dpd_2m                               153690\n",
            "emp_title                                      167002\n",
            "mths_since_recent_inq                          295468\n",
            "inq_fi                                         866162\n",
            "max_bal_bc                                     866162\n",
            "open_rv_24m                                    866162\n",
            "open_rv_12m                                    866162\n",
            "open_act_il                                    866162\n",
            "total_bal_il                                   866162\n",
            "open_il_24m                                    866162\n",
            "open_il_12m                                    866162\n",
            "inq_last_12m                                   866163\n",
            "total_cu_tl                                    866163\n",
            "open_acc_6m                                    866163\n",
            "all_util                                       866381\n",
            "mths_since_rcnt_il                             909957\n",
            "il_util                                       1068883\n",
            "mths_since_last_delinq                        1158535\n",
            "next_pymnt_d                                  1345343\n",
            "mths_since_recent_revol_delinq                1520342\n",
            "mths_since_last_major_derog                   1679926\n",
            "mths_since_recent_bc_dlq                      1741000\n",
            "mths_since_last_record                        1901545\n",
            "desc                                          2134634\n",
            "annual_inc_joint                              2139991\n",
            "dti_joint                                     2139995\n",
            "verification_status_joint                     2144971\n",
            "sec_app_collections_12_mths_ex_med            2152680\n",
            "sec_app_fico_range_low                        2152680\n",
            "sec_app_fico_range_high                       2152680\n",
            "sec_app_earliest_cr_line                      2152680\n",
            "sec_app_inq_last_6mths                        2152680\n",
            "sec_app_mort_acc                              2152680\n",
            "sec_app_open_acc                              2152680\n",
            "sec_app_open_act_il                           2152680\n",
            "sec_app_num_rev_accts                         2152680\n",
            "sec_app_chargeoff_within_12_mths              2152680\n",
            "revol_bal_joint                               2152681\n",
            "sec_app_revol_util                            2154517\n",
            "sec_app_mths_since_last_major_derog           2224759\n",
            "settlement_term                               2226455\n",
            "settlement_amount                             2226455\n",
            "settlement_date                               2226455\n",
            "settlement_status                             2226455\n",
            "debt_settlement_flag_date                     2226455\n",
            "settlement_percentage                         2226455\n",
            "hardship_last_payment_amount                  2249784\n",
            "hardship_payoff_balance_amount                2249784\n",
            "hardship_type                                 2249784\n",
            "hardship_length                               2249784\n",
            "payment_plan_start_date                       2249784\n",
            "hardship_end_date                             2249784\n",
            "hardship_start_date                           2249784\n",
            "hardship_amount                               2249784\n",
            "deferral_term                                 2249784\n",
            "hardship_status                               2249784\n",
            "hardship_reason                               2249784\n",
            "hardship_dpd                                  2249784\n",
            "hardship_loan_status                          2249784\n",
            "orig_projected_additional_accrued_interest    2252050\n",
            "member_id                                     2260701\n",
            "dtype: int64\n"
          ],
          "name": "stdout"
        }
      ]
    },
    {
      "cell_type": "markdown",
      "metadata": {
        "id": "XT1p1kmkjy5e",
        "colab_type": "text"
      },
      "source": [
        "## Data Preprocessing"
      ]
    },
    {
      "cell_type": "markdown",
      "metadata": {
        "id": "GO8-FIv4ax7X",
        "colab_type": "text"
      },
      "source": [
        "The Lending Club's [Data Dictionary](https://web.archive.org/web/20170227081857/https://resources.lendingclub.com/LCDataDictionary.xlsx) includes definitions for all the data attributes included."
      ]
    },
    {
      "cell_type": "markdown",
      "metadata": {
        "id": "8ULUNh_rbc4v",
        "colab_type": "text"
      },
      "source": [
        "**Note**:\n",
        "\n",
        "`accepted_df` does not contain a `Risk_Score` column\n",
        "\n",
        "Data Dictionary says the risk score is the borrower's FICO score.\n",
        "\n",
        "Average the borrower's low and high FICO scores to calculate\n",
        "the `Risk_Score`"
      ]
    },
    {
      "cell_type": "code",
      "metadata": {
        "id": "kNp61-dlbJLx",
        "colab_type": "code",
        "colab": {}
      },
      "source": [
        "accepted_df.fico_range_high.fillna(accepted_df.fico_range_high.mean(),\n",
        "                                   inplace=True)\n",
        "\n",
        "accepted_df.fico_range_low.fillna(accepted_df.fico_range_low.mean(),\n",
        "                                  inplace=True)\n",
        "\n",
        "accepted_df['Risk_Score'] = accepted_df[['fico_range_high',\n",
        "                                         'fico_range_low']].mean(axis=1)"
      ],
      "execution_count": 0,
      "outputs": []
    },
    {
      "cell_type": "markdown",
      "metadata": {
        "id": "ssd2qIeicglE",
        "colab_type": "text"
      },
      "source": [
        "There is a clear class imbalance in the data set. \n",
        "\n",
        "Rather than synthetically generating data, we will accomodate the imbalance via stratified sampling."
      ]
    },
    {
      "cell_type": "code",
      "metadata": {
        "id": "MF1RAiLuavfL",
        "colab_type": "code",
        "colab": {}
      },
      "source": [
        "rejected_df = rejected_df[['Amount Requested', 'Debt-To-Income Ratio', 'Zip Code', 'Employment Length', 'Loan Title', 'Risk_Score']]\n",
        "accepted_df = accepted_df[['loan_amnt', 'dti', 'zip_code', 'emp_length', 'purpose', 'Risk_Score']]\n",
        "\n",
        "pd.options.mode.chained_assignment = None\n",
        "\n",
        "rejected_df.columns = ['amount', 'dti', 'zip', 'emp_length', 'purpose', 'risk']\n",
        "accepted_df.columns = ['amount', 'dti', 'zip', 'emp_length', 'purpose', 'risk']"
      ],
      "execution_count": 0,
      "outputs": []
    },
    {
      "cell_type": "code",
      "metadata": {
        "id": "V2YndGlqcRn7",
        "colab_type": "code",
        "colab": {}
      },
      "source": [
        "rejected_df.dropna(inplace=True)\n",
        "accepted_df.dropna(inplace=True)\n",
        "\n",
        "rejected_df['dti'] = rejected_df['dti'].apply(lambda x: x.strip('%')).astype(float)\n",
        "rejected_df['zip'] = rejected_df['zip'].str.extract('(\\d+)')\n",
        "rejected_df['zip'] = rejected_df['zip'].str.slice(0, 2).astype(float)\n",
        "rejected_df['emp_length'] = rejected_df['emp_length'].str.extract('(\\d+)').astype(float)\n",
        "rejected_df['accept'] = 0\n",
        "\n",
        "accepted_df['emp_length'] = accepted_df['emp_length'].str.extract('(\\d+)').astype(float)\n",
        "accepted_df['zip'] = accepted_df['zip'].str.extract('(\\d+)')\n",
        "accepted_df['zip'] = accepted_df['zip'].str.slice(0, 2).astype(float)\n",
        "accepted_df['accept'] = 1"
      ],
      "execution_count": 0,
      "outputs": []
    },
    {
      "cell_type": "code",
      "metadata": {
        "id": "TsXooEaAj8yr",
        "colab_type": "code",
        "outputId": "8f625a0a-95a8-4bee-890e-1eae9073ab65",
        "colab": {
          "base_uri": "https://localhost:8080/",
          "height": 156
        }
      },
      "source": [
        "all_data = pd.concat([accepted_df, rejected_df])\n",
        "all_data['accept'] = all_data['accept'].astype(float)\n",
        "all_data.dtypes"
      ],
      "execution_count": 14,
      "outputs": [
        {
          "output_type": "execute_result",
          "data": {
            "text/plain": [
              "amount        float64\n",
              "dti           float64\n",
              "zip           float64\n",
              "emp_length    float64\n",
              "purpose        object\n",
              "risk          float64\n",
              "accept        float64\n",
              "dtype: object"
            ]
          },
          "metadata": {
            "tags": []
          },
          "execution_count": 14
        }
      ]
    },
    {
      "cell_type": "code",
      "metadata": {
        "id": "t0fTce4sj81W",
        "colab_type": "code",
        "outputId": "22f547f2-6e5d-40d5-e7cd-58919715048d",
        "colab": {
          "base_uri": "https://localhost:8080/",
          "height": 555
        }
      },
      "source": [
        "all_data['purpose'].value_counts()[:30]"
      ],
      "execution_count": 15,
      "outputs": [
        {
          "output_type": "execute_result",
          "data": {
            "text/plain": [
              "debt_consolidation         2952678\n",
              "Debt consolidation         2391342\n",
              "credit_card                 928176\n",
              "Other                       829322\n",
              "Credit card refinancing     678080\n",
              "other                       676037\n",
              "home_improvement            338998\n",
              "Car financing               301511\n",
              "Home improvement            204832\n",
              "car                         186538\n",
              "major_purchase              177278\n",
              "Medical expenses            159518\n",
              "small_business              156769\n",
              "moving                      140938\n",
              "medical                     139352\n",
              "Major purchase              127895\n",
              "Moving and relocation       127095\n",
              "Home buying                 114972\n",
              "Business                     99223\n",
              "house                        68070\n",
              "vacation                     62113\n",
              "Vacation                     52848\n",
              "wedding                      19868\n",
              "Green loan                   13284\n",
              "                             12648\n",
              "renewable_energy             11764\n",
              "Debt Consolidation            4973\n",
              "educational                   2246\n",
              "debt consolidation            2066\n",
              "Consolidation                 1632\n",
              "Name: purpose, dtype: int64"
            ]
          },
          "metadata": {
            "tags": []
          },
          "execution_count": 15
        }
      ]
    },
    {
      "cell_type": "code",
      "metadata": {
        "id": "TyTkgU4uj9Fo",
        "colab_type": "code",
        "outputId": "55d2fd56-47c7-4c43-9c57-134ee1078a45",
        "colab": {
          "base_uri": "https://localhost:8080/",
          "height": 206
        }
      },
      "source": [
        "def feature_eng_purpose(x):\n",
        "  purpose = str(x).lower()\n",
        "  if 'debt' in purpose: return 'debt'\n",
        "  if 'credit' in purpose: return 'credit_card'\n",
        "  if 'home' in purpose: return 'home'\n",
        "  if 'car' in purpose: return 'car'\n",
        "  if 'medical' in purpose: return 'medical'\n",
        "  if 'business' in purpose: return 'business'\n",
        "  if 'moving' in purpose: return 'moving'\n",
        "  if 'major' in purpose: return 'major_purchases'\n",
        "  if 'house' in purpose: return 'home'\n",
        "  if 'vacation' in purpose: return 'vacation'\n",
        "  if 'wedding' in purpose: return 'wedding'\n",
        "  return 'other'\n",
        "\n",
        "purpose_df = all_data['purpose'].apply(feature_eng_purpose)\n",
        "purpose_dummies = pd.get_dummies(purpose_df, dtype=float)\n",
        "final_df = pd.concat([all_data, purpose_dummies], axis=1)\n",
        "final_df.drop(['purpose'], axis=1, inplace=True)\n",
        "final_df.head()"
      ],
      "execution_count": 16,
      "outputs": [
        {
          "output_type": "execute_result",
          "data": {
            "text/html": [
              "<div>\n",
              "<style scoped>\n",
              "    .dataframe tbody tr th:only-of-type {\n",
              "        vertical-align: middle;\n",
              "    }\n",
              "\n",
              "    .dataframe tbody tr th {\n",
              "        vertical-align: top;\n",
              "    }\n",
              "\n",
              "    .dataframe thead th {\n",
              "        text-align: right;\n",
              "    }\n",
              "</style>\n",
              "<table border=\"1\" class=\"dataframe\">\n",
              "  <thead>\n",
              "    <tr style=\"text-align: right;\">\n",
              "      <th></th>\n",
              "      <th>amount</th>\n",
              "      <th>dti</th>\n",
              "      <th>zip</th>\n",
              "      <th>emp_length</th>\n",
              "      <th>risk</th>\n",
              "      <th>accept</th>\n",
              "      <th>business</th>\n",
              "      <th>car</th>\n",
              "      <th>credit_card</th>\n",
              "      <th>debt</th>\n",
              "      <th>home</th>\n",
              "      <th>major_purchases</th>\n",
              "      <th>medical</th>\n",
              "      <th>moving</th>\n",
              "      <th>other</th>\n",
              "      <th>vacation</th>\n",
              "      <th>wedding</th>\n",
              "    </tr>\n",
              "  </thead>\n",
              "  <tbody>\n",
              "    <tr>\n",
              "      <th>0</th>\n",
              "      <td>3600.0</td>\n",
              "      <td>5.91</td>\n",
              "      <td>19.0</td>\n",
              "      <td>10.0</td>\n",
              "      <td>677.0</td>\n",
              "      <td>1.0</td>\n",
              "      <td>0.0</td>\n",
              "      <td>0.0</td>\n",
              "      <td>0.0</td>\n",
              "      <td>1.0</td>\n",
              "      <td>0.0</td>\n",
              "      <td>0.0</td>\n",
              "      <td>0.0</td>\n",
              "      <td>0.0</td>\n",
              "      <td>0.0</td>\n",
              "      <td>0.0</td>\n",
              "      <td>0.0</td>\n",
              "    </tr>\n",
              "    <tr>\n",
              "      <th>1</th>\n",
              "      <td>24700.0</td>\n",
              "      <td>16.06</td>\n",
              "      <td>57.0</td>\n",
              "      <td>10.0</td>\n",
              "      <td>717.0</td>\n",
              "      <td>1.0</td>\n",
              "      <td>1.0</td>\n",
              "      <td>0.0</td>\n",
              "      <td>0.0</td>\n",
              "      <td>0.0</td>\n",
              "      <td>0.0</td>\n",
              "      <td>0.0</td>\n",
              "      <td>0.0</td>\n",
              "      <td>0.0</td>\n",
              "      <td>0.0</td>\n",
              "      <td>0.0</td>\n",
              "      <td>0.0</td>\n",
              "    </tr>\n",
              "    <tr>\n",
              "      <th>2</th>\n",
              "      <td>20000.0</td>\n",
              "      <td>10.78</td>\n",
              "      <td>60.0</td>\n",
              "      <td>10.0</td>\n",
              "      <td>697.0</td>\n",
              "      <td>1.0</td>\n",
              "      <td>0.0</td>\n",
              "      <td>0.0</td>\n",
              "      <td>0.0</td>\n",
              "      <td>0.0</td>\n",
              "      <td>1.0</td>\n",
              "      <td>0.0</td>\n",
              "      <td>0.0</td>\n",
              "      <td>0.0</td>\n",
              "      <td>0.0</td>\n",
              "      <td>0.0</td>\n",
              "      <td>0.0</td>\n",
              "    </tr>\n",
              "    <tr>\n",
              "      <th>3</th>\n",
              "      <td>35000.0</td>\n",
              "      <td>17.06</td>\n",
              "      <td>7.0</td>\n",
              "      <td>10.0</td>\n",
              "      <td>787.0</td>\n",
              "      <td>1.0</td>\n",
              "      <td>0.0</td>\n",
              "      <td>0.0</td>\n",
              "      <td>0.0</td>\n",
              "      <td>1.0</td>\n",
              "      <td>0.0</td>\n",
              "      <td>0.0</td>\n",
              "      <td>0.0</td>\n",
              "      <td>0.0</td>\n",
              "      <td>0.0</td>\n",
              "      <td>0.0</td>\n",
              "      <td>0.0</td>\n",
              "    </tr>\n",
              "    <tr>\n",
              "      <th>4</th>\n",
              "      <td>10400.0</td>\n",
              "      <td>25.37</td>\n",
              "      <td>17.0</td>\n",
              "      <td>3.0</td>\n",
              "      <td>697.0</td>\n",
              "      <td>1.0</td>\n",
              "      <td>0.0</td>\n",
              "      <td>0.0</td>\n",
              "      <td>0.0</td>\n",
              "      <td>0.0</td>\n",
              "      <td>0.0</td>\n",
              "      <td>1.0</td>\n",
              "      <td>0.0</td>\n",
              "      <td>0.0</td>\n",
              "      <td>0.0</td>\n",
              "      <td>0.0</td>\n",
              "      <td>0.0</td>\n",
              "    </tr>\n",
              "  </tbody>\n",
              "</table>\n",
              "</div>"
            ],
            "text/plain": [
              "    amount    dti   zip  emp_length   risk  accept  business  car  \\\n",
              "0   3600.0   5.91  19.0        10.0  677.0     1.0       0.0  0.0   \n",
              "1  24700.0  16.06  57.0        10.0  717.0     1.0       1.0  0.0   \n",
              "2  20000.0  10.78  60.0        10.0  697.0     1.0       0.0  0.0   \n",
              "3  35000.0  17.06   7.0        10.0  787.0     1.0       0.0  0.0   \n",
              "4  10400.0  25.37  17.0         3.0  697.0     1.0       0.0  0.0   \n",
              "\n",
              "   credit_card  debt  home  major_purchases  medical  moving  other  vacation  \\\n",
              "0          0.0   1.0   0.0              0.0      0.0     0.0    0.0       0.0   \n",
              "1          0.0   0.0   0.0              0.0      0.0     0.0    0.0       0.0   \n",
              "2          0.0   0.0   1.0              0.0      0.0     0.0    0.0       0.0   \n",
              "3          0.0   1.0   0.0              0.0      0.0     0.0    0.0       0.0   \n",
              "4          0.0   0.0   0.0              1.0      0.0     0.0    0.0       0.0   \n",
              "\n",
              "   wedding  \n",
              "0      0.0  \n",
              "1      0.0  \n",
              "2      0.0  \n",
              "3      0.0  \n",
              "4      0.0  "
            ]
          },
          "metadata": {
            "tags": []
          },
          "execution_count": 16
        }
      ]
    },
    {
      "cell_type": "code",
      "metadata": {
        "id": "SE2EIMw97ymA",
        "colab_type": "code",
        "outputId": "18914218-8733-4e77-a8d6-a2659bc308e8",
        "colab": {
          "base_uri": "https://localhost:8080/",
          "height": 34
        }
      },
      "source": [
        "len(final_df.zip.unique())"
      ],
      "execution_count": 17,
      "outputs": [
        {
          "output_type": "execute_result",
          "data": {
            "text/plain": [
              "100"
            ]
          },
          "metadata": {
            "tags": []
          },
          "execution_count": 17
        }
      ]
    },
    {
      "cell_type": "code",
      "metadata": {
        "id": "0d8lBtuwQUzy",
        "colab_type": "code",
        "colab": {
          "base_uri": "https://localhost:8080/",
          "height": 505
        },
        "outputId": "24e5781c-8e2d-4dd3-8bc6-027caeed9ef4"
      },
      "source": [
        "plt.style.use('ggplot')\n",
        "sns.set(rc={'figure.figsize':(12, 8)})\n",
        "\n",
        "amount = pd.DataFrame({\"amount\":final_df[\"amount\"], \"log(amount + 1)\":np.log1p(final_df[\"amount\"])})\n",
        "amount.hist();"
      ],
      "execution_count": 25,
      "outputs": [
        {
          "output_type": "display_data",
          "data": {
            "image/png": "[encoded data removed]",
            "text/plain": [
              "<Figure size 864x576 with 2 Axes>"
            ]
          },
          "metadata": {
            "tags": []
          }
        }
      ]
    },
    {
      "cell_type": "code",
      "metadata": {
        "id": "6sV3BMApRU9O",
        "colab_type": "code",
        "colab": {
          "base_uri": "https://localhost:8080/",
          "height": 505
        },
        "outputId": "0e9e624b-7a23-4d15-94fd-c8c523233b74"
      },
      "source": [
        "from yellowbrick.target import ClassBalance\n",
        "\n",
        "visualizer = ClassBalance(labels=[\"Rejected\",\"Accepted\"])\n",
        "visualizer.fit(final_df.accept.values)\n",
        "visualizer.poof()"
      ],
      "execution_count": 36,
      "outputs": [
        {
          "output_type": "display_data",
          "data": {
            "image/png": "[encoded data removed]",
            "text/plain": [
              "<Figure size 864x576 with 1 Axes>"
            ]
          },
          "metadata": {
            "tags": []
          }
        }
      ]
    },
    {
      "cell_type": "code",
      "metadata": {
        "id": "TZ9BR4Nu3oWC",
        "colab_type": "code",
        "colab": {}
      },
      "source": [
        "#log transform skewed numeric feature\n",
        "final_df['amount'] = np.log1p(final_df['amount'])"
      ],
      "execution_count": 0,
      "outputs": []
    },
    {
      "cell_type": "code",
      "metadata": {
        "id": "lcgDK7zR3oTk",
        "colab_type": "code",
        "colab": {}
      },
      "source": [
        "from sklearn.preprocessing import LabelBinarizer, LabelEncoder, OneHotEncoder, OrdinalEncoder"
      ],
      "execution_count": 0,
      "outputs": []
    },
    {
      "cell_type": "code",
      "metadata": {
        "id": "17Y4SyU98bef",
        "colab_type": "code",
        "outputId": "71a256e2-5f43-4fc6-b9cf-05ef089dd240",
        "colab": {
          "base_uri": "https://localhost:8080/",
          "height": 206
        }
      },
      "source": [
        "final_df.head()"
      ],
      "execution_count": 29,
      "outputs": [
        {
          "output_type": "execute_result",
          "data": {
            "text/html": [
              "<div>\n",
              "<style scoped>\n",
              "    .dataframe tbody tr th:only-of-type {\n",
              "        vertical-align: middle;\n",
              "    }\n",
              "\n",
              "    .dataframe tbody tr th {\n",
              "        vertical-align: top;\n",
              "    }\n",
              "\n",
              "    .dataframe thead th {\n",
              "        text-align: right;\n",
              "    }\n",
              "</style>\n",
              "<table border=\"1\" class=\"dataframe\">\n",
              "  <thead>\n",
              "    <tr style=\"text-align: right;\">\n",
              "      <th></th>\n",
              "      <th>amount</th>\n",
              "      <th>dti</th>\n",
              "      <th>zip</th>\n",
              "      <th>emp_length</th>\n",
              "      <th>risk</th>\n",
              "      <th>accept</th>\n",
              "      <th>business</th>\n",
              "      <th>car</th>\n",
              "      <th>credit_card</th>\n",
              "      <th>debt</th>\n",
              "      <th>home</th>\n",
              "      <th>major_purchases</th>\n",
              "      <th>medical</th>\n",
              "      <th>moving</th>\n",
              "      <th>other</th>\n",
              "      <th>vacation</th>\n",
              "      <th>wedding</th>\n",
              "    </tr>\n",
              "  </thead>\n",
              "  <tbody>\n",
              "    <tr>\n",
              "      <th>0</th>\n",
              "      <td>1.168761</td>\n",
              "      <td>5.91</td>\n",
              "      <td>19.0</td>\n",
              "      <td>10.0</td>\n",
              "      <td>677.0</td>\n",
              "      <td>1.0</td>\n",
              "      <td>0.0</td>\n",
              "      <td>0.0</td>\n",
              "      <td>0.0</td>\n",
              "      <td>1.0</td>\n",
              "      <td>0.0</td>\n",
              "      <td>0.0</td>\n",
              "      <td>0.0</td>\n",
              "      <td>0.0</td>\n",
              "      <td>0.0</td>\n",
              "      <td>0.0</td>\n",
              "      <td>0.0</td>\n",
              "    </tr>\n",
              "    <tr>\n",
              "      <th>1</th>\n",
              "      <td>1.226202</td>\n",
              "      <td>16.06</td>\n",
              "      <td>57.0</td>\n",
              "      <td>10.0</td>\n",
              "      <td>717.0</td>\n",
              "      <td>1.0</td>\n",
              "      <td>1.0</td>\n",
              "      <td>0.0</td>\n",
              "      <td>0.0</td>\n",
              "      <td>0.0</td>\n",
              "      <td>0.0</td>\n",
              "      <td>0.0</td>\n",
              "      <td>0.0</td>\n",
              "      <td>0.0</td>\n",
              "      <td>0.0</td>\n",
              "      <td>0.0</td>\n",
              "      <td>0.0</td>\n",
              "    </tr>\n",
              "    <tr>\n",
              "      <th>2</th>\n",
              "      <td>1.220561</td>\n",
              "      <td>10.78</td>\n",
              "      <td>60.0</td>\n",
              "      <td>10.0</td>\n",
              "      <td>697.0</td>\n",
              "      <td>1.0</td>\n",
              "      <td>0.0</td>\n",
              "      <td>0.0</td>\n",
              "      <td>0.0</td>\n",
              "      <td>0.0</td>\n",
              "      <td>1.0</td>\n",
              "      <td>0.0</td>\n",
              "      <td>0.0</td>\n",
              "      <td>0.0</td>\n",
              "      <td>0.0</td>\n",
              "      <td>0.0</td>\n",
              "      <td>0.0</td>\n",
              "    </tr>\n",
              "    <tr>\n",
              "      <th>3</th>\n",
              "      <td>1.235220</td>\n",
              "      <td>17.06</td>\n",
              "      <td>7.0</td>\n",
              "      <td>10.0</td>\n",
              "      <td>787.0</td>\n",
              "      <td>1.0</td>\n",
              "      <td>0.0</td>\n",
              "      <td>0.0</td>\n",
              "      <td>0.0</td>\n",
              "      <td>1.0</td>\n",
              "      <td>0.0</td>\n",
              "      <td>0.0</td>\n",
              "      <td>0.0</td>\n",
              "      <td>0.0</td>\n",
              "      <td>0.0</td>\n",
              "      <td>0.0</td>\n",
              "      <td>0.0</td>\n",
              "    </tr>\n",
              "    <tr>\n",
              "      <th>4</th>\n",
              "      <td>1.202144</td>\n",
              "      <td>25.37</td>\n",
              "      <td>17.0</td>\n",
              "      <td>3.0</td>\n",
              "      <td>697.0</td>\n",
              "      <td>1.0</td>\n",
              "      <td>0.0</td>\n",
              "      <td>0.0</td>\n",
              "      <td>0.0</td>\n",
              "      <td>0.0</td>\n",
              "      <td>0.0</td>\n",
              "      <td>1.0</td>\n",
              "      <td>0.0</td>\n",
              "      <td>0.0</td>\n",
              "      <td>0.0</td>\n",
              "      <td>0.0</td>\n",
              "      <td>0.0</td>\n",
              "    </tr>\n",
              "  </tbody>\n",
              "</table>\n",
              "</div>"
            ],
            "text/plain": [
              "     amount    dti   zip  emp_length   risk  accept  business  car  \\\n",
              "0  1.168761   5.91  19.0        10.0  677.0     1.0       0.0  0.0   \n",
              "1  1.226202  16.06  57.0        10.0  717.0     1.0       1.0  0.0   \n",
              "2  1.220561  10.78  60.0        10.0  697.0     1.0       0.0  0.0   \n",
              "3  1.235220  17.06   7.0        10.0  787.0     1.0       0.0  0.0   \n",
              "4  1.202144  25.37  17.0         3.0  697.0     1.0       0.0  0.0   \n",
              "\n",
              "   credit_card  debt  home  major_purchases  medical  moving  other  vacation  \\\n",
              "0          0.0   1.0   0.0              0.0      0.0     0.0    0.0       0.0   \n",
              "1          0.0   0.0   0.0              0.0      0.0     0.0    0.0       0.0   \n",
              "2          0.0   0.0   1.0              0.0      0.0     0.0    0.0       0.0   \n",
              "3          0.0   1.0   0.0              0.0      0.0     0.0    0.0       0.0   \n",
              "4          0.0   0.0   0.0              1.0      0.0     0.0    0.0       0.0   \n",
              "\n",
              "   wedding  \n",
              "0      0.0  \n",
              "1      0.0  \n",
              "2      0.0  \n",
              "3      0.0  \n",
              "4      0.0  "
            ]
          },
          "metadata": {
            "tags": []
          },
          "execution_count": 29
        }
      ]
    },
    {
      "cell_type": "code",
      "metadata": {
        "id": "rKdtC7Weuf45",
        "colab_type": "code",
        "colab": {}
      },
      "source": [
        "from sklearn.model_selection import train_test_split\n",
        "\n",
        "X = final_df.loc[:, final_df.columns!='accept']\n",
        "y = final_df.loc[:, final_df.columns=='accept']\n",
        "\n",
        "X_train, X_test, y_train, y_test = train_test_split(X, y, test_size=0.2, stratify=y, random_state=42)"
      ],
      "execution_count": 0,
      "outputs": []
    },
    {
      "cell_type": "code",
      "metadata": {
        "id": "JPkIlG4Xyvyt",
        "colab_type": "code",
        "outputId": "0a45ae25-102a-4084-8753-fe1aeb9cdaa6",
        "colab": {
          "base_uri": "https://localhost:8080/",
          "height": 34
        }
      },
      "source": [
        "X_train.shape, y_train.shape, X_test.shape, y_test.shape"
      ],
      "execution_count": 31,
      "outputs": [
        {
          "output_type": "execute_result",
          "data": {
            "text/plain": [
              "((8884970, 16), (8884970, 1), (2221243, 16), (2221243, 1))"
            ]
          },
          "metadata": {
            "tags": []
          },
          "execution_count": 31
        }
      ]
    },
    {
      "cell_type": "code",
      "metadata": {
        "id": "hQ6f3B82yv2n",
        "colab_type": "code",
        "outputId": "6643eb26-63e5-4fbf-a558-274e4c98248c",
        "colab": {
          "base_uri": "https://localhost:8080/",
          "height": 139
        }
      },
      "source": [
        "import xgboost as xgb\n",
        "\n",
        "clf = xgb.XGBClassifier(learning_rate=0.1,\n",
        "                        n_estimators=200,\n",
        "                        min_child_weight=8,\n",
        "                        scale_pos_weight=1,\n",
        "                        objective= 'binary:logistic',\n",
        "                        seed=27,\n",
        "                        tree_method='gpu_hist',\n",
        "                        metric='auc')\n",
        "clf.fit(X_train, y_train, eval_set=[(X_test, y_test)], verbose=False)"
      ],
      "execution_count": 32,
      "outputs": [
        {
          "output_type": "execute_result",
          "data": {
            "text/plain": [
              "XGBClassifier(base_score=0.5, booster='gbtree', colsample_bylevel=1,\n",
              "              colsample_bynode=1, colsample_bytree=1, gamma=0,\n",
              "              learning_rate=0.1, max_delta_step=0, max_depth=3, metric='auc',\n",
              "              min_child_weight=8, missing=None, n_estimators=200, n_jobs=1,\n",
              "              nthread=None, objective='binary:logistic', random_state=0,\n",
              "              reg_alpha=0, reg_lambda=1, scale_pos_weight=1, seed=27,\n",
              "              silent=None, subsample=1, tree_method='gpu_hist', verbosity=1)"
            ]
          },
          "metadata": {
            "tags": []
          },
          "execution_count": 32
        }
      ]
    },
    {
      "cell_type": "code",
      "metadata": {
        "id": "YtoOKE-Uyv_M",
        "colab_type": "code",
        "outputId": "b057b5cd-ec63-4a47-dc0d-b7d8d0d68978",
        "colab": {
          "base_uri": "https://localhost:8080/",
          "height": 34
        }
      },
      "source": [
        "from sklearn.metrics import *\n",
        "\n",
        "y_pred = clf.predict(X_test)\n",
        "accuracy_score(y_test, y_pred)"
      ],
      "execution_count": 33,
      "outputs": [
        {
          "output_type": "execute_result",
          "data": {
            "text/plain": [
              "0.958082028846011"
            ]
          },
          "metadata": {
            "tags": []
          },
          "execution_count": 33
        }
      ]
    },
    {
      "cell_type": "code",
      "metadata": {
        "id": "ar7bUT4HywGo",
        "colab_type": "code",
        "outputId": "35679fd8-2d02-4f8f-cceb-e47651cfcd2b",
        "colab": {
          "base_uri": "https://localhost:8080/",
          "height": 34
        }
      },
      "source": [
        "f1_score(y_test, y_pred)"
      ],
      "execution_count": 34,
      "outputs": [
        {
          "output_type": "execute_result",
          "data": {
            "text/plain": [
              "0.8890858366746955"
            ]
          },
          "metadata": {
            "tags": []
          },
          "execution_count": 34
        }
      ]
    },
    {
      "cell_type": "code",
      "metadata": {
        "id": "Sarbwi2MywJX",
        "colab_type": "code",
        "outputId": "08be2f07-95e2-42e2-ab09-f372442538be",
        "colab": {
          "base_uri": "https://localhost:8080/",
          "height": 581
        }
      },
      "source": [
        "from yellowbrick.classifier import PrecisionRecallCurve\n",
        "from yellowbrick.classifier import ClassificationReport\n",
        "from yellowbrick.classifier import ClassPredictionError\n",
        "from yellowbrick.classifier import DiscriminationThreshold\n",
        "\n",
        "visualizer = ClassificationReport(clf, classes=[\"Rejected\", \"Accepted\"], support=True)\n",
        "\n",
        "visualizer.fit(X_train, y_train)\n",
        "visualizer.score(X_test, y_test)\n",
        "visualizer.poof()    "
      ],
      "execution_count": 37,
      "outputs": [
        {
          "output_type": "display_data",
          "data": {
            "image/png": "[encoded data removed]",
            "text/plain": [
              "<Figure size 864x576 with 2 Axes>"
            ]
          },
          "metadata": {
            "tags": []
          }
        }
      ]
    },
    {
      "cell_type": "code",
      "metadata": {
        "id": "e3pxJJibywMU",
        "colab_type": "code",
        "outputId": "3a50e9dc-e9c7-4ab7-8393-f71c2d559868",
        "colab": {
          "base_uri": "https://localhost:8080/",
          "height": 522
        }
      },
      "source": [
        "from yellowbrick.classifier import ROCAUC\n",
        "\n",
        "visualizer = ROCAUC(clf, classes=[\"Rejected\", \"Accepted\"])\n",
        "visualizer.fit(X_train, y_train)        \n",
        "visualizer.score(X_test, y_test)        \n",
        "visualizer.poof()                      "
      ],
      "execution_count": 39,
      "outputs": [
        {
          "output_type": "display_data",
          "data": {
            "image/png": "[encoded data removed]",
            "text/plain": [
              "<Figure size 864x576 with 1 Axes>"
            ]
          },
          "metadata": {
            "tags": []
          }
        }
      ]
    },
    {
      "cell_type": "code",
      "metadata": {
        "id": "JrI57mC_yv9M",
        "colab_type": "code",
        "colab": {}
      },
      "source": [
        "max_loan_data = final_df.amount.max() + 1/5 * final_df.amount.max()\n",
        "#loan_range = np.arange(max_loan_data,  0, -250)\n",
        "loan_range = np.linspace(max_loan_data, 0, 10000)\n",
        "def max_accepted_loan(test):\n",
        "  loans = []\n",
        "  for loan in loan_range:\n",
        "    inputs = test\n",
        "    inputs.insert(0, \"amount\", loan)\n",
        "    reject = clf.predict_proba(inputs)[0][0]\n",
        "    accept = clf.predict_proba(inputs)[0][1]\n",
        "\n",
        "    if accept == 1: return round(np.expm1(loan), 2)\n",
        "    if accept > 0.4 and accept < 0.91: return round(np.expm1(loan), 2), accept\n",
        "    else:\n",
        "      return(\"We are unable to provide you with a loan at this time.\")"
      ],
      "execution_count": 0,
      "outputs": []
    },
    {
      "cell_type": "code",
      "metadata": {
        "id": "lRGDDOM5GfUq",
        "colab_type": "code",
        "outputId": "09a30aaa-3827-4cf6-a94c-f57dff742134",
        "colab": {
          "base_uri": "https://localhost:8080/",
          "height": 34
        }
      },
      "source": [
        "max_accepted_loan(X_test.iloc[0:1, 1:16])"
      ],
      "execution_count": 0,
      "outputs": [
        {
          "output_type": "execute_result",
          "data": {
            "text/plain": [
              "(23733074.19, 0.756856)"
            ]
          },
          "metadata": {
            "tags": []
          },
          "execution_count": 153
        }
      ]
    },
    {
      "cell_type": "code",
      "metadata": {
        "id": "SWM63JxwGfXH",
        "colab_type": "code",
        "outputId": "498654b4-721e-4422-ca47-c88c4a1a8045",
        "colab": {
          "base_uri": "https://localhost:8080/",
          "height": 34
        }
      },
      "source": [
        "clf.predict_proba(X_test.iloc[0:1, 0:16])[0][1]"
      ],
      "execution_count": 0,
      "outputs": [
        {
          "output_type": "execute_result",
          "data": {
            "text/plain": [
              "0.88529974"
            ]
          },
          "metadata": {
            "tags": []
          },
          "execution_count": 141
        }
      ]
    },
    {
      "cell_type": "code",
      "metadata": {
        "id": "bvsd-WPSU6oH",
        "colab_type": "code",
        "outputId": "1bc51d2d-a109-4f7a-de0b-d4d79b9509c5",
        "colab": {
          "base_uri": "https://localhost:8080/",
          "height": 34
        }
      },
      "source": [
        "np.expm1(16.98238021)"
      ],
      "execution_count": 0,
      "outputs": [
        {
          "output_type": "execute_result",
          "data": {
            "text/plain": [
              "23733074.17032291"
            ]
          },
          "metadata": {
            "tags": []
          },
          "execution_count": 149
        }
      ]
    },
    {
      "cell_type": "code",
      "metadata": {
        "id": "Zjl1fQdMPq9Y",
        "colab_type": "code",
        "outputId": "8dcb9c9c-c69f-413c-acb7-a9f5d22a8821",
        "colab": {
          "base_uri": "https://localhost:8080/",
          "height": 1000
        }
      },
      "source": [
        "np.linspace(max_loan_data, 0, 1000)"
      ],
      "execution_count": 0,
      "outputs": [
        {
          "output_type": "execute_result",
          "data": {
            "text/plain": [
              "array([16.98238021, 16.96538083, 16.94838145, 16.93138207, 16.91438269,\n",
              "       16.89738331, 16.88038393, 16.86338455, 16.84638517, 16.82938579,\n",
              "       16.81238641, 16.79538704, 16.77838766, 16.76138828, 16.7443889 ,\n",
              "       16.72738952, 16.71039014, 16.69339076, 16.67639138, 16.659392  ,\n",
              "       16.64239262, 16.62539324, 16.60839386, 16.59139448, 16.5743951 ,\n",
              "       16.55739572, 16.54039634, 16.52339696, 16.50639758, 16.4893982 ,\n",
              "       16.47239882, 16.45539944, 16.43840006, 16.42140068, 16.4044013 ,\n",
              "       16.38740192, 16.37040255, 16.35340317, 16.33640379, 16.31940441,\n",
              "       16.30240503, 16.28540565, 16.26840627, 16.25140689, 16.23440751,\n",
              "       16.21740813, 16.20040875, 16.18340937, 16.16640999, 16.14941061,\n",
              "       16.13241123, 16.11541185, 16.09841247, 16.08141309, 16.06441371,\n",
              "       16.04741433, 16.03041495, 16.01341557, 15.99641619, 15.97941681,\n",
              "       15.96241744, 15.94541806, 15.92841868, 15.9114193 , 15.89441992,\n",
              "       15.87742054, 15.86042116, 15.84342178, 15.8264224 , 15.80942302,\n",
              "       15.79242364, 15.77542426, 15.75842488, 15.7414255 , 15.72442612,\n",
              "       15.70742674, 15.69042736, 15.67342798, 15.6564286 , 15.63942922,\n",
              "       15.62242984, 15.60543046, 15.58843108, 15.5714317 , 15.55443233,\n",
              "       15.53743295, 15.52043357, 15.50343419, 15.48643481, 15.46943543,\n",
              "       15.45243605, 15.43543667, 15.41843729, 15.40143791, 15.38443853,\n",
              "       15.36743915, 15.35043977, 15.33344039, 15.31644101, 15.29944163,\n",
              "       15.28244225, 15.26544287, 15.24844349, 15.23144411, 15.21444473,\n",
              "       15.19744535, 15.18044597, 15.16344659, 15.14644721, 15.12944784,\n",
              "       15.11244846, 15.09544908, 15.0784497 , 15.06145032, 15.04445094,\n",
              "       15.02745156, 15.01045218, 14.9934528 , 14.97645342, 14.95945404,\n",
              "       14.94245466, 14.92545528, 14.9084559 , 14.89145652, 14.87445714,\n",
              "       14.85745776, 14.84045838, 14.823459  , 14.80645962, 14.78946024,\n",
              "       14.77246086, 14.75546148, 14.7384621 , 14.72146273, 14.70446335,\n",
              "       14.68746397, 14.67046459, 14.65346521, 14.63646583, 14.61946645,\n",
              "       14.60246707, 14.58546769, 14.56846831, 14.55146893, 14.53446955,\n",
              "       14.51747017, 14.50047079, 14.48347141, 14.46647203, 14.44947265,\n",
              "       14.43247327, 14.41547389, 14.39847451, 14.38147513, 14.36447575,\n",
              "       14.34747637, 14.33047699, 14.31347761, 14.29647824, 14.27947886,\n",
              "       14.26247948, 14.2454801 , 14.22848072, 14.21148134, 14.19448196,\n",
              "       14.17748258, 14.1604832 , 14.14348382, 14.12648444, 14.10948506,\n",
              "       14.09248568, 14.0754863 , 14.05848692, 14.04148754, 14.02448816,\n",
              "       14.00748878, 13.9904894 , 13.97349002, 13.95649064, 13.93949126,\n",
              "       13.92249188, 13.9054925 , 13.88849313, 13.87149375, 13.85449437,\n",
              "       13.83749499, 13.82049561, 13.80349623, 13.78649685, 13.76949747,\n",
              "       13.75249809, 13.73549871, 13.71849933, 13.70149995, 13.68450057,\n",
              "       13.66750119, 13.65050181, 13.63350243, 13.61650305, 13.59950367,\n",
              "       13.58250429, 13.56550491, 13.54850553, 13.53150615, 13.51450677,\n",
              "       13.49750739, 13.48050802, 13.46350864, 13.44650926, 13.42950988,\n",
              "       13.4125105 , 13.39551112, 13.37851174, 13.36151236, 13.34451298,\n",
              "       13.3275136 , 13.31051422, 13.29351484, 13.27651546, 13.25951608,\n",
              "       13.2425167 , 13.22551732, 13.20851794, 13.19151856, 13.17451918,\n",
              "       13.1575198 , 13.14052042, 13.12352104, 13.10652166, 13.08952228,\n",
              "       13.0725229 , 13.05552353, 13.03852415, 13.02152477, 13.00452539,\n",
              "       12.98752601, 12.97052663, 12.95352725, 12.93652787, 12.91952849,\n",
              "       12.90252911, 12.88552973, 12.86853035, 12.85153097, 12.83453159,\n",
              "       12.81753221, 12.80053283, 12.78353345, 12.76653407, 12.74953469,\n",
              "       12.73253531, 12.71553593, 12.69853655, 12.68153717, 12.66453779,\n",
              "       12.64753842, 12.63053904, 12.61353966, 12.59654028, 12.5795409 ,\n",
              "       12.56254152, 12.54554214, 12.52854276, 12.51154338, 12.494544  ,\n",
              "       12.47754462, 12.46054524, 12.44354586, 12.42654648, 12.4095471 ,\n",
              "       12.39254772, 12.37554834, 12.35854896, 12.34154958, 12.3245502 ,\n",
              "       12.30755082, 12.29055144, 12.27355206, 12.25655268, 12.2395533 ,\n",
              "       12.22255393, 12.20555455, 12.18855517, 12.17155579, 12.15455641,\n",
              "       12.13755703, 12.12055765, 12.10355827, 12.08655889, 12.06955951,\n",
              "       12.05256013, 12.03556075, 12.01856137, 12.00156199, 11.98456261,\n",
              "       11.96756323, 11.95056385, 11.93356447, 11.91656509, 11.89956571,\n",
              "       11.88256633, 11.86556695, 11.84856757, 11.83156819, 11.81456882,\n",
              "       11.79756944, 11.78057006, 11.76357068, 11.7465713 , 11.72957192,\n",
              "       11.71257254, 11.69557316, 11.67857378, 11.6615744 , 11.64457502,\n",
              "       11.62757564, 11.61057626, 11.59357688, 11.5765775 , 11.55957812,\n",
              "       11.54257874, 11.52557936, 11.50857998, 11.4915806 , 11.47458122,\n",
              "       11.45758184, 11.44058246, 11.42358308, 11.40658371, 11.38958433,\n",
              "       11.37258495, 11.35558557, 11.33858619, 11.32158681, 11.30458743,\n",
              "       11.28758805, 11.27058867, 11.25358929, 11.23658991, 11.21959053,\n",
              "       11.20259115, 11.18559177, 11.16859239, 11.15159301, 11.13459363,\n",
              "       11.11759425, 11.10059487, 11.08359549, 11.06659611, 11.04959673,\n",
              "       11.03259735, 11.01559797, 10.99859859, 10.98159922, 10.96459984,\n",
              "       10.94760046, 10.93060108, 10.9136017 , 10.89660232, 10.87960294,\n",
              "       10.86260356, 10.84560418, 10.8286048 , 10.81160542, 10.79460604,\n",
              "       10.77760666, 10.76060728, 10.7436079 , 10.72660852, 10.70960914,\n",
              "       10.69260976, 10.67561038, 10.658611  , 10.64161162, 10.62461224,\n",
              "       10.60761286, 10.59061348, 10.57361411, 10.55661473, 10.53961535,\n",
              "       10.52261597, 10.50561659, 10.48861721, 10.47161783, 10.45461845,\n",
              "       10.43761907, 10.42061969, 10.40362031, 10.38662093, 10.36962155,\n",
              "       10.35262217, 10.33562279, 10.31862341, 10.30162403, 10.28462465,\n",
              "       10.26762527, 10.25062589, 10.23362651, 10.21662713, 10.19962775,\n",
              "       10.18262837, 10.16562899, 10.14862962, 10.13163024, 10.11463086,\n",
              "       10.09763148, 10.0806321 , 10.06363272, 10.04663334, 10.02963396,\n",
              "       10.01263458,  9.9956352 ,  9.97863582,  9.96163644,  9.94463706,\n",
              "        9.92763768,  9.9106383 ,  9.89363892,  9.87663954,  9.85964016,\n",
              "        9.84264078,  9.8256414 ,  9.80864202,  9.79164264,  9.77464326,\n",
              "        9.75764388,  9.74064451,  9.72364513,  9.70664575,  9.68964637,\n",
              "        9.67264699,  9.65564761,  9.63864823,  9.62164885,  9.60464947,\n",
              "        9.58765009,  9.57065071,  9.55365133,  9.53665195,  9.51965257,\n",
              "        9.50265319,  9.48565381,  9.46865443,  9.45165505,  9.43465567,\n",
              "        9.41765629,  9.40065691,  9.38365753,  9.36665815,  9.34965877,\n",
              "        9.3326594 ,  9.31566002,  9.29866064,  9.28166126,  9.26466188,\n",
              "        9.2476625 ,  9.23066312,  9.21366374,  9.19666436,  9.17966498,\n",
              "        9.1626656 ,  9.14566622,  9.12866684,  9.11166746,  9.09466808,\n",
              "        9.0776687 ,  9.06066932,  9.04366994,  9.02667056,  9.00967118,\n",
              "        8.9926718 ,  8.97567242,  8.95867304,  8.94167366,  8.92467428,\n",
              "        8.90767491,  8.89067553,  8.87367615,  8.85667677,  8.83967739,\n",
              "        8.82267801,  8.80567863,  8.78867925,  8.77167987,  8.75468049,\n",
              "        8.73768111,  8.72068173,  8.70368235,  8.68668297,  8.66968359,\n",
              "        8.65268421,  8.63568483,  8.61868545,  8.60168607,  8.58468669,\n",
              "        8.56768731,  8.55068793,  8.53368855,  8.51668917,  8.4996898 ,\n",
              "        8.48269042,  8.46569104,  8.44869166,  8.43169228,  8.4146929 ,\n",
              "        8.39769352,  8.38069414,  8.36369476,  8.34669538,  8.329696  ,\n",
              "        8.31269662,  8.29569724,  8.27869786,  8.26169848,  8.2446991 ,\n",
              "        8.22769972,  8.21070034,  8.19370096,  8.17670158,  8.1597022 ,\n",
              "        8.14270282,  8.12570344,  8.10870406,  8.09170468,  8.07470531,\n",
              "        8.05770593,  8.04070655,  8.02370717,  8.00670779,  7.98970841,\n",
              "        7.97270903,  7.95570965,  7.93871027,  7.92171089,  7.90471151,\n",
              "        7.88771213,  7.87071275,  7.85371337,  7.83671399,  7.81971461,\n",
              "        7.80271523,  7.78571585,  7.76871647,  7.75171709,  7.73471771,\n",
              "        7.71771833,  7.70071895,  7.68371957,  7.6667202 ,  7.64972082,\n",
              "        7.63272144,  7.61572206,  7.59872268,  7.5817233 ,  7.56472392,\n",
              "        7.54772454,  7.53072516,  7.51372578,  7.4967264 ,  7.47972702,\n",
              "        7.46272764,  7.44572826,  7.42872888,  7.4117295 ,  7.39473012,\n",
              "        7.37773074,  7.36073136,  7.34373198,  7.3267326 ,  7.30973322,\n",
              "        7.29273384,  7.27573446,  7.25873509,  7.24173571,  7.22473633,\n",
              "        7.20773695,  7.19073757,  7.17373819,  7.15673881,  7.13973943,\n",
              "        7.12274005,  7.10574067,  7.08874129,  7.07174191,  7.05474253,\n",
              "        7.03774315,  7.02074377,  7.00374439,  6.98674501,  6.96974563,\n",
              "        6.95274625,  6.93574687,  6.91874749,  6.90174811,  6.88474873,\n",
              "        6.86774935,  6.85074997,  6.8337506 ,  6.81675122,  6.79975184,\n",
              "        6.78275246,  6.76575308,  6.7487537 ,  6.73175432,  6.71475494,\n",
              "        6.69775556,  6.68075618,  6.6637568 ,  6.64675742,  6.62975804,\n",
              "        6.61275866,  6.59575928,  6.5787599 ,  6.56176052,  6.54476114,\n",
              "        6.52776176,  6.51076238,  6.493763  ,  6.47676362,  6.45976424,\n",
              "        6.44276486,  6.42576549,  6.40876611,  6.39176673,  6.37476735,\n",
              "        6.35776797,  6.34076859,  6.32376921,  6.30676983,  6.28977045,\n",
              "        6.27277107,  6.25577169,  6.23877231,  6.22177293,  6.20477355,\n",
              "        6.18777417,  6.17077479,  6.15377541,  6.13677603,  6.11977665,\n",
              "        6.10277727,  6.08577789,  6.06877851,  6.05177913,  6.03477975,\n",
              "        6.01778037,  6.000781  ,  5.98378162,  5.96678224,  5.94978286,\n",
              "        5.93278348,  5.9157841 ,  5.89878472,  5.88178534,  5.86478596,\n",
              "        5.84778658,  5.8307872 ,  5.81378782,  5.79678844,  5.77978906,\n",
              "        5.76278968,  5.7457903 ,  5.72879092,  5.71179154,  5.69479216,\n",
              "        5.67779278,  5.6607934 ,  5.64379402,  5.62679464,  5.60979526,\n",
              "        5.59279589,  5.57579651,  5.55879713,  5.54179775,  5.52479837,\n",
              "        5.50779899,  5.49079961,  5.47380023,  5.45680085,  5.43980147,\n",
              "        5.42280209,  5.40580271,  5.38880333,  5.37180395,  5.35480457,\n",
              "        5.33780519,  5.32080581,  5.30380643,  5.28680705,  5.26980767,\n",
              "        5.25280829,  5.23580891,  5.21880953,  5.20181015,  5.18481078,\n",
              "        5.1678114 ,  5.15081202,  5.13381264,  5.11681326,  5.09981388,\n",
              "        5.0828145 ,  5.06581512,  5.04881574,  5.03181636,  5.01481698,\n",
              "        4.9978176 ,  4.98081822,  4.96381884,  4.94681946,  4.92982008,\n",
              "        4.9128207 ,  4.89582132,  4.87882194,  4.86182256,  4.84482318,\n",
              "        4.8278238 ,  4.81082442,  4.79382504,  4.77682566,  4.75982629,\n",
              "        4.74282691,  4.72582753,  4.70882815,  4.69182877,  4.67482939,\n",
              "        4.65783001,  4.64083063,  4.62383125,  4.60683187,  4.58983249,\n",
              "        4.57283311,  4.55583373,  4.53883435,  4.52183497,  4.50483559,\n",
              "        4.48783621,  4.47083683,  4.45383745,  4.43683807,  4.41983869,\n",
              "        4.40283931,  4.38583993,  4.36884055,  4.35184118,  4.3348418 ,\n",
              "        4.31784242,  4.30084304,  4.28384366,  4.26684428,  4.2498449 ,\n",
              "        4.23284552,  4.21584614,  4.19884676,  4.18184738,  4.164848  ,\n",
              "        4.14784862,  4.13084924,  4.11384986,  4.09685048,  4.0798511 ,\n",
              "        4.06285172,  4.04585234,  4.02885296,  4.01185358,  3.9948542 ,\n",
              "        3.97785482,  3.96085544,  3.94385606,  3.92685669,  3.90985731,\n",
              "        3.89285793,  3.87585855,  3.85885917,  3.84185979,  3.82486041,\n",
              "        3.80786103,  3.79086165,  3.77386227,  3.75686289,  3.73986351,\n",
              "        3.72286413,  3.70586475,  3.68886537,  3.67186599,  3.65486661,\n",
              "        3.63786723,  3.62086785,  3.60386847,  3.58686909,  3.56986971,\n",
              "        3.55287033,  3.53587095,  3.51887158,  3.5018722 ,  3.48487282,\n",
              "        3.46787344,  3.45087406,  3.43387468,  3.4168753 ,  3.39987592,\n",
              "        3.38287654,  3.36587716,  3.34887778,  3.3318784 ,  3.31487902,\n",
              "        3.29787964,  3.28088026,  3.26388088,  3.2468815 ,  3.22988212,\n",
              "        3.21288274,  3.19588336,  3.17888398,  3.1618846 ,  3.14488522,\n",
              "        3.12788584,  3.11088647,  3.09388709,  3.07688771,  3.05988833,\n",
              "        3.04288895,  3.02588957,  3.00889019,  2.99189081,  2.97489143,\n",
              "        2.95789205,  2.94089267,  2.92389329,  2.90689391,  2.88989453,\n",
              "        2.87289515,  2.85589577,  2.83889639,  2.82189701,  2.80489763,\n",
              "        2.78789825,  2.77089887,  2.75389949,  2.73690011,  2.71990073,\n",
              "        2.70290135,  2.68590198,  2.6689026 ,  2.65190322,  2.63490384,\n",
              "        2.61790446,  2.60090508,  2.5839057 ,  2.56690632,  2.54990694,\n",
              "        2.53290756,  2.51590818,  2.4989088 ,  2.48190942,  2.46491004,\n",
              "        2.44791066,  2.43091128,  2.4139119 ,  2.39691252,  2.37991314,\n",
              "        2.36291376,  2.34591438,  2.328915  ,  2.31191562,  2.29491624,\n",
              "        2.27791687,  2.26091749,  2.24391811,  2.22691873,  2.20991935,\n",
              "        2.19291997,  2.17592059,  2.15892121,  2.14192183,  2.12492245,\n",
              "        2.10792307,  2.09092369,  2.07392431,  2.05692493,  2.03992555,\n",
              "        2.02292617,  2.00592679,  1.98892741,  1.97192803,  1.95492865,\n",
              "        1.93792927,  1.92092989,  1.90393051,  1.88693113,  1.86993175,\n",
              "        1.85293238,  1.835933  ,  1.81893362,  1.80193424,  1.78493486,\n",
              "        1.76793548,  1.7509361 ,  1.73393672,  1.71693734,  1.69993796,\n",
              "        1.68293858,  1.6659392 ,  1.64893982,  1.63194044,  1.61494106,\n",
              "        1.59794168,  1.5809423 ,  1.56394292,  1.54694354,  1.52994416,\n",
              "        1.51294478,  1.4959454 ,  1.47894602,  1.46194664,  1.44494727,\n",
              "        1.42794789,  1.41094851,  1.39394913,  1.37694975,  1.35995037,\n",
              "        1.34295099,  1.32595161,  1.30895223,  1.29195285,  1.27495347,\n",
              "        1.25795409,  1.24095471,  1.22395533,  1.20695595,  1.18995657,\n",
              "        1.17295719,  1.15595781,  1.13895843,  1.12195905,  1.10495967,\n",
              "        1.08796029,  1.07096091,  1.05396153,  1.03696216,  1.01996278,\n",
              "        1.0029634 ,  0.98596402,  0.96896464,  0.95196526,  0.93496588,\n",
              "        0.9179665 ,  0.90096712,  0.88396774,  0.86696836,  0.84996898,\n",
              "        0.8329696 ,  0.81597022,  0.79897084,  0.78197146,  0.76497208,\n",
              "        0.7479727 ,  0.73097332,  0.71397394,  0.69697456,  0.67997518,\n",
              "        0.6629758 ,  0.64597642,  0.62897704,  0.61197767,  0.59497829,\n",
              "        0.57797891,  0.56097953,  0.54398015,  0.52698077,  0.50998139,\n",
              "        0.49298201,  0.47598263,  0.45898325,  0.44198387,  0.42498449,\n",
              "        0.40798511,  0.39098573,  0.37398635,  0.35698697,  0.33998759,\n",
              "        0.32298821,  0.30598883,  0.28898945,  0.27199007,  0.25499069,\n",
              "        0.23799131,  0.22099193,  0.20399256,  0.18699318,  0.1699938 ,\n",
              "        0.15299442,  0.13599504,  0.11899566,  0.10199628,  0.0849969 ,\n",
              "        0.06799752,  0.05099814,  0.03399876,  0.01699938,  0.        ])"
            ]
          },
          "metadata": {
            "tags": []
          },
          "execution_count": 147
        }
      ]
    },
    {
      "cell_type": "code",
      "metadata": {
        "id": "lDZrMp6hZSB-",
        "colab_type": "code",
        "colab": {}
      },
      "source": [
        "X = final_df.iloc[:,1:16]\n",
        "y = final_df.amount"
      ],
      "execution_count": 0,
      "outputs": []
    },
    {
      "cell_type": "code",
      "metadata": {
        "id": "3Eq1HGvWaCJv",
        "colab_type": "code",
        "colab": {}
      },
      "source": [
        "X_train, X_test, y_train, y_test = train_test_split(X, y, test_size=0.2, random_state=42)"
      ],
      "execution_count": 0,
      "outputs": []
    },
    {
      "cell_type": "code",
      "metadata": {
        "id": "YF0CYa57XDRt",
        "colab_type": "code",
        "outputId": "0ff2d0a6-629a-402e-c71a-abb9f8a89324",
        "colab": {
          "base_uri": "https://localhost:8080/",
          "height": 156
        }
      },
      "source": [
        "model_xgb = xgb.XGBRegressor(max_depth=3,\n",
        "                             learning_rate=0.1,\n",
        "                             n_estimators=300,\n",
        "                             objective='reg:squarederror',\n",
        "                             metric='rmse',\n",
        "                             tree_method='gpu_hist')\n",
        "model_xgb.fit(X_train, y_train)"
      ],
      "execution_count": 0,
      "outputs": [
        {
          "output_type": "execute_result",
          "data": {
            "text/plain": [
              "XGBRegressor(base_score=0.5, booster='gbtree', colsample_bylevel=1,\n",
              "             colsample_bynode=1, colsample_bytree=1, gamma=0,\n",
              "             importance_type='gain', learning_rate=0.1, max_delta_step=0,\n",
              "             max_depth=3, metric='rmse', min_child_weight=1, missing=None,\n",
              "             n_estimators=300, n_jobs=1, nthread=None,\n",
              "             objective='reg:squarederror', random_state=0, reg_alpha=0,\n",
              "             reg_lambda=1, scale_pos_weight=1, seed=None, silent=None,\n",
              "             subsample=1, tree_method='gpu_hist', verbosity=1)"
            ]
          },
          "metadata": {
            "tags": []
          },
          "execution_count": 181
        }
      ]
    },
    {
      "cell_type": "code",
      "metadata": {
        "id": "tjKLYPu2Viyl",
        "colab_type": "code",
        "colab": {}
      },
      "source": [
        "xgb_preds = model_xgb.predict(X_test)"
      ],
      "execution_count": 0,
      "outputs": []
    },
    {
      "cell_type": "code",
      "metadata": {
        "id": "52oiKDwDVi2D",
        "colab_type": "code",
        "outputId": "11de6adf-c6ce-42c6-a1b7-b8b2fdb740b2",
        "colab": {
          "base_uri": "https://localhost:8080/",
          "height": 52
        }
      },
      "source": [
        "print(\"XGB MSE on validation set: \", mean_squared_error(y_test, xgb_preds))\n",
        "print(\"XGB R^2: \", r2_score(y_test, xgb_preds))"
      ],
      "execution_count": 0,
      "outputs": [
        {
          "output_type": "stream",
          "text": [
            "XGB MSE on validation set:  0.7226114175164672\n",
            "XGB R^2:  0.2815347185531628\n"
          ],
          "name": "stdout"
        }
      ]
    },
    {
      "cell_type": "code",
      "metadata": {
        "id": "qOlQylAUVjDB",
        "colab_type": "code",
        "colab": {}
      },
      "source": [
        ""
      ],
      "execution_count": 0,
      "outputs": []
    },
    {
      "cell_type": "code",
      "metadata": {
        "id": "EEZVXb_XVisx",
        "colab_type": "code",
        "colab": {}
      },
      "source": [
        ""
      ],
      "execution_count": 0,
      "outputs": []
    },
    {
      "cell_type": "markdown",
      "metadata": {
        "id": "mIv4Xrwkj5_5",
        "colab_type": "text"
      },
      "source": [
        "## Old"
      ]
    },
    {
      "cell_type": "code",
      "metadata": {
        "id": "RGRNlTQnF23q",
        "colab_type": "code",
        "outputId": "2a39e86e-7d21-4720-8727-af1f000e6115",
        "colab": {
          "base_uri": "https://localhost:8080/",
          "height": 224
        }
      },
      "source": [
        "rejected_df['Debt-To-Income Ratio'] = rejected_df['Debt-To-Income Ratio'].apply(lambda x: x.strip('%')).astype(np.float64) #remove % character and convert to float\n",
        "rejected_df.rename(columns={\"Debt-To-Income Ratio\": \"dti\"}, inplace=True) #rename column Debt-To-Income Ratio to dti\n",
        "rejected_df.drop(columns=['Loan Title'], inplace=True)\n",
        "rejected_df['Zip Code'].fillna('', inplace=True)\n",
        "rejected_df['Zip Code'] = rejected_df['Zip Code'].str.extract('(\\d+)') #extract only the numeric part (exclude xxx using RegExp)\n",
        "rejected_df['Application Date'] = pd.to_datetime(rejected_df['Application Date'], yearfirst=True, infer_datetime_format=True) #convert Application Date to pandas.DateTime\n",
        "rejected_df['Employment Length'] = rejected_df['Employment Length'].str.extract('(\\d+)').astype(np.float64) #extract only numeric part and convert to float64\n",
        "rejected_df.head()"
      ],
      "execution_count": 0,
      "outputs": [
        {
          "output_type": "execute_result",
          "data": {
            "text/html": [
              "<div>\n",
              "<style scoped>\n",
              "    .dataframe tbody tr th:only-of-type {\n",
              "        vertical-align: middle;\n",
              "    }\n",
              "\n",
              "    .dataframe tbody tr th {\n",
              "        vertical-align: top;\n",
              "    }\n",
              "\n",
              "    .dataframe thead th {\n",
              "        text-align: right;\n",
              "    }\n",
              "</style>\n",
              "<table border=\"1\" class=\"dataframe\">\n",
              "  <thead>\n",
              "    <tr style=\"text-align: right;\">\n",
              "      <th></th>\n",
              "      <th>Amount Requested</th>\n",
              "      <th>Application Date</th>\n",
              "      <th>Risk_Score</th>\n",
              "      <th>dti</th>\n",
              "      <th>Zip Code</th>\n",
              "      <th>State</th>\n",
              "      <th>Employment Length</th>\n",
              "      <th>Policy Code</th>\n",
              "    </tr>\n",
              "  </thead>\n",
              "  <tbody>\n",
              "    <tr>\n",
              "      <th>0</th>\n",
              "      <td>1000.0</td>\n",
              "      <td>2007-05-26</td>\n",
              "      <td>693.0</td>\n",
              "      <td>10.00</td>\n",
              "      <td>481</td>\n",
              "      <td>NM</td>\n",
              "      <td>4.0</td>\n",
              "      <td>0.0</td>\n",
              "    </tr>\n",
              "    <tr>\n",
              "      <th>1</th>\n",
              "      <td>1000.0</td>\n",
              "      <td>2007-05-26</td>\n",
              "      <td>703.0</td>\n",
              "      <td>10.00</td>\n",
              "      <td>010</td>\n",
              "      <td>MA</td>\n",
              "      <td>1.0</td>\n",
              "      <td>0.0</td>\n",
              "    </tr>\n",
              "    <tr>\n",
              "      <th>2</th>\n",
              "      <td>11000.0</td>\n",
              "      <td>2007-05-27</td>\n",
              "      <td>715.0</td>\n",
              "      <td>10.00</td>\n",
              "      <td>212</td>\n",
              "      <td>MD</td>\n",
              "      <td>1.0</td>\n",
              "      <td>0.0</td>\n",
              "    </tr>\n",
              "    <tr>\n",
              "      <th>3</th>\n",
              "      <td>6000.0</td>\n",
              "      <td>2007-05-27</td>\n",
              "      <td>698.0</td>\n",
              "      <td>38.64</td>\n",
              "      <td>017</td>\n",
              "      <td>MA</td>\n",
              "      <td>1.0</td>\n",
              "      <td>0.0</td>\n",
              "    </tr>\n",
              "    <tr>\n",
              "      <th>4</th>\n",
              "      <td>1500.0</td>\n",
              "      <td>2007-05-27</td>\n",
              "      <td>509.0</td>\n",
              "      <td>9.43</td>\n",
              "      <td>209</td>\n",
              "      <td>MD</td>\n",
              "      <td>1.0</td>\n",
              "      <td>0.0</td>\n",
              "    </tr>\n",
              "  </tbody>\n",
              "</table>\n",
              "</div>"
            ],
            "text/plain": [
              "   Amount Requested Application Date  Risk_Score    dti Zip Code State  \\\n",
              "0            1000.0       2007-05-26       693.0  10.00      481    NM   \n",
              "1            1000.0       2007-05-26       703.0  10.00      010    MA   \n",
              "2           11000.0       2007-05-27       715.0  10.00      212    MD   \n",
              "3            6000.0       2007-05-27       698.0  38.64      017    MA   \n",
              "4            1500.0       2007-05-27       509.0   9.43      209    MD   \n",
              "\n",
              "   Employment Length  Policy Code  \n",
              "0                4.0          0.0  \n",
              "1                1.0          0.0  \n",
              "2                1.0          0.0  \n",
              "3                1.0          0.0  \n",
              "4                1.0          0.0  "
            ]
          },
          "metadata": {
            "tags": []
          },
          "execution_count": 5
        }
      ]
    },
    {
      "cell_type": "code",
      "metadata": {
        "id": "cuJgFx0eF3Eh",
        "colab_type": "code",
        "outputId": "249905fd-d247-4724-eea5-2f4cc6e77351",
        "colab": {
          "base_uri": "https://localhost:8080/",
          "height": 34
        }
      },
      "source": [
        "rejected_df = reduce_mem_usage(rejected_df)"
      ],
      "execution_count": 0,
      "outputs": [
        {
          "output_type": "stream",
          "text": [
            "Mem. usage decreased to 1160.19 Mb (31.2% reduction)\n"
          ],
          "name": "stdout"
        }
      ]
    },
    {
      "cell_type": "code",
      "metadata": {
        "id": "slHnFMvibI0N",
        "colab_type": "code",
        "outputId": "8d64964e-36a4-459d-e725-90d558f02b70",
        "colab": {
          "base_uri": "https://localhost:8080/",
          "height": 34
        }
      },
      "source": [
        "sum(accepted_df.loan_amnt !=\taccepted_df.funded_amnt)"
      ],
      "execution_count": 0,
      "outputs": [
        {
          "output_type": "execute_result",
          "data": {
            "text/plain": [
              "2098"
            ]
          },
          "metadata": {
            "tags": []
          },
          "execution_count": 10
        }
      ]
    },
    {
      "cell_type": "code",
      "metadata": {
        "id": "LSwyP-R4bI3T",
        "colab_type": "code",
        "colab": {}
      },
      "source": [
        "accepted_df.zip_code = accepted_df.zip_code.str.extract('(\\d+)') #extract only the numeric part (exclude xxx using RegExp)\n",
        "rejected_df.rename(columns={\"Zip Code\": \"zip_code\"}, inplace=True)"
      ],
      "execution_count": 0,
      "outputs": []
    },
    {
      "cell_type": "code",
      "metadata": {
        "id": "5_GVt6IobI5-",
        "colab_type": "code",
        "colab": {}
      },
      "source": [
        "accepted_df.emp_length = accepted_df.emp_length.str.extract('(\\d+)').astype(np.float64) #extract only numeric part and convert to float64\n",
        "rejected_df.rename(columns={\"Employment Length\": \"emp_length\"}, inplace=True)"
      ],
      "execution_count": 0,
      "outputs": []
    },
    {
      "cell_type": "code",
      "metadata": {
        "id": "AnbH-epbbI_R",
        "colab_type": "code",
        "colab": {}
      },
      "source": [
        "rejected_df.rename(columns={\"Policy Code\": \"policy_code\"}, inplace=True)"
      ],
      "execution_count": 0,
      "outputs": []
    },
    {
      "cell_type": "code",
      "metadata": {
        "id": "8buHlosFbJDH",
        "colab_type": "code",
        "colab": {}
      },
      "source": [
        "accepted_df.rename(columns={\"loanAmnt\": \"loan_amount\"}, inplace=True)\n",
        "rejected_df.rename(columns={\"Amount Requested\": \"loan_amount\"}, inplace=True)"
      ],
      "execution_count": 0,
      "outputs": []
    },
    {
      "cell_type": "code",
      "metadata": {
        "id": "_rGy9xYsbJJA",
        "colab_type": "code",
        "colab": {}
      },
      "source": [
        "rejected_df.drop(columns=[\"Application Date\"], inplace=True)"
      ],
      "execution_count": 0,
      "outputs": []
    },
    {
      "cell_type": "code",
      "metadata": {
        "id": "5UEHj7izbJGp",
        "colab_type": "code",
        "outputId": "47c9fcc5-90db-4d4c-9e9d-e1faad3b9645",
        "colab": {
          "base_uri": "https://localhost:8080/",
          "height": 34
        }
      },
      "source": [
        "sum(accepted_df.fico_range_low.isna())"
      ],
      "execution_count": 0,
      "outputs": [
        {
          "output_type": "execute_result",
          "data": {
            "text/plain": [
              "33"
            ]
          },
          "metadata": {
            "tags": []
          },
          "execution_count": 26
        }
      ]
    },
    {
      "cell_type": "code",
      "metadata": {
        "id": "yr7UorJFbJOG",
        "colab_type": "code",
        "outputId": "90688994-771f-48f7-f9d6-da4a1fb8c627",
        "colab": {
          "base_uri": "https://localhost:8080/",
          "height": 206
        }
      },
      "source": [
        "rejected_df.head()"
      ],
      "execution_count": 0,
      "outputs": [
        {
          "output_type": "execute_result",
          "data": {
            "text/html": [
              "<div>\n",
              "<style scoped>\n",
              "    .dataframe tbody tr th:only-of-type {\n",
              "        vertical-align: middle;\n",
              "    }\n",
              "\n",
              "    .dataframe tbody tr th {\n",
              "        vertical-align: top;\n",
              "    }\n",
              "\n",
              "    .dataframe thead th {\n",
              "        text-align: right;\n",
              "    }\n",
              "</style>\n",
              "<table border=\"1\" class=\"dataframe\">\n",
              "  <thead>\n",
              "    <tr style=\"text-align: right;\">\n",
              "      <th></th>\n",
              "      <th>loan_amount</th>\n",
              "      <th>Risk_Score</th>\n",
              "      <th>dti</th>\n",
              "      <th>zip_code</th>\n",
              "      <th>State</th>\n",
              "      <th>emp_length</th>\n",
              "      <th>policy_code</th>\n",
              "    </tr>\n",
              "  </thead>\n",
              "  <tbody>\n",
              "    <tr>\n",
              "      <th>0</th>\n",
              "      <td>1000.0</td>\n",
              "      <td>693.0</td>\n",
              "      <td>10.000000</td>\n",
              "      <td>481</td>\n",
              "      <td>NM</td>\n",
              "      <td>4.0</td>\n",
              "      <td>0.0</td>\n",
              "    </tr>\n",
              "    <tr>\n",
              "      <th>1</th>\n",
              "      <td>1000.0</td>\n",
              "      <td>703.0</td>\n",
              "      <td>10.000000</td>\n",
              "      <td>010</td>\n",
              "      <td>MA</td>\n",
              "      <td>1.0</td>\n",
              "      <td>0.0</td>\n",
              "    </tr>\n",
              "    <tr>\n",
              "      <th>2</th>\n",
              "      <td>11000.0</td>\n",
              "      <td>715.0</td>\n",
              "      <td>10.000000</td>\n",
              "      <td>212</td>\n",
              "      <td>MD</td>\n",
              "      <td>1.0</td>\n",
              "      <td>0.0</td>\n",
              "    </tr>\n",
              "    <tr>\n",
              "      <th>3</th>\n",
              "      <td>6000.0</td>\n",
              "      <td>698.0</td>\n",
              "      <td>38.639999</td>\n",
              "      <td>017</td>\n",
              "      <td>MA</td>\n",
              "      <td>1.0</td>\n",
              "      <td>0.0</td>\n",
              "    </tr>\n",
              "    <tr>\n",
              "      <th>4</th>\n",
              "      <td>1500.0</td>\n",
              "      <td>509.0</td>\n",
              "      <td>9.430000</td>\n",
              "      <td>209</td>\n",
              "      <td>MD</td>\n",
              "      <td>1.0</td>\n",
              "      <td>0.0</td>\n",
              "    </tr>\n",
              "  </tbody>\n",
              "</table>\n",
              "</div>"
            ],
            "text/plain": [
              "   loan_amount  Risk_Score        dti zip_code State  emp_length  policy_code\n",
              "0       1000.0       693.0  10.000000      481    NM         4.0          0.0\n",
              "1       1000.0       703.0  10.000000      010    MA         1.0          0.0\n",
              "2      11000.0       715.0  10.000000      212    MD         1.0          0.0\n",
              "3       6000.0       698.0  38.639999      017    MA         1.0          0.0\n",
              "4       1500.0       509.0   9.430000      209    MD         1.0          0.0"
            ]
          },
          "metadata": {
            "tags": []
          },
          "execution_count": 29
        }
      ]
    },
    {
      "cell_type": "code",
      "metadata": {
        "id": "ZGB4t0srbJda",
        "colab_type": "code",
        "colab": {}
      },
      "source": [
        "accepted_df.rename(columns={\"loan_amnt\":\"loan_amount\"}, inplace=True)"
      ],
      "execution_count": 0,
      "outputs": []
    },
    {
      "cell_type": "code",
      "metadata": {
        "id": "tANSJa6jbJjm",
        "colab_type": "code",
        "colab": {}
      },
      "source": [
        "accepted_df.rename(columns={\"addr_state\":\"State\"}, inplace=True)"
      ],
      "execution_count": 0,
      "outputs": []
    },
    {
      "cell_type": "code",
      "metadata": {
        "id": "76_V_rQ8bJmT",
        "colab_type": "code",
        "colab": {}
      },
      "source": [
        "accepted_df.State.dropna(axis=0, inplace=True)\n",
        "rejected_df.State.dropna(axis=0, inplace=True)"
      ],
      "execution_count": 0,
      "outputs": []
    },
    {
      "cell_type": "code",
      "metadata": {
        "id": "HLXGcIq7bJre",
        "colab_type": "code",
        "colab": {}
      },
      "source": [
        "accepted_df['accepted'] = 1\n",
        "rejected_df['accepted'] = 0"
      ],
      "execution_count": 0,
      "outputs": []
    },
    {
      "cell_type": "code",
      "metadata": {
        "id": "Y6aVoZN2bJvk",
        "colab_type": "code",
        "outputId": "772b175d-b6f5-45f2-f2c8-a53a6b98daa3",
        "colab": {
          "base_uri": "https://localhost:8080/",
          "height": 69
        }
      },
      "source": [
        "rejected_df.columns"
      ],
      "execution_count": 0,
      "outputs": [
        {
          "output_type": "execute_result",
          "data": {
            "text/plain": [
              "Index(['loan_amount', 'Risk_Score', 'dti', 'zip_code', 'State', 'emp_length',\n",
              "       'policy_code', 'accepted'],\n",
              "      dtype='object')"
            ]
          },
          "metadata": {
            "tags": []
          },
          "execution_count": 50
        }
      ]
    },
    {
      "cell_type": "code",
      "metadata": {
        "id": "ZxigjchjbJx8",
        "colab_type": "code",
        "outputId": "db16eb0f-70ae-412d-a27b-fa630b51434a",
        "colab": {
          "base_uri": "https://localhost:8080/",
          "height": 206
        }
      },
      "source": [
        "accepted_df_final = accepted_df[['loan_amount', 'Risk_Score', 'dti', 'zip_code', 'State', 'emp_length', 'policy_code', 'accepted']]\n",
        "accepted_df_final.head()"
      ],
      "execution_count": 0,
      "outputs": [
        {
          "output_type": "execute_result",
          "data": {
            "text/html": [
              "<div>\n",
              "<style scoped>\n",
              "    .dataframe tbody tr th:only-of-type {\n",
              "        vertical-align: middle;\n",
              "    }\n",
              "\n",
              "    .dataframe tbody tr th {\n",
              "        vertical-align: top;\n",
              "    }\n",
              "\n",
              "    .dataframe thead th {\n",
              "        text-align: right;\n",
              "    }\n",
              "</style>\n",
              "<table border=\"1\" class=\"dataframe\">\n",
              "  <thead>\n",
              "    <tr style=\"text-align: right;\">\n",
              "      <th></th>\n",
              "      <th>loan_amount</th>\n",
              "      <th>Risk_Score</th>\n",
              "      <th>dti</th>\n",
              "      <th>zip_code</th>\n",
              "      <th>State</th>\n",
              "      <th>emp_length</th>\n",
              "      <th>policy_code</th>\n",
              "      <th>accepted</th>\n",
              "    </tr>\n",
              "  </thead>\n",
              "  <tbody>\n",
              "    <tr>\n",
              "      <th>0</th>\n",
              "      <td>3600.0</td>\n",
              "      <td>677.0</td>\n",
              "      <td>5.91</td>\n",
              "      <td>190</td>\n",
              "      <td>PA</td>\n",
              "      <td>10.0</td>\n",
              "      <td>1.0</td>\n",
              "      <td>1</td>\n",
              "    </tr>\n",
              "    <tr>\n",
              "      <th>1</th>\n",
              "      <td>24700.0</td>\n",
              "      <td>717.0</td>\n",
              "      <td>16.06</td>\n",
              "      <td>577</td>\n",
              "      <td>SD</td>\n",
              "      <td>10.0</td>\n",
              "      <td>1.0</td>\n",
              "      <td>1</td>\n",
              "    </tr>\n",
              "    <tr>\n",
              "      <th>2</th>\n",
              "      <td>20000.0</td>\n",
              "      <td>697.0</td>\n",
              "      <td>10.78</td>\n",
              "      <td>605</td>\n",
              "      <td>IL</td>\n",
              "      <td>10.0</td>\n",
              "      <td>1.0</td>\n",
              "      <td>1</td>\n",
              "    </tr>\n",
              "    <tr>\n",
              "      <th>3</th>\n",
              "      <td>35000.0</td>\n",
              "      <td>787.0</td>\n",
              "      <td>17.06</td>\n",
              "      <td>076</td>\n",
              "      <td>NJ</td>\n",
              "      <td>10.0</td>\n",
              "      <td>1.0</td>\n",
              "      <td>1</td>\n",
              "    </tr>\n",
              "    <tr>\n",
              "      <th>4</th>\n",
              "      <td>10400.0</td>\n",
              "      <td>697.0</td>\n",
              "      <td>25.37</td>\n",
              "      <td>174</td>\n",
              "      <td>PA</td>\n",
              "      <td>3.0</td>\n",
              "      <td>1.0</td>\n",
              "      <td>1</td>\n",
              "    </tr>\n",
              "  </tbody>\n",
              "</table>\n",
              "</div>"
            ],
            "text/plain": [
              "   loan_amount  Risk_Score    dti zip_code State  emp_length  policy_code  \\\n",
              "0       3600.0       677.0   5.91      190    PA        10.0          1.0   \n",
              "1      24700.0       717.0  16.06      577    SD        10.0          1.0   \n",
              "2      20000.0       697.0  10.78      605    IL        10.0          1.0   \n",
              "3      35000.0       787.0  17.06      076    NJ        10.0          1.0   \n",
              "4      10400.0       697.0  25.37      174    PA         3.0          1.0   \n",
              "\n",
              "   accepted  \n",
              "0         1  \n",
              "1         1  \n",
              "2         1  \n",
              "3         1  \n",
              "4         1  "
            ]
          },
          "metadata": {
            "tags": []
          },
          "execution_count": 16
        }
      ]
    },
    {
      "cell_type": "code",
      "metadata": {
        "id": "Tl35jGZdbJ99",
        "colab_type": "code",
        "outputId": "f33638cf-ff2d-4062-c16a-0473c6a41b37",
        "colab": {
          "base_uri": "https://localhost:8080/",
          "height": 206
        }
      },
      "source": [
        "data = pd.concat([accepted_df_final, rejected_df], axis=0)\n",
        "data.head()"
      ],
      "execution_count": 0,
      "outputs": [
        {
          "output_type": "execute_result",
          "data": {
            "text/html": [
              "<div>\n",
              "<style scoped>\n",
              "    .dataframe tbody tr th:only-of-type {\n",
              "        vertical-align: middle;\n",
              "    }\n",
              "\n",
              "    .dataframe tbody tr th {\n",
              "        vertical-align: top;\n",
              "    }\n",
              "\n",
              "    .dataframe thead th {\n",
              "        text-align: right;\n",
              "    }\n",
              "</style>\n",
              "<table border=\"1\" class=\"dataframe\">\n",
              "  <thead>\n",
              "    <tr style=\"text-align: right;\">\n",
              "      <th></th>\n",
              "      <th>loan_amount</th>\n",
              "      <th>Risk_Score</th>\n",
              "      <th>dti</th>\n",
              "      <th>zip_code</th>\n",
              "      <th>State</th>\n",
              "      <th>emp_length</th>\n",
              "      <th>policy_code</th>\n",
              "      <th>accepted</th>\n",
              "    </tr>\n",
              "  </thead>\n",
              "  <tbody>\n",
              "    <tr>\n",
              "      <th>0</th>\n",
              "      <td>3600.0</td>\n",
              "      <td>677.0</td>\n",
              "      <td>5.91</td>\n",
              "      <td>190</td>\n",
              "      <td>PA</td>\n",
              "      <td>10.0</td>\n",
              "      <td>1.0</td>\n",
              "      <td>1</td>\n",
              "    </tr>\n",
              "    <tr>\n",
              "      <th>1</th>\n",
              "      <td>24700.0</td>\n",
              "      <td>717.0</td>\n",
              "      <td>16.06</td>\n",
              "      <td>577</td>\n",
              "      <td>SD</td>\n",
              "      <td>10.0</td>\n",
              "      <td>1.0</td>\n",
              "      <td>1</td>\n",
              "    </tr>\n",
              "    <tr>\n",
              "      <th>2</th>\n",
              "      <td>20000.0</td>\n",
              "      <td>697.0</td>\n",
              "      <td>10.78</td>\n",
              "      <td>605</td>\n",
              "      <td>IL</td>\n",
              "      <td>10.0</td>\n",
              "      <td>1.0</td>\n",
              "      <td>1</td>\n",
              "    </tr>\n",
              "    <tr>\n",
              "      <th>3</th>\n",
              "      <td>35000.0</td>\n",
              "      <td>787.0</td>\n",
              "      <td>17.06</td>\n",
              "      <td>076</td>\n",
              "      <td>NJ</td>\n",
              "      <td>10.0</td>\n",
              "      <td>1.0</td>\n",
              "      <td>1</td>\n",
              "    </tr>\n",
              "    <tr>\n",
              "      <th>4</th>\n",
              "      <td>10400.0</td>\n",
              "      <td>697.0</td>\n",
              "      <td>25.37</td>\n",
              "      <td>174</td>\n",
              "      <td>PA</td>\n",
              "      <td>3.0</td>\n",
              "      <td>1.0</td>\n",
              "      <td>1</td>\n",
              "    </tr>\n",
              "  </tbody>\n",
              "</table>\n",
              "</div>"
            ],
            "text/plain": [
              "   loan_amount  Risk_Score    dti zip_code State  emp_length  policy_code  \\\n",
              "0       3600.0       677.0   5.91      190    PA        10.0          1.0   \n",
              "1      24700.0       717.0  16.06      577    SD        10.0          1.0   \n",
              "2      20000.0       697.0  10.78      605    IL        10.0          1.0   \n",
              "3      35000.0       787.0  17.06      076    NJ        10.0          1.0   \n",
              "4      10400.0       697.0  25.37      174    PA         3.0          1.0   \n",
              "\n",
              "   accepted  \n",
              "0         1  \n",
              "1         1  \n",
              "2         1  \n",
              "3         1  \n",
              "4         1  "
            ]
          },
          "metadata": {
            "tags": []
          },
          "execution_count": 17
        }
      ]
    },
    {
      "cell_type": "code",
      "metadata": {
        "id": "9fTcFguJbKDz",
        "colab_type": "code",
        "outputId": "de43fd05-4e4a-4070-afd7-dd2efbfa6370",
        "colab": {
          "base_uri": "https://localhost:8080/",
          "height": 34
        }
      },
      "source": [
        "pd.get_dummies(data.State).shape"
      ],
      "execution_count": 0,
      "outputs": [
        {
          "output_type": "execute_result",
          "data": {
            "text/plain": [
              "(29909442, 51)"
            ]
          },
          "metadata": {
            "tags": []
          },
          "execution_count": 72
        }
      ]
    },
    {
      "cell_type": "code",
      "metadata": {
        "id": "yxthQ8--7KJb",
        "colab_type": "code",
        "outputId": "42953987-2fef-49b4-8a0b-9062f088b1eb",
        "colab": {
          "base_uri": "https://localhost:8080/",
          "height": 34
        }
      },
      "source": [
        "len(data.zip_code.unique())"
      ],
      "execution_count": 0,
      "outputs": [
        {
          "output_type": "execute_result",
          "data": {
            "text/plain": [
              "1002"
            ]
          },
          "metadata": {
            "tags": []
          },
          "execution_count": 75
        }
      ]
    },
    {
      "cell_type": "code",
      "metadata": {
        "id": "axIZkLb09wSO",
        "colab_type": "code",
        "colab": {}
      },
      "source": [
        "import matplotlib.pyplot as plt\n",
        "plt.style.use('ggplot')\n",
        "plt.rcParams['figure.figsize'] = (12, 8)"
      ],
      "execution_count": 0,
      "outputs": []
    },
    {
      "cell_type": "code",
      "metadata": {
        "id": "8Sn__esA7KZv",
        "colab_type": "code",
        "colab": {}
      },
      "source": [
        "del accepted_df, rejected_df, accepted_df_final, amount, "
      ],
      "execution_count": 0,
      "outputs": []
    },
    {
      "cell_type": "code",
      "metadata": {
        "id": "cbgOhDm07KU3",
        "colab_type": "code",
        "colab": {}
      },
      "source": [
        "from scipy.stats import skew\n",
        "#log transform the target\n",
        "data['loan_amount'] = np.log1p(data['loan_amount'])"
      ],
      "execution_count": 0,
      "outputs": []
    },
    {
      "cell_type": "code",
      "metadata": {
        "id": "mFprQOKrJBHA",
        "colab_type": "code",
        "colab": {}
      },
      "source": [
        "data.policy_code = data.policy_code.astype(str)\n",
        "data.zip_code = data.zip_code.astype(str)\n",
        "data.State = data.State.astype(str)\n",
        "data.accepted = data.accepted.astype(str)"
      ],
      "execution_count": 0,
      "outputs": []
    },
    {
      "cell_type": "code",
      "metadata": {
        "id": "NMwws2RUJxQl",
        "colab_type": "code",
        "outputId": "a7c0bbd5-4934-4569-afeb-870575e62762",
        "colab": {
          "base_uri": "https://localhost:8080/",
          "height": 173
        }
      },
      "source": [
        "data.dtypes"
      ],
      "execution_count": 0,
      "outputs": [
        {
          "output_type": "execute_result",
          "data": {
            "text/plain": [
              "loan_amount    float64\n",
              "Risk_Score     float64\n",
              "dti            float64\n",
              "zip_code        object\n",
              "State           object\n",
              "emp_length     float64\n",
              "policy_code     object\n",
              "accepted        object\n",
              "dtype: object"
            ]
          },
          "metadata": {
            "tags": []
          },
          "execution_count": 23
        }
      ]
    },
    {
      "cell_type": "code",
      "metadata": {
        "id": "MzWpwqVA7Kca",
        "colab_type": "code",
        "colab": {}
      },
      "source": [
        "#find numeric features\n",
        "numeric_features = data.dtypes[data.dtypes != \"object\"].index"
      ],
      "execution_count": 0,
      "outputs": []
    },
    {
      "cell_type": "code",
      "metadata": {
        "id": "NEethJgb7KkT",
        "colab_type": "code",
        "colab": {}
      },
      "source": [
        "#compute skew\n",
        "skewed_features = data[numeric_features].apply(lambda x: skew(x.dropna()))\n",
        "skewed_features = skewed_features[skewed_features > 0.75]\n",
        "skewed_features = skewed_features.index\n",
        "#log transform skewed numeric features\n",
        "data[skewed_features] = np.log1p(data[skewed_features])"
      ],
      "execution_count": 0,
      "outputs": []
    },
    {
      "cell_type": "code",
      "metadata": {
        "id": "W9tWyQXPDqa7",
        "colab_type": "code",
        "outputId": "c0c41664-fab4-464e-e7b3-78d4bfb1a152",
        "colab": {
          "base_uri": "https://localhost:8080/",
          "height": 206
        }
      },
      "source": [
        "#data = data.fillna(data.mean())\n",
        "data.head()"
      ],
      "execution_count": 0,
      "outputs": [
        {
          "output_type": "execute_result",
          "data": {
            "text/html": [
              "<div>\n",
              "<style scoped>\n",
              "    .dataframe tbody tr th:only-of-type {\n",
              "        vertical-align: middle;\n",
              "    }\n",
              "\n",
              "    .dataframe tbody tr th {\n",
              "        vertical-align: top;\n",
              "    }\n",
              "\n",
              "    .dataframe thead th {\n",
              "        text-align: right;\n",
              "    }\n",
              "</style>\n",
              "<table border=\"1\" class=\"dataframe\">\n",
              "  <thead>\n",
              "    <tr style=\"text-align: right;\">\n",
              "      <th></th>\n",
              "      <th>loan_amount</th>\n",
              "      <th>Risk_Score</th>\n",
              "      <th>dti</th>\n",
              "      <th>zip_code</th>\n",
              "      <th>State</th>\n",
              "      <th>emp_length</th>\n",
              "      <th>policy_code</th>\n",
              "      <th>accepted</th>\n",
              "    </tr>\n",
              "  </thead>\n",
              "  <tbody>\n",
              "    <tr>\n",
              "      <th>0</th>\n",
              "      <td>8.188967</td>\n",
              "      <td>677.0</td>\n",
              "      <td>1.932970</td>\n",
              "      <td>190</td>\n",
              "      <td>PA</td>\n",
              "      <td>2.397895</td>\n",
              "      <td>1.0</td>\n",
              "      <td>1</td>\n",
              "    </tr>\n",
              "    <tr>\n",
              "      <th>1</th>\n",
              "      <td>10.114599</td>\n",
              "      <td>717.0</td>\n",
              "      <td>2.836737</td>\n",
              "      <td>577</td>\n",
              "      <td>SD</td>\n",
              "      <td>2.397895</td>\n",
              "      <td>1.0</td>\n",
              "      <td>1</td>\n",
              "    </tr>\n",
              "    <tr>\n",
              "      <th>2</th>\n",
              "      <td>9.903538</td>\n",
              "      <td>697.0</td>\n",
              "      <td>2.466403</td>\n",
              "      <td>605</td>\n",
              "      <td>IL</td>\n",
              "      <td>2.397895</td>\n",
              "      <td>1.0</td>\n",
              "      <td>1</td>\n",
              "    </tr>\n",
              "    <tr>\n",
              "      <th>3</th>\n",
              "      <td>10.463132</td>\n",
              "      <td>787.0</td>\n",
              "      <td>2.893700</td>\n",
              "      <td>076</td>\n",
              "      <td>NJ</td>\n",
              "      <td>2.397895</td>\n",
              "      <td>1.0</td>\n",
              "      <td>1</td>\n",
              "    </tr>\n",
              "    <tr>\n",
              "      <th>4</th>\n",
              "      <td>9.249657</td>\n",
              "      <td>697.0</td>\n",
              "      <td>3.272227</td>\n",
              "      <td>174</td>\n",
              "      <td>PA</td>\n",
              "      <td>1.386294</td>\n",
              "      <td>1.0</td>\n",
              "      <td>1</td>\n",
              "    </tr>\n",
              "  </tbody>\n",
              "</table>\n",
              "</div>"
            ],
            "text/plain": [
              "   loan_amount  Risk_Score       dti zip_code State  emp_length policy_code  \\\n",
              "0     8.188967       677.0  1.932970      190    PA    2.397895         1.0   \n",
              "1    10.114599       717.0  2.836737      577    SD    2.397895         1.0   \n",
              "2     9.903538       697.0  2.466403      605    IL    2.397895         1.0   \n",
              "3    10.463132       787.0  2.893700      076    NJ    2.397895         1.0   \n",
              "4     9.249657       697.0  3.272227      174    PA    1.386294         1.0   \n",
              "\n",
              "  accepted  \n",
              "0        1  \n",
              "1        1  \n",
              "2        1  \n",
              "3        1  \n",
              "4        1  "
            ]
          },
          "metadata": {
            "tags": []
          },
          "execution_count": 26
        }
      ]
    },
    {
      "cell_type": "code",
      "metadata": {
        "id": "abi7uZZwPJpt",
        "colab_type": "code",
        "colab": {}
      },
      "source": [
        "data.accepted = pd.get_dummies(columns=data.accepted)\n",
        "data.policy_code = pd.get_dummies(data.policy_code)"
      ],
      "execution_count": 0,
      "outputs": []
    },
    {
      "cell_type": "code",
      "metadata": {
        "id": "ELBs2iF4FBv7",
        "colab_type": "code",
        "colab": {}
      },
      "source": [
        "from sklearn.preprocessing import LabelEncoder \n",
        "  \n",
        "le = LabelEncoder() \n",
        "data['State'] = le.fit_transform(data['State'])\n",
        "data['policy_code'] = le.fit_transform(data['policy_code'])\n",
        "data['zip_code'] = le.fit_transform(data['zip_code'])\n",
        "data['accepted'] = le.fit_transform(data['accepted'])"
      ],
      "execution_count": 0,
      "outputs": []
    },
    {
      "cell_type": "code",
      "metadata": {
        "id": "TnozPd3t7Kri",
        "colab_type": "code",
        "colab": {}
      },
      "source": [
        "#create dummies for categorical features\n",
        "#data = pd.get_dummies(data)\n",
        "#data = pd.get_dummies(data, columns=[\"zip_code\", \"State\", \"policy_code\", \"accepted\"])\n",
        "\n",
        "#replace NANs with the mean of the column\n",
        "#data = data.fillna(data.mean())"
      ],
      "execution_count": 0,
      "outputs": []
    },
    {
      "cell_type": "code",
      "metadata": {
        "id": "aEqGjM1l7Kpi",
        "colab_type": "code",
        "outputId": "21e8a98e-bb0a-463c-fb3d-5a09fa084977",
        "colab": {
          "base_uri": "https://localhost:8080/",
          "height": 206
        }
      },
      "source": [
        "data.head()"
      ],
      "execution_count": 0,
      "outputs": [
        {
          "output_type": "execute_result",
          "data": {
            "text/html": [
              "<div>\n",
              "<style scoped>\n",
              "    .dataframe tbody tr th:only-of-type {\n",
              "        vertical-align: middle;\n",
              "    }\n",
              "\n",
              "    .dataframe tbody tr th {\n",
              "        vertical-align: top;\n",
              "    }\n",
              "\n",
              "    .dataframe thead th {\n",
              "        text-align: right;\n",
              "    }\n",
              "</style>\n",
              "<table border=\"1\" class=\"dataframe\">\n",
              "  <thead>\n",
              "    <tr style=\"text-align: right;\">\n",
              "      <th></th>\n",
              "      <th>loan_amount</th>\n",
              "      <th>Risk_Score</th>\n",
              "      <th>dti</th>\n",
              "      <th>zip_code</th>\n",
              "      <th>State</th>\n",
              "      <th>emp_length</th>\n",
              "      <th>policy_code</th>\n",
              "      <th>accepted</th>\n",
              "    </tr>\n",
              "  </thead>\n",
              "  <tbody>\n",
              "    <tr>\n",
              "      <th>0</th>\n",
              "      <td>8.188967</td>\n",
              "      <td>677.0</td>\n",
              "      <td>1.932970</td>\n",
              "      <td>191</td>\n",
              "      <td>38</td>\n",
              "      <td>2.397895</td>\n",
              "      <td>1</td>\n",
              "      <td>1</td>\n",
              "    </tr>\n",
              "    <tr>\n",
              "      <th>1</th>\n",
              "      <td>10.114599</td>\n",
              "      <td>717.0</td>\n",
              "      <td>2.836737</td>\n",
              "      <td>578</td>\n",
              "      <td>41</td>\n",
              "      <td>2.397895</td>\n",
              "      <td>1</td>\n",
              "      <td>1</td>\n",
              "    </tr>\n",
              "    <tr>\n",
              "      <th>2</th>\n",
              "      <td>9.903538</td>\n",
              "      <td>697.0</td>\n",
              "      <td>2.466403</td>\n",
              "      <td>606</td>\n",
              "      <td>14</td>\n",
              "      <td>2.397895</td>\n",
              "      <td>1</td>\n",
              "      <td>1</td>\n",
              "    </tr>\n",
              "    <tr>\n",
              "      <th>3</th>\n",
              "      <td>10.463132</td>\n",
              "      <td>787.0</td>\n",
              "      <td>2.893700</td>\n",
              "      <td>76</td>\n",
              "      <td>31</td>\n",
              "      <td>2.397895</td>\n",
              "      <td>1</td>\n",
              "      <td>1</td>\n",
              "    </tr>\n",
              "    <tr>\n",
              "      <th>4</th>\n",
              "      <td>9.249657</td>\n",
              "      <td>697.0</td>\n",
              "      <td>3.272227</td>\n",
              "      <td>175</td>\n",
              "      <td>38</td>\n",
              "      <td>1.386294</td>\n",
              "      <td>1</td>\n",
              "      <td>1</td>\n",
              "    </tr>\n",
              "  </tbody>\n",
              "</table>\n",
              "</div>"
            ],
            "text/plain": [
              "   loan_amount  Risk_Score       dti  zip_code  State  emp_length  \\\n",
              "0     8.188967       677.0  1.932970       191     38    2.397895   \n",
              "1    10.114599       717.0  2.836737       578     41    2.397895   \n",
              "2     9.903538       697.0  2.466403       606     14    2.397895   \n",
              "3    10.463132       787.0  2.893700        76     31    2.397895   \n",
              "4     9.249657       697.0  3.272227       175     38    1.386294   \n",
              "\n",
              "   policy_code  accepted  \n",
              "0            1         1  \n",
              "1            1         1  \n",
              "2            1         1  \n",
              "3            1         1  \n",
              "4            1         1  "
            ]
          },
          "metadata": {
            "tags": []
          },
          "execution_count": 29
        }
      ]
    },
    {
      "cell_type": "code",
      "metadata": {
        "id": "xMB_wrgJ7Knb",
        "colab_type": "code",
        "outputId": "a7b7b69f-f020-4416-949e-bc86dcd1fcfe",
        "colab": {
          "base_uri": "https://localhost:8080/",
          "height": 173
        }
      },
      "source": [
        "data.dtypes"
      ],
      "execution_count": 0,
      "outputs": [
        {
          "output_type": "execute_result",
          "data": {
            "text/plain": [
              "loan_amount    float64\n",
              "Risk_Score     float64\n",
              "dti            float64\n",
              "zip_code         int64\n",
              "State            int64\n",
              "emp_length     float64\n",
              "policy_code      int64\n",
              "accepted         int64\n",
              "dtype: object"
            ]
          },
          "metadata": {
            "tags": []
          },
          "execution_count": 31
        }
      ]
    },
    {
      "cell_type": "code",
      "metadata": {
        "id": "j7cOnOHw7KTZ",
        "colab_type": "code",
        "outputId": "9fac6bdb-e06e-4d0e-dc51-f9bfa916be2f",
        "colab": {
          "base_uri": "https://localhost:8080/",
          "height": 206
        }
      },
      "source": [
        "from sklearn.preprocessing import StandardScaler\n",
        "scaler = StandardScaler()\n",
        "data.Risk_Score = scaler.fit_transform(np.array(data.Risk_Score).reshape(-1,1))\n",
        "data.head()"
      ],
      "execution_count": 0,
      "outputs": [
        {
          "output_type": "execute_result",
          "data": {
            "text/html": [
              "<div>\n",
              "<style scoped>\n",
              "    .dataframe tbody tr th:only-of-type {\n",
              "        vertical-align: middle;\n",
              "    }\n",
              "\n",
              "    .dataframe tbody tr th {\n",
              "        vertical-align: top;\n",
              "    }\n",
              "\n",
              "    .dataframe thead th {\n",
              "        text-align: right;\n",
              "    }\n",
              "</style>\n",
              "<table border=\"1\" class=\"dataframe\">\n",
              "  <thead>\n",
              "    <tr style=\"text-align: right;\">\n",
              "      <th></th>\n",
              "      <th>loan_amount</th>\n",
              "      <th>Risk_Score</th>\n",
              "      <th>dti</th>\n",
              "      <th>zip_code</th>\n",
              "      <th>State</th>\n",
              "      <th>emp_length</th>\n",
              "      <th>policy_code</th>\n",
              "      <th>accepted</th>\n",
              "    </tr>\n",
              "  </thead>\n",
              "  <tbody>\n",
              "    <tr>\n",
              "      <th>0</th>\n",
              "      <td>8.188967</td>\n",
              "      <td>0.397234</td>\n",
              "      <td>1.932970</td>\n",
              "      <td>190</td>\n",
              "      <td>PA</td>\n",
              "      <td>2.397895</td>\n",
              "      <td>1.0</td>\n",
              "      <td>1</td>\n",
              "    </tr>\n",
              "    <tr>\n",
              "      <th>1</th>\n",
              "      <td>10.114599</td>\n",
              "      <td>0.858035</td>\n",
              "      <td>2.836737</td>\n",
              "      <td>577</td>\n",
              "      <td>SD</td>\n",
              "      <td>2.397895</td>\n",
              "      <td>1.0</td>\n",
              "      <td>1</td>\n",
              "    </tr>\n",
              "    <tr>\n",
              "      <th>2</th>\n",
              "      <td>9.903538</td>\n",
              "      <td>0.627635</td>\n",
              "      <td>2.466403</td>\n",
              "      <td>605</td>\n",
              "      <td>IL</td>\n",
              "      <td>2.397895</td>\n",
              "      <td>1.0</td>\n",
              "      <td>1</td>\n",
              "    </tr>\n",
              "    <tr>\n",
              "      <th>3</th>\n",
              "      <td>10.463132</td>\n",
              "      <td>1.664436</td>\n",
              "      <td>2.893700</td>\n",
              "      <td>076</td>\n",
              "      <td>NJ</td>\n",
              "      <td>2.397895</td>\n",
              "      <td>1.0</td>\n",
              "      <td>1</td>\n",
              "    </tr>\n",
              "    <tr>\n",
              "      <th>4</th>\n",
              "      <td>9.249657</td>\n",
              "      <td>0.627635</td>\n",
              "      <td>3.272227</td>\n",
              "      <td>174</td>\n",
              "      <td>PA</td>\n",
              "      <td>1.386294</td>\n",
              "      <td>1.0</td>\n",
              "      <td>1</td>\n",
              "    </tr>\n",
              "  </tbody>\n",
              "</table>\n",
              "</div>"
            ],
            "text/plain": [
              "   loan_amount  Risk_Score       dti zip_code State  emp_length policy_code  \\\n",
              "0     8.188967    0.397234  1.932970      190    PA    2.397895         1.0   \n",
              "1    10.114599    0.858035  2.836737      577    SD    2.397895         1.0   \n",
              "2     9.903538    0.627635  2.466403      605    IL    2.397895         1.0   \n",
              "3    10.463132    1.664436  2.893700      076    NJ    2.397895         1.0   \n",
              "4     9.249657    0.627635  3.272227      174    PA    1.386294         1.0   \n",
              "\n",
              "  accepted  \n",
              "0        1  \n",
              "1        1  \n",
              "2        1  \n",
              "3        1  \n",
              "4        1  "
            ]
          },
          "metadata": {
            "tags": []
          },
          "execution_count": 27
        }
      ]
    },
    {
      "cell_type": "code",
      "metadata": {
        "id": "AWVpnYQGQMN8",
        "colab_type": "code",
        "outputId": "df4474c0-27a2-4430-b3ca-fc66ae403c43",
        "colab": {
          "base_uri": "https://localhost:8080/",
          "height": 206
        }
      },
      "source": [
        "#data = pd.get_dummies(data, columns=['policy_code', 'accepted'])\n",
        "data.head()"
      ],
      "execution_count": 0,
      "outputs": [
        {
          "output_type": "execute_result",
          "data": {
            "text/html": [
              "<div>\n",
              "<style scoped>\n",
              "    .dataframe tbody tr th:only-of-type {\n",
              "        vertical-align: middle;\n",
              "    }\n",
              "\n",
              "    .dataframe tbody tr th {\n",
              "        vertical-align: top;\n",
              "    }\n",
              "\n",
              "    .dataframe thead th {\n",
              "        text-align: right;\n",
              "    }\n",
              "</style>\n",
              "<table border=\"1\" class=\"dataframe\">\n",
              "  <thead>\n",
              "    <tr style=\"text-align: right;\">\n",
              "      <th></th>\n",
              "      <th>loan_amount</th>\n",
              "      <th>Risk_Score</th>\n",
              "      <th>dti</th>\n",
              "      <th>zip_code</th>\n",
              "      <th>State</th>\n",
              "      <th>emp_length</th>\n",
              "      <th>policy_code</th>\n",
              "      <th>accepted</th>\n",
              "    </tr>\n",
              "  </thead>\n",
              "  <tbody>\n",
              "    <tr>\n",
              "      <th>0</th>\n",
              "      <td>8.188967</td>\n",
              "      <td>0.397234</td>\n",
              "      <td>1.932970</td>\n",
              "      <td>190</td>\n",
              "      <td>PA</td>\n",
              "      <td>2.397895</td>\n",
              "      <td>0</td>\n",
              "      <td>0</td>\n",
              "    </tr>\n",
              "    <tr>\n",
              "      <th>1</th>\n",
              "      <td>10.114599</td>\n",
              "      <td>0.858035</td>\n",
              "      <td>2.836737</td>\n",
              "      <td>577</td>\n",
              "      <td>SD</td>\n",
              "      <td>2.397895</td>\n",
              "      <td>0</td>\n",
              "      <td>0</td>\n",
              "    </tr>\n",
              "    <tr>\n",
              "      <th>2</th>\n",
              "      <td>9.903538</td>\n",
              "      <td>0.627635</td>\n",
              "      <td>2.466403</td>\n",
              "      <td>605</td>\n",
              "      <td>IL</td>\n",
              "      <td>2.397895</td>\n",
              "      <td>0</td>\n",
              "      <td>0</td>\n",
              "    </tr>\n",
              "    <tr>\n",
              "      <th>3</th>\n",
              "      <td>10.463132</td>\n",
              "      <td>1.664436</td>\n",
              "      <td>2.893700</td>\n",
              "      <td>076</td>\n",
              "      <td>NJ</td>\n",
              "      <td>2.397895</td>\n",
              "      <td>0</td>\n",
              "      <td>0</td>\n",
              "    </tr>\n",
              "    <tr>\n",
              "      <th>4</th>\n",
              "      <td>9.249657</td>\n",
              "      <td>0.627635</td>\n",
              "      <td>3.272227</td>\n",
              "      <td>174</td>\n",
              "      <td>PA</td>\n",
              "      <td>1.386294</td>\n",
              "      <td>0</td>\n",
              "      <td>0</td>\n",
              "    </tr>\n",
              "  </tbody>\n",
              "</table>\n",
              "</div>"
            ],
            "text/plain": [
              "   loan_amount  Risk_Score       dti zip_code State  emp_length  policy_code  \\\n",
              "0     8.188967    0.397234  1.932970      190    PA    2.397895            0   \n",
              "1    10.114599    0.858035  2.836737      577    SD    2.397895            0   \n",
              "2     9.903538    0.627635  2.466403      605    IL    2.397895            0   \n",
              "3    10.463132    1.664436  2.893700      076    NJ    2.397895            0   \n",
              "4     9.249657    0.627635  3.272227      174    PA    1.386294            0   \n",
              "\n",
              "   accepted  \n",
              "0         0  \n",
              "1         0  \n",
              "2         0  \n",
              "3         0  \n",
              "4         0  "
            ]
          },
          "metadata": {
            "tags": []
          },
          "execution_count": 32
        }
      ]
    },
    {
      "cell_type": "code",
      "metadata": {
        "id": "YSnelN3fQ9qr",
        "colab_type": "code",
        "outputId": "33359e0c-c4c6-4f7e-8b5d-8d890a59d926",
        "colab": {
          "base_uri": "https://localhost:8080/",
          "height": 226
        }
      },
      "source": [
        "new_df = pd.get_dummies(data, columns=['policy_code', 'accepted'])\n",
        "new_df.head()"
      ],
      "execution_count": 0,
      "outputs": [
        {
          "output_type": "execute_result",
          "data": {
            "text/html": [
              "<div>\n",
              "<style scoped>\n",
              "    .dataframe tbody tr th:only-of-type {\n",
              "        vertical-align: middle;\n",
              "    }\n",
              "\n",
              "    .dataframe tbody tr th {\n",
              "        vertical-align: top;\n",
              "    }\n",
              "\n",
              "    .dataframe thead th {\n",
              "        text-align: right;\n",
              "    }\n",
              "</style>\n",
              "<table border=\"1\" class=\"dataframe\">\n",
              "  <thead>\n",
              "    <tr style=\"text-align: right;\">\n",
              "      <th></th>\n",
              "      <th>loan_amount</th>\n",
              "      <th>Risk_Score</th>\n",
              "      <th>dti</th>\n",
              "      <th>zip_code</th>\n",
              "      <th>State</th>\n",
              "      <th>emp_length</th>\n",
              "      <th>policy_code_0.0</th>\n",
              "      <th>policy_code_1.0</th>\n",
              "      <th>policy_code_2.0</th>\n",
              "      <th>policy_code_nan</th>\n",
              "      <th>accepted_0</th>\n",
              "      <th>accepted_1</th>\n",
              "    </tr>\n",
              "  </thead>\n",
              "  <tbody>\n",
              "    <tr>\n",
              "      <th>0</th>\n",
              "      <td>8.188967</td>\n",
              "      <td>0.397234</td>\n",
              "      <td>1.932970</td>\n",
              "      <td>190</td>\n",
              "      <td>PA</td>\n",
              "      <td>2.397895</td>\n",
              "      <td>0</td>\n",
              "      <td>1</td>\n",
              "      <td>0</td>\n",
              "      <td>0</td>\n",
              "      <td>0</td>\n",
              "      <td>1</td>\n",
              "    </tr>\n",
              "    <tr>\n",
              "      <th>1</th>\n",
              "      <td>10.114599</td>\n",
              "      <td>0.858035</td>\n",
              "      <td>2.836737</td>\n",
              "      <td>577</td>\n",
              "      <td>SD</td>\n",
              "      <td>2.397895</td>\n",
              "      <td>0</td>\n",
              "      <td>1</td>\n",
              "      <td>0</td>\n",
              "      <td>0</td>\n",
              "      <td>0</td>\n",
              "      <td>1</td>\n",
              "    </tr>\n",
              "    <tr>\n",
              "      <th>2</th>\n",
              "      <td>9.903538</td>\n",
              "      <td>0.627635</td>\n",
              "      <td>2.466403</td>\n",
              "      <td>605</td>\n",
              "      <td>IL</td>\n",
              "      <td>2.397895</td>\n",
              "      <td>0</td>\n",
              "      <td>1</td>\n",
              "      <td>0</td>\n",
              "      <td>0</td>\n",
              "      <td>0</td>\n",
              "      <td>1</td>\n",
              "    </tr>\n",
              "    <tr>\n",
              "      <th>3</th>\n",
              "      <td>10.463132</td>\n",
              "      <td>1.664436</td>\n",
              "      <td>2.893700</td>\n",
              "      <td>076</td>\n",
              "      <td>NJ</td>\n",
              "      <td>2.397895</td>\n",
              "      <td>0</td>\n",
              "      <td>1</td>\n",
              "      <td>0</td>\n",
              "      <td>0</td>\n",
              "      <td>0</td>\n",
              "      <td>1</td>\n",
              "    </tr>\n",
              "    <tr>\n",
              "      <th>4</th>\n",
              "      <td>9.249657</td>\n",
              "      <td>0.627635</td>\n",
              "      <td>3.272227</td>\n",
              "      <td>174</td>\n",
              "      <td>PA</td>\n",
              "      <td>1.386294</td>\n",
              "      <td>0</td>\n",
              "      <td>1</td>\n",
              "      <td>0</td>\n",
              "      <td>0</td>\n",
              "      <td>0</td>\n",
              "      <td>1</td>\n",
              "    </tr>\n",
              "  </tbody>\n",
              "</table>\n",
              "</div>"
            ],
            "text/plain": [
              "   loan_amount  Risk_Score       dti zip_code State  emp_length  \\\n",
              "0     8.188967    0.397234  1.932970      190    PA    2.397895   \n",
              "1    10.114599    0.858035  2.836737      577    SD    2.397895   \n",
              "2     9.903538    0.627635  2.466403      605    IL    2.397895   \n",
              "3    10.463132    1.664436  2.893700      076    NJ    2.397895   \n",
              "4     9.249657    0.627635  3.272227      174    PA    1.386294   \n",
              "\n",
              "   policy_code_0.0  policy_code_1.0  policy_code_2.0  policy_code_nan  \\\n",
              "0                0                1                0                0   \n",
              "1                0                1                0                0   \n",
              "2                0                1                0                0   \n",
              "3                0                1                0                0   \n",
              "4                0                1                0                0   \n",
              "\n",
              "   accepted_0  accepted_1  \n",
              "0           0           1  \n",
              "1           0           1  \n",
              "2           0           1  \n",
              "3           0           1  \n",
              "4           0           1  "
            ]
          },
          "metadata": {
            "tags": []
          },
          "execution_count": 28
        }
      ]
    },
    {
      "cell_type": "code",
      "metadata": {
        "id": "p4C3Mt4PWywE",
        "colab_type": "code",
        "colab": {}
      },
      "source": [
        "del data\n",
        "data = new_df"
      ],
      "execution_count": 0,
      "outputs": []
    },
    {
      "cell_type": "code",
      "metadata": {
        "id": "KcqgNZDGWlIa",
        "colab_type": "code",
        "colab": {}
      },
      "source": [
        "from sklearn.preprocessing import LabelEncoder \n",
        "  \n",
        "le = LabelEncoder()\n",
        "data['State'] = le.fit_transform(data['State'])\n",
        "data['zip_code'] = le.fit_transform(data['zip_code'])"
      ],
      "execution_count": 0,
      "outputs": []
    },
    {
      "cell_type": "code",
      "metadata": {
        "id": "JhTl1tAGX400",
        "colab_type": "code",
        "outputId": "3a3fc7e5-8840-4f7f-854c-160f4cf030a5",
        "colab": {
          "base_uri": "https://localhost:8080/",
          "height": 243
        }
      },
      "source": [
        "data.dtypes"
      ],
      "execution_count": 0,
      "outputs": [
        {
          "output_type": "execute_result",
          "data": {
            "text/plain": [
              "loan_amount        float64\n",
              "Risk_Score         float64\n",
              "dti                float64\n",
              "zip_code             int64\n",
              "State                int64\n",
              "emp_length         float64\n",
              "policy_code_0.0      uint8\n",
              "policy_code_1.0      uint8\n",
              "policy_code_2.0      uint8\n",
              "policy_code_nan      uint8\n",
              "accepted_0           uint8\n",
              "accepted_1           uint8\n",
              "dtype: object"
            ]
          },
          "metadata": {
            "tags": []
          },
          "execution_count": 33
        }
      ]
    },
    {
      "cell_type": "code",
      "metadata": {
        "id": "EqSn2WN4NUZU",
        "colab_type": "code",
        "colab": {}
      },
      "source": [
        "from sklearn.preprocessing import OneHotEncoder\n",
        "\n",
        "onehot = OneHotEncoder()\n",
        "data.policy_code = onehot.fit_transform(np.array(data.policy_code).reshape(-1,1))\n",
        "data.accepted = onehot.fit_transform(np.array(data.accepted).reshape(-1,1))\n",
        "data.State = onehot.fit(np.array(data.State).reshape(-1,1))\n",
        "data.head()"
      ],
      "execution_count": 0,
      "outputs": []
    },
    {
      "cell_type": "code",
      "metadata": {
        "id": "TAQNTX0dOX4l",
        "colab_type": "code",
        "outputId": "ae6babd1-916a-4213-face-9864cfd82290",
        "colab": {
          "base_uri": "https://localhost:8080/",
          "height": 86
        }
      },
      "source": [
        "data.columns"
      ],
      "execution_count": 0,
      "outputs": [
        {
          "output_type": "execute_result",
          "data": {
            "text/plain": [
              "Index(['loan_amount', 'Risk_Score', 'dti', 'zip_code', 'State', 'emp_length',\n",
              "       'policy_code_0.0', 'policy_code_1.0', 'policy_code_2.0',\n",
              "       'policy_code_nan', 'accepted_0', 'accepted_1'],\n",
              "      dtype='object')"
            ]
          },
          "metadata": {
            "tags": []
          },
          "execution_count": 34
        }
      ]
    },
    {
      "cell_type": "code",
      "metadata": {
        "id": "jI7bI4Vsbmw2",
        "colab_type": "code",
        "colab": {}
      },
      "source": [
        "data.dropna(axis=0, how='any', inplace=True)"
      ],
      "execution_count": 0,
      "outputs": []
    },
    {
      "cell_type": "code",
      "metadata": {
        "id": "UhB2C1b-clXG",
        "colab_type": "code",
        "outputId": "2277f6d8-5b23-4f03-86f7-7fe724db21fe",
        "colab": {
          "base_uri": "https://localhost:8080/",
          "height": 34
        }
      },
      "source": [
        "data.isnull().values.any()"
      ],
      "execution_count": 0,
      "outputs": [
        {
          "output_type": "execute_result",
          "data": {
            "text/plain": [
              "False"
            ]
          },
          "metadata": {
            "tags": []
          },
          "execution_count": 33
        }
      ]
    },
    {
      "cell_type": "code",
      "metadata": {
        "id": "UF0hKbkz7KYC",
        "colab_type": "code",
        "colab": {}
      },
      "source": [
        "from sklearn.model_selection import train_test_split\n",
        "\n",
        "X = data[['Risk_Score', 'dti', 'zip_code', 'State', 'emp_length',\n",
        "       'policy_code_0.0', 'policy_code_1.0', 'policy_code_2.0',\n",
        "       'policy_code_nan', 'accepted_0', 'accepted_1']]\n",
        "y = data.loan_amount\n",
        "\n",
        "X_train, X_test, y_train, y_test = train_test_split(X, y, random_state=0, test_size = 0.2)"
      ],
      "execution_count": 0,
      "outputs": []
    },
    {
      "cell_type": "code",
      "metadata": {
        "id": "yIac3V5t7KGb",
        "colab_type": "code",
        "outputId": "cdc97af8-bda4-4a92-a84d-08e39dcb4adc",
        "colab": {
          "base_uri": "https://localhost:8080/",
          "height": 34
        }
      },
      "source": [
        "X_train.shape, X_test.shape, y_train.shape, y_test.shape"
      ],
      "execution_count": 0,
      "outputs": [
        {
          "output_type": "execute_result",
          "data": {
            "text/plain": [
              "((8884994, 11), (2221249, 11), (8884994,), (2221249,))"
            ]
          },
          "metadata": {
            "tags": []
          },
          "execution_count": 36
        }
      ]
    },
    {
      "cell_type": "code",
      "metadata": {
        "id": "vEgNfx4rbJ4U",
        "colab_type": "code",
        "colab": {}
      },
      "source": [
        "from sklearn.linear_model import Ridge, RidgeCV\n",
        "from sklearn.model_selection import cross_val_score\n",
        "\n",
        "def mse_cv(model):\n",
        "    mse = -cross_val_score(model, X_train, y_train, scoring=\"neg_mean_squared_error\", cv = 3)\n",
        "    return mse"
      ],
      "execution_count": 0,
      "outputs": []
    },
    {
      "cell_type": "code",
      "metadata": {
        "id": "y70wRRfPbJpw",
        "colab_type": "code",
        "outputId": "16149c61-9056-4726-ef44-20afddfcaa2b",
        "colab": {
          "base_uri": "https://localhost:8080/",
          "height": 1000
        }
      },
      "source": [
        "#model 1: Ridge Regression Estimator\n",
        "model_ridge = Ridge()\n",
        "alphas = [0.05, 0.1, 0.3, 1, 3, 5, 10]\n",
        "\n",
        "#perform 5-fold CV to find the alpha value that minimizes MSE\n",
        "cv_ridge = [mse_cv(Ridge(alpha = alpha)).mean() for alpha in alphas]\n",
        "cv_ridge = pd.Series(cv_ridge, index = alphas)\n",
        "cv_ridge.plot(title = \"Validation\")\n",
        "plt.xlabel(\"alpha\")\n",
        "plt.ylabel(\"MSE\");\n",
        "print(\"Lowest MSE = \", cv_ridge.min())"
      ],
      "execution_count": 0,
      "outputs": [
        {
          "output_type": "error",
          "ename": "ValueError",
          "evalue": "ignored",
          "traceback": [
            "\u001b[0;31m---------------------------------------------------------------------------\u001b[0m",
            "\u001b[0;31mValueError\u001b[0m                                Traceback (most recent call last)",
            "\u001b[0;32m<ipython-input-39-ff01903f2b7e>\u001b[0m in \u001b[0;36m<module>\u001b[0;34m()\u001b[0m\n\u001b[1;32m      3\u001b[0m \u001b[0;34m\u001b[0m\u001b[0m\n\u001b[1;32m      4\u001b[0m \u001b[0;31m#perform 5-fold CV to find the alpha value that minimizes MSE\u001b[0m\u001b[0;34m\u001b[0m\u001b[0;34m\u001b[0m\u001b[0;34m\u001b[0m\u001b[0m\n\u001b[0;32m----> 5\u001b[0;31m \u001b[0mcv_ridge\u001b[0m \u001b[0;34m=\u001b[0m \u001b[0;34m[\u001b[0m\u001b[0mmse_cv\u001b[0m\u001b[0;34m(\u001b[0m\u001b[0mRidge\u001b[0m\u001b[0;34m(\u001b[0m\u001b[0malpha\u001b[0m \u001b[0;34m=\u001b[0m \u001b[0malpha\u001b[0m\u001b[0;34m)\u001b[0m\u001b[0;34m)\u001b[0m\u001b[0;34m.\u001b[0m\u001b[0mmean\u001b[0m\u001b[0;34m(\u001b[0m\u001b[0;34m)\u001b[0m \u001b[0;32mfor\u001b[0m \u001b[0malpha\u001b[0m \u001b[0;32min\u001b[0m \u001b[0malphas\u001b[0m\u001b[0;34m]\u001b[0m\u001b[0;34m\u001b[0m\u001b[0;34m\u001b[0m\u001b[0m\n\u001b[0m\u001b[1;32m      6\u001b[0m \u001b[0mcv_ridge\u001b[0m \u001b[0;34m=\u001b[0m \u001b[0mpd\u001b[0m\u001b[0;34m.\u001b[0m\u001b[0mSeries\u001b[0m\u001b[0;34m(\u001b[0m\u001b[0mcv_ridge\u001b[0m\u001b[0;34m,\u001b[0m \u001b[0mindex\u001b[0m \u001b[0;34m=\u001b[0m \u001b[0malphas\u001b[0m\u001b[0;34m)\u001b[0m\u001b[0;34m\u001b[0m\u001b[0;34m\u001b[0m\u001b[0m\n\u001b[1;32m      7\u001b[0m \u001b[0mcv_ridge\u001b[0m\u001b[0;34m.\u001b[0m\u001b[0mplot\u001b[0m\u001b[0;34m(\u001b[0m\u001b[0mtitle\u001b[0m \u001b[0;34m=\u001b[0m \u001b[0;34m\"Validation\"\u001b[0m\u001b[0;34m)\u001b[0m\u001b[0;34m\u001b[0m\u001b[0;34m\u001b[0m\u001b[0m\n",
            "\u001b[0;32m<ipython-input-39-ff01903f2b7e>\u001b[0m in \u001b[0;36m<listcomp>\u001b[0;34m(.0)\u001b[0m\n\u001b[1;32m      3\u001b[0m \u001b[0;34m\u001b[0m\u001b[0m\n\u001b[1;32m      4\u001b[0m \u001b[0;31m#perform 5-fold CV to find the alpha value that minimizes MSE\u001b[0m\u001b[0;34m\u001b[0m\u001b[0;34m\u001b[0m\u001b[0;34m\u001b[0m\u001b[0m\n\u001b[0;32m----> 5\u001b[0;31m \u001b[0mcv_ridge\u001b[0m \u001b[0;34m=\u001b[0m \u001b[0;34m[\u001b[0m\u001b[0mmse_cv\u001b[0m\u001b[0;34m(\u001b[0m\u001b[0mRidge\u001b[0m\u001b[0;34m(\u001b[0m\u001b[0malpha\u001b[0m \u001b[0;34m=\u001b[0m \u001b[0malpha\u001b[0m\u001b[0;34m)\u001b[0m\u001b[0;34m)\u001b[0m\u001b[0;34m.\u001b[0m\u001b[0mmean\u001b[0m\u001b[0;34m(\u001b[0m\u001b[0;34m)\u001b[0m \u001b[0;32mfor\u001b[0m \u001b[0malpha\u001b[0m \u001b[0;32min\u001b[0m \u001b[0malphas\u001b[0m\u001b[0;34m]\u001b[0m\u001b[0;34m\u001b[0m\u001b[0;34m\u001b[0m\u001b[0m\n\u001b[0m\u001b[1;32m      6\u001b[0m \u001b[0mcv_ridge\u001b[0m \u001b[0;34m=\u001b[0m \u001b[0mpd\u001b[0m\u001b[0;34m.\u001b[0m\u001b[0mSeries\u001b[0m\u001b[0;34m(\u001b[0m\u001b[0mcv_ridge\u001b[0m\u001b[0;34m,\u001b[0m \u001b[0mindex\u001b[0m \u001b[0;34m=\u001b[0m \u001b[0malphas\u001b[0m\u001b[0;34m)\u001b[0m\u001b[0;34m\u001b[0m\u001b[0;34m\u001b[0m\u001b[0m\n\u001b[1;32m      7\u001b[0m \u001b[0mcv_ridge\u001b[0m\u001b[0;34m.\u001b[0m\u001b[0mplot\u001b[0m\u001b[0;34m(\u001b[0m\u001b[0mtitle\u001b[0m \u001b[0;34m=\u001b[0m \u001b[0;34m\"Validation\"\u001b[0m\u001b[0;34m)\u001b[0m\u001b[0;34m\u001b[0m\u001b[0;34m\u001b[0m\u001b[0m\n",
            "\u001b[0;32m<ipython-input-38-4e42b5b7a148>\u001b[0m in \u001b[0;36mmse_cv\u001b[0;34m(model)\u001b[0m\n\u001b[1;32m      3\u001b[0m \u001b[0;34m\u001b[0m\u001b[0m\n\u001b[1;32m      4\u001b[0m \u001b[0;32mdef\u001b[0m \u001b[0mmse_cv\u001b[0m\u001b[0;34m(\u001b[0m\u001b[0mmodel\u001b[0m\u001b[0;34m)\u001b[0m\u001b[0;34m:\u001b[0m\u001b[0;34m\u001b[0m\u001b[0;34m\u001b[0m\u001b[0m\n\u001b[0;32m----> 5\u001b[0;31m     \u001b[0mmse\u001b[0m \u001b[0;34m=\u001b[0m \u001b[0;34m-\u001b[0m\u001b[0mcross_val_score\u001b[0m\u001b[0;34m(\u001b[0m\u001b[0mmodel\u001b[0m\u001b[0;34m,\u001b[0m \u001b[0mX_train\u001b[0m\u001b[0;34m,\u001b[0m \u001b[0my_train\u001b[0m\u001b[0;34m,\u001b[0m \u001b[0mscoring\u001b[0m\u001b[0;34m=\u001b[0m\u001b[0;34m\"neg_mean_squared_error\"\u001b[0m\u001b[0;34m,\u001b[0m \u001b[0mcv\u001b[0m \u001b[0;34m=\u001b[0m \u001b[0;36m5\u001b[0m\u001b[0;34m)\u001b[0m\u001b[0;34m\u001b[0m\u001b[0;34m\u001b[0m\u001b[0m\n\u001b[0m\u001b[1;32m      6\u001b[0m     \u001b[0;32mreturn\u001b[0m \u001b[0mmse\u001b[0m\u001b[0;34m\u001b[0m\u001b[0;34m\u001b[0m\u001b[0m\n",
            "\u001b[0;32m/usr/local/lib/python3.6/dist-packages/sklearn/model_selection/_validation.py\u001b[0m in \u001b[0;36mcross_val_score\u001b[0;34m(estimator, X, y, groups, scoring, cv, n_jobs, verbose, fit_params, pre_dispatch, error_score)\u001b[0m\n\u001b[1;32m    389\u001b[0m                                 \u001b[0mfit_params\u001b[0m\u001b[0;34m=\u001b[0m\u001b[0mfit_params\u001b[0m\u001b[0;34m,\u001b[0m\u001b[0;34m\u001b[0m\u001b[0;34m\u001b[0m\u001b[0m\n\u001b[1;32m    390\u001b[0m                                 \u001b[0mpre_dispatch\u001b[0m\u001b[0;34m=\u001b[0m\u001b[0mpre_dispatch\u001b[0m\u001b[0;34m,\u001b[0m\u001b[0;34m\u001b[0m\u001b[0;34m\u001b[0m\u001b[0m\n\u001b[0;32m--> 391\u001b[0;31m                                 error_score=error_score)\n\u001b[0m\u001b[1;32m    392\u001b[0m     \u001b[0;32mreturn\u001b[0m \u001b[0mcv_results\u001b[0m\u001b[0;34m[\u001b[0m\u001b[0;34m'test_score'\u001b[0m\u001b[0;34m]\u001b[0m\u001b[0;34m\u001b[0m\u001b[0;34m\u001b[0m\u001b[0m\n\u001b[1;32m    393\u001b[0m \u001b[0;34m\u001b[0m\u001b[0m\n",
            "\u001b[0;32m/usr/local/lib/python3.6/dist-packages/sklearn/model_selection/_validation.py\u001b[0m in \u001b[0;36mcross_validate\u001b[0;34m(estimator, X, y, groups, scoring, cv, n_jobs, verbose, fit_params, pre_dispatch, return_train_score, return_estimator, error_score)\u001b[0m\n\u001b[1;32m    230\u001b[0m             \u001b[0mreturn_times\u001b[0m\u001b[0;34m=\u001b[0m\u001b[0;32mTrue\u001b[0m\u001b[0;34m,\u001b[0m \u001b[0mreturn_estimator\u001b[0m\u001b[0;34m=\u001b[0m\u001b[0mreturn_estimator\u001b[0m\u001b[0;34m,\u001b[0m\u001b[0;34m\u001b[0m\u001b[0;34m\u001b[0m\u001b[0m\n\u001b[1;32m    231\u001b[0m             error_score=error_score)\n\u001b[0;32m--> 232\u001b[0;31m         for train, test in cv.split(X, y, groups))\n\u001b[0m\u001b[1;32m    233\u001b[0m \u001b[0;34m\u001b[0m\u001b[0m\n\u001b[1;32m    234\u001b[0m     \u001b[0mzipped_scores\u001b[0m \u001b[0;34m=\u001b[0m \u001b[0mlist\u001b[0m\u001b[0;34m(\u001b[0m\u001b[0mzip\u001b[0m\u001b[0;34m(\u001b[0m\u001b[0;34m*\u001b[0m\u001b[0mscores\u001b[0m\u001b[0;34m)\u001b[0m\u001b[0;34m)\u001b[0m\u001b[0;34m\u001b[0m\u001b[0;34m\u001b[0m\u001b[0m\n",
            "\u001b[0;32m/usr/local/lib/python3.6/dist-packages/joblib/parallel.py\u001b[0m in \u001b[0;36m__call__\u001b[0;34m(self, iterable)\u001b[0m\n\u001b[1;32m    919\u001b[0m             \u001b[0;31m# remaining jobs.\u001b[0m\u001b[0;34m\u001b[0m\u001b[0;34m\u001b[0m\u001b[0;34m\u001b[0m\u001b[0m\n\u001b[1;32m    920\u001b[0m             \u001b[0mself\u001b[0m\u001b[0;34m.\u001b[0m\u001b[0m_iterating\u001b[0m \u001b[0;34m=\u001b[0m \u001b[0;32mFalse\u001b[0m\u001b[0;34m\u001b[0m\u001b[0;34m\u001b[0m\u001b[0m\n\u001b[0;32m--> 921\u001b[0;31m             \u001b[0;32mif\u001b[0m \u001b[0mself\u001b[0m\u001b[0;34m.\u001b[0m\u001b[0mdispatch_one_batch\u001b[0m\u001b[0;34m(\u001b[0m\u001b[0miterator\u001b[0m\u001b[0;34m)\u001b[0m\u001b[0;34m:\u001b[0m\u001b[0;34m\u001b[0m\u001b[0;34m\u001b[0m\u001b[0m\n\u001b[0m\u001b[1;32m    922\u001b[0m                 \u001b[0mself\u001b[0m\u001b[0;34m.\u001b[0m\u001b[0m_iterating\u001b[0m \u001b[0;34m=\u001b[0m \u001b[0mself\u001b[0m\u001b[0;34m.\u001b[0m\u001b[0m_original_iterator\u001b[0m \u001b[0;32mis\u001b[0m \u001b[0;32mnot\u001b[0m \u001b[0;32mNone\u001b[0m\u001b[0;34m\u001b[0m\u001b[0;34m\u001b[0m\u001b[0m\n\u001b[1;32m    923\u001b[0m \u001b[0;34m\u001b[0m\u001b[0m\n",
            "\u001b[0;32m/usr/local/lib/python3.6/dist-packages/joblib/parallel.py\u001b[0m in \u001b[0;36mdispatch_one_batch\u001b[0;34m(self, iterator)\u001b[0m\n\u001b[1;32m    757\u001b[0m                 \u001b[0;32mreturn\u001b[0m \u001b[0;32mFalse\u001b[0m\u001b[0;34m\u001b[0m\u001b[0;34m\u001b[0m\u001b[0m\n\u001b[1;32m    758\u001b[0m             \u001b[0;32melse\u001b[0m\u001b[0;34m:\u001b[0m\u001b[0;34m\u001b[0m\u001b[0;34m\u001b[0m\u001b[0m\n\u001b[0;32m--> 759\u001b[0;31m                 \u001b[0mself\u001b[0m\u001b[0;34m.\u001b[0m\u001b[0m_dispatch\u001b[0m\u001b[0;34m(\u001b[0m\u001b[0mtasks\u001b[0m\u001b[0;34m)\u001b[0m\u001b[0;34m\u001b[0m\u001b[0;34m\u001b[0m\u001b[0m\n\u001b[0m\u001b[1;32m    760\u001b[0m                 \u001b[0;32mreturn\u001b[0m \u001b[0;32mTrue\u001b[0m\u001b[0;34m\u001b[0m\u001b[0;34m\u001b[0m\u001b[0m\n\u001b[1;32m    761\u001b[0m \u001b[0;34m\u001b[0m\u001b[0m\n",
            "\u001b[0;32m/usr/local/lib/python3.6/dist-packages/joblib/parallel.py\u001b[0m in \u001b[0;36m_dispatch\u001b[0;34m(self, batch)\u001b[0m\n\u001b[1;32m    714\u001b[0m         \u001b[0;32mwith\u001b[0m \u001b[0mself\u001b[0m\u001b[0;34m.\u001b[0m\u001b[0m_lock\u001b[0m\u001b[0;34m:\u001b[0m\u001b[0;34m\u001b[0m\u001b[0;34m\u001b[0m\u001b[0m\n\u001b[1;32m    715\u001b[0m             \u001b[0mjob_idx\u001b[0m \u001b[0;34m=\u001b[0m \u001b[0mlen\u001b[0m\u001b[0;34m(\u001b[0m\u001b[0mself\u001b[0m\u001b[0;34m.\u001b[0m\u001b[0m_jobs\u001b[0m\u001b[0;34m)\u001b[0m\u001b[0;34m\u001b[0m\u001b[0;34m\u001b[0m\u001b[0m\n\u001b[0;32m--> 716\u001b[0;31m             \u001b[0mjob\u001b[0m \u001b[0;34m=\u001b[0m \u001b[0mself\u001b[0m\u001b[0;34m.\u001b[0m\u001b[0m_backend\u001b[0m\u001b[0;34m.\u001b[0m\u001b[0mapply_async\u001b[0m\u001b[0;34m(\u001b[0m\u001b[0mbatch\u001b[0m\u001b[0;34m,\u001b[0m \u001b[0mcallback\u001b[0m\u001b[0;34m=\u001b[0m\u001b[0mcb\u001b[0m\u001b[0;34m)\u001b[0m\u001b[0;34m\u001b[0m\u001b[0;34m\u001b[0m\u001b[0m\n\u001b[0m\u001b[1;32m    717\u001b[0m             \u001b[0;31m# A job can complete so quickly than its callback is\u001b[0m\u001b[0;34m\u001b[0m\u001b[0;34m\u001b[0m\u001b[0;34m\u001b[0m\u001b[0m\n\u001b[1;32m    718\u001b[0m             \u001b[0;31m# called before we get here, causing self._jobs to\u001b[0m\u001b[0;34m\u001b[0m\u001b[0;34m\u001b[0m\u001b[0;34m\u001b[0m\u001b[0m\n",
            "\u001b[0;32m/usr/local/lib/python3.6/dist-packages/joblib/_parallel_backends.py\u001b[0m in \u001b[0;36mapply_async\u001b[0;34m(self, func, callback)\u001b[0m\n\u001b[1;32m    180\u001b[0m     \u001b[0;32mdef\u001b[0m \u001b[0mapply_async\u001b[0m\u001b[0;34m(\u001b[0m\u001b[0mself\u001b[0m\u001b[0;34m,\u001b[0m \u001b[0mfunc\u001b[0m\u001b[0;34m,\u001b[0m \u001b[0mcallback\u001b[0m\u001b[0;34m=\u001b[0m\u001b[0;32mNone\u001b[0m\u001b[0;34m)\u001b[0m\u001b[0;34m:\u001b[0m\u001b[0;34m\u001b[0m\u001b[0;34m\u001b[0m\u001b[0m\n\u001b[1;32m    181\u001b[0m         \u001b[0;34m\"\"\"Schedule a func to be run\"\"\"\u001b[0m\u001b[0;34m\u001b[0m\u001b[0;34m\u001b[0m\u001b[0m\n\u001b[0;32m--> 182\u001b[0;31m         \u001b[0mresult\u001b[0m \u001b[0;34m=\u001b[0m \u001b[0mImmediateResult\u001b[0m\u001b[0;34m(\u001b[0m\u001b[0mfunc\u001b[0m\u001b[0;34m)\u001b[0m\u001b[0;34m\u001b[0m\u001b[0;34m\u001b[0m\u001b[0m\n\u001b[0m\u001b[1;32m    183\u001b[0m         \u001b[0;32mif\u001b[0m \u001b[0mcallback\u001b[0m\u001b[0;34m:\u001b[0m\u001b[0;34m\u001b[0m\u001b[0;34m\u001b[0m\u001b[0m\n\u001b[1;32m    184\u001b[0m             \u001b[0mcallback\u001b[0m\u001b[0;34m(\u001b[0m\u001b[0mresult\u001b[0m\u001b[0;34m)\u001b[0m\u001b[0;34m\u001b[0m\u001b[0;34m\u001b[0m\u001b[0m\n",
            "\u001b[0;32m/usr/local/lib/python3.6/dist-packages/joblib/_parallel_backends.py\u001b[0m in \u001b[0;36m__init__\u001b[0;34m(self, batch)\u001b[0m\n\u001b[1;32m    547\u001b[0m         \u001b[0;31m# Don't delay the application, to avoid keeping the input\u001b[0m\u001b[0;34m\u001b[0m\u001b[0;34m\u001b[0m\u001b[0;34m\u001b[0m\u001b[0m\n\u001b[1;32m    548\u001b[0m         \u001b[0;31m# arguments in memory\u001b[0m\u001b[0;34m\u001b[0m\u001b[0;34m\u001b[0m\u001b[0;34m\u001b[0m\u001b[0m\n\u001b[0;32m--> 549\u001b[0;31m         \u001b[0mself\u001b[0m\u001b[0;34m.\u001b[0m\u001b[0mresults\u001b[0m \u001b[0;34m=\u001b[0m \u001b[0mbatch\u001b[0m\u001b[0;34m(\u001b[0m\u001b[0;34m)\u001b[0m\u001b[0;34m\u001b[0m\u001b[0;34m\u001b[0m\u001b[0m\n\u001b[0m\u001b[1;32m    550\u001b[0m \u001b[0;34m\u001b[0m\u001b[0m\n\u001b[1;32m    551\u001b[0m     \u001b[0;32mdef\u001b[0m \u001b[0mget\u001b[0m\u001b[0;34m(\u001b[0m\u001b[0mself\u001b[0m\u001b[0;34m)\u001b[0m\u001b[0;34m:\u001b[0m\u001b[0;34m\u001b[0m\u001b[0;34m\u001b[0m\u001b[0m\n",
            "\u001b[0;32m/usr/local/lib/python3.6/dist-packages/joblib/parallel.py\u001b[0m in \u001b[0;36m__call__\u001b[0;34m(self)\u001b[0m\n\u001b[1;32m    223\u001b[0m         \u001b[0;32mwith\u001b[0m \u001b[0mparallel_backend\u001b[0m\u001b[0;34m(\u001b[0m\u001b[0mself\u001b[0m\u001b[0;34m.\u001b[0m\u001b[0m_backend\u001b[0m\u001b[0;34m,\u001b[0m \u001b[0mn_jobs\u001b[0m\u001b[0;34m=\u001b[0m\u001b[0mself\u001b[0m\u001b[0;34m.\u001b[0m\u001b[0m_n_jobs\u001b[0m\u001b[0;34m)\u001b[0m\u001b[0;34m:\u001b[0m\u001b[0;34m\u001b[0m\u001b[0;34m\u001b[0m\u001b[0m\n\u001b[1;32m    224\u001b[0m             return [func(*args, **kwargs)\n\u001b[0;32m--> 225\u001b[0;31m                     for func, args, kwargs in self.items]\n\u001b[0m\u001b[1;32m    226\u001b[0m \u001b[0;34m\u001b[0m\u001b[0m\n\u001b[1;32m    227\u001b[0m     \u001b[0;32mdef\u001b[0m \u001b[0m__len__\u001b[0m\u001b[0;34m(\u001b[0m\u001b[0mself\u001b[0m\u001b[0;34m)\u001b[0m\u001b[0;34m:\u001b[0m\u001b[0;34m\u001b[0m\u001b[0;34m\u001b[0m\u001b[0m\n",
            "\u001b[0;32m/usr/local/lib/python3.6/dist-packages/joblib/parallel.py\u001b[0m in \u001b[0;36m<listcomp>\u001b[0;34m(.0)\u001b[0m\n\u001b[1;32m    223\u001b[0m         \u001b[0;32mwith\u001b[0m \u001b[0mparallel_backend\u001b[0m\u001b[0;34m(\u001b[0m\u001b[0mself\u001b[0m\u001b[0;34m.\u001b[0m\u001b[0m_backend\u001b[0m\u001b[0;34m,\u001b[0m \u001b[0mn_jobs\u001b[0m\u001b[0;34m=\u001b[0m\u001b[0mself\u001b[0m\u001b[0;34m.\u001b[0m\u001b[0m_n_jobs\u001b[0m\u001b[0;34m)\u001b[0m\u001b[0;34m:\u001b[0m\u001b[0;34m\u001b[0m\u001b[0;34m\u001b[0m\u001b[0m\n\u001b[1;32m    224\u001b[0m             return [func(*args, **kwargs)\n\u001b[0;32m--> 225\u001b[0;31m                     for func, args, kwargs in self.items]\n\u001b[0m\u001b[1;32m    226\u001b[0m \u001b[0;34m\u001b[0m\u001b[0m\n\u001b[1;32m    227\u001b[0m     \u001b[0;32mdef\u001b[0m \u001b[0m__len__\u001b[0m\u001b[0;34m(\u001b[0m\u001b[0mself\u001b[0m\u001b[0;34m)\u001b[0m\u001b[0;34m:\u001b[0m\u001b[0;34m\u001b[0m\u001b[0;34m\u001b[0m\u001b[0m\n",
            "\u001b[0;32m/usr/local/lib/python3.6/dist-packages/sklearn/model_selection/_validation.py\u001b[0m in \u001b[0;36m_fit_and_score\u001b[0;34m(estimator, X, y, scorer, train, test, verbose, parameters, fit_params, return_train_score, return_parameters, return_n_test_samples, return_times, return_estimator, error_score)\u001b[0m\n\u001b[1;32m    514\u001b[0m             \u001b[0mestimator\u001b[0m\u001b[0;34m.\u001b[0m\u001b[0mfit\u001b[0m\u001b[0;34m(\u001b[0m\u001b[0mX_train\u001b[0m\u001b[0;34m,\u001b[0m \u001b[0;34m**\u001b[0m\u001b[0mfit_params\u001b[0m\u001b[0;34m)\u001b[0m\u001b[0;34m\u001b[0m\u001b[0;34m\u001b[0m\u001b[0m\n\u001b[1;32m    515\u001b[0m         \u001b[0;32melse\u001b[0m\u001b[0;34m:\u001b[0m\u001b[0;34m\u001b[0m\u001b[0;34m\u001b[0m\u001b[0m\n\u001b[0;32m--> 516\u001b[0;31m             \u001b[0mestimator\u001b[0m\u001b[0;34m.\u001b[0m\u001b[0mfit\u001b[0m\u001b[0;34m(\u001b[0m\u001b[0mX_train\u001b[0m\u001b[0;34m,\u001b[0m \u001b[0my_train\u001b[0m\u001b[0;34m,\u001b[0m \u001b[0;34m**\u001b[0m\u001b[0mfit_params\u001b[0m\u001b[0;34m)\u001b[0m\u001b[0;34m\u001b[0m\u001b[0;34m\u001b[0m\u001b[0m\n\u001b[0m\u001b[1;32m    517\u001b[0m \u001b[0;34m\u001b[0m\u001b[0m\n\u001b[1;32m    518\u001b[0m     \u001b[0;32mexcept\u001b[0m \u001b[0mException\u001b[0m \u001b[0;32mas\u001b[0m \u001b[0me\u001b[0m\u001b[0;34m:\u001b[0m\u001b[0;34m\u001b[0m\u001b[0;34m\u001b[0m\u001b[0m\n",
            "\u001b[0;32m/usr/local/lib/python3.6/dist-packages/sklearn/linear_model/ridge.py\u001b[0m in \u001b[0;36mfit\u001b[0;34m(self, X, y, sample_weight)\u001b[0m\n\u001b[1;32m    745\u001b[0m         \u001b[0mself\u001b[0m \u001b[0;34m:\u001b[0m \u001b[0mreturns\u001b[0m \u001b[0man\u001b[0m \u001b[0minstance\u001b[0m \u001b[0mof\u001b[0m \u001b[0mself\u001b[0m\u001b[0;34m.\u001b[0m\u001b[0;34m\u001b[0m\u001b[0;34m\u001b[0m\u001b[0m\n\u001b[1;32m    746\u001b[0m         \"\"\"\n\u001b[0;32m--> 747\u001b[0;31m         \u001b[0;32mreturn\u001b[0m \u001b[0msuper\u001b[0m\u001b[0;34m(\u001b[0m\u001b[0;34m)\u001b[0m\u001b[0;34m.\u001b[0m\u001b[0mfit\u001b[0m\u001b[0;34m(\u001b[0m\u001b[0mX\u001b[0m\u001b[0;34m,\u001b[0m \u001b[0my\u001b[0m\u001b[0;34m,\u001b[0m \u001b[0msample_weight\u001b[0m\u001b[0;34m=\u001b[0m\u001b[0msample_weight\u001b[0m\u001b[0;34m)\u001b[0m\u001b[0;34m\u001b[0m\u001b[0;34m\u001b[0m\u001b[0m\n\u001b[0m\u001b[1;32m    748\u001b[0m \u001b[0;34m\u001b[0m\u001b[0m\n\u001b[1;32m    749\u001b[0m \u001b[0;34m\u001b[0m\u001b[0m\n",
            "\u001b[0;32m/usr/local/lib/python3.6/dist-packages/sklearn/linear_model/ridge.py\u001b[0m in \u001b[0;36mfit\u001b[0;34m(self, X, y, sample_weight)\u001b[0m\n\u001b[1;32m    545\u001b[0m                          \u001b[0maccept_sparse\u001b[0m\u001b[0;34m=\u001b[0m\u001b[0m_accept_sparse\u001b[0m\u001b[0;34m,\u001b[0m\u001b[0;34m\u001b[0m\u001b[0;34m\u001b[0m\u001b[0m\n\u001b[1;32m    546\u001b[0m                          \u001b[0mdtype\u001b[0m\u001b[0;34m=\u001b[0m\u001b[0m_dtype\u001b[0m\u001b[0;34m,\u001b[0m\u001b[0;34m\u001b[0m\u001b[0;34m\u001b[0m\u001b[0m\n\u001b[0;32m--> 547\u001b[0;31m                          multi_output=True, y_numeric=True)\n\u001b[0m\u001b[1;32m    548\u001b[0m \u001b[0;34m\u001b[0m\u001b[0m\n\u001b[1;32m    549\u001b[0m         if ((sample_weight is not None) and\n",
            "\u001b[0;32m/usr/local/lib/python3.6/dist-packages/sklearn/utils/validation.py\u001b[0m in \u001b[0;36mcheck_X_y\u001b[0;34m(X, y, accept_sparse, accept_large_sparse, dtype, order, copy, force_all_finite, ensure_2d, allow_nd, multi_output, ensure_min_samples, ensure_min_features, y_numeric, warn_on_dtype, estimator)\u001b[0m\n\u001b[1;32m    717\u001b[0m                     \u001b[0mensure_min_features\u001b[0m\u001b[0;34m=\u001b[0m\u001b[0mensure_min_features\u001b[0m\u001b[0;34m,\u001b[0m\u001b[0;34m\u001b[0m\u001b[0;34m\u001b[0m\u001b[0m\n\u001b[1;32m    718\u001b[0m                     \u001b[0mwarn_on_dtype\u001b[0m\u001b[0;34m=\u001b[0m\u001b[0mwarn_on_dtype\u001b[0m\u001b[0;34m,\u001b[0m\u001b[0;34m\u001b[0m\u001b[0;34m\u001b[0m\u001b[0m\n\u001b[0;32m--> 719\u001b[0;31m                     estimator=estimator)\n\u001b[0m\u001b[1;32m    720\u001b[0m     \u001b[0;32mif\u001b[0m \u001b[0mmulti_output\u001b[0m\u001b[0;34m:\u001b[0m\u001b[0;34m\u001b[0m\u001b[0;34m\u001b[0m\u001b[0m\n\u001b[1;32m    721\u001b[0m         y = check_array(y, 'csr', force_all_finite=True, ensure_2d=False,\n",
            "\u001b[0;32m/usr/local/lib/python3.6/dist-packages/sklearn/utils/validation.py\u001b[0m in \u001b[0;36mcheck_array\u001b[0;34m(array, accept_sparse, accept_large_sparse, dtype, order, copy, force_all_finite, ensure_2d, allow_nd, ensure_min_samples, ensure_min_features, warn_on_dtype, estimator)\u001b[0m\n\u001b[1;32m    494\u001b[0m             \u001b[0;32mtry\u001b[0m\u001b[0;34m:\u001b[0m\u001b[0;34m\u001b[0m\u001b[0;34m\u001b[0m\u001b[0m\n\u001b[1;32m    495\u001b[0m                 \u001b[0mwarnings\u001b[0m\u001b[0;34m.\u001b[0m\u001b[0msimplefilter\u001b[0m\u001b[0;34m(\u001b[0m\u001b[0;34m'error'\u001b[0m\u001b[0;34m,\u001b[0m \u001b[0mComplexWarning\u001b[0m\u001b[0;34m)\u001b[0m\u001b[0;34m\u001b[0m\u001b[0;34m\u001b[0m\u001b[0m\n\u001b[0;32m--> 496\u001b[0;31m                 \u001b[0marray\u001b[0m \u001b[0;34m=\u001b[0m \u001b[0mnp\u001b[0m\u001b[0;34m.\u001b[0m\u001b[0masarray\u001b[0m\u001b[0;34m(\u001b[0m\u001b[0marray\u001b[0m\u001b[0;34m,\u001b[0m \u001b[0mdtype\u001b[0m\u001b[0;34m=\u001b[0m\u001b[0mdtype\u001b[0m\u001b[0;34m,\u001b[0m \u001b[0morder\u001b[0m\u001b[0;34m=\u001b[0m\u001b[0morder\u001b[0m\u001b[0;34m)\u001b[0m\u001b[0;34m\u001b[0m\u001b[0;34m\u001b[0m\u001b[0m\n\u001b[0m\u001b[1;32m    497\u001b[0m             \u001b[0;32mexcept\u001b[0m \u001b[0mComplexWarning\u001b[0m\u001b[0;34m:\u001b[0m\u001b[0;34m\u001b[0m\u001b[0;34m\u001b[0m\u001b[0m\n\u001b[1;32m    498\u001b[0m                 raise ValueError(\"Complex data not supported\\n\"\n",
            "\u001b[0;32m/usr/local/lib/python3.6/dist-packages/numpy/core/numeric.py\u001b[0m in \u001b[0;36masarray\u001b[0;34m(a, dtype, order)\u001b[0m\n\u001b[1;32m    536\u001b[0m \u001b[0;34m\u001b[0m\u001b[0m\n\u001b[1;32m    537\u001b[0m     \"\"\"\n\u001b[0;32m--> 538\u001b[0;31m     \u001b[0;32mreturn\u001b[0m \u001b[0marray\u001b[0m\u001b[0;34m(\u001b[0m\u001b[0ma\u001b[0m\u001b[0;34m,\u001b[0m \u001b[0mdtype\u001b[0m\u001b[0;34m,\u001b[0m \u001b[0mcopy\u001b[0m\u001b[0;34m=\u001b[0m\u001b[0;32mFalse\u001b[0m\u001b[0;34m,\u001b[0m \u001b[0morder\u001b[0m\u001b[0;34m=\u001b[0m\u001b[0morder\u001b[0m\u001b[0;34m)\u001b[0m\u001b[0;34m\u001b[0m\u001b[0;34m\u001b[0m\u001b[0m\n\u001b[0m\u001b[1;32m    539\u001b[0m \u001b[0;34m\u001b[0m\u001b[0m\n\u001b[1;32m    540\u001b[0m \u001b[0;34m\u001b[0m\u001b[0m\n",
            "\u001b[0;31mValueError\u001b[0m: could not convert string to float: 'GA'"
          ]
        }
      ]
    },
    {
      "cell_type": "code",
      "metadata": {
        "id": "GZWoecZQR7Lz",
        "colab_type": "code",
        "outputId": "24d43f11-6c3a-4b62-c85b-1533c73b4e47",
        "colab": {
          "base_uri": "https://localhost:8080/",
          "height": 365
        }
      },
      "source": [
        "import warnings\n",
        "warnings.simplefilter(\"ignore\")\n",
        "model_ridge = Ridge(alpha=10).fit(X_train, y_train) #use the alpha from the above cell\n",
        "mse_cv(model_ridge).mean()"
      ],
      "execution_count": 0,
      "outputs": [
        {
          "output_type": "error",
          "ename": "ValueError",
          "evalue": "ignored",
          "traceback": [
            "\u001b[0;31m---------------------------------------------------------------------------\u001b[0m",
            "\u001b[0;31mValueError\u001b[0m                                Traceback (most recent call last)",
            "\u001b[0;32m<ipython-input-44-9a2119d28e45>\u001b[0m in \u001b[0;36m<module>\u001b[0;34m()\u001b[0m\n\u001b[1;32m      1\u001b[0m \u001b[0;32mimport\u001b[0m \u001b[0mwarnings\u001b[0m\u001b[0;34m\u001b[0m\u001b[0;34m\u001b[0m\u001b[0m\n\u001b[1;32m      2\u001b[0m \u001b[0mwarnings\u001b[0m\u001b[0;34m.\u001b[0m\u001b[0msimplefilter\u001b[0m\u001b[0;34m(\u001b[0m\u001b[0;34m\"ignore\"\u001b[0m\u001b[0;34m)\u001b[0m\u001b[0;34m\u001b[0m\u001b[0;34m\u001b[0m\u001b[0m\n\u001b[0;32m----> 3\u001b[0;31m \u001b[0mmodel_ridge\u001b[0m \u001b[0;34m=\u001b[0m \u001b[0mRidge\u001b[0m\u001b[0;34m(\u001b[0m\u001b[0malpha\u001b[0m\u001b[0;34m=\u001b[0m\u001b[0;36m10\u001b[0m\u001b[0;34m)\u001b[0m\u001b[0;34m.\u001b[0m\u001b[0mfit\u001b[0m\u001b[0;34m(\u001b[0m\u001b[0mX_train\u001b[0m\u001b[0;34m,\u001b[0m \u001b[0my_train\u001b[0m\u001b[0;34m)\u001b[0m \u001b[0;31m#use the alpha from the above cell\u001b[0m\u001b[0;34m\u001b[0m\u001b[0;34m\u001b[0m\u001b[0m\n\u001b[0m\u001b[1;32m      4\u001b[0m \u001b[0mmse_cv\u001b[0m\u001b[0;34m(\u001b[0m\u001b[0mmodel_ridge\u001b[0m\u001b[0;34m)\u001b[0m\u001b[0;34m.\u001b[0m\u001b[0mmean\u001b[0m\u001b[0;34m(\u001b[0m\u001b[0;34m)\u001b[0m\u001b[0;34m\u001b[0m\u001b[0;34m\u001b[0m\u001b[0m\n",
            "\u001b[0;32m/usr/local/lib/python3.6/dist-packages/sklearn/linear_model/ridge.py\u001b[0m in \u001b[0;36mfit\u001b[0;34m(self, X, y, sample_weight)\u001b[0m\n\u001b[1;32m    745\u001b[0m         \u001b[0mself\u001b[0m \u001b[0;34m:\u001b[0m \u001b[0mreturns\u001b[0m \u001b[0man\u001b[0m \u001b[0minstance\u001b[0m \u001b[0mof\u001b[0m \u001b[0mself\u001b[0m\u001b[0;34m.\u001b[0m\u001b[0;34m\u001b[0m\u001b[0;34m\u001b[0m\u001b[0m\n\u001b[1;32m    746\u001b[0m         \"\"\"\n\u001b[0;32m--> 747\u001b[0;31m         \u001b[0;32mreturn\u001b[0m \u001b[0msuper\u001b[0m\u001b[0;34m(\u001b[0m\u001b[0;34m)\u001b[0m\u001b[0;34m.\u001b[0m\u001b[0mfit\u001b[0m\u001b[0;34m(\u001b[0m\u001b[0mX\u001b[0m\u001b[0;34m,\u001b[0m \u001b[0my\u001b[0m\u001b[0;34m,\u001b[0m \u001b[0msample_weight\u001b[0m\u001b[0;34m=\u001b[0m\u001b[0msample_weight\u001b[0m\u001b[0;34m)\u001b[0m\u001b[0;34m\u001b[0m\u001b[0;34m\u001b[0m\u001b[0m\n\u001b[0m\u001b[1;32m    748\u001b[0m \u001b[0;34m\u001b[0m\u001b[0m\n\u001b[1;32m    749\u001b[0m \u001b[0;34m\u001b[0m\u001b[0m\n",
            "\u001b[0;32m/usr/local/lib/python3.6/dist-packages/sklearn/linear_model/ridge.py\u001b[0m in \u001b[0;36mfit\u001b[0;34m(self, X, y, sample_weight)\u001b[0m\n\u001b[1;32m    545\u001b[0m                          \u001b[0maccept_sparse\u001b[0m\u001b[0;34m=\u001b[0m\u001b[0m_accept_sparse\u001b[0m\u001b[0;34m,\u001b[0m\u001b[0;34m\u001b[0m\u001b[0;34m\u001b[0m\u001b[0m\n\u001b[1;32m    546\u001b[0m                          \u001b[0mdtype\u001b[0m\u001b[0;34m=\u001b[0m\u001b[0m_dtype\u001b[0m\u001b[0;34m,\u001b[0m\u001b[0;34m\u001b[0m\u001b[0;34m\u001b[0m\u001b[0m\n\u001b[0;32m--> 547\u001b[0;31m                          multi_output=True, y_numeric=True)\n\u001b[0m\u001b[1;32m    548\u001b[0m \u001b[0;34m\u001b[0m\u001b[0m\n\u001b[1;32m    549\u001b[0m         if ((sample_weight is not None) and\n",
            "\u001b[0;32m/usr/local/lib/python3.6/dist-packages/sklearn/utils/validation.py\u001b[0m in \u001b[0;36mcheck_X_y\u001b[0;34m(X, y, accept_sparse, accept_large_sparse, dtype, order, copy, force_all_finite, ensure_2d, allow_nd, multi_output, ensure_min_samples, ensure_min_features, y_numeric, warn_on_dtype, estimator)\u001b[0m\n\u001b[1;32m    717\u001b[0m                     \u001b[0mensure_min_features\u001b[0m\u001b[0;34m=\u001b[0m\u001b[0mensure_min_features\u001b[0m\u001b[0;34m,\u001b[0m\u001b[0;34m\u001b[0m\u001b[0;34m\u001b[0m\u001b[0m\n\u001b[1;32m    718\u001b[0m                     \u001b[0mwarn_on_dtype\u001b[0m\u001b[0;34m=\u001b[0m\u001b[0mwarn_on_dtype\u001b[0m\u001b[0;34m,\u001b[0m\u001b[0;34m\u001b[0m\u001b[0;34m\u001b[0m\u001b[0m\n\u001b[0;32m--> 719\u001b[0;31m                     estimator=estimator)\n\u001b[0m\u001b[1;32m    720\u001b[0m     \u001b[0;32mif\u001b[0m \u001b[0mmulti_output\u001b[0m\u001b[0;34m:\u001b[0m\u001b[0;34m\u001b[0m\u001b[0;34m\u001b[0m\u001b[0m\n\u001b[1;32m    721\u001b[0m         y = check_array(y, 'csr', force_all_finite=True, ensure_2d=False,\n",
            "\u001b[0;32m/usr/local/lib/python3.6/dist-packages/sklearn/utils/validation.py\u001b[0m in \u001b[0;36mcheck_array\u001b[0;34m(array, accept_sparse, accept_large_sparse, dtype, order, copy, force_all_finite, ensure_2d, allow_nd, ensure_min_samples, ensure_min_features, warn_on_dtype, estimator)\u001b[0m\n\u001b[1;32m    540\u001b[0m         \u001b[0;32mif\u001b[0m \u001b[0mforce_all_finite\u001b[0m\u001b[0;34m:\u001b[0m\u001b[0;34m\u001b[0m\u001b[0;34m\u001b[0m\u001b[0m\n\u001b[1;32m    541\u001b[0m             _assert_all_finite(array,\n\u001b[0;32m--> 542\u001b[0;31m                                allow_nan=force_all_finite == 'allow-nan')\n\u001b[0m\u001b[1;32m    543\u001b[0m \u001b[0;34m\u001b[0m\u001b[0m\n\u001b[1;32m    544\u001b[0m     \u001b[0;32mif\u001b[0m \u001b[0mensure_min_samples\u001b[0m \u001b[0;34m>\u001b[0m \u001b[0;36m0\u001b[0m\u001b[0;34m:\u001b[0m\u001b[0;34m\u001b[0m\u001b[0;34m\u001b[0m\u001b[0m\n",
            "\u001b[0;32m/usr/local/lib/python3.6/dist-packages/sklearn/utils/validation.py\u001b[0m in \u001b[0;36m_assert_all_finite\u001b[0;34m(X, allow_nan)\u001b[0m\n\u001b[1;32m     54\u001b[0m                 not allow_nan and not np.isfinite(X).all()):\n\u001b[1;32m     55\u001b[0m             \u001b[0mtype_err\u001b[0m \u001b[0;34m=\u001b[0m \u001b[0;34m'infinity'\u001b[0m \u001b[0;32mif\u001b[0m \u001b[0mallow_nan\u001b[0m \u001b[0;32melse\u001b[0m \u001b[0;34m'NaN, infinity'\u001b[0m\u001b[0;34m\u001b[0m\u001b[0;34m\u001b[0m\u001b[0m\n\u001b[0;32m---> 56\u001b[0;31m             \u001b[0;32mraise\u001b[0m \u001b[0mValueError\u001b[0m\u001b[0;34m(\u001b[0m\u001b[0mmsg_err\u001b[0m\u001b[0;34m.\u001b[0m\u001b[0mformat\u001b[0m\u001b[0;34m(\u001b[0m\u001b[0mtype_err\u001b[0m\u001b[0;34m,\u001b[0m \u001b[0mX\u001b[0m\u001b[0;34m.\u001b[0m\u001b[0mdtype\u001b[0m\u001b[0;34m)\u001b[0m\u001b[0;34m)\u001b[0m\u001b[0;34m\u001b[0m\u001b[0;34m\u001b[0m\u001b[0m\n\u001b[0m\u001b[1;32m     57\u001b[0m     \u001b[0;31m# for object dtype data, we only check for NaNs (GH-13254)\u001b[0m\u001b[0;34m\u001b[0m\u001b[0;34m\u001b[0m\u001b[0;34m\u001b[0m\u001b[0m\n\u001b[1;32m     58\u001b[0m     \u001b[0;32melif\u001b[0m \u001b[0mX\u001b[0m\u001b[0;34m.\u001b[0m\u001b[0mdtype\u001b[0m \u001b[0;34m==\u001b[0m \u001b[0mnp\u001b[0m\u001b[0;34m.\u001b[0m\u001b[0mdtype\u001b[0m\u001b[0;34m(\u001b[0m\u001b[0;34m'object'\u001b[0m\u001b[0;34m)\u001b[0m \u001b[0;32mand\u001b[0m \u001b[0;32mnot\u001b[0m \u001b[0mallow_nan\u001b[0m\u001b[0;34m:\u001b[0m\u001b[0;34m\u001b[0m\u001b[0;34m\u001b[0m\u001b[0m\n",
            "\u001b[0;31mValueError\u001b[0m: Input contains NaN, infinity or a value too large for dtype('float64')."
          ]
        }
      ]
    },
    {
      "cell_type": "code",
      "metadata": {
        "id": "t5Xcfa30R7qu",
        "colab_type": "code",
        "colab": {}
      },
      "source": [
        "import xgboost as xgb\n",
        "\n",
        "dtrain = xgb.DMatrix(X_train, label = y_train)\n",
        "dtest = xgb.DMatrix(X_test, label = y_test)\n",
        "\n",
        "params = {\"max_depth\":1, \"eta\":0.1, \"tree_method\":\"gpu_hist\"}\n",
        "model = xgb.cv(params, dtrain,  num_boost_round=500, early_stopping_rounds=100)"
      ],
      "execution_count": 0,
      "outputs": []
    },
    {
      "cell_type": "code",
      "metadata": {
        "id": "io33CJLZR7yY",
        "colab_type": "code",
        "outputId": "507b857f-1aa5-4e58-cf8a-f0bef0510541",
        "colab": {
          "base_uri": "https://localhost:8080/",
          "height": 350
        }
      },
      "source": [
        "model_xgb = xgb.XGBRegressor(*params, objective='reg:squarederror')\n",
        "model_xgb.fit(X_train, y_train)"
      ],
      "execution_count": 0,
      "outputs": [
        {
          "output_type": "error",
          "ename": "TypeError",
          "evalue": "ignored",
          "traceback": [
            "\u001b[0;31m---------------------------------------------------------------------------\u001b[0m",
            "\u001b[0;31mTypeError\u001b[0m                                 Traceback (most recent call last)",
            "\u001b[0;32m<ipython-input-39-ed7bbdea05af>\u001b[0m in \u001b[0;36m<module>\u001b[0;34m()\u001b[0m\n\u001b[1;32m      1\u001b[0m \u001b[0mmodel_xgb\u001b[0m \u001b[0;34m=\u001b[0m \u001b[0mxgb\u001b[0m\u001b[0;34m.\u001b[0m\u001b[0mXGBRegressor\u001b[0m\u001b[0;34m(\u001b[0m\u001b[0;34m*\u001b[0m\u001b[0mparams\u001b[0m\u001b[0;34m,\u001b[0m \u001b[0mobjective\u001b[0m\u001b[0;34m=\u001b[0m\u001b[0;34m'reg:squarederror'\u001b[0m\u001b[0;34m)\u001b[0m\u001b[0;34m\u001b[0m\u001b[0;34m\u001b[0m\u001b[0m\n\u001b[0;32m----> 2\u001b[0;31m \u001b[0mmodel_xgb\u001b[0m\u001b[0;34m.\u001b[0m\u001b[0mfit\u001b[0m\u001b[0;34m(\u001b[0m\u001b[0mX_train\u001b[0m\u001b[0;34m,\u001b[0m \u001b[0my_train\u001b[0m\u001b[0;34m)\u001b[0m\u001b[0;34m\u001b[0m\u001b[0;34m\u001b[0m\u001b[0m\n\u001b[0m",
            "\u001b[0;32m/usr/local/lib/python3.6/dist-packages/xgboost/sklearn.py\u001b[0m in \u001b[0;36mfit\u001b[0;34m(self, X, y, sample_weight, eval_set, eval_metric, early_stopping_rounds, verbose, xgb_model, sample_weight_eval_set, callbacks)\u001b[0m\n\u001b[1;32m    394\u001b[0m                               \u001b[0mevals_result\u001b[0m\u001b[0;34m=\u001b[0m\u001b[0mevals_result\u001b[0m\u001b[0;34m,\u001b[0m \u001b[0mobj\u001b[0m\u001b[0;34m=\u001b[0m\u001b[0mobj\u001b[0m\u001b[0;34m,\u001b[0m \u001b[0mfeval\u001b[0m\u001b[0;34m=\u001b[0m\u001b[0mfeval\u001b[0m\u001b[0;34m,\u001b[0m\u001b[0;34m\u001b[0m\u001b[0;34m\u001b[0m\u001b[0m\n\u001b[1;32m    395\u001b[0m                               \u001b[0mverbose_eval\u001b[0m\u001b[0;34m=\u001b[0m\u001b[0mverbose\u001b[0m\u001b[0;34m,\u001b[0m \u001b[0mxgb_model\u001b[0m\u001b[0;34m=\u001b[0m\u001b[0mxgb_model\u001b[0m\u001b[0;34m,\u001b[0m\u001b[0;34m\u001b[0m\u001b[0;34m\u001b[0m\u001b[0m\n\u001b[0;32m--> 396\u001b[0;31m                               callbacks=callbacks)\n\u001b[0m\u001b[1;32m    397\u001b[0m \u001b[0;34m\u001b[0m\u001b[0m\n\u001b[1;32m    398\u001b[0m         \u001b[0;32mif\u001b[0m \u001b[0mevals_result\u001b[0m\u001b[0;34m:\u001b[0m\u001b[0;34m\u001b[0m\u001b[0;34m\u001b[0m\u001b[0m\n",
            "\u001b[0;32m/usr/local/lib/python3.6/dist-packages/xgboost/training.py\u001b[0m in \u001b[0;36mtrain\u001b[0;34m(params, dtrain, num_boost_round, evals, obj, feval, maximize, early_stopping_rounds, evals_result, verbose_eval, xgb_model, callbacks, learning_rates)\u001b[0m\n\u001b[1;32m    214\u001b[0m                            \u001b[0mevals\u001b[0m\u001b[0;34m=\u001b[0m\u001b[0mevals\u001b[0m\u001b[0;34m,\u001b[0m\u001b[0;34m\u001b[0m\u001b[0;34m\u001b[0m\u001b[0m\n\u001b[1;32m    215\u001b[0m                            \u001b[0mobj\u001b[0m\u001b[0;34m=\u001b[0m\u001b[0mobj\u001b[0m\u001b[0;34m,\u001b[0m \u001b[0mfeval\u001b[0m\u001b[0;34m=\u001b[0m\u001b[0mfeval\u001b[0m\u001b[0;34m,\u001b[0m\u001b[0;34m\u001b[0m\u001b[0;34m\u001b[0m\u001b[0m\n\u001b[0;32m--> 216\u001b[0;31m                            xgb_model=xgb_model, callbacks=callbacks)\n\u001b[0m\u001b[1;32m    217\u001b[0m \u001b[0;34m\u001b[0m\u001b[0m\n\u001b[1;32m    218\u001b[0m \u001b[0;34m\u001b[0m\u001b[0m\n",
            "\u001b[0;32m/usr/local/lib/python3.6/dist-packages/xgboost/training.py\u001b[0m in \u001b[0;36m_train_internal\u001b[0;34m(params, dtrain, num_boost_round, evals, obj, feval, xgb_model, callbacks)\u001b[0m\n\u001b[1;32m     60\u001b[0m         cb for cb in callbacks if not cb.__dict__.get('before_iteration', False)]\n\u001b[1;32m     61\u001b[0m \u001b[0;34m\u001b[0m\u001b[0m\n\u001b[0;32m---> 62\u001b[0;31m     \u001b[0;32mfor\u001b[0m \u001b[0mi\u001b[0m \u001b[0;32min\u001b[0m \u001b[0mrange\u001b[0m\u001b[0;34m(\u001b[0m\u001b[0mstart_iteration\u001b[0m\u001b[0;34m,\u001b[0m \u001b[0mnum_boost_round\u001b[0m\u001b[0;34m)\u001b[0m\u001b[0;34m:\u001b[0m\u001b[0;34m\u001b[0m\u001b[0;34m\u001b[0m\u001b[0m\n\u001b[0m\u001b[1;32m     63\u001b[0m         \u001b[0;32mfor\u001b[0m \u001b[0mcb\u001b[0m \u001b[0;32min\u001b[0m \u001b[0mcallbacks_before_iter\u001b[0m\u001b[0;34m:\u001b[0m\u001b[0;34m\u001b[0m\u001b[0;34m\u001b[0m\u001b[0m\n\u001b[1;32m     64\u001b[0m             cb(CallbackEnv(model=bst,\n",
            "\u001b[0;31mTypeError\u001b[0m: 'str' object cannot be interpreted as an integer"
          ]
        }
      ]
    },
    {
      "cell_type": "code",
      "metadata": {
        "id": "JaLfqNMaR75T",
        "colab_type": "code",
        "outputId": "74b2071b-606e-4588-89ef-298a180c99ff",
        "colab": {
          "base_uri": "https://localhost:8080/",
          "height": 225
        }
      },
      "source": [
        "X_train.dtypes"
      ],
      "execution_count": 0,
      "outputs": [
        {
          "output_type": "execute_result",
          "data": {
            "text/plain": [
              "Risk_Score         float64\n",
              "dti                float64\n",
              "zip_code             int64\n",
              "State                int64\n",
              "emp_length         float64\n",
              "policy_code_0.0      uint8\n",
              "policy_code_1.0      uint8\n",
              "policy_code_2.0      uint8\n",
              "policy_code_nan      uint8\n",
              "accepted_0           uint8\n",
              "accepted_1           uint8\n",
              "dtype: object"
            ]
          },
          "metadata": {
            "tags": []
          },
          "execution_count": 40
        }
      ]
    },
    {
      "cell_type": "code",
      "metadata": {
        "id": "oe2-zhjjR724",
        "colab_type": "code",
        "colab": {}
      },
      "source": [
        ""
      ],
      "execution_count": 0,
      "outputs": []
    },
    {
      "cell_type": "code",
      "metadata": {
        "id": "VFML3rNhR7we",
        "colab_type": "code",
        "colab": {}
      },
      "source": [
        ""
      ],
      "execution_count": 0,
      "outputs": []
    },
    {
      "cell_type": "code",
      "metadata": {
        "id": "0gOJMvy8R7u0",
        "colab_type": "code",
        "colab": {}
      },
      "source": [
        ""
      ],
      "execution_count": 0,
      "outputs": []
    },
    {
      "cell_type": "code",
      "metadata": {
        "id": "7bulxh4LR7nb",
        "colab_type": "code",
        "colab": {}
      },
      "source": [
        ""
      ],
      "execution_count": 0,
      "outputs": []
    },
    {
      "cell_type": "code",
      "metadata": {
        "id": "3goFO1JRR7lf",
        "colab_type": "code",
        "colab": {}
      },
      "source": [
        ""
      ],
      "execution_count": 0,
      "outputs": []
    },
    {
      "cell_type": "code",
      "metadata": {
        "id": "7hC6aVqCR7iw",
        "colab_type": "code",
        "colab": {}
      },
      "source": [
        ""
      ],
      "execution_count": 0,
      "outputs": []
    },
    {
      "cell_type": "code",
      "metadata": {
        "id": "OltT56hfR7dd",
        "colab_type": "code",
        "colab": {}
      },
      "source": [
        ""
      ],
      "execution_count": 0,
      "outputs": []
    },
    {
      "cell_type": "code",
      "metadata": {
        "id": "9ER6ywxLR7PK",
        "colab_type": "code",
        "colab": {}
      },
      "source": [
        ""
      ],
      "execution_count": 0,
      "outputs": []
    },
    {
      "cell_type": "code",
      "metadata": {
        "id": "vLbmXgYMbJgP",
        "colab_type": "code",
        "colab": {}
      },
      "source": [
        ""
      ],
      "execution_count": 0,
      "outputs": []
    },
    {
      "cell_type": "code",
      "metadata": {
        "id": "d4L-XpTVbI9H",
        "colab_type": "code",
        "colab": {}
      },
      "source": [
        ""
      ],
      "execution_count": 0,
      "outputs": []
    },
    {
      "cell_type": "code",
      "metadata": {
        "id": "BkG_G0F_F2-s",
        "colab_type": "code",
        "colab": {}
      },
      "source": [
        ""
      ],
      "execution_count": 0,
      "outputs": []
    }
  ]
}