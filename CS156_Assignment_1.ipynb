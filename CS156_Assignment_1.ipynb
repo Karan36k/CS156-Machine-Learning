{
  "nbformat": 4,
  "nbformat_minor": 0,
  "metadata": {
    "colab": {
      "name": "CS156_Assignment_1.ipynb",
      "provenance": [],
      "collapsed_sections": []
    },
    "kernelspec": {
      "name": "python3",
      "display_name": "Python 3"
    }
  },
  "cells": [
    {
      "cell_type": "markdown",
      "metadata": {
        "id": "5Jp6cSOMV6QR",
        "colab_type": "text"
      },
      "source": [
        "## Download CPU Benchmark Data"
      ]
    },
    {
      "cell_type": "code",
      "metadata": {
        "id": "nHz9iYQuDf5K",
        "colab_type": "code",
        "colab": {}
      },
      "source": [
        "#download and extract data set\n",
        "#assignment github link https://github.com/snehankekre/CS156/blob/master/CS156_Assignment_1.ipynb\n",
        "!wget -q http://preshing.com/files/specdata20120207.zip\n",
        "!unzip -q specdata20120207.zip\n",
        "!rm specdata20120207.zip"
      ],
      "execution_count": 0,
      "outputs": []
    },
    {
      "cell_type": "markdown",
      "metadata": {
        "id": "PvolhOCbWGYu",
        "colab_type": "text"
      },
      "source": [
        "## Import Libraries"
      ]
    },
    {
      "cell_type": "code",
      "metadata": {
        "id": "ZEmO2jWkDkNN",
        "colab_type": "code",
        "colab": {}
      },
      "source": [
        "%matplotlib inline\n",
        "import numpy as np\n",
        "import pandas as pd\n",
        "import seaborn as sns\n",
        "from datetime import datetime\n",
        "import warnings\n",
        "warnings.simplefilter('ignore') #supress warnings"
      ],
      "execution_count": 0,
      "outputs": []
    },
    {
      "cell_type": "code",
      "metadata": {
        "id": "TnWaHsoMcbhU",
        "colab_type": "code",
        "colab": {}
      },
      "source": [
        "#yellowbrick is a fanstic library for model diagnostics and visulalization. it is wrapped around matplotlib\n",
        "from sklearn.metrics import confusion_matrix, classification_report, accuracy_score, normalized_mutual_info_score\n",
        "from yellowbrick.target import ClassBalance\n",
        "from yellowbrick.classifier import ROCAUC\n",
        "from yellowbrick.classifier import PrecisionRecallCurve\n",
        "from yellowbrick.classifier import ClassificationReport\n",
        "from yellowbrick.classifier import ClassPredictionError\n",
        "from yellowbrick.classifier import DiscriminationThreshold"
      ],
      "execution_count": 0,
      "outputs": []
    },
    {
      "cell_type": "code",
      "metadata": {
        "id": "C5icCE-5bArv",
        "colab_type": "code",
        "colab": {}
      },
      "source": [
        "import matplotlib.pyplot as plt\n",
        "plt.style.use('ggplot')\n",
        "sns.set(rc={'figure.figsize':(12, 8)})"
      ],
      "execution_count": 0,
      "outputs": []
    },
    {
      "cell_type": "markdown",
      "metadata": {
        "id": "-iiYo61gWNKU",
        "colab_type": "text"
      },
      "source": [
        "## Load and Explore Data"
      ]
    },
    {
      "cell_type": "code",
      "metadata": {
        "id": "v9T8NlltDkP3",
        "colab_type": "code",
        "outputId": "08bd52bc-8b10-4ce3-8b62-a0b4d5df488a",
        "colab": {
          "base_uri": "https://localhost:8080/",
          "height": 206
        }
      },
      "source": [
        "data = pd.read_csv('benchmarks.txt', low_memory=False)\n",
        "data.head()"
      ],
      "execution_count": 5,
      "outputs": [
        {
          "output_type": "execute_result",
          "data": {
            "text/html": [
              "<div>\n",
              "<style scoped>\n",
              "    .dataframe tbody tr th:only-of-type {\n",
              "        vertical-align: middle;\n",
              "    }\n",
              "\n",
              "    .dataframe tbody tr th {\n",
              "        vertical-align: top;\n",
              "    }\n",
              "\n",
              "    .dataframe thead th {\n",
              "        text-align: right;\n",
              "    }\n",
              "</style>\n",
              "<table border=\"1\" class=\"dataframe\">\n",
              "  <thead>\n",
              "    <tr style=\"text-align: right;\">\n",
              "      <th></th>\n",
              "      <th>testID</th>\n",
              "      <th>benchName</th>\n",
              "      <th>base</th>\n",
              "      <th>peak</th>\n",
              "    </tr>\n",
              "  </thead>\n",
              "  <tbody>\n",
              "    <tr>\n",
              "      <th>0</th>\n",
              "      <td>cpu95-19990104-03254</td>\n",
              "      <td>101.tomcatv</td>\n",
              "      <td>19.40</td>\n",
              "      <td>27.1</td>\n",
              "    </tr>\n",
              "    <tr>\n",
              "      <th>1</th>\n",
              "      <td>cpu95-19990104-03254</td>\n",
              "      <td>102.swim</td>\n",
              "      <td>27.20</td>\n",
              "      <td>34.8</td>\n",
              "    </tr>\n",
              "    <tr>\n",
              "      <th>2</th>\n",
              "      <td>cpu95-19990104-03254</td>\n",
              "      <td>103.su2cor</td>\n",
              "      <td>10.10</td>\n",
              "      <td>9.98</td>\n",
              "    </tr>\n",
              "    <tr>\n",
              "      <th>3</th>\n",
              "      <td>cpu95-19990104-03254</td>\n",
              "      <td>104.hydro2d</td>\n",
              "      <td>8.58</td>\n",
              "      <td>8.61</td>\n",
              "    </tr>\n",
              "    <tr>\n",
              "      <th>4</th>\n",
              "      <td>cpu95-19990104-03254</td>\n",
              "      <td>107.mgrid</td>\n",
              "      <td>8.94</td>\n",
              "      <td>9.44</td>\n",
              "    </tr>\n",
              "  </tbody>\n",
              "</table>\n",
              "</div>"
            ],
            "text/plain": [
              "                 testID    benchName   base  peak\n",
              "0  cpu95-19990104-03254  101.tomcatv  19.40  27.1\n",
              "1  cpu95-19990104-03254     102.swim  27.20  34.8\n",
              "2  cpu95-19990104-03254   103.su2cor  10.10  9.98\n",
              "3  cpu95-19990104-03254  104.hydro2d   8.58  8.61\n",
              "4  cpu95-19990104-03254    107.mgrid   8.94  9.44"
            ]
          },
          "metadata": {
            "tags": []
          },
          "execution_count": 5
        }
      ]
    },
    {
      "cell_type": "code",
      "metadata": {
        "id": "qWRXjKPgDkS7",
        "colab_type": "code",
        "outputId": "e21d2311-e733-4453-ee34-a9155fa4d8d4",
        "colab": {
          "base_uri": "https://localhost:8080/",
          "height": 173
        }
      },
      "source": [
        "data.info()"
      ],
      "execution_count": 6,
      "outputs": [
        {
          "output_type": "stream",
          "text": [
            "<class 'pandas.core.frame.DataFrame'>\n",
            "RangeIndex: 136995 entries, 0 to 136994\n",
            "Data columns (total 4 columns):\n",
            "testID       136995 non-null object\n",
            "benchName    136995 non-null object\n",
            "base         136995 non-null float64\n",
            "peak         131575 non-null object\n",
            "dtypes: float64(1), object(3)\n",
            "memory usage: 4.2+ MB\n"
          ],
          "name": "stdout"
        }
      ]
    },
    {
      "cell_type": "code",
      "metadata": {
        "id": "y7SfemTcDkU9",
        "colab_type": "code",
        "outputId": "5e24c5d9-8e1b-43c0-aa31-b15fc8af6503",
        "colab": {
          "base_uri": "https://localhost:8080/",
          "height": 295
        }
      },
      "source": [
        "pd.unique(data.benchName) #print unique benchmarks to pick one later"
      ],
      "execution_count": 7,
      "outputs": [
        {
          "output_type": "execute_result",
          "data": {
            "text/plain": [
              "array(['101.tomcatv', '102.swim', '103.su2cor', '104.hydro2d',\n",
              "       '107.mgrid', '110.applu', '125.turb3d', '141.apsi', '145.fpppp',\n",
              "       '146.wave5', '099.go', '124.m88ksim', '126.gcc', '129.compress',\n",
              "       '130.li', '132.ijpeg', '134.perl', '147.vortex', '168.wupwise',\n",
              "       '171.swim', '172.mgrid', '173.applu', '177.mesa', '178.galgel',\n",
              "       '179.art', '183.equake', '187.facerec', '188.ammp', '189.lucas',\n",
              "       '191.fma3d', '200.sixtrack', '301.apsi', '164.gzip', '175.vpr',\n",
              "       '176.gcc', '181.mcf', '186.crafty', '197.parser', '252.eon',\n",
              "       '253.perlbmk', '254.gap', '255.vortex', '256.bzip2', '300.twolf',\n",
              "       '400.perlbench', '401.bzip2', '403.gcc', '429.mcf', '445.gobmk',\n",
              "       '456.hmmer', '458.sjeng', '462.libquantum', '464.h264ref',\n",
              "       '471.omnetpp', '473.astar', '483.xalancbmk', '410.bwaves',\n",
              "       '416.gamess', '433.milc', '434.zeusmp', '435.gromacs',\n",
              "       '436.cactusADM', '437.leslie3d', '444.namd', '447.dealII',\n",
              "       '450.soplex', '453.povray', '454.calculix', '459.GemsFDTD',\n",
              "       '465.tonto', '470.lbm', '481.wrf', '482.sphinx3'], dtype=object)"
            ]
          },
          "metadata": {
            "tags": []
          },
          "execution_count": 7
        }
      ]
    },
    {
      "cell_type": "markdown",
      "metadata": {
        "id": "SWYd-JQlWVfJ",
        "colab_type": "text"
      },
      "source": [
        "## Select Specific Benchmark"
      ]
    },
    {
      "cell_type": "code",
      "metadata": {
        "id": "uTfUBS7KDkbq",
        "colab_type": "code",
        "outputId": "11f75100-70b8-4331-879f-0fbb57477306",
        "colab": {
          "base_uri": "https://localhost:8080/",
          "height": 677
        }
      },
      "source": [
        "#choose the mesa benchmark\n",
        "mesa_data = data[data['benchName'] == '177.mesa']\n",
        "mesa_data.head(20)"
      ],
      "execution_count": 8,
      "outputs": [
        {
          "output_type": "execute_result",
          "data": {
            "text/html": [
              "<div>\n",
              "<style scoped>\n",
              "    .dataframe tbody tr th:only-of-type {\n",
              "        vertical-align: middle;\n",
              "    }\n",
              "\n",
              "    .dataframe tbody tr th {\n",
              "        vertical-align: top;\n",
              "    }\n",
              "\n",
              "    .dataframe thead th {\n",
              "        text-align: right;\n",
              "    }\n",
              "</style>\n",
              "<table border=\"1\" class=\"dataframe\">\n",
              "  <thead>\n",
              "    <tr style=\"text-align: right;\">\n",
              "      <th></th>\n",
              "      <th>testID</th>\n",
              "      <th>benchName</th>\n",
              "      <th>base</th>\n",
              "      <th>peak</th>\n",
              "    </tr>\n",
              "  </thead>\n",
              "  <tbody>\n",
              "    <tr>\n",
              "      <th>9954</th>\n",
              "      <td>cpu2000-19991130-00002</td>\n",
              "      <td>177.mesa</td>\n",
              "      <td>130.0</td>\n",
              "      <td>NaN</td>\n",
              "    </tr>\n",
              "    <tr>\n",
              "      <th>9980</th>\n",
              "      <td>cpu2000-19991130-00004</td>\n",
              "      <td>177.mesa</td>\n",
              "      <td>198.0</td>\n",
              "      <td>NaN</td>\n",
              "    </tr>\n",
              "    <tr>\n",
              "      <th>10006</th>\n",
              "      <td>cpu2000-19991130-00006</td>\n",
              "      <td>177.mesa</td>\n",
              "      <td>502.0</td>\n",
              "      <td>502</td>\n",
              "    </tr>\n",
              "    <tr>\n",
              "      <th>10032</th>\n",
              "      <td>cpu2000-19991130-00008</td>\n",
              "      <td>177.mesa</td>\n",
              "      <td>195.0</td>\n",
              "      <td>NaN</td>\n",
              "    </tr>\n",
              "    <tr>\n",
              "      <th>10058</th>\n",
              "      <td>cpu2000-19991130-00010</td>\n",
              "      <td>177.mesa</td>\n",
              "      <td>386.0</td>\n",
              "      <td>366</td>\n",
              "    </tr>\n",
              "    <tr>\n",
              "      <th>10084</th>\n",
              "      <td>cpu2000-19991130-00012</td>\n",
              "      <td>177.mesa</td>\n",
              "      <td>511.0</td>\n",
              "      <td>504</td>\n",
              "    </tr>\n",
              "    <tr>\n",
              "      <th>10110</th>\n",
              "      <td>cpu2000-19991130-00014</td>\n",
              "      <td>177.mesa</td>\n",
              "      <td>207.0</td>\n",
              "      <td>NaN</td>\n",
              "    </tr>\n",
              "    <tr>\n",
              "      <th>10136</th>\n",
              "      <td>cpu2000-19991130-00016</td>\n",
              "      <td>177.mesa</td>\n",
              "      <td>147.0</td>\n",
              "      <td>NaN</td>\n",
              "    </tr>\n",
              "    <tr>\n",
              "      <th>10162</th>\n",
              "      <td>cpu2000-19991130-00018</td>\n",
              "      <td>177.mesa</td>\n",
              "      <td>292.0</td>\n",
              "      <td>NaN</td>\n",
              "    </tr>\n",
              "    <tr>\n",
              "      <th>10188</th>\n",
              "      <td>cpu2000-19991130-00020</td>\n",
              "      <td>177.mesa</td>\n",
              "      <td>211.0</td>\n",
              "      <td>232</td>\n",
              "    </tr>\n",
              "    <tr>\n",
              "      <th>10214</th>\n",
              "      <td>cpu2000-19991130-00024</td>\n",
              "      <td>177.mesa</td>\n",
              "      <td>272.0</td>\n",
              "      <td>NaN</td>\n",
              "    </tr>\n",
              "    <tr>\n",
              "      <th>10240</th>\n",
              "      <td>cpu2000-19991130-00026</td>\n",
              "      <td>177.mesa</td>\n",
              "      <td>292.0</td>\n",
              "      <td>NaN</td>\n",
              "    </tr>\n",
              "    <tr>\n",
              "      <th>10266</th>\n",
              "      <td>cpu2000-19991130-00028</td>\n",
              "      <td>177.mesa</td>\n",
              "      <td>232.0</td>\n",
              "      <td>233</td>\n",
              "    </tr>\n",
              "    <tr>\n",
              "      <th>10280</th>\n",
              "      <td>cpu2000-20000107-00029</td>\n",
              "      <td>177.mesa</td>\n",
              "      <td>291.0</td>\n",
              "      <td>NaN</td>\n",
              "    </tr>\n",
              "    <tr>\n",
              "      <th>10306</th>\n",
              "      <td>cpu2000-20000125-00031</td>\n",
              "      <td>177.mesa</td>\n",
              "      <td>233.0</td>\n",
              "      <td>234</td>\n",
              "    </tr>\n",
              "    <tr>\n",
              "      <th>10332</th>\n",
              "      <td>cpu2000-20000125-00033</td>\n",
              "      <td>177.mesa</td>\n",
              "      <td>288.0</td>\n",
              "      <td>287</td>\n",
              "    </tr>\n",
              "    <tr>\n",
              "      <th>10358</th>\n",
              "      <td>cpu2000-20000125-00039</td>\n",
              "      <td>177.mesa</td>\n",
              "      <td>271.0</td>\n",
              "      <td>270</td>\n",
              "    </tr>\n",
              "    <tr>\n",
              "      <th>10384</th>\n",
              "      <td>cpu2000-20000125-00041</td>\n",
              "      <td>177.mesa</td>\n",
              "      <td>279.0</td>\n",
              "      <td>279</td>\n",
              "    </tr>\n",
              "    <tr>\n",
              "      <th>10410</th>\n",
              "      <td>cpu2000-20000313-00043</td>\n",
              "      <td>177.mesa</td>\n",
              "      <td>291.0</td>\n",
              "      <td>291</td>\n",
              "    </tr>\n",
              "    <tr>\n",
              "      <th>10448</th>\n",
              "      <td>cpu2000-20000314-00052</td>\n",
              "      <td>177.mesa</td>\n",
              "      <td>389.0</td>\n",
              "      <td>389</td>\n",
              "    </tr>\n",
              "  </tbody>\n",
              "</table>\n",
              "</div>"
            ],
            "text/plain": [
              "                       testID benchName   base peak\n",
              "9954   cpu2000-19991130-00002  177.mesa  130.0  NaN\n",
              "9980   cpu2000-19991130-00004  177.mesa  198.0  NaN\n",
              "10006  cpu2000-19991130-00006  177.mesa  502.0  502\n",
              "10032  cpu2000-19991130-00008  177.mesa  195.0  NaN\n",
              "10058  cpu2000-19991130-00010  177.mesa  386.0  366\n",
              "10084  cpu2000-19991130-00012  177.mesa  511.0  504\n",
              "10110  cpu2000-19991130-00014  177.mesa  207.0  NaN\n",
              "10136  cpu2000-19991130-00016  177.mesa  147.0  NaN\n",
              "10162  cpu2000-19991130-00018  177.mesa  292.0  NaN\n",
              "10188  cpu2000-19991130-00020  177.mesa  211.0  232\n",
              "10214  cpu2000-19991130-00024  177.mesa  272.0  NaN\n",
              "10240  cpu2000-19991130-00026  177.mesa  292.0  NaN\n",
              "10266  cpu2000-19991130-00028  177.mesa  232.0  233\n",
              "10280  cpu2000-20000107-00029  177.mesa  291.0  NaN\n",
              "10306  cpu2000-20000125-00031  177.mesa  233.0  234\n",
              "10332  cpu2000-20000125-00033  177.mesa  288.0  287\n",
              "10358  cpu2000-20000125-00039  177.mesa  271.0  270\n",
              "10384  cpu2000-20000125-00041  177.mesa  279.0  279\n",
              "10410  cpu2000-20000313-00043  177.mesa  291.0  291\n",
              "10448  cpu2000-20000314-00052  177.mesa  389.0  389"
            ]
          },
          "metadata": {
            "tags": []
          },
          "execution_count": 8
        }
      ]
    },
    {
      "cell_type": "markdown",
      "metadata": {
        "id": "GmzYOHjiWmHv",
        "colab_type": "text"
      },
      "source": [
        "## Extract Date and Base Speed of Benchmark"
      ]
    },
    {
      "cell_type": "markdown",
      "metadata": {
        "id": "ngb_gD2Oe_I5",
        "colab_type": "text"
      },
      "source": [
        "Note: [`datetime.timestamp()`](https://docs.python.org/3/library/datetime.html#datetime.datetime.timestamp) returns POSIX timestamp corresponding to the `datetime` instance."
      ]
    },
    {
      "cell_type": "code",
      "metadata": {
        "id": "JxXoWRxaDkhM",
        "colab_type": "code",
        "colab": {}
      },
      "source": [
        "mesa_data['date'] = [datetime.strptime(ID.split('-')[1], '%Y%m%d') for ID in mesa_data.testID]\n",
        "mesa_data['constant'] = 1\n",
        "#mesa_data['peak'] = mesa_data.peak.fillna(0)\n",
        "mesa_data.peak = mesa_data.peak.astype(float)\n",
        "mesa_data['timeStamp'] = [i.timestamp() for i in mesa_data['date']] #extract unix timestamp\n",
        "mesa_data['baseLog2'] = np.log2(mesa_data.base)\n",
        "mesa_data['peakLog2'] = np.log2(mesa_data.peak)"
      ],
      "execution_count": 0,
      "outputs": []
    },
    {
      "cell_type": "markdown",
      "metadata": {
        "id": "TReP7KyXceck",
        "colab_type": "text"
      },
      "source": [
        "Note: For the mesa benchmark, we use the `timeStamp` column as the y-axis to denote time."
      ]
    },
    {
      "cell_type": "markdown",
      "metadata": {
        "id": "6QJR4S9xnF_K",
        "colab_type": "text"
      },
      "source": [
        "## Fit a Linear Model and Plot (base performance)"
      ]
    },
    {
      "cell_type": "code",
      "metadata": {
        "id": "r3bsAAPlDkm9",
        "colab_type": "code",
        "colab": {}
      },
      "source": [
        "from sklearn.model_selection import train_test_split\n",
        "from sklearn.linear_model import LinearRegression\n",
        "from sklearn.metrics import mean_squared_error as MSE\n",
        "from sklearn.metrics import mean_absolute_error as MAE\n",
        "from sklearn.metrics import r2_score as R2"
      ],
      "execution_count": 0,
      "outputs": []
    },
    {
      "cell_type": "code",
      "metadata": {
        "id": "M_53gwREUuhO",
        "colab_type": "code",
        "outputId": "159e48db-db36-4467-85ab-8c4c0d7fc162",
        "colab": {
          "base_uri": "https://localhost:8080/",
          "height": 34
        }
      },
      "source": [
        "X = mesa_data[['timeStamp', 'constant']] #constant of ones added to accomodate the intercept term\n",
        "y = mesa_data.baseLog2\n",
        "\n",
        "X_train, X_test, y_train, y_test = train_test_split(X[:1385], y, random_state=1, test_size=0.3)\n",
        "\n",
        "linreg = LinearRegression()\n",
        "linreg.fit(X_train, y_train) #fit the training data"
      ],
      "execution_count": 11,
      "outputs": [
        {
          "output_type": "execute_result",
          "data": {
            "text/plain": [
              "LinearRegression(copy_X=True, fit_intercept=True, n_jobs=None, normalize=False)"
            ]
          },
          "metadata": {
            "tags": []
          },
          "execution_count": 11
        }
      ]
    },
    {
      "cell_type": "code",
      "metadata": {
        "id": "ldkp9dISUumf",
        "colab_type": "code",
        "colab": {}
      },
      "source": [
        "y_pred = linreg.predict(X_test) #predict on the test data"
      ],
      "execution_count": 0,
      "outputs": []
    },
    {
      "cell_type": "code",
      "metadata": {
        "id": "g6TFn-kf0h9y",
        "colab_type": "code",
        "outputId": "b545c8d8-ab37-401e-e5cf-0fe8e502a73e",
        "colab": {
          "base_uri": "https://localhost:8080/",
          "height": 86
        }
      },
      "source": [
        "print('Coefficients: ', linreg.coef_)\n",
        "print(\"RMSE: %.2f\" % np.sqrt(MSE(y_test, y_pred)))\n",
        "print(\"MAE: %.2f\" % MAE(y_test, y_pred))\n",
        "\n",
        "# Explained variance score: 1 signifies a perfect prediction\n",
        "print('Variance score (R^2): %.2f' % R2(y_test, y_pred))\n",
        "r2 = R2(y_test, y_pred)"
      ],
      "execution_count": 13,
      "outputs": [
        {
          "output_type": "stream",
          "text": [
            "Coefficients:  [1.21439335e-08 0.00000000e+00]\n",
            "RMSE: 0.51\n",
            "MAE: 0.40\n",
            "Variance score (R^2): 0.69\n"
          ],
          "name": "stdout"
        }
      ]
    },
    {
      "cell_type": "code",
      "metadata": {
        "id": "57X1QsPay-VL",
        "colab_type": "code",
        "colab": {}
      },
      "source": [
        "baseReg = linreg.fit(X, y)\n",
        "mesa_data['baseReg'] = baseReg"
      ],
      "execution_count": 0,
      "outputs": []
    },
    {
      "cell_type": "code",
      "metadata": {
        "id": "kStaNSeGUuwb",
        "colab_type": "code",
        "outputId": "8a473091-2a3b-45ed-e6ff-d3f055524c1d",
        "colab": {
          "base_uri": "https://localhost:8080/",
          "height": 486
        }
      },
      "source": [
        "ax = sns.lmplot(x='timeStamp', y='baseLog2', data=mesa_data, size=7, aspect=2)\n",
        "plt.xlabel('Unix timestamp (dates)')\n",
        "plt.ylabel('Log Base Performance')\n",
        "plt.xticks([]);"
      ],
      "execution_count": 15,
      "outputs": [
        {
          "output_type": "display_data",
          "data": {
            "image/png": "[encoded data removed]",
            "text/plain": [
              "<Figure size 1008x504 with 1 Axes>"
            ]
          },
          "metadata": {
            "tags": []
          }
        }
      ]
    },
    {
      "cell_type": "markdown",
      "metadata": {
        "id": "IhXgy89MR5rh",
        "colab_type": "text"
      },
      "source": [
        "Moore's Law is roughly holding up, although the data is very noisy. The model used has an $R^2$ of 0.69, implying that around 70% of the variance in $log_2(\\text{base performance})$ is explained by the dates. Since the above plot is a log plot, a single unit increase in the Y-axis corresponds to a doubling in the performance."
      ]
    },
    {
      "cell_type": "markdown",
      "metadata": {
        "id": "j8qwUj8eEoTj",
        "colab_type": "text"
      },
      "source": [
        "# MNIST K-nearest Neighbors"
      ]
    },
    {
      "cell_type": "code",
      "metadata": {
        "id": "07v4-9v7Dkqu",
        "colab_type": "code",
        "colab": {}
      },
      "source": [
        "from sklearn import datasets, neighbors\n",
        "\n",
        "digits = datasets.load_digits()"
      ],
      "execution_count": 0,
      "outputs": []
    },
    {
      "cell_type": "code",
      "metadata": {
        "id": "GI3zeWMgYzVE",
        "colab_type": "code",
        "colab": {
          "base_uri": "https://localhost:8080/",
          "height": 1000
        },
        "outputId": "5450bfc0-32d2-43e3-d8b9-776915a897ef"
      },
      "source": [
        "for i in range(3):\n",
        "    plt.gray() \n",
        "    plt.matshow(digits.images[i]) \n",
        "    plt.show()"
      ],
      "execution_count": 17,
      "outputs": [
        {
          "output_type": "display_data",
          "data": {
            "text/plain": [
              "<Figure size 864x576 with 0 Axes>"
            ]
          },
          "metadata": {
            "tags": []
          }
        },
        {
          "output_type": "display_data",
          "data": {
            "image/png": "[encoded data removed]",
            "text/plain": [
              "<Figure size 576x576 with 1 Axes>"
            ]
          },
          "metadata": {
            "tags": []
          }
        },
        {
          "output_type": "display_data",
          "data": {
            "text/plain": [
              "<Figure size 864x576 with 0 Axes>"
            ]
          },
          "metadata": {
            "tags": []
          }
        },
        {
          "output_type": "display_data",
          "data": {
            "image/png": "[encoded data removed]",
            "text/plain": [
              "<Figure size 576x576 with 1 Axes>"
            ]
          },
          "metadata": {
            "tags": []
          }
        },
        {
          "output_type": "display_data",
          "data": {
            "text/plain": [
              "<Figure size 864x576 with 0 Axes>"
            ]
          },
          "metadata": {
            "tags": []
          }
        },
        {
          "output_type": "display_data",
          "data": {
            "image/png": "[encoded data removed]",
            "text/plain": [
              "<Figure size 576x576 with 1 Axes>"
            ]
          },
          "metadata": {
            "tags": []
          }
        }
      ]
    },
    {
      "cell_type": "code",
      "metadata": {
        "id": "e9xLc6w6UnjN",
        "colab_type": "code",
        "colab": {
          "base_uri": "https://localhost:8080/",
          "height": 34
        },
        "outputId": "600c4678-8678-4d10-8330-ebcc6e808a25"
      },
      "source": [
        "np.random.seed(42)\n",
        "\n",
        "data_indices_7 = np.where(digits.target == 7)[0]\n",
        "\n",
        "data_indices_3 = np.where(digits.target == 3)[0]\n",
        "\n",
        "data_indices_7.shape, data_indices_3.shape"
      ],
      "execution_count": 18,
      "outputs": [
        {
          "output_type": "execute_result",
          "data": {
            "text/plain": [
              "((179,), (183,))"
            ]
          },
          "metadata": {
            "tags": []
          },
          "execution_count": 18
        }
      ]
    },
    {
      "cell_type": "code",
      "metadata": {
        "id": "z8tKs9tAXzpt",
        "colab_type": "code",
        "colab": {}
      },
      "source": [
        "indices = np.concatenate([data_indices_7, data_indices_3]) #select 7 & 3 as target classes\n",
        "X = digits.data[indices] / digits.data[indices].max() #standardization\n",
        "y = digits.target[indices]"
      ],
      "execution_count": 0,
      "outputs": []
    },
    {
      "cell_type": "code",
      "metadata": {
        "id": "Sogem-WeXqjb",
        "colab_type": "code",
        "colab": {
          "base_uri": "https://localhost:8080/",
          "height": 34
        },
        "outputId": "c58493c4-ace5-433c-9a74-366ac0d16ba6"
      },
      "source": [
        "X.shape, y.shape"
      ],
      "execution_count": 20,
      "outputs": [
        {
          "output_type": "execute_result",
          "data": {
            "text/plain": [
              "((362, 64), (362,))"
            ]
          },
          "metadata": {
            "tags": []
          },
          "execution_count": 20
        }
      ]
    },
    {
      "cell_type": "markdown",
      "metadata": {
        "id": "P6qKVwrgZ2S_",
        "colab_type": "text"
      },
      "source": [
        "### Checking for class imbalance"
      ]
    },
    {
      "cell_type": "code",
      "metadata": {
        "id": "jY3M6Za9Zpl0",
        "colab_type": "code",
        "colab": {
          "base_uri": "https://localhost:8080/",
          "height": 505
        },
        "outputId": "8a1191ca-d4b5-4bb5-a056-222836a11a09"
      },
      "source": [
        "plt.rcParams['figure.figsize'] = (12, 8)\n",
        "visualizer = ClassBalance(labels=[\"3\", \"7\"])\n",
        "visualizer.fit(y)\n",
        "visualizer.poof()"
      ],
      "execution_count": 21,
      "outputs": [
        {
          "output_type": "display_data",
          "data": {
            "image/png": "[encoded data removed]",
            "text/plain": [
              "<Figure size 864x576 with 1 Axes>"
            ]
          },
          "metadata": {
            "tags": []
          }
        }
      ]
    },
    {
      "cell_type": "markdown",
      "metadata": {
        "id": "mfu2SR34Z6Za",
        "colab_type": "text"
      },
      "source": [
        "Note: Classes are almost evenly balanced. This will help us with our model's classification accuracy"
      ]
    },
    {
      "cell_type": "code",
      "metadata": {
        "id": "18LtcHnDDkwu",
        "colab_type": "code",
        "outputId": "e63a21fb-eff3-4072-eebf-6e5369745560",
        "colab": {
          "base_uri": "https://localhost:8080/",
          "height": 34
        }
      },
      "source": [
        "X_train, X_test, y_train, y_test = train_test_split(X, y, random_state=1)\n",
        "\n",
        "knn = neighbors.KNeighborsClassifier()\n",
        "\n",
        "print('KNN score: %f' % knn.fit(X_train, y_train).score(X_test, y_test))"
      ],
      "execution_count": 22,
      "outputs": [
        {
          "output_type": "stream",
          "text": [
            "KNN score: 0.989011\n"
          ],
          "name": "stdout"
        }
      ]
    },
    {
      "cell_type": "code",
      "metadata": {
        "id": "AuSE_1s0Dz-E",
        "colab_type": "code",
        "colab": {}
      },
      "source": [
        "mnist_preds = knn.predict(X_test)"
      ],
      "execution_count": 0,
      "outputs": []
    },
    {
      "cell_type": "code",
      "metadata": {
        "id": "hCARTjqiD0Eo",
        "colab_type": "code",
        "colab": {
          "base_uri": "https://localhost:8080/",
          "height": 52
        },
        "outputId": "6c87aecc-11e2-484b-fb0b-8ed0f83fd1c1"
      },
      "source": [
        "print(\"Test Accuracy: \", accuracy_score(y_test, mnist_preds))\n",
        "print(\"Mutual Information: \", normalized_mutual_info_score(y_test, mnist_preds))"
      ],
      "execution_count": 24,
      "outputs": [
        {
          "output_type": "stream",
          "text": [
            "Test Accuracy:  0.989010989010989\n",
            "Mutual Information:  0.9235919135053173\n"
          ],
          "name": "stdout"
        }
      ]
    },
    {
      "cell_type": "code",
      "metadata": {
        "id": "-X3FPUbqaUpC",
        "colab_type": "code",
        "colab": {
          "base_uri": "https://localhost:8080/",
          "height": 581
        },
        "outputId": "0d5f5563-6b2d-4ab5-f596-6c7d1a9f7b46"
      },
      "source": [
        "visualizer = ClassificationReport(knn, classes=[\"3\", \"7\"], support=True)\n",
        "\n",
        "visualizer.fit(X_train, y_train)        # Fit the visualizer and the model\n",
        "visualizer.score(X_test, y_test)        # Evaluate the model on the test data\n",
        "visualizer.poof()    "
      ],
      "execution_count": 25,
      "outputs": [
        {
          "output_type": "display_data",
          "data": {
            "image/png": "[encoded data removed]",
            "text/plain": [
              "<Figure size 864x576 with 2 Axes>"
            ]
          },
          "metadata": {
            "tags": []
          }
        }
      ]
    },
    {
      "cell_type": "code",
      "metadata": {
        "id": "wY2XoO06avUp",
        "colab_type": "code",
        "colab": {
          "base_uri": "https://localhost:8080/",
          "height": 581
        },
        "outputId": "b3589060-bc2b-4404-e0a2-1dfa6503186f"
      },
      "source": [
        "visualizer = ClassPredictionError(knn, classes=[\"3\", \"7\"])\n",
        "visualizer.fit(X_train, y_train)\n",
        "visualizer.score(X_test, y_test)\n",
        "visualizer.poof()"
      ],
      "execution_count": 26,
      "outputs": [
        {
          "output_type": "display_data",
          "data": {
            "image/png": "[encoded data removed]",
            "text/plain": [
              "<Figure size 864x576 with 1 Axes>"
            ]
          },
          "metadata": {
            "tags": []
          }
        }
      ]
    }
  ]
}
