{
  "nbformat": 4,
  "nbformat_minor": 0,
  "metadata": {
    "colab": {
      "name": "3.1.ipynb",
      "provenance": [],
      "collapsed_sections": [],
      "machine_shape": "hm"
    },
    "kernelspec": {
      "name": "python3",
      "display_name": "Python 3"
    },
    "accelerator": "GPU"
  },
  "cells": [
    {
      "cell_type": "markdown",
      "metadata": {
        "id": "32qYX-3zJ14k",
        "colab_type": "text"
      },
      "source": [
        "## 1. [Starting Tutorial](https://github.com/minerva-schools/cs156/tree/master/session3_1#1-starting-tutorial)"
      ]
    },
    {
      "cell_type": "code",
      "metadata": {
        "id": "ClKRRxWOG310",
        "colab_type": "code",
        "colab": {}
      },
      "source": [
        "from sklearn.metrics.pairwise import rbf_kernel\n",
        "from sklearn.linear_model import Ridge\n",
        "import matplotlib.pyplot as plt\n",
        "import numpy as np\n",
        "%matplotlib inline\n",
        "plt.style.use('ggplot')"
      ],
      "execution_count": 0,
      "outputs": []
    },
    {
      "cell_type": "code",
      "metadata": {
        "id": "nGFVl4leG50N",
        "colab_type": "code",
        "colab": {
          "base_uri": "https://localhost:8080/",
          "height": 69
        },
        "outputId": "04e8be61-56f9-4c87-ecd9-dd8861c89e96"
      },
      "source": [
        "plt.rcParams['figure.figsize'] = (12, 8)\n",
        "\n",
        "heights = np.asarray([1.32, 1.45, 1.66, 1.88]).reshape(-1, 1)\n",
        "weights = np.asarray([55, 67, 70, 100]).reshape(-1, 1)\n",
        "centers = np.asarray([1.0, 1.2, 1.4, 1.6, 1.8, 2.0]).reshape(-1, 1)\n",
        "print(\"centers.shape\", centers.shape)\n",
        "print(\"heights.shape\", heights.shape)\n",
        "print(\"weights.shape\", weights.shape)"
      ],
      "execution_count": 2,
      "outputs": [
        {
          "output_type": "stream",
          "text": [
            "centers.shape (6, 1)\n",
            "heights.shape (4, 1)\n",
            "weights.shape (4, 1)\n"
          ],
          "name": "stdout"
        }
      ]
    },
    {
      "cell_type": "code",
      "metadata": {
        "id": "6ynBX1ybG52n",
        "colab_type": "code",
        "colab": {}
      },
      "source": [
        "# I recommend playing around with these parameters and seeing how well you fit\n",
        "# the data.  Changing one of the parameters will change the optimal value of\n",
        "# the other:\n",
        "sigma = 0.1\n",
        "alpha = 0.0001"
      ],
      "execution_count": 0,
      "outputs": []
    },
    {
      "cell_type": "code",
      "metadata": {
        "id": "q2Z2NuStG554",
        "colab_type": "code",
        "colab": {
          "base_uri": "https://localhost:8080/",
          "height": 243
        },
        "outputId": "74988f47-4243-4129-b243-e28981d24489"
      },
      "source": [
        "# New representation:\n",
        "x = rbf_kernel(heights, centers, gamma=1 / sigma)\n",
        "print(\"x.shape\", x.shape)\n",
        "print(\"Original inputs\", heights)\n",
        "print(\"RBF repr\", x)"
      ],
      "execution_count": 4,
      "outputs": [
        {
          "output_type": "stream",
          "text": [
            "x.shape (4, 6)\n",
            "Original inputs [[1.32]\n",
            " [1.45]\n",
            " [1.66]\n",
            " [1.88]]\n",
            "RBF repr [[3.59155441e-01 8.65887748e-01 9.38005000e-01 4.56576050e-01\n",
            "  9.98586094e-02 9.81346359e-03]\n",
            " [1.31993843e-01 5.35261429e-01 9.75309912e-01 7.98516219e-01\n",
            "  2.93757700e-01 4.85578213e-02]\n",
            " [1.28296036e-02 1.20512717e-01 5.08647519e-01 9.64640293e-01\n",
            "  8.22012235e-01 3.14742637e-01]\n",
            " [4.33334765e-04 9.81346359e-03 9.98586094e-02 4.56576050e-01\n",
            "  9.38005000e-01 8.65887748e-01]]\n"
          ],
          "name": "stdout"
        }
      ]
    },
    {
      "cell_type": "code",
      "metadata": {
        "id": "T9RJ0hmAG58I",
        "colab_type": "code",
        "colab": {
          "base_uri": "https://localhost:8080/",
          "height": 34
        },
        "outputId": "60ce52d8-4950-46d1-f97c-c1283a3dec4e"
      },
      "source": [
        "# Now go and fit a linear model between x and height\n",
        "regr = Ridge(alpha=alpha, fit_intercept=False)\n",
        "regr.fit(x, weights)\n",
        "print(\"Score on training data = \", regr.score(x, weights))\n",
        "all_x = np.linspace(-3.0, 5.0, 1000).reshape(-1, 1)"
      ],
      "execution_count": 5,
      "outputs": [
        {
          "output_type": "stream",
          "text": [
            "Score on training data =  0.9999957340594902\n"
          ],
          "name": "stdout"
        }
      ]
    },
    {
      "cell_type": "code",
      "metadata": {
        "id": "-wn0y3vfG5_p",
        "colab_type": "code",
        "colab": {
          "base_uri": "https://localhost:8080/",
          "height": 69
        },
        "outputId": "c2010201-e58d-4454-a706-678a5fd4aa91"
      },
      "source": [
        "# New representation:\n",
        "expanded_x = rbf_kernel(all_x, centers, gamma=1 / sigma)\n",
        "all_y = regr.predict(expanded_x)\n",
        "print(\"all_x.shape\", all_x.shape)\n",
        "print(\"expanded_x.shape\", expanded_x.shape)\n",
        "print(\"all_y.shape\", all_y.shape)"
      ],
      "execution_count": 6,
      "outputs": [
        {
          "output_type": "stream",
          "text": [
            "all_x.shape (1000, 1)\n",
            "expanded_x.shape (1000, 6)\n",
            "all_y.shape (1000, 1)\n"
          ],
          "name": "stdout"
        }
      ]
    },
    {
      "cell_type": "code",
      "metadata": {
        "id": "TRnHsLebG6Bk",
        "colab_type": "code",
        "colab": {
          "base_uri": "https://localhost:8080/",
          "height": 486
        },
        "outputId": "4846cdf3-2d84-4aac-b67c-6968f30bf35f"
      },
      "source": [
        "# Show that the predictions tend to zero far away from inputs\n",
        "plt.figure()\n",
        "plt.plot(all_x, all_y)\n",
        "plt.scatter(heights, weights);"
      ],
      "execution_count": 7,
      "outputs": [
        {
          "output_type": "display_data",
          "data": {
            "image/png": "[encoded data removed]",
            "text/plain": [
              "<Figure size 864x576 with 1 Axes>"
            ]
          },
          "metadata": {
            "tags": []
          }
        }
      ]
    },
    {
      "cell_type": "code",
      "metadata": {
        "id": "QwtrcxJZG6FD",
        "colab_type": "code",
        "colab": {
          "base_uri": "https://localhost:8080/",
          "height": 486
        },
        "outputId": "a4967546-cc7c-433f-cbbb-127137e2b01c"
      },
      "source": [
        "# Zoom in and see how well predictions fit the data\n",
        "zoom_ind = (all_x > heights.min()) & (all_x < heights.max())\n",
        "plt.figure()\n",
        "plt.plot(all_x[zoom_ind], all_y[zoom_ind])\n",
        "plt.scatter(heights, weights)\n",
        "plt.show()"
      ],
      "execution_count": 8,
      "outputs": [
        {
          "output_type": "display_data",
          "data": {
            "image/png": "[encoded data removed]",
            "text/plain": [
              "<Figure size 864x576 with 1 Axes>"
            ]
          },
          "metadata": {
            "tags": []
          }
        }
      ]
    },
    {
      "cell_type": "markdown",
      "metadata": {
        "id": "y-ZZ_QR1KDC4",
        "colab_type": "text"
      },
      "source": [
        "## 2. [Temperatures in Yosemite](https://github.com/minerva-schools/cs156/tree/master/session3_1#2-temperatures-in-yosemite)"
      ]
    },
    {
      "cell_type": "code",
      "metadata": {
        "id": "ogpLspNqKBNk",
        "colab_type": "code",
        "colab": {}
      },
      "source": [
        "#download and extract the data\n",
        "!wget -q https://course-resources.minerva.kgi.edu/uploaded_files/mke/rj3Edn/yosemite-temperatures.zip\n",
        "!unzip -q yosemite-temperatures.zip\n",
        "!rm yosemite-temperatures.zip"
      ],
      "execution_count": 0,
      "outputs": []
    },
    {
      "cell_type": "code",
      "metadata": {
        "id": "rF1gOlhrKBQp",
        "colab_type": "code",
        "colab": {}
      },
      "source": [
        "from sklearn.metrics import r2_score, mean_absolute_error, mean_squared_error, mean_squared_log_error, normalized_mutual_info_score\n",
        "from sklearn.metrics.pairwise import rbf_kernel\n",
        "from sklearn.linear_model import Ridge\n",
        "import matplotlib.pyplot as plt\n",
        "import numpy as np\n",
        "%matplotlib inline\n",
        "from sklearn.model_selection import train_test_split\n",
        "from sklearn.linear_model import *\n",
        "\n",
        "years = range(2011, 2017)\n",
        "files = ['yosemite_village/CRNS0101-05-%d-CA_Yosemite_Village_12_W.txt' % y for y in years]\n",
        "usecols = [1, 2, 8]"
      ],
      "execution_count": 0,
      "outputs": []
    },
    {
      "cell_type": "code",
      "metadata": {
        "id": "4vZOEE8HL7xb",
        "colab_type": "code",
        "colab": {}
      },
      "source": [
        "data = [np.loadtxt(f, usecols=usecols) for f in files]\n",
        "data = np.vstack(data)"
      ],
      "execution_count": 0,
      "outputs": []
    },
    {
      "cell_type": "code",
      "metadata": {
        "id": "pa-dnUdhL70N",
        "colab_type": "code",
        "colab": {}
      },
      "source": [
        "# Map from HHmm to an integer\n",
        "data[:, 1] = np.floor_divide(data[:, 1], 100) * 60 + np.mod(data[:, 1], 100)\n",
        "valid = data[:, 2] > -1000"
      ],
      "execution_count": 0,
      "outputs": []
    },
    {
      "cell_type": "code",
      "metadata": {
        "id": "UXc3RcnNYG7k",
        "colab_type": "code",
        "colab": {}
      },
      "source": [
        "def rbf(minutes, centers, sigma):\n",
        "  x = np.array(rbf_kernel(np.array(minutes).reshape(-1,1), centers, gamma=1.0/sigma))\n",
        "  return x"
      ],
      "execution_count": 0,
      "outputs": []
    },
    {
      "cell_type": "code",
      "metadata": {
        "id": "wPq1YQYeZhFC",
        "colab_type": "code",
        "colab": {}
      },
      "source": [
        "centers = np.linspace(0, 1435, 35).reshape(-1, 1)\n",
        "sigma = range(1000, 10000, 1000)"
      ],
      "execution_count": 0,
      "outputs": []
    },
    {
      "cell_type": "code",
      "metadata": {
        "id": "kLsj4osGZOH3",
        "colab_type": "code",
        "colab": {
          "base_uri": "https://localhost:8080/",
          "height": 799
        },
        "outputId": "c6e4f1b3-2289-45ab-f45b-d19aee403136"
      },
      "source": [
        "ctr = 0\n",
        "for i in sigma:\n",
        "  ctr += 1\n",
        "  x = rbf(data[valid, 1], centers, i)\n",
        "  y = data[valid, 2]\n",
        "  X_train, X_test, y_train, y_test = train_test_split(x, y, random_state=1, test_size=0.2)\n",
        "  alpha=0.0001\n",
        "  model = Ridge(alpha=alpha, fit_intercept=True)\n",
        "  model.fit(X_train, y_train)\n",
        "  y_pred = model.predict(X_test)\n",
        "  print(\"Iteration: \", ctr)\n",
        "  print(\"R^2 : \", r2_score(y_test, y_pred))\n",
        "  print(\"RMSE: \", np.sqrt(mean_squared_error(y_test, y_pred)))\n",
        "  print(\"----------------------------------------------\\n\")"
      ],
      "execution_count": 6,
      "outputs": [
        {
          "output_type": "stream",
          "text": [
            "Iteration:  1\n",
            "R^2 :  0.04351466461636755\n",
            "RMSE:  7.626155535311024\n",
            "----------------------------------------------\n",
            "\n",
            "Iteration:  2\n",
            "R^2 :  0.0435047494782298\n",
            "RMSE:  7.626195062414491\n",
            "----------------------------------------------\n",
            "\n",
            "Iteration:  3\n",
            "R^2 :  0.043504340164409516\n",
            "RMSE:  7.626196694156364\n",
            "----------------------------------------------\n",
            "\n",
            "Iteration:  4\n",
            "R^2 :  0.04350408674617223\n",
            "RMSE:  7.626197704415623\n",
            "----------------------------------------------\n",
            "\n",
            "Iteration:  5\n",
            "R^2 :  0.043504196697051745\n",
            "RMSE:  7.626197266093223\n",
            "----------------------------------------------\n",
            "\n",
            "Iteration:  6\n",
            "R^2 :  0.0435046133727951\n",
            "RMSE:  7.626195605002945\n",
            "----------------------------------------------\n",
            "\n",
            "Iteration:  7\n",
            "R^2 :  0.04350564492850695\n",
            "RMSE:  7.626191492673775\n",
            "----------------------------------------------\n",
            "\n",
            "Iteration:  8\n",
            "R^2 :  0.0435097318000639\n",
            "RMSE:  7.626175200210455\n",
            "----------------------------------------------\n",
            "\n",
            "Iteration:  9\n",
            "R^2 :  0.0435181344096196\n",
            "RMSE:  7.626141702790004\n",
            "----------------------------------------------\n",
            "\n"
          ],
          "name": "stdout"
        }
      ]
    },
    {
      "cell_type": "code",
      "metadata": {
        "id": "6Rcot59tirZm",
        "colab_type": "code",
        "colab": {
          "base_uri": "https://localhost:8080/",
          "height": 34
        },
        "outputId": "54eabe31-1b10-4c05-a122-b820b990b0a9"
      },
      "source": [
        "clf = RidgeCV(alphas=(0.0001, 0.0005, 0.001, 0.005, 0.01, 0.05, 0.1, 0.5, 1), fit_intercept=True, cv=10).fit(x, y)\n",
        "clf.score(x, y)"
      ],
      "execution_count": 7,
      "outputs": [
        {
          "output_type": "execute_result",
          "data": {
            "text/plain": [
              "0.044492976713151"
            ]
          },
          "metadata": {
            "tags": []
          },
          "execution_count": 7
        }
      ]
    },
    {
      "cell_type": "code",
      "metadata": {
        "id": "Cg1av4W_ircb",
        "colab_type": "code",
        "colab": {
          "base_uri": "https://localhost:8080/",
          "height": 34
        },
        "outputId": "4a9a2028-9037-42d2-fd6e-9ae91a72a3bc"
      },
      "source": [
        "clf.alpha_"
      ],
      "execution_count": 8,
      "outputs": [
        {
          "output_type": "execute_result",
          "data": {
            "text/plain": [
              "0.01"
            ]
          },
          "metadata": {
            "tags": []
          },
          "execution_count": 8
        }
      ]
    },
    {
      "cell_type": "code",
      "metadata": {
        "id": "A2H-smlOV1mj",
        "colab_type": "code",
        "colab": {
          "base_uri": "https://localhost:8080/",
          "height": 52
        },
        "outputId": "2b190939-5c56-4758-c77c-f2665b2638e7"
      },
      "source": [
        "  sigma = 10000  \n",
        "  x = rbf(data[valid, 1], centers, sigma=sigma)\n",
        "  y = data[valid, 2]\n",
        "  X_train, X_test, y_train, y_test = train_test_split(x, y, random_state=1, test_size=0.2)\n",
        "  alpha=clf.alpha_\n",
        "  optimized_model = Ridge(alpha=alpha, fit_intercept=True)\n",
        "  optimized_model.fit(X_train, y_train)\n",
        "  y_pred = optimized_model.predict(X_test)\n",
        "  print(\"R^2 : \", r2_score(y_test, y_pred))\n",
        "  print(\"RMSE: \", np.sqrt(mean_squared_error(y_test, y_pred)))"
      ],
      "execution_count": 9,
      "outputs": [
        {
          "output_type": "stream",
          "text": [
            "R^2 :  0.04353592396273398\n",
            "RMSE:  7.626070783367181\n"
          ],
          "name": "stdout"
        }
      ]
    },
    {
      "cell_type": "code",
      "metadata": {
        "id": "KjL6jKcQ1Tz_",
        "colab_type": "code",
        "colab": {
          "base_uri": "https://localhost:8080/",
          "height": 378
        },
        "outputId": "a7f7385d-0814-4d7f-8eb1-1cff317ac962"
      },
      "source": [
        "from yellowbrick.regressor import PredictionError\n",
        "\n",
        "visualizer = PredictionError(optimized_model)\n",
        "\n",
        "visualizer.fit(X_train, y_train)  # Fit the training data to the visualizer\n",
        "visualizer.score(X_test, y_test)  # Evaluate the model on the test data\n",
        "visualizer.poof() "
      ],
      "execution_count": 19,
      "outputs": [
        {
          "output_type": "display_data",
          "data": {
            "image/png": "[encoded data removed]",
            "text/plain": [
              "<Figure size 576x396 with 1 Axes>"
            ]
          },
          "metadata": {
            "tags": []
          }
        }
      ]
    },
    {
      "cell_type": "markdown",
      "metadata": {
        "id": "XT_Ui45s2A_n",
        "colab_type": "text"
      },
      "source": [
        "## XGBoostRegressor Model"
      ]
    },
    {
      "cell_type": "code",
      "metadata": {
        "id": "69UaOogQ1T3A",
        "colab_type": "code",
        "colab": {}
      },
      "source": [
        "plt.style.use('ggplot')\n",
        "import xgboost as xgb\n",
        "\n",
        "dtrain = xgb.DMatrix(X_train, label = y_train)\n",
        "dtest = xgb.DMatrix(X_test, label = y_test)\n",
        "\n",
        "params = {\"max_depth\":1, \"eta\":0.1}\n",
        "model = xgb.cv(params, dtrain,  num_boost_round=500, early_stopping_rounds=100)"
      ],
      "execution_count": 0,
      "outputs": []
    },
    {
      "cell_type": "code",
      "metadata": {
        "id": "f-68KxRH1T5q",
        "colab_type": "code",
        "colab": {
          "base_uri": "https://localhost:8080/",
          "height": 347
        },
        "outputId": "ae1f58f1-24c3-4bb0-df7a-dbcbf9a27591"
      },
      "source": [
        "model.loc[:,[\"test-rmse-mean\", \"train-rmse-mean\"]].plot();"
      ],
      "execution_count": 21,
      "outputs": [
        {
          "output_type": "display_data",
          "data": {
            "image/png": "[encoded data removed]",
            "text/plain": [
              "<Figure size 576x396 with 1 Axes>"
            ]
          },
          "metadata": {
            "tags": []
          }
        }
      ]
    },
    {
      "cell_type": "code",
      "metadata": {
        "id": "YR_qwOmI1T8M",
        "colab_type": "code",
        "colab": {
          "base_uri": "https://localhost:8080/",
          "height": 156
        },
        "outputId": "61e609bf-7396-49aa-873d-6807ec5bcbec"
      },
      "source": [
        "import xgboost as xgb\n",
        "model_xgb = xgb.XGBRegressor(max_depth=1, learning_rate=0.1,\n",
        "                             objective='reg:squarederror', n_jobs=-1,\n",
        "                             n_estimators=100, tree_method='gpu_hist',\n",
        "                             metric='rmse', subsample=0.3)\n",
        "model_xgb.fit(X_train, y_train)"
      ],
      "execution_count": 18,
      "outputs": [
        {
          "output_type": "execute_result",
          "data": {
            "text/plain": [
              "XGBRegressor(base_score=0.5, booster='gbtree', colsample_bylevel=1,\n",
              "             colsample_bynode=1, colsample_bytree=1, gamma=0,\n",
              "             importance_type='gain', learning_rate=0.1, max_delta_step=0,\n",
              "             max_depth=1, metric='rmse', min_child_weight=1, missing=None,\n",
              "             n_estimators=100, n_jobs=-1, nthread=None,\n",
              "             objective='reg:squarederror', random_state=0, reg_alpha=0,\n",
              "             reg_lambda=1, scale_pos_weight=1, seed=None, silent=None,\n",
              "             subsample=0.3, tree_method='gpu_hist', verbosity=1)"
            ]
          },
          "metadata": {
            "tags": []
          },
          "execution_count": 18
        }
      ]
    },
    {
      "cell_type": "code",
      "metadata": {
        "id": "R6vIIM-91_k2",
        "colab_type": "code",
        "colab": {
          "base_uri": "https://localhost:8080/",
          "height": 52
        },
        "outputId": "88fda747-eaaa-44b5-dd0f-67c6ab95e805"
      },
      "source": [
        "xgb_preds = model_xgb.predict(X_test)\n",
        "print(\"XGB RMSE on validation set: \", np.sqrt(mean_squared_error(y_test, xgb_preds)))\n",
        "print(\"XGB R^2: \", r2_score(y_test, xgb_preds))"
      ],
      "execution_count": 19,
      "outputs": [
        {
          "output_type": "stream",
          "text": [
            "XGB RMSE on validation set:  7.626388550496178\n",
            "XGB R^2:  0.043456213405546396\n"
          ],
          "name": "stdout"
        }
      ]
    },
    {
      "cell_type": "code",
      "metadata": {
        "id": "niUAcbRJ1_n3",
        "colab_type": "code",
        "colab": {
          "base_uri": "https://localhost:8080/",
          "height": 503
        },
        "outputId": "d4235e1b-0ce9-4279-be41-34c42efa2ea9"
      },
      "source": [
        "import pandas as pd\n",
        "plt.style.use('ggplot')\n",
        "plt.rcParams['figure.figsize'] = (12, 8)\n",
        "\n",
        "predictions = pd.DataFrame({\"xgb\":xgb_preds, \"ridge\":y_pred})\n",
        "predictions.plot(x = \"xgb\", y = \"ridge\", kind = \"scatter\");"
      ],
      "execution_count": 23,
      "outputs": [
        {
          "output_type": "display_data",
          "data": {
            "image/png": "[encoded data removed]",
            "text/plain": [
              "<Figure size 864x576 with 1 Axes>"
            ]
          },
          "metadata": {
            "tags": []
          }
        }
      ]
    },
    {
      "cell_type": "code",
      "metadata": {
        "id": "muMmo2hB1_qp",
        "colab_type": "code",
        "colab": {}
      },
      "source": [
        ""
      ],
      "execution_count": 0,
      "outputs": []
    },
    {
      "cell_type": "code",
      "metadata": {
        "id": "3F0jQLQ61UAx",
        "colab_type": "code",
        "colab": {}
      },
      "source": [
        ""
      ],
      "execution_count": 0,
      "outputs": []
    },
    {
      "cell_type": "code",
      "metadata": {
        "id": "j-lVikr0G6Oq",
        "colab_type": "code",
        "colab": {}
      },
      "source": [
        ""
      ],
      "execution_count": 0,
      "outputs": []
    }
  ]
}
